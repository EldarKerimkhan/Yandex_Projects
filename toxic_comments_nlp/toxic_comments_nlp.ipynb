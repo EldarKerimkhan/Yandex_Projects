{
 "cells": [
  {
   "cell_type": "markdown",
   "metadata": {
    "toc": true
   },
   "source": [
    "<h1>Содержание<span class=\"tocSkip\"></span></h1>\n",
    "<div class=\"toc\"><ul class=\"toc-item\"><li><span><a href=\"#Подготовка\" data-toc-modified-id=\"Подготовка-1\"><span class=\"toc-item-num\">1&nbsp;&nbsp;</span>Подготовка</a></span><ul class=\"toc-item\"><li><span><a href=\"#Загрузка-предобученной-модели-BERT\" data-toc-modified-id=\"Загрузка-предобученной-модели-BERT-1.1\"><span class=\"toc-item-num\">1.1&nbsp;&nbsp;</span>Загрузка предобученной модели BERT</a></span></li><li><span><a href=\"#Подготовка-признаков\" data-toc-modified-id=\"Подготовка-признаков-1.2\"><span class=\"toc-item-num\">1.2&nbsp;&nbsp;</span>Подготовка признаков</a></span></li></ul></li><li><span><a href=\"#Обучение\" data-toc-modified-id=\"Обучение-2\"><span class=\"toc-item-num\">2&nbsp;&nbsp;</span>Обучение</a></span><ul class=\"toc-item\"><li><span><a href=\"#LogisticRegression()\" data-toc-modified-id=\"LogisticRegression()-2.1\"><span class=\"toc-item-num\">2.1&nbsp;&nbsp;</span>LogisticRegression()</a></span></li><li><span><a href=\"#LinearSVC()\" data-toc-modified-id=\"LinearSVC()-2.2\"><span class=\"toc-item-num\">2.2&nbsp;&nbsp;</span>LinearSVC()</a></span></li><li><span><a href=\"#KNeighborsClassifier\" data-toc-modified-id=\"KNeighborsClassifier-2.3\"><span class=\"toc-item-num\">2.3&nbsp;&nbsp;</span>KNeighborsClassifier</a></span></li><li><span><a href=\"#DummyClassifier()\" data-toc-modified-id=\"DummyClassifier()-2.4\"><span class=\"toc-item-num\">2.4&nbsp;&nbsp;</span>DummyClassifier()</a></span></li></ul></li><li><span><a href=\"#Выводы\" data-toc-modified-id=\"Выводы-3\"><span class=\"toc-item-num\">3&nbsp;&nbsp;</span>Выводы</a></span></li><li><span><a href=\"#Чек-лист-проверки\" data-toc-modified-id=\"Чек-лист-проверки-4\"><span class=\"toc-item-num\">4&nbsp;&nbsp;</span>Чек-лист проверки</a></span></li></ul></div>"
   ]
  },
  {
   "cell_type": "markdown",
   "metadata": {
    "id": "BwDvKJ1PNBFY"
   },
   "source": [
    "# Проект для «Викишоп» c BERT"
   ]
  },
  {
   "cell_type": "markdown",
   "metadata": {
    "id": "0MlF6_wGNBFZ"
   },
   "source": [
    "Интернет-магазин «Викишоп» запускает новый сервис. Теперь пользователи могут редактировать и дополнять описания товаров, как в вики-сообществах. То есть клиенты предлагают свои правки и комментируют изменения других. Магазину нужен инструмент, который будет искать токсичные комментарии и отправлять их на модерацию.\n",
    "\n",
    "Обучите модель классифицировать комментарии на позитивные и негативные. В вашем распоряжении набор данных с разметкой о токсичности правок.\n",
    "\n",
    "Постройте модель со значением метрики качества *F1* не меньше 0.75.\n",
    "\n",
    "Для выполнения проекта применять *BERT* необязательно, но вы можете попробовать.\n"
   ]
  },
  {
   "cell_type": "markdown",
   "metadata": {
    "id": "TeggJqAzNBFZ"
   },
   "source": [
    "# Цели исследования"
   ]
  },
  {
   "cell_type": "markdown",
   "metadata": {
    "id": "bQs0EOj1NBFZ"
   },
   "source": [
    "Построить модель для классификации комментариев на позитивные и негативные со значением метрики качества F1 ***не меньше 0.75***."
   ]
  },
  {
   "cell_type": "markdown",
   "metadata": {
    "id": "ev2oQROqNBFa"
   },
   "source": [
    "# Описание данных"
   ]
  },
  {
   "cell_type": "markdown",
   "metadata": {
    "id": "5PpiPtpcNBFa"
   },
   "source": [
    "Данные находятся в файле `toxic_comments.csv`.\n",
    "\n",
    "\n",
    "Столбец ***text*** в нём содержит текст комментария, а ***toxic*** — целевой признак."
   ]
  },
  {
   "cell_type": "markdown",
   "metadata": {
    "id": "G_alo-FWNBFa"
   },
   "source": [
    "# План работы"
   ]
  },
  {
   "cell_type": "markdown",
   "metadata": {
    "id": "2ksUfO_rNBFa"
   },
   "source": [
    "1. Загрузить и подготовить данные.\n",
    "2. Обучить разные модели.\n",
    "3. Выводы."
   ]
  },
  {
   "cell_type": "markdown",
   "metadata": {
    "id": "b50wFtwXNBFb"
   },
   "source": [
    "## Подготовка"
   ]
  },
  {
   "cell_type": "markdown",
   "metadata": {
    "id": "2TT_ftFXNBFb"
   },
   "source": [
    "**Импортируем необходимые библиотеки вначале документа (pandas, numpy, tqdm и другие).**"
   ]
  },
  {
   "cell_type": "code",
   "execution_count": 1,
   "metadata": {
    "id": "_m4vilHVS3Af"
   },
   "outputs": [],
   "source": [
    "!pip install -q transformers"
   ]
  },
  {
   "cell_type": "code",
   "execution_count": 2,
   "metadata": {
    "id": "rBSBSPoqNBFb"
   },
   "outputs": [],
   "source": [
    "import os\n",
    "import pandas as pd\n",
    "import numpy as np\n",
    "from tqdm import notebook\n",
    "\n",
    "#nlp\n",
    "import torch\n",
    "import transformers\n",
    "import nltk\n",
    "import re\n",
    "\n",
    "#ml\n",
    "from sklearn.model_selection import train_test_split\n",
    "from sklearn.metrics import f1_score\n",
    "from sklearn.utils import shuffle\n",
    "from sklearn.model_selection import RandomizedSearchCV, GridSearchCV\n",
    "from sklearn.model_selection import StratifiedKFold\n",
    "\n",
    "#models\n",
    "from sklearn.linear_model import LogisticRegression\n",
    "from sklearn.svm import LinearSVC\n",
    "from sklearn.neighbors import KNeighborsClassifier\n",
    "from sklearn.dummy import DummyClassifier"
   ]
  },
  {
   "cell_type": "markdown",
   "metadata": {
    "id": "Rb38ok_qNBFc"
   },
   "source": [
    "**Считаем данные из csv-файла и сохраним в переменную `data`. Путь к файлу: `/datasets/toxic_comments.csv`**"
   ]
  },
  {
   "cell_type": "code",
   "execution_count": 3,
   "metadata": {
    "id": "uZPJzbaENBFd"
   },
   "outputs": [],
   "source": [
    "pth1 = '/datasets/toxic_comments.csv'\n",
    "pth2 = 'C:/Users/User/Desktop/DS Python/Projects/toxic_comments.csv'\n",
    "pth3 = '/toxic_comments.csv'\n",
    "\n",
    "if os.path.exists(pth1):\n",
    "    data = pd.read_csv(pth1, index_col=[0])\n",
    "elif os.path.exists(pth2):\n",
    "    data = pd.read_csv(pth2, index_col=[0])\n",
    "elif os.path.exists(pth3):\n",
    "    data = pd.read_csv('/toxic_comments.csv', index_col=[0])\n",
    "else:\n",
    "    print('Something is wrong')"
   ]
  },
  {
   "cell_type": "markdown",
   "metadata": {
    "id": "hhZH3--nNBFd"
   },
   "source": [
    "**Выведем первые 5 строк датафрейма `data` на экран.**"
   ]
  },
  {
   "cell_type": "code",
   "execution_count": 4,
   "metadata": {
    "colab": {
     "base_uri": "https://localhost:8080/",
     "height": 206
    },
    "id": "V7LPwB7SNBFd",
    "outputId": "460aa178-7fc3-44a3-a6f3-59bf077d8903"
   },
   "outputs": [
    {
     "data": {
      "text/html": [
       "<div>\n",
       "<style scoped>\n",
       "    .dataframe tbody tr th:only-of-type {\n",
       "        vertical-align: middle;\n",
       "    }\n",
       "\n",
       "    .dataframe tbody tr th {\n",
       "        vertical-align: top;\n",
       "    }\n",
       "\n",
       "    .dataframe thead th {\n",
       "        text-align: right;\n",
       "    }\n",
       "</style>\n",
       "<table border=\"1\" class=\"dataframe\">\n",
       "  <thead>\n",
       "    <tr style=\"text-align: right;\">\n",
       "      <th></th>\n",
       "      <th>text</th>\n",
       "      <th>toxic</th>\n",
       "    </tr>\n",
       "  </thead>\n",
       "  <tbody>\n",
       "    <tr>\n",
       "      <th>0</th>\n",
       "      <td>Explanation\\nWhy the edits made under my usern...</td>\n",
       "      <td>0</td>\n",
       "    </tr>\n",
       "    <tr>\n",
       "      <th>1</th>\n",
       "      <td>D'aww! He matches this background colour I'm s...</td>\n",
       "      <td>0</td>\n",
       "    </tr>\n",
       "    <tr>\n",
       "      <th>2</th>\n",
       "      <td>Hey man, I'm really not trying to edit war. It...</td>\n",
       "      <td>0</td>\n",
       "    </tr>\n",
       "    <tr>\n",
       "      <th>3</th>\n",
       "      <td>\"\\nMore\\nI can't make any real suggestions on ...</td>\n",
       "      <td>0</td>\n",
       "    </tr>\n",
       "    <tr>\n",
       "      <th>4</th>\n",
       "      <td>You, sir, are my hero. Any chance you remember...</td>\n",
       "      <td>0</td>\n",
       "    </tr>\n",
       "  </tbody>\n",
       "</table>\n",
       "</div>"
      ],
      "text/plain": [
       "                                                text  toxic\n",
       "0  Explanation\\nWhy the edits made under my usern...      0\n",
       "1  D'aww! He matches this background colour I'm s...      0\n",
       "2  Hey man, I'm really not trying to edit war. It...      0\n",
       "3  \"\\nMore\\nI can't make any real suggestions on ...      0\n",
       "4  You, sir, are my hero. Any chance you remember...      0"
      ]
     },
     "execution_count": 4,
     "metadata": {},
     "output_type": "execute_result"
    }
   ],
   "source": [
    "data.head()"
   ]
  },
  {
   "cell_type": "markdown",
   "metadata": {
    "id": "4JkwRPFiNBFe"
   },
   "source": [
    "**Выведем основную информацию о данном датафрейме с помощью метода info().**"
   ]
  },
  {
   "cell_type": "code",
   "execution_count": 5,
   "metadata": {
    "colab": {
     "base_uri": "https://localhost:8080/"
    },
    "id": "3GOrfTYHNBFe",
    "outputId": "11830f28-26f0-463b-a804-b1d7098732b0"
   },
   "outputs": [
    {
     "name": "stdout",
     "output_type": "stream",
     "text": [
      "<class 'pandas.core.frame.DataFrame'>\n",
      "Int64Index: 159292 entries, 0 to 159450\n",
      "Data columns (total 2 columns):\n",
      " #   Column  Non-Null Count   Dtype \n",
      "---  ------  --------------   ----- \n",
      " 0   text    159292 non-null  object\n",
      " 1   toxic   159292 non-null  int64 \n",
      "dtypes: int64(1), object(1)\n",
      "memory usage: 3.6+ MB\n"
     ]
    }
   ],
   "source": [
    "data.info()"
   ]
  },
  {
   "cell_type": "markdown",
   "metadata": {
    "id": "TPruJgSaNBFe"
   },
   "source": [
    "Оценим как между собой соотносятся классы (1 - токсичный комментарий, 0 - нетоксичный)"
   ]
  },
  {
   "cell_type": "code",
   "execution_count": 6,
   "metadata": {
    "colab": {
     "base_uri": "https://localhost:8080/"
    },
    "id": "TcuxW42uNBFf",
    "outputId": "07befbfc-9f2d-42a5-c438-0df84e3f0042"
   },
   "outputs": [
    {
     "data": {
      "text/plain": [
       "0    143106\n",
       "1     16186\n",
       "Name: toxic, dtype: int64"
      ]
     },
     "execution_count": 6,
     "metadata": {},
     "output_type": "execute_result"
    }
   ],
   "source": [
    "data['toxic'].value_counts()"
   ]
  },
  {
   "cell_type": "code",
   "execution_count": 7,
   "metadata": {
    "colab": {
     "base_uri": "https://localhost:8080/",
     "height": 112
    },
    "id": "JJTEZq48NBFf",
    "outputId": "01952120-2503-4b12-b454-72ed5c10de7f"
   },
   "outputs": [
    {
     "data": {
      "text/html": [
       "<style  type=\"text/css\" >\n",
       "#T_d33a6_row0_col0{\n",
       "            background-color:  #b40426;\n",
       "            color:  #f1f1f1;\n",
       "        }#T_d33a6_row1_col0{\n",
       "            background-color:  #3b4cc0;\n",
       "            color:  #f1f1f1;\n",
       "        }</style><table id=\"T_d33a6_\" ><thead>    <tr>        <th class=\"blank level0\" ></th>        <th class=\"col_heading level0 col0\" >toxic</th>    </tr></thead><tbody>\n",
       "                <tr>\n",
       "                        <th id=\"T_d33a6_level0_row0\" class=\"row_heading level0 row0\" >0</th>\n",
       "                        <td id=\"T_d33a6_row0_col0\" class=\"data row0 col0\" >89.840000</td>\n",
       "            </tr>\n",
       "            <tr>\n",
       "                        <th id=\"T_d33a6_level0_row1\" class=\"row_heading level0 row1\" >1</th>\n",
       "                        <td id=\"T_d33a6_row1_col0\" class=\"data row1 col0\" >10.160000</td>\n",
       "            </tr>\n",
       "    </tbody></table>"
      ],
      "text/plain": [
       "<pandas.io.formats.style.Styler at 0x197006d18e0>"
      ]
     },
     "execution_count": 7,
     "metadata": {},
     "output_type": "execute_result"
    }
   ],
   "source": [
    "pd.DataFrame(round((data['toxic'].value_counts()/len(data['toxic']))*100, 2)).style.background_gradient('coolwarm')"
   ]
  },
  {
   "cell_type": "markdown",
   "metadata": {
    "id": "zc3KfK0MNBFf"
   },
   "source": [
    "Количество токсичных комментариев 10% от общего числа комментариев. Видно, что есть дисбаланс классов, с которым в последующем нужно будет бороться. Иначе это скажется на значении метрики - мы получим не достоверные результаты."
   ]
  },
  {
   "cell_type": "markdown",
   "metadata": {
    "id": "qLF0TAgONBFf"
   },
   "source": [
    "Чтобы ускорить работус данными и сэкономить оперативную память, используем для работы часть данных, а именно 1000 строк."
   ]
  },
  {
   "cell_type": "code",
   "execution_count": 8,
   "metadata": {
    "colab": {
     "base_uri": "https://localhost:8080/",
     "height": 112
    },
    "id": "BPoYIitzNBFg",
    "outputId": "39171010-e34d-4f39-db51-5ec187036ce7"
   },
   "outputs": [
    {
     "data": {
      "text/html": [
       "<style  type=\"text/css\" >\n",
       "#T_95edc_row0_col0{\n",
       "            background-color:  #b40426;\n",
       "            color:  #f1f1f1;\n",
       "        }#T_95edc_row1_col0{\n",
       "            background-color:  #3b4cc0;\n",
       "            color:  #f1f1f1;\n",
       "        }</style><table id=\"T_95edc_\" ><thead>    <tr>        <th class=\"blank level0\" ></th>        <th class=\"col_heading level0 col0\" >toxic</th>    </tr></thead><tbody>\n",
       "                <tr>\n",
       "                        <th id=\"T_95edc_level0_row0\" class=\"row_heading level0 row0\" >0</th>\n",
       "                        <td id=\"T_95edc_row0_col0\" class=\"data row0 col0\" >90.300000</td>\n",
       "            </tr>\n",
       "            <tr>\n",
       "                        <th id=\"T_95edc_level0_row1\" class=\"row_heading level0 row1\" >1</th>\n",
       "                        <td id=\"T_95edc_row1_col0\" class=\"data row1 col0\" >9.700000</td>\n",
       "            </tr>\n",
       "    </tbody></table>"
      ],
      "text/plain": [
       "<pandas.io.formats.style.Styler at 0x19701b454f0>"
      ]
     },
     "execution_count": 8,
     "metadata": {},
     "output_type": "execute_result"
    }
   ],
   "source": [
    "data_sample = data.sample(1000, random_state=123).reset_index(drop=True)\n",
    "pd.DataFrame(round((data_sample['toxic'].value_counts()/len(data_sample['toxic']))*100, 2)).style.background_gradient('coolwarm')"
   ]
  },
  {
   "cell_type": "code",
   "execution_count": 9,
   "metadata": {
    "colab": {
     "base_uri": "https://localhost:8080/"
    },
    "id": "DQBZ6AjBNBFg",
    "outputId": "7cebb247-16e0-4ce2-bd59-faac7edb2181"
   },
   "outputs": [
    {
     "data": {
      "text/plain": [
       "0    903\n",
       "1     97\n",
       "Name: toxic, dtype: int64"
      ]
     },
     "execution_count": 9,
     "metadata": {},
     "output_type": "execute_result"
    }
   ],
   "source": [
    "data_sample['toxic'].value_counts()"
   ]
  },
  {
   "cell_type": "markdown",
   "metadata": {
    "id": "Ak556hLeNBFg"
   },
   "source": [
    "Соотношение положительных и отрицательных комментариев сохранилось."
   ]
  },
  {
   "cell_type": "markdown",
   "metadata": {
    "id": "y7pq87v2NBFg"
   },
   "source": [
    "### Загрузка предобученной модели BERT"
   ]
  },
  {
   "cell_type": "markdown",
   "metadata": {
    "id": "x-lJkRK-NBFg"
   },
   "source": [
    "Используем для выполнения данного задания BERT.\n",
    "\n",
    "(DistilBert - уменьшенная версия BERT, которая быстрее и легче BERT, но при этом сравнима в результативаности, хоть и немного уступает. Используя DistilBert не удалось достичь метрики f1 выше 0,7.)"
   ]
  },
  {
   "cell_type": "code",
   "execution_count": 10,
   "metadata": {
    "colab": {
     "base_uri": "https://localhost:8080/",
     "height": 249,
     "referenced_widgets": [
      "29bca88195fa4f2493ff5b793d1056db",
      "e5bcdc32e589487782ac01aee6f86fe7",
      "53c4efe1cf0f48e6b2f165b6872ce459",
      "07eff632b5a542879b88fcf62869418f",
      "8e44e385053641109f263e2803d80311",
      "e2bb700941184b49a1e79c0c52d71f2b",
      "dc9a8bbebffc480fa60348cc0c801f3c",
      "a9856aece6224dc79e29e7378a388626",
      "5f5ae565a85b4a69af1ff4d00abe642c",
      "402c1e2799c14f9fb4feb4992480c2a8",
      "e99cce59ae9c48c3bb15b394f3ef0260",
      "f18ee3a4f70445c08ffa3e94a22f6747",
      "edb50d188e0248f18f259278dd1e8b98",
      "503ccf91e8a84d4ea80665000a41299c",
      "1e036924b5364d85a0d7797249a1aea1",
      "2e0fafdcf33b4956a4f68ad9b4ca0444",
      "3f0f8ada310641bd85297b36ec5e57d5",
      "957c65f6ccef4f638eddfb074ca67cf2",
      "184a3d8b38bb475b93a7115ed8259723",
      "241a02ef109b440da70981b31351bc2c",
      "71aee34388b84b86aedeeead11c69b20",
      "38b65b330f2941d59c83d93c559255b6",
      "af3cd8f96b9a4d339c88c25964f86bee",
      "30edca34dd1c4d1093b6ac5cdf7c1eca",
      "7f3a6d1bf2c14e28869c35c0c0c6c857",
      "afdf281c544247c1a62d342964a78a0e",
      "8bcf9a2655cd44bfb6066eef4bdb30ce",
      "ab8b6364901a4cd4a4100882bb4ce99e",
      "0536593d3f2f407584148ee64a27757f",
      "2555b4c7270d403c8b54ef74d6b57725",
      "9f839328629643cf8419153cdd4d6c56",
      "268a442dc49f48b6a770e1d3d29a0b2d",
      "cbb6b44329e941bdbcc7a85a041a0a36",
      "8e9220af50914a0f815823df38732922",
      "6336a17089b24e0b809e8c78228a8c42",
      "88ebbe171c7c40a38ff47b18d9954f9f",
      "96b1e02a884245509782295394eda969",
      "cc1a07dc38c54a7b94f261f72b679aca",
      "7444ae7392634d61bf06f81a0188414b",
      "f2ccb4e81f5f43ae8fe05b39ccfc4901",
      "d94914c0470e402e880a50de7e261cee",
      "b11e83d930844b548990dda0133771cd",
      "2c3f43ff4301450f96ba983c958458aa",
      "c4381ecac7944ac283242ba4094b7424",
      "7e6f48b5db684f7b979c76debb985ccf",
      "f22976e75e4344349c15a937f6d9babc",
      "d98f3a222db94aac9012324b6af18ff8",
      "29d5a070f9db4f44a0c0c396f3708ff2",
      "3d5f011c42484870bdbe8e9c8f4773ca",
      "9c9c914c13cb4830aa9fbad0335dcb57",
      "36d8c468cc654feeace86eedd7f0156b",
      "ff3a15ce0499475982dc9a2ab7f149d0",
      "caa552b17d204425a9b195821f91d5bf",
      "4930b444c31847b2b3eb7609ee7f93b1",
      "b6588a464c8a401499aa50eafa0c0f1d"
     ]
    },
    "id": "Vne_QX7KNBFh",
    "outputId": "e90c1e89-6f22-4f28-9afd-a5705657ab62"
   },
   "outputs": [
    {
     "name": "stderr",
     "output_type": "stream",
     "text": [
      "Some weights of the model checkpoint at unitary/toxic-bert were not used when initializing BertModel: ['classifier.weight', 'classifier.bias']\n",
      "- This IS expected if you are initializing BertModel from the checkpoint of a model trained on another task or with another architecture (e.g. initializing a BertForSequenceClassification model from a BertForPreTraining model).\n",
      "- This IS NOT expected if you are initializing BertModel from the checkpoint of a model that you expect to be exactly identical (initializing a BertForSequenceClassification model from a BertForSequenceClassification model).\n"
     ]
    }
   ],
   "source": [
    "model_class, tokenizer_class, pretrained_weights = (transformers.BertModel,\n",
    "                                                    transformers.BertTokenizer,\n",
    "                                                    'unitary/toxic-bert')\n",
    "\n",
    "# Want BERT instead of distilBERT? Uncomment the following line:\n",
    "#model_class, tokenizer_class, pretrained_weights = (transformers.DistilBertModel, \n",
    "#                             transformers.DistilBertTokenizerFast, 'distilbert-base-uncased')\n",
    "\n",
    "# Load pretrained model/tokenizer\n",
    "tokenizer = tokenizer_class.from_pretrained(pretrained_weights)\n",
    "model = model_class.from_pretrained(pretrained_weights)"
   ]
  },
  {
   "cell_type": "markdown",
   "metadata": {
    "id": "CrnVOXZHNBFh"
   },
   "source": [
    "Чтобы применить нейронку BERT, нужно привести данные к требуемому формату.\n",
    "\n",
    "Токенизируем тексты - разобьем их на слова и слоги в удобном для BERT формате. Так как BERT может принимать только до 512 токенов, то ограничим длину токинизированных текстов."
   ]
  },
  {
   "cell_type": "code",
   "execution_count": 11,
   "metadata": {
    "id": "hl608NJ0NBFh"
   },
   "outputs": [],
   "source": [
    "tokenized = data_sample['text'].apply((lambda x: tokenizer.encode(x, max_length=512,\n",
    "                                                                  truncation=True,\n",
    "                                                                  add_special_tokens=True)))"
   ]
  },
  {
   "cell_type": "markdown",
   "metadata": {
    "id": "goZkLPgtNBFr"
   },
   "source": [
    "После токенизации мы получаем тексты в виде списка токенов, а весь датасет - список списков.\n",
    "\n",
    "Преобразуем наши данные в двумерный массив, чтобы обрабатывать тексты одновременно. Найдем список с максимальным количеством токенов, примем его длину за базовую, а в остальных списках дозаполним недостающие значение нулями."
   ]
  },
  {
   "cell_type": "code",
   "execution_count": 12,
   "metadata": {
    "id": "sSKJeZXBNBFr"
   },
   "outputs": [],
   "source": [
    "max_len = 0\n",
    "for i in tokenized.values:\n",
    "    if len(i) > max_len:\n",
    "        max_len = len(i)\n",
    "\n",
    "padded = np.array([i + [0]*(max_len-len(i)) for i in tokenized.values])"
   ]
  },
  {
   "cell_type": "markdown",
   "metadata": {
    "id": "ABnFpSJoNBFr"
   },
   "source": [
    "Размеры нашего нового двумерного дополненного массива:"
   ]
  },
  {
   "cell_type": "code",
   "execution_count": 13,
   "metadata": {
    "colab": {
     "base_uri": "https://localhost:8080/"
    },
    "id": "tmi9WAKGNBFr",
    "outputId": "d57b8cc0-eb9b-45eb-c33d-c9911f36b566"
   },
   "outputs": [
    {
     "data": {
      "text/plain": [
       "(1000, 512)"
      ]
     },
     "execution_count": 13,
     "metadata": {},
     "output_type": "execute_result"
    }
   ],
   "source": [
    "padded.shape"
   ]
  },
  {
   "cell_type": "markdown",
   "metadata": {
    "id": "ESPqqf9tNBFs"
   },
   "source": [
    "Создадим маску. Чтобы BERT правильно распознал передаваемые ей значения, поясним ей, что нужно игнорировать нули."
   ]
  },
  {
   "cell_type": "code",
   "execution_count": 14,
   "metadata": {
    "colab": {
     "base_uri": "https://localhost:8080/"
    },
    "id": "kt2LDhgbNBFs",
    "outputId": "c64dd0ad-ea80-47bf-e3a2-9ee79d26324b"
   },
   "outputs": [
    {
     "data": {
      "text/plain": [
       "(1000, 512)"
      ]
     },
     "execution_count": 14,
     "metadata": {},
     "output_type": "execute_result"
    }
   ],
   "source": [
    "attention_mask = np.where(padded != 0, 1, 0)\n",
    "attention_mask.shape"
   ]
  },
  {
   "cell_type": "markdown",
   "metadata": {
    "id": "wGAeUR7VNBFs"
   },
   "source": [
    "### Подготовка признаков"
   ]
  },
  {
   "cell_type": "markdown",
   "metadata": {
    "id": "lw2zexo3NBFt"
   },
   "source": [
    "Функция model() запускает наши предложения через BERT. Начнем проебразование текстов в эмбеддинги с помощью библиотеки tqdm (нужна, чтобы наглядно показать индикатор прогресса).\n",
    "\n",
    "Эмбеддинги модель BERT создаёт батчами. Чтобы хватило оперативной памяти, сделаем размер батча небольшим."
   ]
  },
  {
   "cell_type": "code",
   "execution_count": 15,
   "metadata": {
    "id": "xjgZVvcyVqqg"
   },
   "outputs": [],
   "source": [
    "device = torch.device(\"cuda\" if torch.cuda.is_available() else \"cpu\")\n",
    "\n",
    "model = model.to(device)"
   ]
  },
  {
   "cell_type": "code",
   "execution_count": 16,
   "metadata": {
    "colab": {
     "base_uri": "https://localhost:8080/",
     "height": 49,
     "referenced_widgets": [
      "c1195093814745eb818ddf080b211c09",
      "6a5c7ce175aa4395b027b14630dbceef",
      "37ddd880486948818e7154239bdbf535",
      "f93852e1074643acabf86bea43ec8866",
      "cb77d08f7dcf4e79b5e4ad4ca26fff99",
      "d6054a6cfb90403ea4ffcc0188bcf716",
      "4c62efcb4f3c455a84f97070b76d76f4",
      "50b6dbe8ac254df795e31dd41b6293c2",
      "90f3551d85864b82a11efa04deba0457",
      "0aa84aef1d264102bc4b5c8b2441f8c4",
      "1c8a373e813d4b2a835c7ef0f46c31f0"
     ]
    },
    "id": "xGjkDgctNBFt",
    "outputId": "8e7b5fae-0f3f-4e51-bb86-c16f0daa832b"
   },
   "outputs": [
    {
     "data": {
      "application/vnd.jupyter.widget-view+json": {
       "model_id": "b94a3caa85574abfb00da3cfb25aa2e5",
       "version_major": 2,
       "version_minor": 0
      },
      "text/plain": [
       "  0%|          | 0/5 [00:00<?, ?it/s]"
      ]
     },
     "metadata": {},
     "output_type": "display_data"
    }
   ],
   "source": [
    "batch_size = 200\n",
    "\n",
    "# сделаем пустой список для хранения эмбеддингов твитов\n",
    "embeddings = []\n",
    "\n",
    "for i in notebook.tqdm(range(padded.shape[0] // batch_size)):\n",
    "    # преобразуем данные\n",
    "    batch = torch.LongTensor(padded[batch_size*i:batch_size*(i+1)])\n",
    "    # преобразуем маску\n",
    "    attention_mask_batch = torch.LongTensor(attention_mask[batch_size*i:batch_size*(i+1)])\n",
    "\n",
    "# ускорим вычисления функцией no_grad()\n",
    "    with torch.no_grad():\n",
    "        batch_embeddings = model(batch.to(device), attention_mask=attention_mask_batch.to(device))\n",
    "\n",
    "# из полученного тензора извлечём нужные элементы и добавим в список всех эмбеддингов\n",
    "        embeddings.append(batch_embeddings[0][:,0,:].cpu().numpy())"
   ]
  },
  {
   "cell_type": "markdown",
   "metadata": {
    "id": "80qak-oNNBFt"
   },
   "source": [
    "Соберём все эмбеддинги в матрицу признаков:"
   ]
  },
  {
   "cell_type": "code",
   "execution_count": 17,
   "metadata": {
    "id": "FAhTvv9BNBFt"
   },
   "outputs": [],
   "source": [
    "features = np.concatenate(embeddings)\n",
    "target = data_sample['toxic']"
   ]
  },
  {
   "cell_type": "markdown",
   "metadata": {
    "id": "cQxqF4nMNBFu"
   },
   "source": [
    "Разделим признаки на обучающую и тестовую выборку (оставим на тестирование 15% от общей выборки)."
   ]
  },
  {
   "cell_type": "code",
   "execution_count": 18,
   "metadata": {
    "colab": {
     "base_uri": "https://localhost:8080/"
    },
    "id": "odRuQB1BNBFu",
    "outputId": "4969ab62-d098-45dc-e601-62bdc17c6690"
   },
   "outputs": [
    {
     "name": "stdout",
     "output_type": "stream",
     "text": [
      "Размер обучающей выборки: (850, 768)\n",
      "Размер тестовой выборки: (150, 768)\n"
     ]
    }
   ],
   "source": [
    "train_features, test_features, train_target, test_target = train_test_split(features,\n",
    "                                                                            target,\n",
    "                                                                            test_size=0.15,\n",
    "                                                                            stratify=target,\n",
    "                                                                            random_state=0)\n",
    "print('Размер обучающей выборки:', train_features.shape)\n",
    "print('Размер тестовой выборки:', test_features.shape)"
   ]
  },
  {
   "cell_type": "code",
   "execution_count": 19,
   "metadata": {
    "colab": {
     "base_uri": "https://localhost:8080/"
    },
    "id": "GV1tRuKuNBFu",
    "outputId": "211e469d-ada2-4e3e-94a0-a9de821dfad6"
   },
   "outputs": [
    {
     "name": "stdout",
     "output_type": "stream",
     "text": [
      "Количество строк в train_target по классам: [768  82]\n",
      "Количество строк в test_target по классам: [135  15]\n"
     ]
    }
   ],
   "source": [
    "print(f\"Количество строк в train_target по классам: {np.bincount(train_target)}\")\n",
    "print(f\"Количество строк в test_target по классам: {np.bincount(test_target)}\")"
   ]
  },
  {
   "cell_type": "markdown",
   "metadata": {
    "id": "-kFHtgGENBFv"
   },
   "source": [
    "**Вывод:**\n",
    "1. Импортировали необходимые библиотеки.\n",
    "2. Считали данные из csv-файла.\n",
    "3. Вывели общую информацию по преобразованному датасету:\n",
    "    - в датасете 2 столбца и 159.292 строк;\n",
    "    - общая занимаемая память 3.6+ MB.\n",
    "4. Загрузили предобученную модель BERT.\n",
    "5. Токенизировали тексты и создали эмбеддинги.\n",
    "6. Подготовили признаки для обучения моделей."
   ]
  },
  {
   "cell_type": "markdown",
   "metadata": {
    "id": "j3zQhHrrNBFv"
   },
   "source": [
    "## Обучение"
   ]
  },
  {
   "cell_type": "markdown",
   "metadata": {
    "id": "cSNNd1lTNBFv"
   },
   "source": [
    "**Рассмотрим несколько моделей (LogisticRegression, LinearSVC, KNeighborsClassifier).**"
   ]
  },
  {
   "cell_type": "markdown",
   "metadata": {
    "id": "-w8VIJbzNBFw"
   },
   "source": [
    "### LogisticRegression()"
   ]
  },
  {
   "cell_type": "markdown",
   "metadata": {
    "id": "FUqD2X66NBFw"
   },
   "source": [
    "Построим модель LogisticRegression и посчитаем значение метрики f1 на тестовой и обучающей выборке."
   ]
  },
  {
   "cell_type": "code",
   "execution_count": 20,
   "metadata": {
    "colab": {
     "base_uri": "https://localhost:8080/"
    },
    "id": "KLIl8p_bNBFw",
    "outputId": "fc07ad38-c497-43e6-fbef-79733cd372fd",
    "scrolled": false
   },
   "outputs": [
    {
     "name": "stdout",
     "output_type": "stream",
     "text": [
      "Fitting 5 folds for each of 4 candidates, totalling 20 fits\n",
      "Лучшие параметры для модели LogisticRegression: {'C': 1, 'max_iter': 2000, 'penalty': 'l1', 'solver': 'liblinear'}\n",
      "f1_train с лучшими параметрами: 0.9009490061909418\n"
     ]
    }
   ],
   "source": [
    "logreg_param = {'C': range(1,3),\n",
    "                'penalty': ['l1', 'l2'],\n",
    "                'solver' : ['liblinear'],\n",
    "                'max_iter': [2000]}\n",
    "\n",
    "rsc_logreg = GridSearchCV(LogisticRegression(),\n",
    "                         logreg_param,\n",
    "                         scoring='f1',\n",
    "                         cv=5,\n",
    "                         n_jobs=-1,\n",
    "                         verbose=2)\n",
    "rsc_logreg = rsc_logreg.fit(train_features, train_target)\n",
    "\n",
    "print('Лучшие параметры для модели LogisticRegression:', rsc_logreg.best_params_)\n",
    "print(\"f1_train с лучшими параметрами:\", abs(rsc_logreg.best_score_))"
   ]
  },
  {
   "cell_type": "markdown",
   "metadata": {
    "id": "YfwjqhjaNBFz"
   },
   "source": [
    "### LinearSVC()"
   ]
  },
  {
   "cell_type": "markdown",
   "metadata": {
    "id": "I-2yyOwCNBFz"
   },
   "source": [
    "Построим модель LinearSVC и посчитаем значение метрики f1 на тестовой и обучающей выборке."
   ]
  },
  {
   "cell_type": "code",
   "execution_count": 21,
   "metadata": {
    "colab": {
     "base_uri": "https://localhost:8080/"
    },
    "id": "JfChRYH6NBF0",
    "outputId": "067ad459-eb28-4c9a-d468-6ed4028c38bd"
   },
   "outputs": [
    {
     "name": "stdout",
     "output_type": "stream",
     "text": [
      "Fitting 5 folds for each of 10 candidates, totalling 50 fits\n",
      "Лучшие параметры для модели LinearSVC: {'max_iter': 2000, 'C': 2}\n",
      "f1_train с лучшими параметрами: 0.8625963621030035\n"
     ]
    }
   ],
   "source": [
    "SVC_parameters = {'C': range(1, 20),\n",
    "                 'max_iter': [2000]}\n",
    "\n",
    "rsc_SVC = RandomizedSearchCV(LinearSVC(), SVC_parameters,\n",
    "                  cv=5,\n",
    "                  scoring='f1',\n",
    "                  random_state=0,\n",
    "                  n_jobs=-1,\n",
    "                  verbose=1)\n",
    "rsc_SVC = rsc_SVC.fit(train_features, train_target)\n",
    "\n",
    "print('Лучшие параметры для модели LinearSVC:', rsc_SVC.best_params_)\n",
    "print(\"f1_train с лучшими параметрами:\", abs(rsc_SVC.best_score_))"
   ]
  },
  {
   "cell_type": "markdown",
   "metadata": {
    "id": "ijG9KZJ3NBF0"
   },
   "source": [
    "### KNeighborsClassifier"
   ]
  },
  {
   "cell_type": "markdown",
   "metadata": {
    "id": "9JMoha_xNBF0"
   },
   "source": [
    "Построим модель KNeighborsClassifier и посчитаем значение метрики f1 на тестовой и обучающей выборке."
   ]
  },
  {
   "cell_type": "code",
   "execution_count": 22,
   "metadata": {
    "colab": {
     "base_uri": "https://localhost:8080/"
    },
    "id": "zIkqyg2nNBF1",
    "outputId": "7eb00a32-50b9-404d-e542-46454e51d8d1"
   },
   "outputs": [
    {
     "name": "stdout",
     "output_type": "stream",
     "text": [
      "Fitting 3 folds for each of 13 candidates, totalling 39 fits\n",
      "Лучшие параметры для модели LinearSVC: {'n_neighbors': 7}\n",
      "f1_train с лучшими параметрами: 0.9228685320639344\n"
     ]
    }
   ],
   "source": [
    "knn_parameters = {'n_neighbors': range(2, 15)}\n",
    "\n",
    "rsc_knn = GridSearchCV(KNeighborsClassifier(), knn_parameters,\n",
    "                  cv=3,\n",
    "                  scoring='f1',\n",
    "                  n_jobs=-1,\n",
    "                  verbose=2)\n",
    "rsc_knn = rsc_knn.fit(train_features, train_target)\n",
    "\n",
    "print('Лучшие параметры для модели LinearSVC:', rsc_knn.best_params_)\n",
    "print(\"f1_train с лучшими параметрами:\", abs(rsc_knn.best_score_))"
   ]
  },
  {
   "cell_type": "markdown",
   "metadata": {
    "id": "ZZ0T3AOINBF1"
   },
   "source": [
    "### DummyClassifier()"
   ]
  },
  {
   "cell_type": "markdown",
   "metadata": {
    "id": "02FlDqabNBF1"
   },
   "source": [
    "Построим случайную модель DummyClassifier и посчитаем значение метрики f1 на тестовой выборке."
   ]
  },
  {
   "cell_type": "code",
   "execution_count": 23,
   "metadata": {
    "colab": {
     "base_uri": "https://localhost:8080/"
    },
    "id": "gjdU5N8qNBF1",
    "outputId": "376cca22-173a-41d1-be2f-7b966d64532b"
   },
   "outputs": [
    {
     "name": "stdout",
     "output_type": "stream",
     "text": [
      "f1 Dummy:  0.138\n"
     ]
    }
   ],
   "source": [
    "model = DummyClassifier(strategy = 'stratified')\n",
    "\n",
    "model.fit(train_features, train_target)\n",
    "pred = model.predict(test_features)\n",
    "f1_dummy = f1_score(test_target, pred)\n",
    "print('f1 Dummy: ', round(f1_dummy, 3))"
   ]
  },
  {
   "cell_type": "markdown",
   "metadata": {
    "id": "p5WpgmixNBF2"
   },
   "source": [
    "Запишем все параметры, которые мы получили в таблицу."
   ]
  },
  {
   "cell_type": "code",
   "execution_count": 24,
   "metadata": {
    "colab": {
     "base_uri": "https://localhost:8080/",
     "height": 175
    },
    "id": "L2G_ojZUNBF2",
    "outputId": "c5ec3b00-08f5-42a4-923e-109002bc349b"
   },
   "outputs": [
    {
     "data": {
      "text/html": [
       "<div>\n",
       "<style scoped>\n",
       "    .dataframe tbody tr th:only-of-type {\n",
       "        vertical-align: middle;\n",
       "    }\n",
       "\n",
       "    .dataframe tbody tr th {\n",
       "        vertical-align: top;\n",
       "    }\n",
       "\n",
       "    .dataframe thead th {\n",
       "        text-align: right;\n",
       "    }\n",
       "</style>\n",
       "<table border=\"1\" class=\"dataframe\">\n",
       "  <thead>\n",
       "    <tr style=\"text-align: right;\">\n",
       "      <th></th>\n",
       "      <th>f1_train</th>\n",
       "      <th>f1_test</th>\n",
       "    </tr>\n",
       "  </thead>\n",
       "  <tbody>\n",
       "    <tr>\n",
       "      <th>LogisticRegression</th>\n",
       "      <td>0.90</td>\n",
       "      <td>NaN</td>\n",
       "    </tr>\n",
       "    <tr>\n",
       "      <th>LinearSVC</th>\n",
       "      <td>0.86</td>\n",
       "      <td>NaN</td>\n",
       "    </tr>\n",
       "    <tr>\n",
       "      <th>KNeighborsClassifier</th>\n",
       "      <td>0.92</td>\n",
       "      <td>NaN</td>\n",
       "    </tr>\n",
       "    <tr>\n",
       "      <th>Dummy</th>\n",
       "      <td>NaN</td>\n",
       "      <td>0.14</td>\n",
       "    </tr>\n",
       "  </tbody>\n",
       "</table>\n",
       "</div>"
      ],
      "text/plain": [
       "                     f1_train f1_test\n",
       "LogisticRegression       0.90     NaN\n",
       "LinearSVC                0.86     NaN\n",
       "KNeighborsClassifier     0.92     NaN\n",
       "Dummy                     NaN    0.14"
      ]
     },
     "metadata": {},
     "output_type": "display_data"
    }
   ],
   "source": [
    "data = {'f1_train':[rsc_logreg.best_score_, rsc_SVC.best_score_, rsc_knn.best_score_, 'NaN'],\n",
    "        'f1_test':['NaN', 'NaN', 'NaN', f1_dummy]}\n",
    "\n",
    "table = pd.DataFrame(data)\n",
    "table.index = ['LogisticRegression', 'LinearSVC', 'KNeighborsClassifier', 'Dummy']\n",
    "\n",
    "pd.set_option('display.float_format', '{:.2f}'.format)\n",
    "display(table)"
   ]
  },
  {
   "cell_type": "markdown",
   "metadata": {},
   "source": [
    "Из таблицы видно, что самая лучшая метрика получается у модели KNeighborsClassifier. Рассчитаем метрику на тестовой выборке."
   ]
  },
  {
   "cell_type": "code",
   "execution_count": 25,
   "metadata": {
    "colab": {
     "base_uri": "https://localhost:8080/"
    },
    "id": "1o7tAdJWNBF1",
    "outputId": "cc33a916-8200-4db8-c63f-6fb060879e45"
   },
   "outputs": [
    {
     "name": "stdout",
     "output_type": "stream",
     "text": [
      "f1 KNeighborsClassifie тестовое значение:  0.97\n"
     ]
    }
   ],
   "source": [
    "model_knn = KNeighborsClassifier(n_neighbors=7)\n",
    "model_knn.fit(train_features, train_target)\n",
    "pred_knn = model_knn.predict(test_features)\n",
    "f1_knn = f1_score(test_target, pred_knn)\n",
    "print('f1 KNeighborsClassifie тестовое значение: ', round(f1_knn, 2))"
   ]
  },
  {
   "cell_type": "markdown",
   "metadata": {
    "id": "bVY5v8QgNBF2"
   },
   "source": [
    "## Выводы"
   ]
  },
  {
   "cell_type": "markdown",
   "metadata": {
    "id": "QQpt5yJCNBF2"
   },
   "source": [
    "В связи с тем, что вычисления объемные - удалось подобрать модель (BERT, также была опробована AutoModelForSequenceClassification и AutoModelForMaskedLM, которые на данном то этапе заполняли всю оперативную память и расчет прекращался), количество сэмплов и батчей для обучения модели и дальнейшего предсказания.\n",
    "\n",
    "По данным предсказаниям токсичных комментариев лучшая метрика f1 получилась на модели `KNeighborsClassifier`. На тестовых данных метрика достигла результата 0,97.\n",
    "\n",
    "Стоит отметить, что модели `LinearSVC` и `LogisticRegression` показали результат выше требуемого (0,75)."
   ]
  }
 ],
 "metadata": {
  "ExecuteTimeLog": [
   {
    "duration": 3026,
    "start_time": "2023-06-06T21:58:01.870Z"
   },
   {
    "duration": 234,
    "start_time": "2023-06-06T22:00:11.095Z"
   },
   {
    "duration": 3621,
    "start_time": "2023-06-06T22:00:53.648Z"
   },
   {
    "duration": 852,
    "start_time": "2023-06-06T22:04:26.405Z"
   },
   {
    "duration": 16,
    "start_time": "2023-06-06T22:04:39.053Z"
   },
   {
    "duration": 850,
    "start_time": "2023-06-06T22:06:05.223Z"
   },
   {
    "duration": 876,
    "start_time": "2023-06-06T22:06:11.222Z"
   },
   {
    "duration": 59,
    "start_time": "2023-06-06T22:06:15.567Z"
   },
   {
    "duration": 833,
    "start_time": "2023-06-06T22:06:22.142Z"
   },
   {
    "duration": 972,
    "start_time": "2023-06-06T22:06:35.999Z"
   },
   {
    "duration": 7,
    "start_time": "2023-06-06T22:06:37.296Z"
   },
   {
    "duration": 813,
    "start_time": "2023-06-06T22:06:48.912Z"
   },
   {
    "duration": 9,
    "start_time": "2023-06-06T22:06:49.967Z"
   },
   {
    "duration": 987,
    "start_time": "2023-06-06T22:06:54.951Z"
   },
   {
    "duration": 7,
    "start_time": "2023-06-06T22:06:55.942Z"
   },
   {
    "duration": 900,
    "start_time": "2023-06-06T22:07:10.168Z"
   },
   {
    "duration": 9,
    "start_time": "2023-06-06T22:07:11.070Z"
   },
   {
    "duration": 40,
    "start_time": "2023-06-06T22:11:02.003Z"
   },
   {
    "duration": 33,
    "start_time": "2023-06-06T22:11:56.645Z"
   },
   {
    "duration": 31,
    "start_time": "2023-06-06T22:12:19.725Z"
   },
   {
    "duration": 16,
    "start_time": "2023-06-06T22:12:33.925Z"
   },
   {
    "duration": 730,
    "start_time": "2023-06-06T22:12:51.517Z"
   },
   {
    "duration": 862,
    "start_time": "2023-06-06T22:13:03.909Z"
   },
   {
    "duration": 7,
    "start_time": "2023-06-06T22:13:13.930Z"
   },
   {
    "duration": 46,
    "start_time": "2023-06-10T22:30:50.040Z"
   }
  ],
  "accelerator": "GPU",
  "colab": {
   "gpuType": "T4",
   "provenance": []
  },
  "kernelspec": {
   "display_name": "Python 3 (ipykernel)",
   "language": "python",
   "name": "python3"
  },
  "language_info": {
   "codemirror_mode": {
    "name": "ipython",
    "version": 3
   },
   "file_extension": ".py",
   "mimetype": "text/x-python",
   "name": "python",
   "nbconvert_exporter": "python",
   "pygments_lexer": "ipython3",
   "version": "3.9.15"
  },
  "toc": {
   "base_numbering": 1,
   "nav_menu": {},
   "number_sections": true,
   "sideBar": true,
   "skip_h1_title": true,
   "title_cell": "Содержание",
   "title_sidebar": "Contents",
   "toc_cell": true,
   "toc_position": {
    "height": "calc(100% - 180px)",
    "left": "10px",
    "top": "150px",
    "width": "302.391px"
   },
   "toc_section_display": true,
   "toc_window_display": false
  },
  "widgets": {
   "application/vnd.jupyter.widget-state+json": {
    "0536593d3f2f407584148ee64a27757f": {
     "model_module": "@jupyter-widgets/controls",
     "model_module_version": "1.5.0",
     "model_name": "DescriptionStyleModel",
     "state": {
      "_model_module": "@jupyter-widgets/controls",
      "_model_module_version": "1.5.0",
      "_model_name": "DescriptionStyleModel",
      "_view_count": null,
      "_view_module": "@jupyter-widgets/base",
      "_view_module_version": "1.2.0",
      "_view_name": "StyleView",
      "description_width": ""
     }
    },
    "07eff632b5a542879b88fcf62869418f": {
     "model_module": "@jupyter-widgets/controls",
     "model_module_version": "1.5.0",
     "model_name": "HTMLModel",
     "state": {
      "_dom_classes": [],
      "_model_module": "@jupyter-widgets/controls",
      "_model_module_version": "1.5.0",
      "_model_name": "HTMLModel",
      "_view_count": null,
      "_view_module": "@jupyter-widgets/controls",
      "_view_module_version": "1.5.0",
      "_view_name": "HTMLView",
      "description": "",
      "description_tooltip": null,
      "layout": "IPY_MODEL_402c1e2799c14f9fb4feb4992480c2a8",
      "placeholder": "​",
      "style": "IPY_MODEL_e99cce59ae9c48c3bb15b394f3ef0260",
      "value": " 232k/232k [00:00&lt;00:00, 858kB/s]"
     }
    },
    "0aa84aef1d264102bc4b5c8b2441f8c4": {
     "model_module": "@jupyter-widgets/base",
     "model_module_version": "1.2.0",
     "model_name": "LayoutModel",
     "state": {
      "_model_module": "@jupyter-widgets/base",
      "_model_module_version": "1.2.0",
      "_model_name": "LayoutModel",
      "_view_count": null,
      "_view_module": "@jupyter-widgets/base",
      "_view_module_version": "1.2.0",
      "_view_name": "LayoutView",
      "align_content": null,
      "align_items": null,
      "align_self": null,
      "border": null,
      "bottom": null,
      "display": null,
      "flex": null,
      "flex_flow": null,
      "grid_area": null,
      "grid_auto_columns": null,
      "grid_auto_flow": null,
      "grid_auto_rows": null,
      "grid_column": null,
      "grid_gap": null,
      "grid_row": null,
      "grid_template_areas": null,
      "grid_template_columns": null,
      "grid_template_rows": null,
      "height": null,
      "justify_content": null,
      "justify_items": null,
      "left": null,
      "margin": null,
      "max_height": null,
      "max_width": null,
      "min_height": null,
      "min_width": null,
      "object_fit": null,
      "object_position": null,
      "order": null,
      "overflow": null,
      "overflow_x": null,
      "overflow_y": null,
      "padding": null,
      "right": null,
      "top": null,
      "visibility": null,
      "width": null
     }
    },
    "184a3d8b38bb475b93a7115ed8259723": {
     "model_module": "@jupyter-widgets/base",
     "model_module_version": "1.2.0",
     "model_name": "LayoutModel",
     "state": {
      "_model_module": "@jupyter-widgets/base",
      "_model_module_version": "1.2.0",
      "_model_name": "LayoutModel",
      "_view_count": null,
      "_view_module": "@jupyter-widgets/base",
      "_view_module_version": "1.2.0",
      "_view_name": "LayoutView",
      "align_content": null,
      "align_items": null,
      "align_self": null,
      "border": null,
      "bottom": null,
      "display": null,
      "flex": null,
      "flex_flow": null,
      "grid_area": null,
      "grid_auto_columns": null,
      "grid_auto_flow": null,
      "grid_auto_rows": null,
      "grid_column": null,
      "grid_gap": null,
      "grid_row": null,
      "grid_template_areas": null,
      "grid_template_columns": null,
      "grid_template_rows": null,
      "height": null,
      "justify_content": null,
      "justify_items": null,
      "left": null,
      "margin": null,
      "max_height": null,
      "max_width": null,
      "min_height": null,
      "min_width": null,
      "object_fit": null,
      "object_position": null,
      "order": null,
      "overflow": null,
      "overflow_x": null,
      "overflow_y": null,
      "padding": null,
      "right": null,
      "top": null,
      "visibility": null,
      "width": null
     }
    },
    "1c8a373e813d4b2a835c7ef0f46c31f0": {
     "model_module": "@jupyter-widgets/controls",
     "model_module_version": "1.5.0",
     "model_name": "DescriptionStyleModel",
     "state": {
      "_model_module": "@jupyter-widgets/controls",
      "_model_module_version": "1.5.0",
      "_model_name": "DescriptionStyleModel",
      "_view_count": null,
      "_view_module": "@jupyter-widgets/base",
      "_view_module_version": "1.2.0",
      "_view_name": "StyleView",
      "description_width": ""
     }
    },
    "1e036924b5364d85a0d7797249a1aea1": {
     "model_module": "@jupyter-widgets/controls",
     "model_module_version": "1.5.0",
     "model_name": "HTMLModel",
     "state": {
      "_dom_classes": [],
      "_model_module": "@jupyter-widgets/controls",
      "_model_module_version": "1.5.0",
      "_model_name": "HTMLModel",
      "_view_count": null,
      "_view_module": "@jupyter-widgets/controls",
      "_view_module_version": "1.5.0",
      "_view_name": "HTMLView",
      "description": "",
      "description_tooltip": null,
      "layout": "IPY_MODEL_71aee34388b84b86aedeeead11c69b20",
      "placeholder": "​",
      "style": "IPY_MODEL_38b65b330f2941d59c83d93c559255b6",
      "value": " 112/112 [00:00&lt;00:00, 9.21kB/s]"
     }
    },
    "241a02ef109b440da70981b31351bc2c": {
     "model_module": "@jupyter-widgets/controls",
     "model_module_version": "1.5.0",
     "model_name": "ProgressStyleModel",
     "state": {
      "_model_module": "@jupyter-widgets/controls",
      "_model_module_version": "1.5.0",
      "_model_name": "ProgressStyleModel",
      "_view_count": null,
      "_view_module": "@jupyter-widgets/base",
      "_view_module_version": "1.2.0",
      "_view_name": "StyleView",
      "bar_color": null,
      "description_width": ""
     }
    },
    "2555b4c7270d403c8b54ef74d6b57725": {
     "model_module": "@jupyter-widgets/base",
     "model_module_version": "1.2.0",
     "model_name": "LayoutModel",
     "state": {
      "_model_module": "@jupyter-widgets/base",
      "_model_module_version": "1.2.0",
      "_model_name": "LayoutModel",
      "_view_count": null,
      "_view_module": "@jupyter-widgets/base",
      "_view_module_version": "1.2.0",
      "_view_name": "LayoutView",
      "align_content": null,
      "align_items": null,
      "align_self": null,
      "border": null,
      "bottom": null,
      "display": null,
      "flex": null,
      "flex_flow": null,
      "grid_area": null,
      "grid_auto_columns": null,
      "grid_auto_flow": null,
      "grid_auto_rows": null,
      "grid_column": null,
      "grid_gap": null,
      "grid_row": null,
      "grid_template_areas": null,
      "grid_template_columns": null,
      "grid_template_rows": null,
      "height": null,
      "justify_content": null,
      "justify_items": null,
      "left": null,
      "margin": null,
      "max_height": null,
      "max_width": null,
      "min_height": null,
      "min_width": null,
      "object_fit": null,
      "object_position": null,
      "order": null,
      "overflow": null,
      "overflow_x": null,
      "overflow_y": null,
      "padding": null,
      "right": null,
      "top": null,
      "visibility": null,
      "width": null
     }
    },
    "268a442dc49f48b6a770e1d3d29a0b2d": {
     "model_module": "@jupyter-widgets/base",
     "model_module_version": "1.2.0",
     "model_name": "LayoutModel",
     "state": {
      "_model_module": "@jupyter-widgets/base",
      "_model_module_version": "1.2.0",
      "_model_name": "LayoutModel",
      "_view_count": null,
      "_view_module": "@jupyter-widgets/base",
      "_view_module_version": "1.2.0",
      "_view_name": "LayoutView",
      "align_content": null,
      "align_items": null,
      "align_self": null,
      "border": null,
      "bottom": null,
      "display": null,
      "flex": null,
      "flex_flow": null,
      "grid_area": null,
      "grid_auto_columns": null,
      "grid_auto_flow": null,
      "grid_auto_rows": null,
      "grid_column": null,
      "grid_gap": null,
      "grid_row": null,
      "grid_template_areas": null,
      "grid_template_columns": null,
      "grid_template_rows": null,
      "height": null,
      "justify_content": null,
      "justify_items": null,
      "left": null,
      "margin": null,
      "max_height": null,
      "max_width": null,
      "min_height": null,
      "min_width": null,
      "object_fit": null,
      "object_position": null,
      "order": null,
      "overflow": null,
      "overflow_x": null,
      "overflow_y": null,
      "padding": null,
      "right": null,
      "top": null,
      "visibility": null,
      "width": null
     }
    },
    "29bca88195fa4f2493ff5b793d1056db": {
     "model_module": "@jupyter-widgets/controls",
     "model_module_version": "1.5.0",
     "model_name": "HBoxModel",
     "state": {
      "_dom_classes": [],
      "_model_module": "@jupyter-widgets/controls",
      "_model_module_version": "1.5.0",
      "_model_name": "HBoxModel",
      "_view_count": null,
      "_view_module": "@jupyter-widgets/controls",
      "_view_module_version": "1.5.0",
      "_view_name": "HBoxView",
      "box_style": "",
      "children": [
       "IPY_MODEL_e5bcdc32e589487782ac01aee6f86fe7",
       "IPY_MODEL_53c4efe1cf0f48e6b2f165b6872ce459",
       "IPY_MODEL_07eff632b5a542879b88fcf62869418f"
      ],
      "layout": "IPY_MODEL_8e44e385053641109f263e2803d80311"
     }
    },
    "29d5a070f9db4f44a0c0c396f3708ff2": {
     "model_module": "@jupyter-widgets/controls",
     "model_module_version": "1.5.0",
     "model_name": "HTMLModel",
     "state": {
      "_dom_classes": [],
      "_model_module": "@jupyter-widgets/controls",
      "_model_module_version": "1.5.0",
      "_model_name": "HTMLModel",
      "_view_count": null,
      "_view_module": "@jupyter-widgets/controls",
      "_view_module_version": "1.5.0",
      "_view_name": "HTMLView",
      "description": "",
      "description_tooltip": null,
      "layout": "IPY_MODEL_4930b444c31847b2b3eb7609ee7f93b1",
      "placeholder": "​",
      "style": "IPY_MODEL_b6588a464c8a401499aa50eafa0c0f1d",
      "value": " 438M/438M [00:03&lt;00:00, 89.5MB/s]"
     }
    },
    "2c3f43ff4301450f96ba983c958458aa": {
     "model_module": "@jupyter-widgets/base",
     "model_module_version": "1.2.0",
     "model_name": "LayoutModel",
     "state": {
      "_model_module": "@jupyter-widgets/base",
      "_model_module_version": "1.2.0",
      "_model_name": "LayoutModel",
      "_view_count": null,
      "_view_module": "@jupyter-widgets/base",
      "_view_module_version": "1.2.0",
      "_view_name": "LayoutView",
      "align_content": null,
      "align_items": null,
      "align_self": null,
      "border": null,
      "bottom": null,
      "display": null,
      "flex": null,
      "flex_flow": null,
      "grid_area": null,
      "grid_auto_columns": null,
      "grid_auto_flow": null,
      "grid_auto_rows": null,
      "grid_column": null,
      "grid_gap": null,
      "grid_row": null,
      "grid_template_areas": null,
      "grid_template_columns": null,
      "grid_template_rows": null,
      "height": null,
      "justify_content": null,
      "justify_items": null,
      "left": null,
      "margin": null,
      "max_height": null,
      "max_width": null,
      "min_height": null,
      "min_width": null,
      "object_fit": null,
      "object_position": null,
      "order": null,
      "overflow": null,
      "overflow_x": null,
      "overflow_y": null,
      "padding": null,
      "right": null,
      "top": null,
      "visibility": null,
      "width": null
     }
    },
    "2e0fafdcf33b4956a4f68ad9b4ca0444": {
     "model_module": "@jupyter-widgets/base",
     "model_module_version": "1.2.0",
     "model_name": "LayoutModel",
     "state": {
      "_model_module": "@jupyter-widgets/base",
      "_model_module_version": "1.2.0",
      "_model_name": "LayoutModel",
      "_view_count": null,
      "_view_module": "@jupyter-widgets/base",
      "_view_module_version": "1.2.0",
      "_view_name": "LayoutView",
      "align_content": null,
      "align_items": null,
      "align_self": null,
      "border": null,
      "bottom": null,
      "display": null,
      "flex": null,
      "flex_flow": null,
      "grid_area": null,
      "grid_auto_columns": null,
      "grid_auto_flow": null,
      "grid_auto_rows": null,
      "grid_column": null,
      "grid_gap": null,
      "grid_row": null,
      "grid_template_areas": null,
      "grid_template_columns": null,
      "grid_template_rows": null,
      "height": null,
      "justify_content": null,
      "justify_items": null,
      "left": null,
      "margin": null,
      "max_height": null,
      "max_width": null,
      "min_height": null,
      "min_width": null,
      "object_fit": null,
      "object_position": null,
      "order": null,
      "overflow": null,
      "overflow_x": null,
      "overflow_y": null,
      "padding": null,
      "right": null,
      "top": null,
      "visibility": null,
      "width": null
     }
    },
    "30edca34dd1c4d1093b6ac5cdf7c1eca": {
     "model_module": "@jupyter-widgets/controls",
     "model_module_version": "1.5.0",
     "model_name": "HTMLModel",
     "state": {
      "_dom_classes": [],
      "_model_module": "@jupyter-widgets/controls",
      "_model_module_version": "1.5.0",
      "_model_name": "HTMLModel",
      "_view_count": null,
      "_view_module": "@jupyter-widgets/controls",
      "_view_module_version": "1.5.0",
      "_view_name": "HTMLView",
      "description": "",
      "description_tooltip": null,
      "layout": "IPY_MODEL_ab8b6364901a4cd4a4100882bb4ce99e",
      "placeholder": "​",
      "style": "IPY_MODEL_0536593d3f2f407584148ee64a27757f",
      "value": "Downloading (…)okenizer_config.json: 100%"
     }
    },
    "36d8c468cc654feeace86eedd7f0156b": {
     "model_module": "@jupyter-widgets/controls",
     "model_module_version": "1.5.0",
     "model_name": "DescriptionStyleModel",
     "state": {
      "_model_module": "@jupyter-widgets/controls",
      "_model_module_version": "1.5.0",
      "_model_name": "DescriptionStyleModel",
      "_view_count": null,
      "_view_module": "@jupyter-widgets/base",
      "_view_module_version": "1.2.0",
      "_view_name": "StyleView",
      "description_width": ""
     }
    },
    "37ddd880486948818e7154239bdbf535": {
     "model_module": "@jupyter-widgets/controls",
     "model_module_version": "1.5.0",
     "model_name": "FloatProgressModel",
     "state": {
      "_dom_classes": [],
      "_model_module": "@jupyter-widgets/controls",
      "_model_module_version": "1.5.0",
      "_model_name": "FloatProgressModel",
      "_view_count": null,
      "_view_module": "@jupyter-widgets/controls",
      "_view_module_version": "1.5.0",
      "_view_name": "ProgressView",
      "bar_style": "success",
      "description": "",
      "description_tooltip": null,
      "layout": "IPY_MODEL_50b6dbe8ac254df795e31dd41b6293c2",
      "max": 5,
      "min": 0,
      "orientation": "horizontal",
      "style": "IPY_MODEL_90f3551d85864b82a11efa04deba0457",
      "value": 5
     }
    },
    "38b65b330f2941d59c83d93c559255b6": {
     "model_module": "@jupyter-widgets/controls",
     "model_module_version": "1.5.0",
     "model_name": "DescriptionStyleModel",
     "state": {
      "_model_module": "@jupyter-widgets/controls",
      "_model_module_version": "1.5.0",
      "_model_name": "DescriptionStyleModel",
      "_view_count": null,
      "_view_module": "@jupyter-widgets/base",
      "_view_module_version": "1.2.0",
      "_view_name": "StyleView",
      "description_width": ""
     }
    },
    "3d5f011c42484870bdbe8e9c8f4773ca": {
     "model_module": "@jupyter-widgets/base",
     "model_module_version": "1.2.0",
     "model_name": "LayoutModel",
     "state": {
      "_model_module": "@jupyter-widgets/base",
      "_model_module_version": "1.2.0",
      "_model_name": "LayoutModel",
      "_view_count": null,
      "_view_module": "@jupyter-widgets/base",
      "_view_module_version": "1.2.0",
      "_view_name": "LayoutView",
      "align_content": null,
      "align_items": null,
      "align_self": null,
      "border": null,
      "bottom": null,
      "display": null,
      "flex": null,
      "flex_flow": null,
      "grid_area": null,
      "grid_auto_columns": null,
      "grid_auto_flow": null,
      "grid_auto_rows": null,
      "grid_column": null,
      "grid_gap": null,
      "grid_row": null,
      "grid_template_areas": null,
      "grid_template_columns": null,
      "grid_template_rows": null,
      "height": null,
      "justify_content": null,
      "justify_items": null,
      "left": null,
      "margin": null,
      "max_height": null,
      "max_width": null,
      "min_height": null,
      "min_width": null,
      "object_fit": null,
      "object_position": null,
      "order": null,
      "overflow": null,
      "overflow_x": null,
      "overflow_y": null,
      "padding": null,
      "right": null,
      "top": null,
      "visibility": null,
      "width": null
     }
    },
    "3f0f8ada310641bd85297b36ec5e57d5": {
     "model_module": "@jupyter-widgets/base",
     "model_module_version": "1.2.0",
     "model_name": "LayoutModel",
     "state": {
      "_model_module": "@jupyter-widgets/base",
      "_model_module_version": "1.2.0",
      "_model_name": "LayoutModel",
      "_view_count": null,
      "_view_module": "@jupyter-widgets/base",
      "_view_module_version": "1.2.0",
      "_view_name": "LayoutView",
      "align_content": null,
      "align_items": null,
      "align_self": null,
      "border": null,
      "bottom": null,
      "display": null,
      "flex": null,
      "flex_flow": null,
      "grid_area": null,
      "grid_auto_columns": null,
      "grid_auto_flow": null,
      "grid_auto_rows": null,
      "grid_column": null,
      "grid_gap": null,
      "grid_row": null,
      "grid_template_areas": null,
      "grid_template_columns": null,
      "grid_template_rows": null,
      "height": null,
      "justify_content": null,
      "justify_items": null,
      "left": null,
      "margin": null,
      "max_height": null,
      "max_width": null,
      "min_height": null,
      "min_width": null,
      "object_fit": null,
      "object_position": null,
      "order": null,
      "overflow": null,
      "overflow_x": null,
      "overflow_y": null,
      "padding": null,
      "right": null,
      "top": null,
      "visibility": null,
      "width": null
     }
    },
    "402c1e2799c14f9fb4feb4992480c2a8": {
     "model_module": "@jupyter-widgets/base",
     "model_module_version": "1.2.0",
     "model_name": "LayoutModel",
     "state": {
      "_model_module": "@jupyter-widgets/base",
      "_model_module_version": "1.2.0",
      "_model_name": "LayoutModel",
      "_view_count": null,
      "_view_module": "@jupyter-widgets/base",
      "_view_module_version": "1.2.0",
      "_view_name": "LayoutView",
      "align_content": null,
      "align_items": null,
      "align_self": null,
      "border": null,
      "bottom": null,
      "display": null,
      "flex": null,
      "flex_flow": null,
      "grid_area": null,
      "grid_auto_columns": null,
      "grid_auto_flow": null,
      "grid_auto_rows": null,
      "grid_column": null,
      "grid_gap": null,
      "grid_row": null,
      "grid_template_areas": null,
      "grid_template_columns": null,
      "grid_template_rows": null,
      "height": null,
      "justify_content": null,
      "justify_items": null,
      "left": null,
      "margin": null,
      "max_height": null,
      "max_width": null,
      "min_height": null,
      "min_width": null,
      "object_fit": null,
      "object_position": null,
      "order": null,
      "overflow": null,
      "overflow_x": null,
      "overflow_y": null,
      "padding": null,
      "right": null,
      "top": null,
      "visibility": null,
      "width": null
     }
    },
    "4930b444c31847b2b3eb7609ee7f93b1": {
     "model_module": "@jupyter-widgets/base",
     "model_module_version": "1.2.0",
     "model_name": "LayoutModel",
     "state": {
      "_model_module": "@jupyter-widgets/base",
      "_model_module_version": "1.2.0",
      "_model_name": "LayoutModel",
      "_view_count": null,
      "_view_module": "@jupyter-widgets/base",
      "_view_module_version": "1.2.0",
      "_view_name": "LayoutView",
      "align_content": null,
      "align_items": null,
      "align_self": null,
      "border": null,
      "bottom": null,
      "display": null,
      "flex": null,
      "flex_flow": null,
      "grid_area": null,
      "grid_auto_columns": null,
      "grid_auto_flow": null,
      "grid_auto_rows": null,
      "grid_column": null,
      "grid_gap": null,
      "grid_row": null,
      "grid_template_areas": null,
      "grid_template_columns": null,
      "grid_template_rows": null,
      "height": null,
      "justify_content": null,
      "justify_items": null,
      "left": null,
      "margin": null,
      "max_height": null,
      "max_width": null,
      "min_height": null,
      "min_width": null,
      "object_fit": null,
      "object_position": null,
      "order": null,
      "overflow": null,
      "overflow_x": null,
      "overflow_y": null,
      "padding": null,
      "right": null,
      "top": null,
      "visibility": null,
      "width": null
     }
    },
    "4c62efcb4f3c455a84f97070b76d76f4": {
     "model_module": "@jupyter-widgets/controls",
     "model_module_version": "1.5.0",
     "model_name": "DescriptionStyleModel",
     "state": {
      "_model_module": "@jupyter-widgets/controls",
      "_model_module_version": "1.5.0",
      "_model_name": "DescriptionStyleModel",
      "_view_count": null,
      "_view_module": "@jupyter-widgets/base",
      "_view_module_version": "1.2.0",
      "_view_name": "StyleView",
      "description_width": ""
     }
    },
    "503ccf91e8a84d4ea80665000a41299c": {
     "model_module": "@jupyter-widgets/controls",
     "model_module_version": "1.5.0",
     "model_name": "FloatProgressModel",
     "state": {
      "_dom_classes": [],
      "_model_module": "@jupyter-widgets/controls",
      "_model_module_version": "1.5.0",
      "_model_name": "FloatProgressModel",
      "_view_count": null,
      "_view_module": "@jupyter-widgets/controls",
      "_view_module_version": "1.5.0",
      "_view_name": "ProgressView",
      "bar_style": "success",
      "description": "",
      "description_tooltip": null,
      "layout": "IPY_MODEL_184a3d8b38bb475b93a7115ed8259723",
      "max": 112,
      "min": 0,
      "orientation": "horizontal",
      "style": "IPY_MODEL_241a02ef109b440da70981b31351bc2c",
      "value": 112
     }
    },
    "50b6dbe8ac254df795e31dd41b6293c2": {
     "model_module": "@jupyter-widgets/base",
     "model_module_version": "1.2.0",
     "model_name": "LayoutModel",
     "state": {
      "_model_module": "@jupyter-widgets/base",
      "_model_module_version": "1.2.0",
      "_model_name": "LayoutModel",
      "_view_count": null,
      "_view_module": "@jupyter-widgets/base",
      "_view_module_version": "1.2.0",
      "_view_name": "LayoutView",
      "align_content": null,
      "align_items": null,
      "align_self": null,
      "border": null,
      "bottom": null,
      "display": null,
      "flex": null,
      "flex_flow": null,
      "grid_area": null,
      "grid_auto_columns": null,
      "grid_auto_flow": null,
      "grid_auto_rows": null,
      "grid_column": null,
      "grid_gap": null,
      "grid_row": null,
      "grid_template_areas": null,
      "grid_template_columns": null,
      "grid_template_rows": null,
      "height": null,
      "justify_content": null,
      "justify_items": null,
      "left": null,
      "margin": null,
      "max_height": null,
      "max_width": null,
      "min_height": null,
      "min_width": null,
      "object_fit": null,
      "object_position": null,
      "order": null,
      "overflow": null,
      "overflow_x": null,
      "overflow_y": null,
      "padding": null,
      "right": null,
      "top": null,
      "visibility": null,
      "width": null
     }
    },
    "53c4efe1cf0f48e6b2f165b6872ce459": {
     "model_module": "@jupyter-widgets/controls",
     "model_module_version": "1.5.0",
     "model_name": "FloatProgressModel",
     "state": {
      "_dom_classes": [],
      "_model_module": "@jupyter-widgets/controls",
      "_model_module_version": "1.5.0",
      "_model_name": "FloatProgressModel",
      "_view_count": null,
      "_view_module": "@jupyter-widgets/controls",
      "_view_module_version": "1.5.0",
      "_view_name": "ProgressView",
      "bar_style": "success",
      "description": "",
      "description_tooltip": null,
      "layout": "IPY_MODEL_a9856aece6224dc79e29e7378a388626",
      "max": 231508,
      "min": 0,
      "orientation": "horizontal",
      "style": "IPY_MODEL_5f5ae565a85b4a69af1ff4d00abe642c",
      "value": 231508
     }
    },
    "5f5ae565a85b4a69af1ff4d00abe642c": {
     "model_module": "@jupyter-widgets/controls",
     "model_module_version": "1.5.0",
     "model_name": "ProgressStyleModel",
     "state": {
      "_model_module": "@jupyter-widgets/controls",
      "_model_module_version": "1.5.0",
      "_model_name": "ProgressStyleModel",
      "_view_count": null,
      "_view_module": "@jupyter-widgets/base",
      "_view_module_version": "1.2.0",
      "_view_name": "StyleView",
      "bar_color": null,
      "description_width": ""
     }
    },
    "6336a17089b24e0b809e8c78228a8c42": {
     "model_module": "@jupyter-widgets/controls",
     "model_module_version": "1.5.0",
     "model_name": "HTMLModel",
     "state": {
      "_dom_classes": [],
      "_model_module": "@jupyter-widgets/controls",
      "_model_module_version": "1.5.0",
      "_model_name": "HTMLModel",
      "_view_count": null,
      "_view_module": "@jupyter-widgets/controls",
      "_view_module_version": "1.5.0",
      "_view_name": "HTMLView",
      "description": "",
      "description_tooltip": null,
      "layout": "IPY_MODEL_7444ae7392634d61bf06f81a0188414b",
      "placeholder": "​",
      "style": "IPY_MODEL_f2ccb4e81f5f43ae8fe05b39ccfc4901",
      "value": "Downloading (…)lve/main/config.json: 100%"
     }
    },
    "6a5c7ce175aa4395b027b14630dbceef": {
     "model_module": "@jupyter-widgets/controls",
     "model_module_version": "1.5.0",
     "model_name": "HTMLModel",
     "state": {
      "_dom_classes": [],
      "_model_module": "@jupyter-widgets/controls",
      "_model_module_version": "1.5.0",
      "_model_name": "HTMLModel",
      "_view_count": null,
      "_view_module": "@jupyter-widgets/controls",
      "_view_module_version": "1.5.0",
      "_view_name": "HTMLView",
      "description": "",
      "description_tooltip": null,
      "layout": "IPY_MODEL_d6054a6cfb90403ea4ffcc0188bcf716",
      "placeholder": "​",
      "style": "IPY_MODEL_4c62efcb4f3c455a84f97070b76d76f4",
      "value": "100%"
     }
    },
    "71aee34388b84b86aedeeead11c69b20": {
     "model_module": "@jupyter-widgets/base",
     "model_module_version": "1.2.0",
     "model_name": "LayoutModel",
     "state": {
      "_model_module": "@jupyter-widgets/base",
      "_model_module_version": "1.2.0",
      "_model_name": "LayoutModel",
      "_view_count": null,
      "_view_module": "@jupyter-widgets/base",
      "_view_module_version": "1.2.0",
      "_view_name": "LayoutView",
      "align_content": null,
      "align_items": null,
      "align_self": null,
      "border": null,
      "bottom": null,
      "display": null,
      "flex": null,
      "flex_flow": null,
      "grid_area": null,
      "grid_auto_columns": null,
      "grid_auto_flow": null,
      "grid_auto_rows": null,
      "grid_column": null,
      "grid_gap": null,
      "grid_row": null,
      "grid_template_areas": null,
      "grid_template_columns": null,
      "grid_template_rows": null,
      "height": null,
      "justify_content": null,
      "justify_items": null,
      "left": null,
      "margin": null,
      "max_height": null,
      "max_width": null,
      "min_height": null,
      "min_width": null,
      "object_fit": null,
      "object_position": null,
      "order": null,
      "overflow": null,
      "overflow_x": null,
      "overflow_y": null,
      "padding": null,
      "right": null,
      "top": null,
      "visibility": null,
      "width": null
     }
    },
    "7444ae7392634d61bf06f81a0188414b": {
     "model_module": "@jupyter-widgets/base",
     "model_module_version": "1.2.0",
     "model_name": "LayoutModel",
     "state": {
      "_model_module": "@jupyter-widgets/base",
      "_model_module_version": "1.2.0",
      "_model_name": "LayoutModel",
      "_view_count": null,
      "_view_module": "@jupyter-widgets/base",
      "_view_module_version": "1.2.0",
      "_view_name": "LayoutView",
      "align_content": null,
      "align_items": null,
      "align_self": null,
      "border": null,
      "bottom": null,
      "display": null,
      "flex": null,
      "flex_flow": null,
      "grid_area": null,
      "grid_auto_columns": null,
      "grid_auto_flow": null,
      "grid_auto_rows": null,
      "grid_column": null,
      "grid_gap": null,
      "grid_row": null,
      "grid_template_areas": null,
      "grid_template_columns": null,
      "grid_template_rows": null,
      "height": null,
      "justify_content": null,
      "justify_items": null,
      "left": null,
      "margin": null,
      "max_height": null,
      "max_width": null,
      "min_height": null,
      "min_width": null,
      "object_fit": null,
      "object_position": null,
      "order": null,
      "overflow": null,
      "overflow_x": null,
      "overflow_y": null,
      "padding": null,
      "right": null,
      "top": null,
      "visibility": null,
      "width": null
     }
    },
    "7e6f48b5db684f7b979c76debb985ccf": {
     "model_module": "@jupyter-widgets/controls",
     "model_module_version": "1.5.0",
     "model_name": "HBoxModel",
     "state": {
      "_dom_classes": [],
      "_model_module": "@jupyter-widgets/controls",
      "_model_module_version": "1.5.0",
      "_model_name": "HBoxModel",
      "_view_count": null,
      "_view_module": "@jupyter-widgets/controls",
      "_view_module_version": "1.5.0",
      "_view_name": "HBoxView",
      "box_style": "",
      "children": [
       "IPY_MODEL_f22976e75e4344349c15a937f6d9babc",
       "IPY_MODEL_d98f3a222db94aac9012324b6af18ff8",
       "IPY_MODEL_29d5a070f9db4f44a0c0c396f3708ff2"
      ],
      "layout": "IPY_MODEL_3d5f011c42484870bdbe8e9c8f4773ca"
     }
    },
    "7f3a6d1bf2c14e28869c35c0c0c6c857": {
     "model_module": "@jupyter-widgets/controls",
     "model_module_version": "1.5.0",
     "model_name": "FloatProgressModel",
     "state": {
      "_dom_classes": [],
      "_model_module": "@jupyter-widgets/controls",
      "_model_module_version": "1.5.0",
      "_model_name": "FloatProgressModel",
      "_view_count": null,
      "_view_module": "@jupyter-widgets/controls",
      "_view_module_version": "1.5.0",
      "_view_name": "ProgressView",
      "bar_style": "success",
      "description": "",
      "description_tooltip": null,
      "layout": "IPY_MODEL_2555b4c7270d403c8b54ef74d6b57725",
      "max": 174,
      "min": 0,
      "orientation": "horizontal",
      "style": "IPY_MODEL_9f839328629643cf8419153cdd4d6c56",
      "value": 174
     }
    },
    "88ebbe171c7c40a38ff47b18d9954f9f": {
     "model_module": "@jupyter-widgets/controls",
     "model_module_version": "1.5.0",
     "model_name": "FloatProgressModel",
     "state": {
      "_dom_classes": [],
      "_model_module": "@jupyter-widgets/controls",
      "_model_module_version": "1.5.0",
      "_model_name": "FloatProgressModel",
      "_view_count": null,
      "_view_module": "@jupyter-widgets/controls",
      "_view_module_version": "1.5.0",
      "_view_name": "ProgressView",
      "bar_style": "success",
      "description": "",
      "description_tooltip": null,
      "layout": "IPY_MODEL_d94914c0470e402e880a50de7e261cee",
      "max": 811,
      "min": 0,
      "orientation": "horizontal",
      "style": "IPY_MODEL_b11e83d930844b548990dda0133771cd",
      "value": 811
     }
    },
    "8bcf9a2655cd44bfb6066eef4bdb30ce": {
     "model_module": "@jupyter-widgets/base",
     "model_module_version": "1.2.0",
     "model_name": "LayoutModel",
     "state": {
      "_model_module": "@jupyter-widgets/base",
      "_model_module_version": "1.2.0",
      "_model_name": "LayoutModel",
      "_view_count": null,
      "_view_module": "@jupyter-widgets/base",
      "_view_module_version": "1.2.0",
      "_view_name": "LayoutView",
      "align_content": null,
      "align_items": null,
      "align_self": null,
      "border": null,
      "bottom": null,
      "display": null,
      "flex": null,
      "flex_flow": null,
      "grid_area": null,
      "grid_auto_columns": null,
      "grid_auto_flow": null,
      "grid_auto_rows": null,
      "grid_column": null,
      "grid_gap": null,
      "grid_row": null,
      "grid_template_areas": null,
      "grid_template_columns": null,
      "grid_template_rows": null,
      "height": null,
      "justify_content": null,
      "justify_items": null,
      "left": null,
      "margin": null,
      "max_height": null,
      "max_width": null,
      "min_height": null,
      "min_width": null,
      "object_fit": null,
      "object_position": null,
      "order": null,
      "overflow": null,
      "overflow_x": null,
      "overflow_y": null,
      "padding": null,
      "right": null,
      "top": null,
      "visibility": null,
      "width": null
     }
    },
    "8e44e385053641109f263e2803d80311": {
     "model_module": "@jupyter-widgets/base",
     "model_module_version": "1.2.0",
     "model_name": "LayoutModel",
     "state": {
      "_model_module": "@jupyter-widgets/base",
      "_model_module_version": "1.2.0",
      "_model_name": "LayoutModel",
      "_view_count": null,
      "_view_module": "@jupyter-widgets/base",
      "_view_module_version": "1.2.0",
      "_view_name": "LayoutView",
      "align_content": null,
      "align_items": null,
      "align_self": null,
      "border": null,
      "bottom": null,
      "display": null,
      "flex": null,
      "flex_flow": null,
      "grid_area": null,
      "grid_auto_columns": null,
      "grid_auto_flow": null,
      "grid_auto_rows": null,
      "grid_column": null,
      "grid_gap": null,
      "grid_row": null,
      "grid_template_areas": null,
      "grid_template_columns": null,
      "grid_template_rows": null,
      "height": null,
      "justify_content": null,
      "justify_items": null,
      "left": null,
      "margin": null,
      "max_height": null,
      "max_width": null,
      "min_height": null,
      "min_width": null,
      "object_fit": null,
      "object_position": null,
      "order": null,
      "overflow": null,
      "overflow_x": null,
      "overflow_y": null,
      "padding": null,
      "right": null,
      "top": null,
      "visibility": null,
      "width": null
     }
    },
    "8e9220af50914a0f815823df38732922": {
     "model_module": "@jupyter-widgets/controls",
     "model_module_version": "1.5.0",
     "model_name": "HBoxModel",
     "state": {
      "_dom_classes": [],
      "_model_module": "@jupyter-widgets/controls",
      "_model_module_version": "1.5.0",
      "_model_name": "HBoxModel",
      "_view_count": null,
      "_view_module": "@jupyter-widgets/controls",
      "_view_module_version": "1.5.0",
      "_view_name": "HBoxView",
      "box_style": "",
      "children": [
       "IPY_MODEL_6336a17089b24e0b809e8c78228a8c42",
       "IPY_MODEL_88ebbe171c7c40a38ff47b18d9954f9f",
       "IPY_MODEL_96b1e02a884245509782295394eda969"
      ],
      "layout": "IPY_MODEL_cc1a07dc38c54a7b94f261f72b679aca"
     }
    },
    "90f3551d85864b82a11efa04deba0457": {
     "model_module": "@jupyter-widgets/controls",
     "model_module_version": "1.5.0",
     "model_name": "ProgressStyleModel",
     "state": {
      "_model_module": "@jupyter-widgets/controls",
      "_model_module_version": "1.5.0",
      "_model_name": "ProgressStyleModel",
      "_view_count": null,
      "_view_module": "@jupyter-widgets/base",
      "_view_module_version": "1.2.0",
      "_view_name": "StyleView",
      "bar_color": null,
      "description_width": ""
     }
    },
    "957c65f6ccef4f638eddfb074ca67cf2": {
     "model_module": "@jupyter-widgets/controls",
     "model_module_version": "1.5.0",
     "model_name": "DescriptionStyleModel",
     "state": {
      "_model_module": "@jupyter-widgets/controls",
      "_model_module_version": "1.5.0",
      "_model_name": "DescriptionStyleModel",
      "_view_count": null,
      "_view_module": "@jupyter-widgets/base",
      "_view_module_version": "1.2.0",
      "_view_name": "StyleView",
      "description_width": ""
     }
    },
    "96b1e02a884245509782295394eda969": {
     "model_module": "@jupyter-widgets/controls",
     "model_module_version": "1.5.0",
     "model_name": "HTMLModel",
     "state": {
      "_dom_classes": [],
      "_model_module": "@jupyter-widgets/controls",
      "_model_module_version": "1.5.0",
      "_model_name": "HTMLModel",
      "_view_count": null,
      "_view_module": "@jupyter-widgets/controls",
      "_view_module_version": "1.5.0",
      "_view_name": "HTMLView",
      "description": "",
      "description_tooltip": null,
      "layout": "IPY_MODEL_2c3f43ff4301450f96ba983c958458aa",
      "placeholder": "​",
      "style": "IPY_MODEL_c4381ecac7944ac283242ba4094b7424",
      "value": " 811/811 [00:00&lt;00:00, 43.6kB/s]"
     }
    },
    "9c9c914c13cb4830aa9fbad0335dcb57": {
     "model_module": "@jupyter-widgets/base",
     "model_module_version": "1.2.0",
     "model_name": "LayoutModel",
     "state": {
      "_model_module": "@jupyter-widgets/base",
      "_model_module_version": "1.2.0",
      "_model_name": "LayoutModel",
      "_view_count": null,
      "_view_module": "@jupyter-widgets/base",
      "_view_module_version": "1.2.0",
      "_view_name": "LayoutView",
      "align_content": null,
      "align_items": null,
      "align_self": null,
      "border": null,
      "bottom": null,
      "display": null,
      "flex": null,
      "flex_flow": null,
      "grid_area": null,
      "grid_auto_columns": null,
      "grid_auto_flow": null,
      "grid_auto_rows": null,
      "grid_column": null,
      "grid_gap": null,
      "grid_row": null,
      "grid_template_areas": null,
      "grid_template_columns": null,
      "grid_template_rows": null,
      "height": null,
      "justify_content": null,
      "justify_items": null,
      "left": null,
      "margin": null,
      "max_height": null,
      "max_width": null,
      "min_height": null,
      "min_width": null,
      "object_fit": null,
      "object_position": null,
      "order": null,
      "overflow": null,
      "overflow_x": null,
      "overflow_y": null,
      "padding": null,
      "right": null,
      "top": null,
      "visibility": null,
      "width": null
     }
    },
    "9f839328629643cf8419153cdd4d6c56": {
     "model_module": "@jupyter-widgets/controls",
     "model_module_version": "1.5.0",
     "model_name": "ProgressStyleModel",
     "state": {
      "_model_module": "@jupyter-widgets/controls",
      "_model_module_version": "1.5.0",
      "_model_name": "ProgressStyleModel",
      "_view_count": null,
      "_view_module": "@jupyter-widgets/base",
      "_view_module_version": "1.2.0",
      "_view_name": "StyleView",
      "bar_color": null,
      "description_width": ""
     }
    },
    "a9856aece6224dc79e29e7378a388626": {
     "model_module": "@jupyter-widgets/base",
     "model_module_version": "1.2.0",
     "model_name": "LayoutModel",
     "state": {
      "_model_module": "@jupyter-widgets/base",
      "_model_module_version": "1.2.0",
      "_model_name": "LayoutModel",
      "_view_count": null,
      "_view_module": "@jupyter-widgets/base",
      "_view_module_version": "1.2.0",
      "_view_name": "LayoutView",
      "align_content": null,
      "align_items": null,
      "align_self": null,
      "border": null,
      "bottom": null,
      "display": null,
      "flex": null,
      "flex_flow": null,
      "grid_area": null,
      "grid_auto_columns": null,
      "grid_auto_flow": null,
      "grid_auto_rows": null,
      "grid_column": null,
      "grid_gap": null,
      "grid_row": null,
      "grid_template_areas": null,
      "grid_template_columns": null,
      "grid_template_rows": null,
      "height": null,
      "justify_content": null,
      "justify_items": null,
      "left": null,
      "margin": null,
      "max_height": null,
      "max_width": null,
      "min_height": null,
      "min_width": null,
      "object_fit": null,
      "object_position": null,
      "order": null,
      "overflow": null,
      "overflow_x": null,
      "overflow_y": null,
      "padding": null,
      "right": null,
      "top": null,
      "visibility": null,
      "width": null
     }
    },
    "ab8b6364901a4cd4a4100882bb4ce99e": {
     "model_module": "@jupyter-widgets/base",
     "model_module_version": "1.2.0",
     "model_name": "LayoutModel",
     "state": {
      "_model_module": "@jupyter-widgets/base",
      "_model_module_version": "1.2.0",
      "_model_name": "LayoutModel",
      "_view_count": null,
      "_view_module": "@jupyter-widgets/base",
      "_view_module_version": "1.2.0",
      "_view_name": "LayoutView",
      "align_content": null,
      "align_items": null,
      "align_self": null,
      "border": null,
      "bottom": null,
      "display": null,
      "flex": null,
      "flex_flow": null,
      "grid_area": null,
      "grid_auto_columns": null,
      "grid_auto_flow": null,
      "grid_auto_rows": null,
      "grid_column": null,
      "grid_gap": null,
      "grid_row": null,
      "grid_template_areas": null,
      "grid_template_columns": null,
      "grid_template_rows": null,
      "height": null,
      "justify_content": null,
      "justify_items": null,
      "left": null,
      "margin": null,
      "max_height": null,
      "max_width": null,
      "min_height": null,
      "min_width": null,
      "object_fit": null,
      "object_position": null,
      "order": null,
      "overflow": null,
      "overflow_x": null,
      "overflow_y": null,
      "padding": null,
      "right": null,
      "top": null,
      "visibility": null,
      "width": null
     }
    },
    "af3cd8f96b9a4d339c88c25964f86bee": {
     "model_module": "@jupyter-widgets/controls",
     "model_module_version": "1.5.0",
     "model_name": "HBoxModel",
     "state": {
      "_dom_classes": [],
      "_model_module": "@jupyter-widgets/controls",
      "_model_module_version": "1.5.0",
      "_model_name": "HBoxModel",
      "_view_count": null,
      "_view_module": "@jupyter-widgets/controls",
      "_view_module_version": "1.5.0",
      "_view_name": "HBoxView",
      "box_style": "",
      "children": [
       "IPY_MODEL_30edca34dd1c4d1093b6ac5cdf7c1eca",
       "IPY_MODEL_7f3a6d1bf2c14e28869c35c0c0c6c857",
       "IPY_MODEL_afdf281c544247c1a62d342964a78a0e"
      ],
      "layout": "IPY_MODEL_8bcf9a2655cd44bfb6066eef4bdb30ce"
     }
    },
    "afdf281c544247c1a62d342964a78a0e": {
     "model_module": "@jupyter-widgets/controls",
     "model_module_version": "1.5.0",
     "model_name": "HTMLModel",
     "state": {
      "_dom_classes": [],
      "_model_module": "@jupyter-widgets/controls",
      "_model_module_version": "1.5.0",
      "_model_name": "HTMLModel",
      "_view_count": null,
      "_view_module": "@jupyter-widgets/controls",
      "_view_module_version": "1.5.0",
      "_view_name": "HTMLView",
      "description": "",
      "description_tooltip": null,
      "layout": "IPY_MODEL_268a442dc49f48b6a770e1d3d29a0b2d",
      "placeholder": "​",
      "style": "IPY_MODEL_cbb6b44329e941bdbcc7a85a041a0a36",
      "value": " 174/174 [00:00&lt;00:00, 12.8kB/s]"
     }
    },
    "b11e83d930844b548990dda0133771cd": {
     "model_module": "@jupyter-widgets/controls",
     "model_module_version": "1.5.0",
     "model_name": "ProgressStyleModel",
     "state": {
      "_model_module": "@jupyter-widgets/controls",
      "_model_module_version": "1.5.0",
      "_model_name": "ProgressStyleModel",
      "_view_count": null,
      "_view_module": "@jupyter-widgets/base",
      "_view_module_version": "1.2.0",
      "_view_name": "StyleView",
      "bar_color": null,
      "description_width": ""
     }
    },
    "b6588a464c8a401499aa50eafa0c0f1d": {
     "model_module": "@jupyter-widgets/controls",
     "model_module_version": "1.5.0",
     "model_name": "DescriptionStyleModel",
     "state": {
      "_model_module": "@jupyter-widgets/controls",
      "_model_module_version": "1.5.0",
      "_model_name": "DescriptionStyleModel",
      "_view_count": null,
      "_view_module": "@jupyter-widgets/base",
      "_view_module_version": "1.2.0",
      "_view_name": "StyleView",
      "description_width": ""
     }
    },
    "c1195093814745eb818ddf080b211c09": {
     "model_module": "@jupyter-widgets/controls",
     "model_module_version": "1.5.0",
     "model_name": "HBoxModel",
     "state": {
      "_dom_classes": [],
      "_model_module": "@jupyter-widgets/controls",
      "_model_module_version": "1.5.0",
      "_model_name": "HBoxModel",
      "_view_count": null,
      "_view_module": "@jupyter-widgets/controls",
      "_view_module_version": "1.5.0",
      "_view_name": "HBoxView",
      "box_style": "",
      "children": [
       "IPY_MODEL_6a5c7ce175aa4395b027b14630dbceef",
       "IPY_MODEL_37ddd880486948818e7154239bdbf535",
       "IPY_MODEL_f93852e1074643acabf86bea43ec8866"
      ],
      "layout": "IPY_MODEL_cb77d08f7dcf4e79b5e4ad4ca26fff99"
     }
    },
    "c4381ecac7944ac283242ba4094b7424": {
     "model_module": "@jupyter-widgets/controls",
     "model_module_version": "1.5.0",
     "model_name": "DescriptionStyleModel",
     "state": {
      "_model_module": "@jupyter-widgets/controls",
      "_model_module_version": "1.5.0",
      "_model_name": "DescriptionStyleModel",
      "_view_count": null,
      "_view_module": "@jupyter-widgets/base",
      "_view_module_version": "1.2.0",
      "_view_name": "StyleView",
      "description_width": ""
     }
    },
    "caa552b17d204425a9b195821f91d5bf": {
     "model_module": "@jupyter-widgets/controls",
     "model_module_version": "1.5.0",
     "model_name": "ProgressStyleModel",
     "state": {
      "_model_module": "@jupyter-widgets/controls",
      "_model_module_version": "1.5.0",
      "_model_name": "ProgressStyleModel",
      "_view_count": null,
      "_view_module": "@jupyter-widgets/base",
      "_view_module_version": "1.2.0",
      "_view_name": "StyleView",
      "bar_color": null,
      "description_width": ""
     }
    },
    "cb77d08f7dcf4e79b5e4ad4ca26fff99": {
     "model_module": "@jupyter-widgets/base",
     "model_module_version": "1.2.0",
     "model_name": "LayoutModel",
     "state": {
      "_model_module": "@jupyter-widgets/base",
      "_model_module_version": "1.2.0",
      "_model_name": "LayoutModel",
      "_view_count": null,
      "_view_module": "@jupyter-widgets/base",
      "_view_module_version": "1.2.0",
      "_view_name": "LayoutView",
      "align_content": null,
      "align_items": null,
      "align_self": null,
      "border": null,
      "bottom": null,
      "display": null,
      "flex": null,
      "flex_flow": null,
      "grid_area": null,
      "grid_auto_columns": null,
      "grid_auto_flow": null,
      "grid_auto_rows": null,
      "grid_column": null,
      "grid_gap": null,
      "grid_row": null,
      "grid_template_areas": null,
      "grid_template_columns": null,
      "grid_template_rows": null,
      "height": null,
      "justify_content": null,
      "justify_items": null,
      "left": null,
      "margin": null,
      "max_height": null,
      "max_width": null,
      "min_height": null,
      "min_width": null,
      "object_fit": null,
      "object_position": null,
      "order": null,
      "overflow": null,
      "overflow_x": null,
      "overflow_y": null,
      "padding": null,
      "right": null,
      "top": null,
      "visibility": null,
      "width": null
     }
    },
    "cbb6b44329e941bdbcc7a85a041a0a36": {
     "model_module": "@jupyter-widgets/controls",
     "model_module_version": "1.5.0",
     "model_name": "DescriptionStyleModel",
     "state": {
      "_model_module": "@jupyter-widgets/controls",
      "_model_module_version": "1.5.0",
      "_model_name": "DescriptionStyleModel",
      "_view_count": null,
      "_view_module": "@jupyter-widgets/base",
      "_view_module_version": "1.2.0",
      "_view_name": "StyleView",
      "description_width": ""
     }
    },
    "cc1a07dc38c54a7b94f261f72b679aca": {
     "model_module": "@jupyter-widgets/base",
     "model_module_version": "1.2.0",
     "model_name": "LayoutModel",
     "state": {
      "_model_module": "@jupyter-widgets/base",
      "_model_module_version": "1.2.0",
      "_model_name": "LayoutModel",
      "_view_count": null,
      "_view_module": "@jupyter-widgets/base",
      "_view_module_version": "1.2.0",
      "_view_name": "LayoutView",
      "align_content": null,
      "align_items": null,
      "align_self": null,
      "border": null,
      "bottom": null,
      "display": null,
      "flex": null,
      "flex_flow": null,
      "grid_area": null,
      "grid_auto_columns": null,
      "grid_auto_flow": null,
      "grid_auto_rows": null,
      "grid_column": null,
      "grid_gap": null,
      "grid_row": null,
      "grid_template_areas": null,
      "grid_template_columns": null,
      "grid_template_rows": null,
      "height": null,
      "justify_content": null,
      "justify_items": null,
      "left": null,
      "margin": null,
      "max_height": null,
      "max_width": null,
      "min_height": null,
      "min_width": null,
      "object_fit": null,
      "object_position": null,
      "order": null,
      "overflow": null,
      "overflow_x": null,
      "overflow_y": null,
      "padding": null,
      "right": null,
      "top": null,
      "visibility": null,
      "width": null
     }
    },
    "d6054a6cfb90403ea4ffcc0188bcf716": {
     "model_module": "@jupyter-widgets/base",
     "model_module_version": "1.2.0",
     "model_name": "LayoutModel",
     "state": {
      "_model_module": "@jupyter-widgets/base",
      "_model_module_version": "1.2.0",
      "_model_name": "LayoutModel",
      "_view_count": null,
      "_view_module": "@jupyter-widgets/base",
      "_view_module_version": "1.2.0",
      "_view_name": "LayoutView",
      "align_content": null,
      "align_items": null,
      "align_self": null,
      "border": null,
      "bottom": null,
      "display": null,
      "flex": null,
      "flex_flow": null,
      "grid_area": null,
      "grid_auto_columns": null,
      "grid_auto_flow": null,
      "grid_auto_rows": null,
      "grid_column": null,
      "grid_gap": null,
      "grid_row": null,
      "grid_template_areas": null,
      "grid_template_columns": null,
      "grid_template_rows": null,
      "height": null,
      "justify_content": null,
      "justify_items": null,
      "left": null,
      "margin": null,
      "max_height": null,
      "max_width": null,
      "min_height": null,
      "min_width": null,
      "object_fit": null,
      "object_position": null,
      "order": null,
      "overflow": null,
      "overflow_x": null,
      "overflow_y": null,
      "padding": null,
      "right": null,
      "top": null,
      "visibility": null,
      "width": null
     }
    },
    "d94914c0470e402e880a50de7e261cee": {
     "model_module": "@jupyter-widgets/base",
     "model_module_version": "1.2.0",
     "model_name": "LayoutModel",
     "state": {
      "_model_module": "@jupyter-widgets/base",
      "_model_module_version": "1.2.0",
      "_model_name": "LayoutModel",
      "_view_count": null,
      "_view_module": "@jupyter-widgets/base",
      "_view_module_version": "1.2.0",
      "_view_name": "LayoutView",
      "align_content": null,
      "align_items": null,
      "align_self": null,
      "border": null,
      "bottom": null,
      "display": null,
      "flex": null,
      "flex_flow": null,
      "grid_area": null,
      "grid_auto_columns": null,
      "grid_auto_flow": null,
      "grid_auto_rows": null,
      "grid_column": null,
      "grid_gap": null,
      "grid_row": null,
      "grid_template_areas": null,
      "grid_template_columns": null,
      "grid_template_rows": null,
      "height": null,
      "justify_content": null,
      "justify_items": null,
      "left": null,
      "margin": null,
      "max_height": null,
      "max_width": null,
      "min_height": null,
      "min_width": null,
      "object_fit": null,
      "object_position": null,
      "order": null,
      "overflow": null,
      "overflow_x": null,
      "overflow_y": null,
      "padding": null,
      "right": null,
      "top": null,
      "visibility": null,
      "width": null
     }
    },
    "d98f3a222db94aac9012324b6af18ff8": {
     "model_module": "@jupyter-widgets/controls",
     "model_module_version": "1.5.0",
     "model_name": "FloatProgressModel",
     "state": {
      "_dom_classes": [],
      "_model_module": "@jupyter-widgets/controls",
      "_model_module_version": "1.5.0",
      "_model_name": "FloatProgressModel",
      "_view_count": null,
      "_view_module": "@jupyter-widgets/controls",
      "_view_module_version": "1.5.0",
      "_view_name": "ProgressView",
      "bar_style": "success",
      "description": "",
      "description_tooltip": null,
      "layout": "IPY_MODEL_ff3a15ce0499475982dc9a2ab7f149d0",
      "max": 438033929,
      "min": 0,
      "orientation": "horizontal",
      "style": "IPY_MODEL_caa552b17d204425a9b195821f91d5bf",
      "value": 438033929
     }
    },
    "dc9a8bbebffc480fa60348cc0c801f3c": {
     "model_module": "@jupyter-widgets/controls",
     "model_module_version": "1.5.0",
     "model_name": "DescriptionStyleModel",
     "state": {
      "_model_module": "@jupyter-widgets/controls",
      "_model_module_version": "1.5.0",
      "_model_name": "DescriptionStyleModel",
      "_view_count": null,
      "_view_module": "@jupyter-widgets/base",
      "_view_module_version": "1.2.0",
      "_view_name": "StyleView",
      "description_width": ""
     }
    },
    "e2bb700941184b49a1e79c0c52d71f2b": {
     "model_module": "@jupyter-widgets/base",
     "model_module_version": "1.2.0",
     "model_name": "LayoutModel",
     "state": {
      "_model_module": "@jupyter-widgets/base",
      "_model_module_version": "1.2.0",
      "_model_name": "LayoutModel",
      "_view_count": null,
      "_view_module": "@jupyter-widgets/base",
      "_view_module_version": "1.2.0",
      "_view_name": "LayoutView",
      "align_content": null,
      "align_items": null,
      "align_self": null,
      "border": null,
      "bottom": null,
      "display": null,
      "flex": null,
      "flex_flow": null,
      "grid_area": null,
      "grid_auto_columns": null,
      "grid_auto_flow": null,
      "grid_auto_rows": null,
      "grid_column": null,
      "grid_gap": null,
      "grid_row": null,
      "grid_template_areas": null,
      "grid_template_columns": null,
      "grid_template_rows": null,
      "height": null,
      "justify_content": null,
      "justify_items": null,
      "left": null,
      "margin": null,
      "max_height": null,
      "max_width": null,
      "min_height": null,
      "min_width": null,
      "object_fit": null,
      "object_position": null,
      "order": null,
      "overflow": null,
      "overflow_x": null,
      "overflow_y": null,
      "padding": null,
      "right": null,
      "top": null,
      "visibility": null,
      "width": null
     }
    },
    "e5bcdc32e589487782ac01aee6f86fe7": {
     "model_module": "@jupyter-widgets/controls",
     "model_module_version": "1.5.0",
     "model_name": "HTMLModel",
     "state": {
      "_dom_classes": [],
      "_model_module": "@jupyter-widgets/controls",
      "_model_module_version": "1.5.0",
      "_model_name": "HTMLModel",
      "_view_count": null,
      "_view_module": "@jupyter-widgets/controls",
      "_view_module_version": "1.5.0",
      "_view_name": "HTMLView",
      "description": "",
      "description_tooltip": null,
      "layout": "IPY_MODEL_e2bb700941184b49a1e79c0c52d71f2b",
      "placeholder": "​",
      "style": "IPY_MODEL_dc9a8bbebffc480fa60348cc0c801f3c",
      "value": "Downloading (…)solve/main/vocab.txt: 100%"
     }
    },
    "e99cce59ae9c48c3bb15b394f3ef0260": {
     "model_module": "@jupyter-widgets/controls",
     "model_module_version": "1.5.0",
     "model_name": "DescriptionStyleModel",
     "state": {
      "_model_module": "@jupyter-widgets/controls",
      "_model_module_version": "1.5.0",
      "_model_name": "DescriptionStyleModel",
      "_view_count": null,
      "_view_module": "@jupyter-widgets/base",
      "_view_module_version": "1.2.0",
      "_view_name": "StyleView",
      "description_width": ""
     }
    },
    "edb50d188e0248f18f259278dd1e8b98": {
     "model_module": "@jupyter-widgets/controls",
     "model_module_version": "1.5.0",
     "model_name": "HTMLModel",
     "state": {
      "_dom_classes": [],
      "_model_module": "@jupyter-widgets/controls",
      "_model_module_version": "1.5.0",
      "_model_name": "HTMLModel",
      "_view_count": null,
      "_view_module": "@jupyter-widgets/controls",
      "_view_module_version": "1.5.0",
      "_view_name": "HTMLView",
      "description": "",
      "description_tooltip": null,
      "layout": "IPY_MODEL_3f0f8ada310641bd85297b36ec5e57d5",
      "placeholder": "​",
      "style": "IPY_MODEL_957c65f6ccef4f638eddfb074ca67cf2",
      "value": "Downloading (…)cial_tokens_map.json: 100%"
     }
    },
    "f18ee3a4f70445c08ffa3e94a22f6747": {
     "model_module": "@jupyter-widgets/controls",
     "model_module_version": "1.5.0",
     "model_name": "HBoxModel",
     "state": {
      "_dom_classes": [],
      "_model_module": "@jupyter-widgets/controls",
      "_model_module_version": "1.5.0",
      "_model_name": "HBoxModel",
      "_view_count": null,
      "_view_module": "@jupyter-widgets/controls",
      "_view_module_version": "1.5.0",
      "_view_name": "HBoxView",
      "box_style": "",
      "children": [
       "IPY_MODEL_edb50d188e0248f18f259278dd1e8b98",
       "IPY_MODEL_503ccf91e8a84d4ea80665000a41299c",
       "IPY_MODEL_1e036924b5364d85a0d7797249a1aea1"
      ],
      "layout": "IPY_MODEL_2e0fafdcf33b4956a4f68ad9b4ca0444"
     }
    },
    "f22976e75e4344349c15a937f6d9babc": {
     "model_module": "@jupyter-widgets/controls",
     "model_module_version": "1.5.0",
     "model_name": "HTMLModel",
     "state": {
      "_dom_classes": [],
      "_model_module": "@jupyter-widgets/controls",
      "_model_module_version": "1.5.0",
      "_model_name": "HTMLModel",
      "_view_count": null,
      "_view_module": "@jupyter-widgets/controls",
      "_view_module_version": "1.5.0",
      "_view_name": "HTMLView",
      "description": "",
      "description_tooltip": null,
      "layout": "IPY_MODEL_9c9c914c13cb4830aa9fbad0335dcb57",
      "placeholder": "​",
      "style": "IPY_MODEL_36d8c468cc654feeace86eedd7f0156b",
      "value": "Downloading pytorch_model.bin: 100%"
     }
    },
    "f2ccb4e81f5f43ae8fe05b39ccfc4901": {
     "model_module": "@jupyter-widgets/controls",
     "model_module_version": "1.5.0",
     "model_name": "DescriptionStyleModel",
     "state": {
      "_model_module": "@jupyter-widgets/controls",
      "_model_module_version": "1.5.0",
      "_model_name": "DescriptionStyleModel",
      "_view_count": null,
      "_view_module": "@jupyter-widgets/base",
      "_view_module_version": "1.2.0",
      "_view_name": "StyleView",
      "description_width": ""
     }
    },
    "f93852e1074643acabf86bea43ec8866": {
     "model_module": "@jupyter-widgets/controls",
     "model_module_version": "1.5.0",
     "model_name": "HTMLModel",
     "state": {
      "_dom_classes": [],
      "_model_module": "@jupyter-widgets/controls",
      "_model_module_version": "1.5.0",
      "_model_name": "HTMLModel",
      "_view_count": null,
      "_view_module": "@jupyter-widgets/controls",
      "_view_module_version": "1.5.0",
      "_view_name": "HTMLView",
      "description": "",
      "description_tooltip": null,
      "layout": "IPY_MODEL_0aa84aef1d264102bc4b5c8b2441f8c4",
      "placeholder": "​",
      "style": "IPY_MODEL_1c8a373e813d4b2a835c7ef0f46c31f0",
      "value": " 5/5 [00:34&lt;00:00,  6.52s/it]"
     }
    },
    "ff3a15ce0499475982dc9a2ab7f149d0": {
     "model_module": "@jupyter-widgets/base",
     "model_module_version": "1.2.0",
     "model_name": "LayoutModel",
     "state": {
      "_model_module": "@jupyter-widgets/base",
      "_model_module_version": "1.2.0",
      "_model_name": "LayoutModel",
      "_view_count": null,
      "_view_module": "@jupyter-widgets/base",
      "_view_module_version": "1.2.0",
      "_view_name": "LayoutView",
      "align_content": null,
      "align_items": null,
      "align_self": null,
      "border": null,
      "bottom": null,
      "display": null,
      "flex": null,
      "flex_flow": null,
      "grid_area": null,
      "grid_auto_columns": null,
      "grid_auto_flow": null,
      "grid_auto_rows": null,
      "grid_column": null,
      "grid_gap": null,
      "grid_row": null,
      "grid_template_areas": null,
      "grid_template_columns": null,
      "grid_template_rows": null,
      "height": null,
      "justify_content": null,
      "justify_items": null,
      "left": null,
      "margin": null,
      "max_height": null,
      "max_width": null,
      "min_height": null,
      "min_width": null,
      "object_fit": null,
      "object_position": null,
      "order": null,
      "overflow": null,
      "overflow_x": null,
      "overflow_y": null,
      "padding": null,
      "right": null,
      "top": null,
      "visibility": null,
      "width": null
     }
    }
   }
  }
 },
 "nbformat": 4,
 "nbformat_minor": 2
}
