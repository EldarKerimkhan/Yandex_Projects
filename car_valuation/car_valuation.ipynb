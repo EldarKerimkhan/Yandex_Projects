{
 "cells": [
  {
   "cell_type": "markdown",
   "metadata": {},
   "source": [
    "# Определение стоимости автомобилей"
   ]
  },
  {
   "cell_type": "markdown",
   "metadata": {},
   "source": [
    "Сервис по продаже автомобилей с пробегом «Не бит, не крашен» разрабатывает приложение для привлечения новых клиентов. В нём можно быстро узнать рыночную стоимость своего автомобиля. В вашем распоряжении исторические данные: технические характеристики, комплектации и цены автомобилей. Вам нужно построить модель для определения стоимости. \n",
    "\n",
    "Заказчику важны:\n",
    "\n",
    "- качество предсказания;\n",
    "- скорость предсказания;\n",
    "- время обучения."
   ]
  },
  {
   "cell_type": "markdown",
   "metadata": {},
   "source": [
    "# Оглавление\n",
    "\n",
    "<a id='intro'></a>\n",
    "[1. Подготовка данных](#task1).\n",
    "\n",
    "-   [1.1 Изучение общей информации](#task2).\n",
    "   \n",
    "-   [1.2 Предобработка данных](#task3).\n",
    "\n",
    "[2. Обучение моделей](#task4).\n",
    "\n",
    "[3. Анализ моделей](#task5).\n",
    "\n",
    "[4. Общий вывод](#task6)."
   ]
  },
  {
   "cell_type": "markdown",
   "metadata": {},
   "source": [
    "# Цели исследования"
   ]
  },
  {
   "cell_type": "markdown",
   "metadata": {},
   "source": [
    "Построить модель для предсказания рыночной стоимости своего автомобиля, которую можно будет использовать в приложении сервиса по продаже автомобилей. "
   ]
  },
  {
   "cell_type": "markdown",
   "metadata": {},
   "source": [
    "# Описание данных"
   ]
  },
  {
   "cell_type": "markdown",
   "metadata": {},
   "source": [
    "**Признаки:**\n",
    "- DateCrawled — дата скачивания анкеты из базы\n",
    "- VehicleType — тип автомобильного кузова\n",
    "- RegistrationYear — год регистрации автомобиля\n",
    "- Gearbox — тип коробки передач\n",
    "- Power — мощность (л. с.)\n",
    "- Model — модель автомобиля\n",
    "- Kilometer — пробег (км)\n",
    "- RegistrationMonth — месяц регистрации автомобиля\n",
    "- FuelType — тип топлива\n",
    "- Brand — марка автомобиля\n",
    "- Repaired — была машина в ремонте или нет\n",
    "- DateCreated — дата создания анкеты\n",
    "- NumberOfPictures — количество фотографий автомобиля\n",
    "- PostalCode — почтовый индекс владельца анкеты (пользователя)\n",
    "- LastSeen — дата последней активности пользователя\n",
    "\n",
    "**Целевой признак:** \n",
    "- Price — цена (евро)"
   ]
  },
  {
   "cell_type": "markdown",
   "metadata": {},
   "source": [
    "# План работы"
   ]
  },
  {
   "cell_type": "markdown",
   "metadata": {},
   "source": [
    "1. Изучить информацию о данных и подготовить данные;\n",
    "2. Подготовить выборки для обучения моделей;\n",
    "3. Обучить разные модели (одна из которых — LightGBM, как минимум одна — не бустинг) с различными сочетаниями гиперпараметров;\n",
    "4. Проанализировать время обучения, время предсказания и качество моделей;\n",
    "5. Выбрать лучшую модель по критериям заказчика и проверить её качество на тестовой выборке."
   ]
  },
  {
   "cell_type": "markdown",
   "metadata": {},
   "source": [
    "[Оглавление](#intro).\n",
    "<a id='task1'></a>"
   ]
  },
  {
   "cell_type": "markdown",
   "metadata": {},
   "source": [
    "## Подготовка данных"
   ]
  },
  {
   "cell_type": "markdown",
   "metadata": {},
   "source": [
    "[Оглавление](#intro).\n",
    "<a id='task2'></a>"
   ]
  },
  {
   "cell_type": "markdown",
   "metadata": {},
   "source": [
    "### Изучение общей информации"
   ]
  },
  {
   "cell_type": "markdown",
   "metadata": {},
   "source": [
    "**Импортируем необходимые библиотеки вначале документа (pandas, numpy, matplotlib.pyplot и другие).**"
   ]
  },
  {
   "cell_type": "code",
   "execution_count": 1,
   "metadata": {},
   "outputs": [
    {
     "name": "stdout",
     "output_type": "stream",
     "text": [
      "Requirement already satisfied: phik in c:\\users\\user\\anaconda3\\envs\\practicum\\lib\\site-packages (0.12.3)\n",
      "Requirement already satisfied: joblib>=0.14.1 in c:\\users\\user\\anaconda3\\envs\\practicum\\lib\\site-packages (from phik) (1.2.0)\n",
      "Requirement already satisfied: pandas>=0.25.1 in c:\\users\\user\\anaconda3\\envs\\practicum\\lib\\site-packages (from phik) (1.2.4)\n",
      "Requirement already satisfied: scipy>=1.5.2 in c:\\users\\user\\anaconda3\\envs\\practicum\\lib\\site-packages (from phik) (1.10.1)\n",
      "Requirement already satisfied: numpy>=1.18.0 in c:\\users\\user\\anaconda3\\envs\\practicum\\lib\\site-packages (from phik) (1.24.3)\n",
      "Requirement already satisfied: matplotlib>=2.2.3 in c:\\users\\user\\anaconda3\\envs\\practicum\\lib\\site-packages (from phik) (3.3.4)\n",
      "Requirement already satisfied: kiwisolver>=1.0.1 in c:\\users\\user\\anaconda3\\envs\\practicum\\lib\\site-packages (from matplotlib>=2.2.3->phik) (1.4.4)\n",
      "Requirement already satisfied: pyparsing!=2.0.4,!=2.1.2,!=2.1.6,>=2.0.3 in c:\\users\\user\\anaconda3\\envs\\practicum\\lib\\site-packages (from matplotlib>=2.2.3->phik) (3.0.9)\n",
      "Requirement already satisfied: python-dateutil>=2.1 in c:\\users\\user\\anaconda3\\envs\\practicum\\lib\\site-packages (from matplotlib>=2.2.3->phik) (2.8.2)\n",
      "Requirement already satisfied: pillow>=6.2.0 in c:\\users\\user\\anaconda3\\envs\\practicum\\lib\\site-packages (from matplotlib>=2.2.3->phik) (8.4.0)\n",
      "Requirement already satisfied: cycler>=0.10 in c:\\users\\user\\anaconda3\\envs\\practicum\\lib\\site-packages (from matplotlib>=2.2.3->phik) (0.11.0)\n",
      "Requirement already satisfied: pytz>=2017.3 in c:\\users\\user\\anaconda3\\envs\\practicum\\lib\\site-packages (from pandas>=0.25.1->phik) (2022.6)\n",
      "Requirement already satisfied: six>=1.5 in c:\\users\\user\\anaconda3\\envs\\practicum\\lib\\site-packages (from python-dateutil>=2.1->matplotlib>=2.2.3->phik) (1.16.0)\n"
     ]
    }
   ],
   "source": [
    "import sys\n",
    "!\"{sys.executable}\" -m pip install phik"
   ]
  },
  {
   "cell_type": "code",
   "execution_count": 2,
   "metadata": {},
   "outputs": [],
   "source": [
    "import time\n",
    "import pandas as pd\n",
    "import numpy as np\n",
    "\n",
    "# graph\n",
    "import seaborn as sns\n",
    "import matplotlib.pyplot as plt\n",
    "\n",
    "import phik\n",
    "from phik.report import plot_correlation_matrix\n",
    "from phik import report\n",
    "\n",
    "# ML\n",
    "from sklearn.metrics import r2_score\n",
    "from sklearn.model_selection import train_test_split\n",
    "from sklearn.preprocessing import StandardScaler\n",
    "from sklearn.model_selection import RandomizedSearchCV\n",
    "from sklearn.model_selection import cross_val_score\n",
    "from sklearn.metrics import mean_squared_error\n",
    "\n",
    "#models\n",
    "from sklearn.linear_model import LinearRegression\n",
    "from sklearn.linear_model import Lasso, Ridge\n",
    "from lightgbm import LGBMRegressor\n",
    "from catboost import CatBoostRegressor"
   ]
  },
  {
   "cell_type": "markdown",
   "metadata": {},
   "source": [
    "**Считаем данные из csv-файла и сохраним в переменную `data`. Путь к файлу: `/datasets/autos.csv`**"
   ]
  },
  {
   "cell_type": "code",
   "execution_count": 3,
   "metadata": {},
   "outputs": [],
   "source": [
    "try:\n",
    "    #data = pd.read_csv('/datasets/autos.csv')\n",
    "    data = pd.read_csv('C:/Users/User/Desktop/DS Python/Projects/autos.csv')\n",
    "except:\n",
    "    data = 'не удалось выгрузить данные!'"
   ]
  },
  {
   "cell_type": "markdown",
   "metadata": {},
   "source": [
    "**Выведем первые 5 строк датафрейма `data` на экран.**"
   ]
  },
  {
   "cell_type": "code",
   "execution_count": 4,
   "metadata": {},
   "outputs": [
    {
     "data": {
      "text/html": [
       "<div>\n",
       "<style scoped>\n",
       "    .dataframe tbody tr th:only-of-type {\n",
       "        vertical-align: middle;\n",
       "    }\n",
       "\n",
       "    .dataframe tbody tr th {\n",
       "        vertical-align: top;\n",
       "    }\n",
       "\n",
       "    .dataframe thead th {\n",
       "        text-align: right;\n",
       "    }\n",
       "</style>\n",
       "<table border=\"1\" class=\"dataframe\">\n",
       "  <thead>\n",
       "    <tr style=\"text-align: right;\">\n",
       "      <th></th>\n",
       "      <th>DateCrawled</th>\n",
       "      <th>Price</th>\n",
       "      <th>VehicleType</th>\n",
       "      <th>RegistrationYear</th>\n",
       "      <th>Gearbox</th>\n",
       "      <th>Power</th>\n",
       "      <th>Model</th>\n",
       "      <th>Kilometer</th>\n",
       "      <th>RegistrationMonth</th>\n",
       "      <th>FuelType</th>\n",
       "      <th>Brand</th>\n",
       "      <th>Repaired</th>\n",
       "      <th>DateCreated</th>\n",
       "      <th>NumberOfPictures</th>\n",
       "      <th>PostalCode</th>\n",
       "      <th>LastSeen</th>\n",
       "    </tr>\n",
       "  </thead>\n",
       "  <tbody>\n",
       "    <tr>\n",
       "      <th>0</th>\n",
       "      <td>2016-03-24 11:52:17</td>\n",
       "      <td>480</td>\n",
       "      <td>NaN</td>\n",
       "      <td>1993</td>\n",
       "      <td>manual</td>\n",
       "      <td>0</td>\n",
       "      <td>golf</td>\n",
       "      <td>150000</td>\n",
       "      <td>0</td>\n",
       "      <td>petrol</td>\n",
       "      <td>volkswagen</td>\n",
       "      <td>NaN</td>\n",
       "      <td>2016-03-24 00:00:00</td>\n",
       "      <td>0</td>\n",
       "      <td>70435</td>\n",
       "      <td>2016-04-07 03:16:57</td>\n",
       "    </tr>\n",
       "    <tr>\n",
       "      <th>1</th>\n",
       "      <td>2016-03-24 10:58:45</td>\n",
       "      <td>18300</td>\n",
       "      <td>coupe</td>\n",
       "      <td>2011</td>\n",
       "      <td>manual</td>\n",
       "      <td>190</td>\n",
       "      <td>NaN</td>\n",
       "      <td>125000</td>\n",
       "      <td>5</td>\n",
       "      <td>gasoline</td>\n",
       "      <td>audi</td>\n",
       "      <td>yes</td>\n",
       "      <td>2016-03-24 00:00:00</td>\n",
       "      <td>0</td>\n",
       "      <td>66954</td>\n",
       "      <td>2016-04-07 01:46:50</td>\n",
       "    </tr>\n",
       "    <tr>\n",
       "      <th>2</th>\n",
       "      <td>2016-03-14 12:52:21</td>\n",
       "      <td>9800</td>\n",
       "      <td>suv</td>\n",
       "      <td>2004</td>\n",
       "      <td>auto</td>\n",
       "      <td>163</td>\n",
       "      <td>grand</td>\n",
       "      <td>125000</td>\n",
       "      <td>8</td>\n",
       "      <td>gasoline</td>\n",
       "      <td>jeep</td>\n",
       "      <td>NaN</td>\n",
       "      <td>2016-03-14 00:00:00</td>\n",
       "      <td>0</td>\n",
       "      <td>90480</td>\n",
       "      <td>2016-04-05 12:47:46</td>\n",
       "    </tr>\n",
       "    <tr>\n",
       "      <th>3</th>\n",
       "      <td>2016-03-17 16:54:04</td>\n",
       "      <td>1500</td>\n",
       "      <td>small</td>\n",
       "      <td>2001</td>\n",
       "      <td>manual</td>\n",
       "      <td>75</td>\n",
       "      <td>golf</td>\n",
       "      <td>150000</td>\n",
       "      <td>6</td>\n",
       "      <td>petrol</td>\n",
       "      <td>volkswagen</td>\n",
       "      <td>no</td>\n",
       "      <td>2016-03-17 00:00:00</td>\n",
       "      <td>0</td>\n",
       "      <td>91074</td>\n",
       "      <td>2016-03-17 17:40:17</td>\n",
       "    </tr>\n",
       "    <tr>\n",
       "      <th>4</th>\n",
       "      <td>2016-03-31 17:25:20</td>\n",
       "      <td>3600</td>\n",
       "      <td>small</td>\n",
       "      <td>2008</td>\n",
       "      <td>manual</td>\n",
       "      <td>69</td>\n",
       "      <td>fabia</td>\n",
       "      <td>90000</td>\n",
       "      <td>7</td>\n",
       "      <td>gasoline</td>\n",
       "      <td>skoda</td>\n",
       "      <td>no</td>\n",
       "      <td>2016-03-31 00:00:00</td>\n",
       "      <td>0</td>\n",
       "      <td>60437</td>\n",
       "      <td>2016-04-06 10:17:21</td>\n",
       "    </tr>\n",
       "  </tbody>\n",
       "</table>\n",
       "</div>"
      ],
      "text/plain": [
       "           DateCrawled  Price VehicleType  RegistrationYear Gearbox  Power  \\\n",
       "0  2016-03-24 11:52:17    480         NaN              1993  manual      0   \n",
       "1  2016-03-24 10:58:45  18300       coupe              2011  manual    190   \n",
       "2  2016-03-14 12:52:21   9800         suv              2004    auto    163   \n",
       "3  2016-03-17 16:54:04   1500       small              2001  manual     75   \n",
       "4  2016-03-31 17:25:20   3600       small              2008  manual     69   \n",
       "\n",
       "   Model  Kilometer  RegistrationMonth  FuelType       Brand Repaired  \\\n",
       "0   golf     150000                  0    petrol  volkswagen      NaN   \n",
       "1    NaN     125000                  5  gasoline        audi      yes   \n",
       "2  grand     125000                  8  gasoline        jeep      NaN   \n",
       "3   golf     150000                  6    petrol  volkswagen       no   \n",
       "4  fabia      90000                  7  gasoline       skoda       no   \n",
       "\n",
       "           DateCreated  NumberOfPictures  PostalCode             LastSeen  \n",
       "0  2016-03-24 00:00:00                 0       70435  2016-04-07 03:16:57  \n",
       "1  2016-03-24 00:00:00                 0       66954  2016-04-07 01:46:50  \n",
       "2  2016-03-14 00:00:00                 0       90480  2016-04-05 12:47:46  \n",
       "3  2016-03-17 00:00:00                 0       91074  2016-03-17 17:40:17  \n",
       "4  2016-03-31 00:00:00                 0       60437  2016-04-06 10:17:21  "
      ]
     },
     "execution_count": 4,
     "metadata": {},
     "output_type": "execute_result"
    }
   ],
   "source": [
    "data.head()"
   ]
  },
  {
   "cell_type": "markdown",
   "metadata": {},
   "source": [
    "**Выведем основную информацию о данном датафрейме с помощью метода info().**"
   ]
  },
  {
   "cell_type": "code",
   "execution_count": 5,
   "metadata": {},
   "outputs": [
    {
     "name": "stdout",
     "output_type": "stream",
     "text": [
      "<class 'pandas.core.frame.DataFrame'>\n",
      "RangeIndex: 354369 entries, 0 to 354368\n",
      "Data columns (total 16 columns):\n",
      " #   Column             Non-Null Count   Dtype \n",
      "---  ------             --------------   ----- \n",
      " 0   DateCrawled        354369 non-null  object\n",
      " 1   Price              354369 non-null  int64 \n",
      " 2   VehicleType        316879 non-null  object\n",
      " 3   RegistrationYear   354369 non-null  int64 \n",
      " 4   Gearbox            334536 non-null  object\n",
      " 5   Power              354369 non-null  int64 \n",
      " 6   Model              334664 non-null  object\n",
      " 7   Kilometer          354369 non-null  int64 \n",
      " 8   RegistrationMonth  354369 non-null  int64 \n",
      " 9   FuelType           321474 non-null  object\n",
      " 10  Brand              354369 non-null  object\n",
      " 11  Repaired           283215 non-null  object\n",
      " 12  DateCreated        354369 non-null  object\n",
      " 13  NumberOfPictures   354369 non-null  int64 \n",
      " 14  PostalCode         354369 non-null  int64 \n",
      " 15  LastSeen           354369 non-null  object\n",
      "dtypes: int64(7), object(9)\n",
      "memory usage: 43.3+ MB\n"
     ]
    }
   ],
   "source": [
    "data.info()"
   ]
  },
  {
   "cell_type": "markdown",
   "metadata": {},
   "source": [
    "**Выведем информацию о количестве пропусков по столбцам в данном датафрейме с помощью метода isna() в процентах.**|"
   ]
  },
  {
   "cell_type": "code",
   "execution_count": 6,
   "metadata": {},
   "outputs": [
    {
     "data": {
      "text/html": [
       "<style  type=\"text/css\" >\n",
       "#T_2da91_row0_col0,#T_2da91_row1_col0,#T_2da91_row3_col0,#T_2da91_row5_col0,#T_2da91_row7_col0,#T_2da91_row8_col0,#T_2da91_row10_col0,#T_2da91_row12_col0,#T_2da91_row13_col0,#T_2da91_row14_col0,#T_2da91_row15_col0{\n",
       "            background-color:  #3b4cc0;\n",
       "            color:  #f1f1f1;\n",
       "        }#T_2da91_row2_col0{\n",
       "            background-color:  #e3d9d3;\n",
       "            color:  #000000;\n",
       "        }#T_2da91_row4_col0{\n",
       "            background-color:  #97b8ff;\n",
       "            color:  #000000;\n",
       "        }#T_2da91_row6_col0{\n",
       "            background-color:  #96b7ff;\n",
       "            color:  #000000;\n",
       "        }#T_2da91_row9_col0{\n",
       "            background-color:  #d3dbe7;\n",
       "            color:  #000000;\n",
       "        }#T_2da91_row11_col0{\n",
       "            background-color:  #b40426;\n",
       "            color:  #f1f1f1;\n",
       "        }</style><table id=\"T_2da91_\" ><thead>    <tr>        <th class=\"blank level0\" ></th>        <th class=\"col_heading level0 col0\" >0</th>    </tr></thead><tbody>\n",
       "                <tr>\n",
       "                        <th id=\"T_2da91_level0_row0\" class=\"row_heading level0 row0\" >DateCrawled</th>\n",
       "                        <td id=\"T_2da91_row0_col0\" class=\"data row0 col0\" >0.000000</td>\n",
       "            </tr>\n",
       "            <tr>\n",
       "                        <th id=\"T_2da91_level0_row1\" class=\"row_heading level0 row1\" >Price</th>\n",
       "                        <td id=\"T_2da91_row1_col0\" class=\"data row1 col0\" >0.000000</td>\n",
       "            </tr>\n",
       "            <tr>\n",
       "                        <th id=\"T_2da91_level0_row2\" class=\"row_heading level0 row2\" >VehicleType</th>\n",
       "                        <td id=\"T_2da91_row2_col0\" class=\"data row2 col0\" >10.580000</td>\n",
       "            </tr>\n",
       "            <tr>\n",
       "                        <th id=\"T_2da91_level0_row3\" class=\"row_heading level0 row3\" >RegistrationYear</th>\n",
       "                        <td id=\"T_2da91_row3_col0\" class=\"data row3 col0\" >0.000000</td>\n",
       "            </tr>\n",
       "            <tr>\n",
       "                        <th id=\"T_2da91_level0_row4\" class=\"row_heading level0 row4\" >Gearbox</th>\n",
       "                        <td id=\"T_2da91_row4_col0\" class=\"data row4 col0\" >5.600000</td>\n",
       "            </tr>\n",
       "            <tr>\n",
       "                        <th id=\"T_2da91_level0_row5\" class=\"row_heading level0 row5\" >Power</th>\n",
       "                        <td id=\"T_2da91_row5_col0\" class=\"data row5 col0\" >0.000000</td>\n",
       "            </tr>\n",
       "            <tr>\n",
       "                        <th id=\"T_2da91_level0_row6\" class=\"row_heading level0 row6\" >Model</th>\n",
       "                        <td id=\"T_2da91_row6_col0\" class=\"data row6 col0\" >5.560000</td>\n",
       "            </tr>\n",
       "            <tr>\n",
       "                        <th id=\"T_2da91_level0_row7\" class=\"row_heading level0 row7\" >Kilometer</th>\n",
       "                        <td id=\"T_2da91_row7_col0\" class=\"data row7 col0\" >0.000000</td>\n",
       "            </tr>\n",
       "            <tr>\n",
       "                        <th id=\"T_2da91_level0_row8\" class=\"row_heading level0 row8\" >RegistrationMonth</th>\n",
       "                        <td id=\"T_2da91_row8_col0\" class=\"data row8 col0\" >0.000000</td>\n",
       "            </tr>\n",
       "            <tr>\n",
       "                        <th id=\"T_2da91_level0_row9\" class=\"row_heading level0 row9\" >FuelType</th>\n",
       "                        <td id=\"T_2da91_row9_col0\" class=\"data row9 col0\" >9.280000</td>\n",
       "            </tr>\n",
       "            <tr>\n",
       "                        <th id=\"T_2da91_level0_row10\" class=\"row_heading level0 row10\" >Brand</th>\n",
       "                        <td id=\"T_2da91_row10_col0\" class=\"data row10 col0\" >0.000000</td>\n",
       "            </tr>\n",
       "            <tr>\n",
       "                        <th id=\"T_2da91_level0_row11\" class=\"row_heading level0 row11\" >Repaired</th>\n",
       "                        <td id=\"T_2da91_row11_col0\" class=\"data row11 col0\" >20.080000</td>\n",
       "            </tr>\n",
       "            <tr>\n",
       "                        <th id=\"T_2da91_level0_row12\" class=\"row_heading level0 row12\" >DateCreated</th>\n",
       "                        <td id=\"T_2da91_row12_col0\" class=\"data row12 col0\" >0.000000</td>\n",
       "            </tr>\n",
       "            <tr>\n",
       "                        <th id=\"T_2da91_level0_row13\" class=\"row_heading level0 row13\" >NumberOfPictures</th>\n",
       "                        <td id=\"T_2da91_row13_col0\" class=\"data row13 col0\" >0.000000</td>\n",
       "            </tr>\n",
       "            <tr>\n",
       "                        <th id=\"T_2da91_level0_row14\" class=\"row_heading level0 row14\" >PostalCode</th>\n",
       "                        <td id=\"T_2da91_row14_col0\" class=\"data row14 col0\" >0.000000</td>\n",
       "            </tr>\n",
       "            <tr>\n",
       "                        <th id=\"T_2da91_level0_row15\" class=\"row_heading level0 row15\" >LastSeen</th>\n",
       "                        <td id=\"T_2da91_row15_col0\" class=\"data row15 col0\" >0.000000</td>\n",
       "            </tr>\n",
       "    </tbody></table>"
      ],
      "text/plain": [
       "<pandas.io.formats.style.Styler at 0x23b978c4730>"
      ]
     },
     "execution_count": 6,
     "metadata": {},
     "output_type": "execute_result"
    }
   ],
   "source": [
    "pd.DataFrame(round(data.isna().mean()*100,2)).style.background_gradient('coolwarm')"
   ]
  },
  {
   "cell_type": "markdown",
   "metadata": {},
   "source": [
    "Обнаружены пропуски в таких признаках как: `VehicleType` — тип автомобильного кузова, Gearbox — тип коробки передач, `Model` — модель автомобиля, `FuelType` — тип топлива, `Repaired` — была машина в ремонте или нет. \n",
    "\n",
    "Наибольшие и критические пропуски обнаружены в признаке `Repaired` - около **20%** из общего числа данных. \n",
    "\n",
    "Все эти признаки категориальные. "
   ]
  },
  {
   "cell_type": "markdown",
   "metadata": {},
   "source": [
    "**Проверим, есть ли строки-дубликаты в датасете `data`**"
   ]
  },
  {
   "cell_type": "code",
   "execution_count": 7,
   "metadata": {},
   "outputs": [
    {
     "name": "stdout",
     "output_type": "stream",
     "text": [
      "Количество дубликатов в датасете data: 4\n",
      "Количество дубликатов в процентном соотношении 0.0011287669068118262 %.\n"
     ]
    }
   ],
   "source": [
    "print('Количество дубликатов в датасете data:', data.duplicated().sum())\n",
    "print(f\"Количество дубликатов в процентном соотношении {(data.duplicated().sum() / data.shape[0]) * 100} %.\")"
   ]
  },
  {
   "cell_type": "markdown",
   "metadata": {},
   "source": [
    "Количество дубликатов **менее 10%**. Можно удалить данные строки. "
   ]
  },
  {
   "cell_type": "markdown",
   "metadata": {},
   "source": [
    "**Вывод:**\n",
    "1. Импортировали необходимые библиотеки.\n",
    "2. Считали данные из csv-файла.\n",
    "3. Вывели общую информацию по датафрейму: \n",
    "    - в датафрейме 16 столбцов и 354.369 строк;\n",
    "    - присутствуют некорректно названные столбцы (не в змеином регистре);\n",
    "    - в датасете присутствуют пропуски;\n",
    "    - общая занимаемая память 43.3+ MB.\n",
    "4. Подготовились к этапу 'Предобработка данных'."
   ]
  },
  {
   "cell_type": "markdown",
   "metadata": {},
   "source": [
    "[Оглавление](#intro).\n",
    "<a id='task3'></a>"
   ]
  },
  {
   "cell_type": "markdown",
   "metadata": {},
   "source": [
    "### Предобработка данных"
   ]
  },
  {
   "cell_type": "markdown",
   "metadata": {},
   "source": [
    "**Стиль заголовков сделан в 'верблюжьем' регистре, переведем все в 'змеиный' регистр.**\n",
    "\n",
    "Напишем функцию перевода:"
   ]
  },
  {
   "cell_type": "code",
   "execution_count": 8,
   "metadata": {},
   "outputs": [],
   "source": [
    "# функция получает на вход список из наименований, а также задан разделитель\n",
    "def camel_to_snake(columns, sep='_'): \n",
    "    # новый список, который будет формироваться из новых наименований\n",
    "    columns_new = [] \n",
    "    # переберем каждое слово списка\n",
    "    for column in columns:\n",
    "        # новое слово в змеином регистре\n",
    "        snake_register = ''\n",
    "        # перебираем каждое слово по букве\n",
    "        for i in column:\n",
    "            # если встретили символ в верхнем регистре\n",
    "            if i.isupper(): \n",
    "                # добавим разделитель и этот символ в нижнем регистре\n",
    "                snake_register += sep + i.lower()\n",
    "            else:\n",
    "                snake_register += i\n",
    "        snake_register = snake_register.lstrip(sep)\n",
    "        # добавим новое слово в новый список \n",
    "        columns_new.append(snake_register)\n",
    "    return columns_new"
   ]
  },
  {
   "cell_type": "markdown",
   "metadata": {},
   "source": [
    "Переименуем все названия столбцов и выведем 10 первых строк датасета с новыми названиями колонн."
   ]
  },
  {
   "cell_type": "code",
   "execution_count": 9,
   "metadata": {},
   "outputs": [
    {
     "data": {
      "text/html": [
       "<div>\n",
       "<style scoped>\n",
       "    .dataframe tbody tr th:only-of-type {\n",
       "        vertical-align: middle;\n",
       "    }\n",
       "\n",
       "    .dataframe tbody tr th {\n",
       "        vertical-align: top;\n",
       "    }\n",
       "\n",
       "    .dataframe thead th {\n",
       "        text-align: right;\n",
       "    }\n",
       "</style>\n",
       "<table border=\"1\" class=\"dataframe\">\n",
       "  <thead>\n",
       "    <tr style=\"text-align: right;\">\n",
       "      <th></th>\n",
       "      <th>date_crawled</th>\n",
       "      <th>price</th>\n",
       "      <th>vehicle_type</th>\n",
       "      <th>registration_year</th>\n",
       "      <th>gearbox</th>\n",
       "      <th>power</th>\n",
       "      <th>model</th>\n",
       "      <th>kilometer</th>\n",
       "      <th>registration_month</th>\n",
       "      <th>fuel_type</th>\n",
       "      <th>brand</th>\n",
       "      <th>repaired</th>\n",
       "      <th>date_created</th>\n",
       "      <th>number_of_pictures</th>\n",
       "      <th>postal_code</th>\n",
       "      <th>last_seen</th>\n",
       "    </tr>\n",
       "  </thead>\n",
       "  <tbody>\n",
       "    <tr>\n",
       "      <th>0</th>\n",
       "      <td>2016-03-24 11:52:17</td>\n",
       "      <td>480</td>\n",
       "      <td>NaN</td>\n",
       "      <td>1993</td>\n",
       "      <td>manual</td>\n",
       "      <td>0</td>\n",
       "      <td>golf</td>\n",
       "      <td>150000</td>\n",
       "      <td>0</td>\n",
       "      <td>petrol</td>\n",
       "      <td>volkswagen</td>\n",
       "      <td>NaN</td>\n",
       "      <td>2016-03-24 00:00:00</td>\n",
       "      <td>0</td>\n",
       "      <td>70435</td>\n",
       "      <td>2016-04-07 03:16:57</td>\n",
       "    </tr>\n",
       "    <tr>\n",
       "      <th>1</th>\n",
       "      <td>2016-03-24 10:58:45</td>\n",
       "      <td>18300</td>\n",
       "      <td>coupe</td>\n",
       "      <td>2011</td>\n",
       "      <td>manual</td>\n",
       "      <td>190</td>\n",
       "      <td>NaN</td>\n",
       "      <td>125000</td>\n",
       "      <td>5</td>\n",
       "      <td>gasoline</td>\n",
       "      <td>audi</td>\n",
       "      <td>yes</td>\n",
       "      <td>2016-03-24 00:00:00</td>\n",
       "      <td>0</td>\n",
       "      <td>66954</td>\n",
       "      <td>2016-04-07 01:46:50</td>\n",
       "    </tr>\n",
       "    <tr>\n",
       "      <th>2</th>\n",
       "      <td>2016-03-14 12:52:21</td>\n",
       "      <td>9800</td>\n",
       "      <td>suv</td>\n",
       "      <td>2004</td>\n",
       "      <td>auto</td>\n",
       "      <td>163</td>\n",
       "      <td>grand</td>\n",
       "      <td>125000</td>\n",
       "      <td>8</td>\n",
       "      <td>gasoline</td>\n",
       "      <td>jeep</td>\n",
       "      <td>NaN</td>\n",
       "      <td>2016-03-14 00:00:00</td>\n",
       "      <td>0</td>\n",
       "      <td>90480</td>\n",
       "      <td>2016-04-05 12:47:46</td>\n",
       "    </tr>\n",
       "    <tr>\n",
       "      <th>3</th>\n",
       "      <td>2016-03-17 16:54:04</td>\n",
       "      <td>1500</td>\n",
       "      <td>small</td>\n",
       "      <td>2001</td>\n",
       "      <td>manual</td>\n",
       "      <td>75</td>\n",
       "      <td>golf</td>\n",
       "      <td>150000</td>\n",
       "      <td>6</td>\n",
       "      <td>petrol</td>\n",
       "      <td>volkswagen</td>\n",
       "      <td>no</td>\n",
       "      <td>2016-03-17 00:00:00</td>\n",
       "      <td>0</td>\n",
       "      <td>91074</td>\n",
       "      <td>2016-03-17 17:40:17</td>\n",
       "    </tr>\n",
       "    <tr>\n",
       "      <th>4</th>\n",
       "      <td>2016-03-31 17:25:20</td>\n",
       "      <td>3600</td>\n",
       "      <td>small</td>\n",
       "      <td>2008</td>\n",
       "      <td>manual</td>\n",
       "      <td>69</td>\n",
       "      <td>fabia</td>\n",
       "      <td>90000</td>\n",
       "      <td>7</td>\n",
       "      <td>gasoline</td>\n",
       "      <td>skoda</td>\n",
       "      <td>no</td>\n",
       "      <td>2016-03-31 00:00:00</td>\n",
       "      <td>0</td>\n",
       "      <td>60437</td>\n",
       "      <td>2016-04-06 10:17:21</td>\n",
       "    </tr>\n",
       "    <tr>\n",
       "      <th>5</th>\n",
       "      <td>2016-04-04 17:36:23</td>\n",
       "      <td>650</td>\n",
       "      <td>sedan</td>\n",
       "      <td>1995</td>\n",
       "      <td>manual</td>\n",
       "      <td>102</td>\n",
       "      <td>3er</td>\n",
       "      <td>150000</td>\n",
       "      <td>10</td>\n",
       "      <td>petrol</td>\n",
       "      <td>bmw</td>\n",
       "      <td>yes</td>\n",
       "      <td>2016-04-04 00:00:00</td>\n",
       "      <td>0</td>\n",
       "      <td>33775</td>\n",
       "      <td>2016-04-06 19:17:07</td>\n",
       "    </tr>\n",
       "    <tr>\n",
       "      <th>6</th>\n",
       "      <td>2016-04-01 20:48:51</td>\n",
       "      <td>2200</td>\n",
       "      <td>convertible</td>\n",
       "      <td>2004</td>\n",
       "      <td>manual</td>\n",
       "      <td>109</td>\n",
       "      <td>2_reihe</td>\n",
       "      <td>150000</td>\n",
       "      <td>8</td>\n",
       "      <td>petrol</td>\n",
       "      <td>peugeot</td>\n",
       "      <td>no</td>\n",
       "      <td>2016-04-01 00:00:00</td>\n",
       "      <td>0</td>\n",
       "      <td>67112</td>\n",
       "      <td>2016-04-05 18:18:39</td>\n",
       "    </tr>\n",
       "    <tr>\n",
       "      <th>7</th>\n",
       "      <td>2016-03-21 18:54:38</td>\n",
       "      <td>0</td>\n",
       "      <td>sedan</td>\n",
       "      <td>1980</td>\n",
       "      <td>manual</td>\n",
       "      <td>50</td>\n",
       "      <td>other</td>\n",
       "      <td>40000</td>\n",
       "      <td>7</td>\n",
       "      <td>petrol</td>\n",
       "      <td>volkswagen</td>\n",
       "      <td>no</td>\n",
       "      <td>2016-03-21 00:00:00</td>\n",
       "      <td>0</td>\n",
       "      <td>19348</td>\n",
       "      <td>2016-03-25 16:47:58</td>\n",
       "    </tr>\n",
       "    <tr>\n",
       "      <th>8</th>\n",
       "      <td>2016-04-04 23:42:13</td>\n",
       "      <td>14500</td>\n",
       "      <td>bus</td>\n",
       "      <td>2014</td>\n",
       "      <td>manual</td>\n",
       "      <td>125</td>\n",
       "      <td>c_max</td>\n",
       "      <td>30000</td>\n",
       "      <td>8</td>\n",
       "      <td>petrol</td>\n",
       "      <td>ford</td>\n",
       "      <td>NaN</td>\n",
       "      <td>2016-04-04 00:00:00</td>\n",
       "      <td>0</td>\n",
       "      <td>94505</td>\n",
       "      <td>2016-04-04 23:42:13</td>\n",
       "    </tr>\n",
       "    <tr>\n",
       "      <th>9</th>\n",
       "      <td>2016-03-17 10:53:50</td>\n",
       "      <td>999</td>\n",
       "      <td>small</td>\n",
       "      <td>1998</td>\n",
       "      <td>manual</td>\n",
       "      <td>101</td>\n",
       "      <td>golf</td>\n",
       "      <td>150000</td>\n",
       "      <td>0</td>\n",
       "      <td>NaN</td>\n",
       "      <td>volkswagen</td>\n",
       "      <td>NaN</td>\n",
       "      <td>2016-03-17 00:00:00</td>\n",
       "      <td>0</td>\n",
       "      <td>27472</td>\n",
       "      <td>2016-03-31 17:17:06</td>\n",
       "    </tr>\n",
       "  </tbody>\n",
       "</table>\n",
       "</div>"
      ],
      "text/plain": [
       "          date_crawled  price vehicle_type  registration_year gearbox  power  \\\n",
       "0  2016-03-24 11:52:17    480          NaN               1993  manual      0   \n",
       "1  2016-03-24 10:58:45  18300        coupe               2011  manual    190   \n",
       "2  2016-03-14 12:52:21   9800          suv               2004    auto    163   \n",
       "3  2016-03-17 16:54:04   1500        small               2001  manual     75   \n",
       "4  2016-03-31 17:25:20   3600        small               2008  manual     69   \n",
       "5  2016-04-04 17:36:23    650        sedan               1995  manual    102   \n",
       "6  2016-04-01 20:48:51   2200  convertible               2004  manual    109   \n",
       "7  2016-03-21 18:54:38      0        sedan               1980  manual     50   \n",
       "8  2016-04-04 23:42:13  14500          bus               2014  manual    125   \n",
       "9  2016-03-17 10:53:50    999        small               1998  manual    101   \n",
       "\n",
       "     model  kilometer  registration_month fuel_type       brand repaired  \\\n",
       "0     golf     150000                   0    petrol  volkswagen      NaN   \n",
       "1      NaN     125000                   5  gasoline        audi      yes   \n",
       "2    grand     125000                   8  gasoline        jeep      NaN   \n",
       "3     golf     150000                   6    petrol  volkswagen       no   \n",
       "4    fabia      90000                   7  gasoline       skoda       no   \n",
       "5      3er     150000                  10    petrol         bmw      yes   \n",
       "6  2_reihe     150000                   8    petrol     peugeot       no   \n",
       "7    other      40000                   7    petrol  volkswagen       no   \n",
       "8    c_max      30000                   8    petrol        ford      NaN   \n",
       "9     golf     150000                   0       NaN  volkswagen      NaN   \n",
       "\n",
       "          date_created  number_of_pictures  postal_code            last_seen  \n",
       "0  2016-03-24 00:00:00                   0        70435  2016-04-07 03:16:57  \n",
       "1  2016-03-24 00:00:00                   0        66954  2016-04-07 01:46:50  \n",
       "2  2016-03-14 00:00:00                   0        90480  2016-04-05 12:47:46  \n",
       "3  2016-03-17 00:00:00                   0        91074  2016-03-17 17:40:17  \n",
       "4  2016-03-31 00:00:00                   0        60437  2016-04-06 10:17:21  \n",
       "5  2016-04-04 00:00:00                   0        33775  2016-04-06 19:17:07  \n",
       "6  2016-04-01 00:00:00                   0        67112  2016-04-05 18:18:39  \n",
       "7  2016-03-21 00:00:00                   0        19348  2016-03-25 16:47:58  \n",
       "8  2016-04-04 00:00:00                   0        94505  2016-04-04 23:42:13  \n",
       "9  2016-03-17 00:00:00                   0        27472  2016-03-31 17:17:06  "
      ]
     },
     "execution_count": 9,
     "metadata": {},
     "output_type": "execute_result"
    }
   ],
   "source": [
    "data.columns = camel_to_snake(data.columns)\n",
    "data.head(10)"
   ]
  },
  {
   "cell_type": "markdown",
   "metadata": {},
   "source": [
    "**Удалим строки-дубликаты в датасете `data`**"
   ]
  },
  {
   "cell_type": "code",
   "execution_count": 10,
   "metadata": {},
   "outputs": [
    {
     "name": "stdout",
     "output_type": "stream",
     "text": [
      "Количество дубликатов в датасете data: 0\n"
     ]
    }
   ],
   "source": [
    "data = data.drop_duplicates(keep='first')\n",
    "print('Количество дубликатов в датасете data:', data.duplicated().sum())"
   ]
  },
  {
   "cell_type": "markdown",
   "metadata": {},
   "source": [
    "**Признаки `DateCrawled`, `DateCreated`, `NumberOfPictures`,`PostalCode`, `LastSeen` не нужны для предсказания цены автомобиля, построения модели и ее отладки.**\n",
    "\n",
    "Хотя, теоретически, дата создания анкеты может влиять на цену. Чем дольше анкета висит на сайте, тем меньше вероятности, что ее купят за указанную цену продавцом. (либо автомобиль имеет какие-то существенные недостатки). В любом случае, цена сформирована не совсем точно. \n",
    "\n",
    "Также `PostalCode` почтовый индекс тоже в теории может влиять. То есть от города к городу цена на автомобиль может немного меняться. Но если считать, в масштабах страны, то можно сказать, что цена не сильно меняется. Удалим признак, чтобы не перегружать модель.\n",
    "\n",
    "Так как `model`содержит значения, которые сложно преобразовать в категориальные и для облегчения работы моделей CatBoost и LightGBM удалим его из датасета.\n",
    "\n",
    "Удалим данные столбцы из таблицы"
   ]
  },
  {
   "cell_type": "code",
   "execution_count": 11,
   "metadata": {},
   "outputs": [],
   "source": [
    "data = data.drop(columns='model')"
   ]
  },
  {
   "cell_type": "code",
   "execution_count": 12,
   "metadata": {},
   "outputs": [],
   "source": [
    "data = data.drop(['date_crawled', 'date_created', 'number_of_pictures', 'postal_code', 'last_seen', 'registration_month'], axis=1)"
   ]
  },
  {
   "cell_type": "code",
   "execution_count": 13,
   "metadata": {},
   "outputs": [
    {
     "data": {
      "text/html": [
       "<style  type=\"text/css\" >\n",
       "#T_ab77d_row0_col0,#T_ab77d_row2_col0,#T_ab77d_row4_col0,#T_ab77d_row5_col0,#T_ab77d_row7_col0{\n",
       "            background-color:  #3b4cc0;\n",
       "            color:  #f1f1f1;\n",
       "        }#T_ab77d_row1_col0{\n",
       "            background-color:  #e3d9d3;\n",
       "            color:  #000000;\n",
       "        }#T_ab77d_row3_col0{\n",
       "            background-color:  #97b8ff;\n",
       "            color:  #000000;\n",
       "        }#T_ab77d_row6_col0{\n",
       "            background-color:  #d3dbe7;\n",
       "            color:  #000000;\n",
       "        }#T_ab77d_row8_col0{\n",
       "            background-color:  #b40426;\n",
       "            color:  #f1f1f1;\n",
       "        }</style><table id=\"T_ab77d_\" ><thead>    <tr>        <th class=\"blank level0\" ></th>        <th class=\"col_heading level0 col0\" >0</th>    </tr></thead><tbody>\n",
       "                <tr>\n",
       "                        <th id=\"T_ab77d_level0_row0\" class=\"row_heading level0 row0\" >price</th>\n",
       "                        <td id=\"T_ab77d_row0_col0\" class=\"data row0 col0\" >0.000000</td>\n",
       "            </tr>\n",
       "            <tr>\n",
       "                        <th id=\"T_ab77d_level0_row1\" class=\"row_heading level0 row1\" >vehicle_type</th>\n",
       "                        <td id=\"T_ab77d_row1_col0\" class=\"data row1 col0\" >10.580000</td>\n",
       "            </tr>\n",
       "            <tr>\n",
       "                        <th id=\"T_ab77d_level0_row2\" class=\"row_heading level0 row2\" >registration_year</th>\n",
       "                        <td id=\"T_ab77d_row2_col0\" class=\"data row2 col0\" >0.000000</td>\n",
       "            </tr>\n",
       "            <tr>\n",
       "                        <th id=\"T_ab77d_level0_row3\" class=\"row_heading level0 row3\" >gearbox</th>\n",
       "                        <td id=\"T_ab77d_row3_col0\" class=\"data row3 col0\" >5.600000</td>\n",
       "            </tr>\n",
       "            <tr>\n",
       "                        <th id=\"T_ab77d_level0_row4\" class=\"row_heading level0 row4\" >power</th>\n",
       "                        <td id=\"T_ab77d_row4_col0\" class=\"data row4 col0\" >0.000000</td>\n",
       "            </tr>\n",
       "            <tr>\n",
       "                        <th id=\"T_ab77d_level0_row5\" class=\"row_heading level0 row5\" >kilometer</th>\n",
       "                        <td id=\"T_ab77d_row5_col0\" class=\"data row5 col0\" >0.000000</td>\n",
       "            </tr>\n",
       "            <tr>\n",
       "                        <th id=\"T_ab77d_level0_row6\" class=\"row_heading level0 row6\" >fuel_type</th>\n",
       "                        <td id=\"T_ab77d_row6_col0\" class=\"data row6 col0\" >9.280000</td>\n",
       "            </tr>\n",
       "            <tr>\n",
       "                        <th id=\"T_ab77d_level0_row7\" class=\"row_heading level0 row7\" >brand</th>\n",
       "                        <td id=\"T_ab77d_row7_col0\" class=\"data row7 col0\" >0.000000</td>\n",
       "            </tr>\n",
       "            <tr>\n",
       "                        <th id=\"T_ab77d_level0_row8\" class=\"row_heading level0 row8\" >repaired</th>\n",
       "                        <td id=\"T_ab77d_row8_col0\" class=\"data row8 col0\" >20.080000</td>\n",
       "            </tr>\n",
       "    </tbody></table>"
      ],
      "text/plain": [
       "<pandas.io.formats.style.Styler at 0x23b97a8a2b0>"
      ]
     },
     "execution_count": 13,
     "metadata": {},
     "output_type": "execute_result"
    }
   ],
   "source": [
    "pd.DataFrame(round(data.isna().mean()*100,2)).style.background_gradient('coolwarm')"
   ]
  },
  {
   "cell_type": "code",
   "execution_count": 14,
   "metadata": {},
   "outputs": [
    {
     "name": "stdout",
     "output_type": "stream",
     "text": [
      "<class 'pandas.core.frame.DataFrame'>\n",
      "Int64Index: 354365 entries, 0 to 354368\n",
      "Data columns (total 9 columns):\n",
      " #   Column             Non-Null Count   Dtype \n",
      "---  ------             --------------   ----- \n",
      " 0   price              354365 non-null  int64 \n",
      " 1   vehicle_type       316875 non-null  object\n",
      " 2   registration_year  354365 non-null  int64 \n",
      " 3   gearbox            334532 non-null  object\n",
      " 4   power              354365 non-null  int64 \n",
      " 5   kilometer          354365 non-null  int64 \n",
      " 6   fuel_type          321470 non-null  object\n",
      " 7   brand              354365 non-null  object\n",
      " 8   repaired           283211 non-null  object\n",
      "dtypes: int64(4), object(5)\n",
      "memory usage: 27.0+ MB\n"
     ]
    }
   ],
   "source": [
    "data.info()"
   ]
  },
  {
   "cell_type": "markdown",
   "metadata": {},
   "source": [
    "**Удалим пропуски по столбцам (`vehicle_type`, `gearbox`, `model`, `fuel_type`) в датасете `data`** \n",
    "\n",
    "`vehicle_type` — тип автомобильного кузова, `gearbox` — тип коробки передач, `model` — модель автомобиля, `FuelType` — тип топлива"
   ]
  },
  {
   "cell_type": "code",
   "execution_count": 15,
   "metadata": {},
   "outputs": [],
   "source": [
    "data[['vehicle_type', 'gearbox', 'fuel_type']] = data[['vehicle_type', 'gearbox', 'fuel_type']].fillna('unknown')"
   ]
  },
  {
   "cell_type": "markdown",
   "metadata": {},
   "source": [
    "**Пропуски в столбце `repaired` (была машина в ремонте или нет) в датасете `data` заполним значением-заглушкой 'na'.**"
   ]
  },
  {
   "cell_type": "code",
   "execution_count": 16,
   "metadata": {},
   "outputs": [],
   "source": [
    "data = data.fillna('na')"
   ]
  },
  {
   "cell_type": "code",
   "execution_count": 17,
   "metadata": {
    "scrolled": false
   },
   "outputs": [
    {
     "data": {
      "text/html": [
       "<style  type=\"text/css\" >\n",
       "#T_902e0_row0_col0,#T_902e0_row1_col0,#T_902e0_row2_col0,#T_902e0_row3_col0,#T_902e0_row4_col0,#T_902e0_row5_col0,#T_902e0_row6_col0,#T_902e0_row7_col0,#T_902e0_row8_col0{\n",
       "            background-color:  #3b4cc0;\n",
       "            color:  #f1f1f1;\n",
       "        }</style><table id=\"T_902e0_\" ><thead>    <tr>        <th class=\"blank level0\" ></th>        <th class=\"col_heading level0 col0\" >0</th>    </tr></thead><tbody>\n",
       "                <tr>\n",
       "                        <th id=\"T_902e0_level0_row0\" class=\"row_heading level0 row0\" >price</th>\n",
       "                        <td id=\"T_902e0_row0_col0\" class=\"data row0 col0\" >0.000000</td>\n",
       "            </tr>\n",
       "            <tr>\n",
       "                        <th id=\"T_902e0_level0_row1\" class=\"row_heading level0 row1\" >vehicle_type</th>\n",
       "                        <td id=\"T_902e0_row1_col0\" class=\"data row1 col0\" >0.000000</td>\n",
       "            </tr>\n",
       "            <tr>\n",
       "                        <th id=\"T_902e0_level0_row2\" class=\"row_heading level0 row2\" >registration_year</th>\n",
       "                        <td id=\"T_902e0_row2_col0\" class=\"data row2 col0\" >0.000000</td>\n",
       "            </tr>\n",
       "            <tr>\n",
       "                        <th id=\"T_902e0_level0_row3\" class=\"row_heading level0 row3\" >gearbox</th>\n",
       "                        <td id=\"T_902e0_row3_col0\" class=\"data row3 col0\" >0.000000</td>\n",
       "            </tr>\n",
       "            <tr>\n",
       "                        <th id=\"T_902e0_level0_row4\" class=\"row_heading level0 row4\" >power</th>\n",
       "                        <td id=\"T_902e0_row4_col0\" class=\"data row4 col0\" >0.000000</td>\n",
       "            </tr>\n",
       "            <tr>\n",
       "                        <th id=\"T_902e0_level0_row5\" class=\"row_heading level0 row5\" >kilometer</th>\n",
       "                        <td id=\"T_902e0_row5_col0\" class=\"data row5 col0\" >0.000000</td>\n",
       "            </tr>\n",
       "            <tr>\n",
       "                        <th id=\"T_902e0_level0_row6\" class=\"row_heading level0 row6\" >fuel_type</th>\n",
       "                        <td id=\"T_902e0_row6_col0\" class=\"data row6 col0\" >0.000000</td>\n",
       "            </tr>\n",
       "            <tr>\n",
       "                        <th id=\"T_902e0_level0_row7\" class=\"row_heading level0 row7\" >brand</th>\n",
       "                        <td id=\"T_902e0_row7_col0\" class=\"data row7 col0\" >0.000000</td>\n",
       "            </tr>\n",
       "            <tr>\n",
       "                        <th id=\"T_902e0_level0_row8\" class=\"row_heading level0 row8\" >repaired</th>\n",
       "                        <td id=\"T_902e0_row8_col0\" class=\"data row8 col0\" >0.000000</td>\n",
       "            </tr>\n",
       "    </tbody></table>"
      ],
      "text/plain": [
       "<pandas.io.formats.style.Styler at 0x23b97aa3040>"
      ]
     },
     "execution_count": 17,
     "metadata": {},
     "output_type": "execute_result"
    }
   ],
   "source": [
    "pd.DataFrame(round(data.isna().mean()*100,2)).style.background_gradient('coolwarm')"
   ]
  },
  {
   "cell_type": "markdown",
   "metadata": {},
   "source": [
    "**Построим и визуализируем матрицу корреляции признаков чтобы оценить степень скоррелированности признаков.**"
   ]
  },
  {
   "cell_type": "code",
   "execution_count": 18,
   "metadata": {},
   "outputs": [
    {
     "name": "stdout",
     "output_type": "stream",
     "text": [
      "interval columns not set, guessing: ['price', 'registration_year', 'power', 'kilometer']\n"
     ]
    }
   ],
   "source": [
    "phik_overview = data.phik_matrix()\n",
    "#phik_overview.round(2);"
   ]
  },
  {
   "cell_type": "code",
   "execution_count": 19,
   "metadata": {},
   "outputs": [
    {
     "data": {
      "image/png": "[encoded data removed]",
      "text/plain": [
       "<Figure size 1800x1000 with 2 Axes>"
      ]
     },
     "metadata": {},
     "output_type": "display_data"
    }
   ],
   "source": [
    "plot_correlation_matrix(phik_overview.values, \n",
    "                        x_labels=phik_overview.columns, \n",
    "                        y_labels=phik_overview.index, \n",
    "                        vmin=0, vmax=1, color_map=\"Greens\", \n",
    "                        title=r\"correlation $\\phi_K$\", \n",
    "                        fontsize_factor=1.5, \n",
    "                        figsize=(18, 10))\n",
    "plt.tight_layout()"
   ]
  },
  {
   "cell_type": "markdown",
   "metadata": {},
   "source": [
    "**Проверим, есть ли подозрительные и выбивающиеся данные в датасете `data`**. "
   ]
  },
  {
   "cell_type": "code",
   "execution_count": 20,
   "metadata": {
    "scrolled": true
   },
   "outputs": [
    {
     "data": {
      "text/html": [
       "<div>\n",
       "<style scoped>\n",
       "    .dataframe tbody tr th:only-of-type {\n",
       "        vertical-align: middle;\n",
       "    }\n",
       "\n",
       "    .dataframe tbody tr th {\n",
       "        vertical-align: top;\n",
       "    }\n",
       "\n",
       "    .dataframe thead th {\n",
       "        text-align: right;\n",
       "    }\n",
       "</style>\n",
       "<table border=\"1\" class=\"dataframe\">\n",
       "  <thead>\n",
       "    <tr style=\"text-align: right;\">\n",
       "      <th></th>\n",
       "      <th>price</th>\n",
       "      <th>registration_year</th>\n",
       "      <th>power</th>\n",
       "      <th>kilometer</th>\n",
       "    </tr>\n",
       "  </thead>\n",
       "  <tbody>\n",
       "    <tr>\n",
       "      <th>count</th>\n",
       "      <td>354365.000000</td>\n",
       "      <td>354365.000000</td>\n",
       "      <td>354365.000000</td>\n",
       "      <td>354365.000000</td>\n",
       "    </tr>\n",
       "    <tr>\n",
       "      <th>mean</th>\n",
       "      <td>4416.679830</td>\n",
       "      <td>2004.234481</td>\n",
       "      <td>110.093816</td>\n",
       "      <td>128211.363989</td>\n",
       "    </tr>\n",
       "    <tr>\n",
       "      <th>std</th>\n",
       "      <td>4514.176349</td>\n",
       "      <td>90.228466</td>\n",
       "      <td>189.851330</td>\n",
       "      <td>37905.083858</td>\n",
       "    </tr>\n",
       "    <tr>\n",
       "      <th>min</th>\n",
       "      <td>0.000000</td>\n",
       "      <td>1000.000000</td>\n",
       "      <td>0.000000</td>\n",
       "      <td>5000.000000</td>\n",
       "    </tr>\n",
       "    <tr>\n",
       "      <th>25%</th>\n",
       "      <td>1050.000000</td>\n",
       "      <td>1999.000000</td>\n",
       "      <td>69.000000</td>\n",
       "      <td>125000.000000</td>\n",
       "    </tr>\n",
       "    <tr>\n",
       "      <th>50%</th>\n",
       "      <td>2700.000000</td>\n",
       "      <td>2003.000000</td>\n",
       "      <td>105.000000</td>\n",
       "      <td>150000.000000</td>\n",
       "    </tr>\n",
       "    <tr>\n",
       "      <th>75%</th>\n",
       "      <td>6400.000000</td>\n",
       "      <td>2008.000000</td>\n",
       "      <td>143.000000</td>\n",
       "      <td>150000.000000</td>\n",
       "    </tr>\n",
       "    <tr>\n",
       "      <th>max</th>\n",
       "      <td>20000.000000</td>\n",
       "      <td>9999.000000</td>\n",
       "      <td>20000.000000</td>\n",
       "      <td>150000.000000</td>\n",
       "    </tr>\n",
       "  </tbody>\n",
       "</table>\n",
       "</div>"
      ],
      "text/plain": [
       "               price  registration_year          power      kilometer\n",
       "count  354365.000000      354365.000000  354365.000000  354365.000000\n",
       "mean     4416.679830        2004.234481     110.093816  128211.363989\n",
       "std      4514.176349          90.228466     189.851330   37905.083858\n",
       "min         0.000000        1000.000000       0.000000    5000.000000\n",
       "25%      1050.000000        1999.000000      69.000000  125000.000000\n",
       "50%      2700.000000        2003.000000     105.000000  150000.000000\n",
       "75%      6400.000000        2008.000000     143.000000  150000.000000\n",
       "max     20000.000000        9999.000000   20000.000000  150000.000000"
      ]
     },
     "execution_count": 20,
     "metadata": {},
     "output_type": "execute_result"
    }
   ],
   "source": [
    "data.describe()"
   ]
  },
  {
   "cell_type": "markdown",
   "metadata": {},
   "source": [
    "Данная функция дает информацию о количественных признаках. Чтобы убрать выборсы по цене более эффективно - рассмотрим каждую переменную в отдельности графическим способом."
   ]
  },
  {
   "cell_type": "code",
   "execution_count": 21,
   "metadata": {
    "scrolled": false
   },
   "outputs": [
    {
     "data": {
      "image/png": "[encoded data removed]",
      "text/plain": [
       "<Figure size 1500x1000 with 1 Axes>"
      ]
     },
     "metadata": {},
     "output_type": "display_data"
    },
    {
     "data": {
      "image/png": "[encoded data removed]",
      "text/plain": [
       "<Figure size 1500x1000 with 1 Axes>"
      ]
     },
     "metadata": {},
     "output_type": "display_data"
    },
    {
     "data": {
      "image/png": "[encoded data removed]",
      "text/plain": [
       "<Figure size 1500x1000 with 1 Axes>"
      ]
     },
     "metadata": {},
     "output_type": "display_data"
    },
    {
     "data": {
      "image/png": "[encoded data removed]",
      "text/plain": [
       "<Figure size 1500x1000 with 1 Axes>"
      ]
     },
     "metadata": {},
     "output_type": "display_data"
    },
    {
     "data": {
      "image/png": "[encoded data removed]",
      "text/plain": [
       "<Figure size 1500x1000 with 1 Axes>"
      ]
     },
     "metadata": {},
     "output_type": "display_data"
    }
   ],
   "source": [
    "quantitative_columns = ['price', 'registration_year', 'power', 'kilometer']\n",
    "categorical_columns = ['vehicle_type', 'gearbox', 'fuel_type', 'brand', 'repaired']\n",
    "\n",
    "#визуализация категориальных признаков\n",
    "for column in categorical_columns:\n",
    "    fig = plt.figure()\n",
    "    fig.set_figheight(10)\n",
    "    fig.set_figwidth(15)\n",
    "    sns.boxplot(y=column, x='price', data=data)\n",
    "\n",
    "    plt.show()"
   ]
  },
  {
   "cell_type": "markdown",
   "metadata": {},
   "source": [
    "По диаграммам размаха видно, что \n",
    "- по типу кузова наиболее популярными и дорогими по цене являются кроссоверы (suv), а наименее популярными малолитражки (small);\n",
    "-  по типу коробки передач наиболее популярными и дорогими по цене являются автомобили с автоматической коробкой передач;\n",
    "- по типу топлива наиболее дорогими по цене являются автомобили на гибридном топливе;\n",
    "- по марке автомобиля наиболее дорогими по цене являются автомобили марки 'porsche';\n",
    "- дороже продаются машины, которые не были в ремонте. \n",
    "\n",
    "Теперь проверим выбросы в количественных признаках."
   ]
  },
  {
   "cell_type": "code",
   "execution_count": 22,
   "metadata": {
    "scrolled": false
   },
   "outputs": [
    {
     "name": "stderr",
     "output_type": "stream",
     "text": [
      "C:\\Users\\User\\anaconda3\\envs\\practicum\\lib\\site-packages\\seaborn\\_decorators.py:36: FutureWarning: Pass the following variable as a keyword arg: x. From version 0.12, the only valid positional argument will be `data`, and passing other arguments without an explicit keyword will result in an error or misinterpretation.\n",
      "  warnings.warn(\n"
     ]
    },
    {
     "data": {
      "image/png": "[encoded data removed]",
      "text/plain": [
       "<Figure size 1000x500 with 1 Axes>"
      ]
     },
     "metadata": {},
     "output_type": "display_data"
    },
    {
     "name": "stderr",
     "output_type": "stream",
     "text": [
      "C:\\Users\\User\\anaconda3\\envs\\practicum\\lib\\site-packages\\seaborn\\_decorators.py:36: FutureWarning: Pass the following variable as a keyword arg: x. From version 0.12, the only valid positional argument will be `data`, and passing other arguments without an explicit keyword will result in an error or misinterpretation.\n",
      "  warnings.warn(\n"
     ]
    },
    {
     "data": {
      "image/png": "[encoded data removed]",
      "text/plain": [
       "<Figure size 1000x500 with 1 Axes>"
      ]
     },
     "metadata": {},
     "output_type": "display_data"
    },
    {
     "name": "stderr",
     "output_type": "stream",
     "text": [
      "C:\\Users\\User\\anaconda3\\envs\\practicum\\lib\\site-packages\\seaborn\\_decorators.py:36: FutureWarning: Pass the following variable as a keyword arg: x. From version 0.12, the only valid positional argument will be `data`, and passing other arguments without an explicit keyword will result in an error or misinterpretation.\n",
      "  warnings.warn(\n"
     ]
    },
    {
     "data": {
      "image/png": "[encoded data removed]",
      "text/plain": [
       "<Figure size 1000x500 with 1 Axes>"
      ]
     },
     "metadata": {},
     "output_type": "display_data"
    },
    {
     "name": "stderr",
     "output_type": "stream",
     "text": [
      "C:\\Users\\User\\anaconda3\\envs\\practicum\\lib\\site-packages\\seaborn\\_decorators.py:36: FutureWarning: Pass the following variable as a keyword arg: x. From version 0.12, the only valid positional argument will be `data`, and passing other arguments without an explicit keyword will result in an error or misinterpretation.\n",
      "  warnings.warn(\n"
     ]
    },
    {
     "data": {
      "image/png": "[encoded data removed]",
      "text/plain": [
       "<Figure size 1000x500 with 1 Axes>"
      ]
     },
     "metadata": {},
     "output_type": "display_data"
    }
   ],
   "source": [
    "for column in quantitative_columns:\n",
    "    fig = plt.figure()\n",
    "    fig.set_figheight(5)\n",
    "    fig.set_figwidth(10)\n",
    "    sns.boxplot(data[column])\n",
    "\n",
    "    plt.show();"
   ]
  },
  {
   "cell_type": "markdown",
   "metadata": {},
   "source": [
    "Удалим явные выбросы по году регистрации автомобиля, чтобы исключить редкие машины и ошибки в заполнении данных (ограничимся 2018 годом). "
   ]
  },
  {
   "cell_type": "code",
   "execution_count": 23,
   "metadata": {},
   "outputs": [],
   "source": [
    "data = data.query('registration_year > 1989 & registration_year < 2016')"
   ]
  },
  {
   "cell_type": "markdown",
   "metadata": {},
   "source": [
    "Удалим явные выбросы по мощности автомобиля, чтобы исключить редкие машины. "
   ]
  },
  {
   "cell_type": "code",
   "execution_count": 24,
   "metadata": {},
   "outputs": [],
   "source": [
    "data = data.query('power < 600')"
   ]
  },
  {
   "cell_type": "markdown",
   "metadata": {},
   "source": [
    "Рассмотрим целевой признак - цену! Удалим явные выбросы по цене автомобиля. "
   ]
  },
  {
   "cell_type": "code",
   "execution_count": 25,
   "metadata": {},
   "outputs": [],
   "source": [
    "data = data.query('price > 300')"
   ]
  },
  {
   "cell_type": "markdown",
   "metadata": {},
   "source": [
    "Проверим количество дубликатов на новом датасете (после изменений)."
   ]
  },
  {
   "cell_type": "code",
   "execution_count": 26,
   "metadata": {},
   "outputs": [
    {
     "name": "stdout",
     "output_type": "stream",
     "text": [
      "Количество дубликатов в датасете data: 45735\n",
      "Количество дубликатов в процентном соотношении 15.32017097223711 %.\n"
     ]
    }
   ],
   "source": [
    "print('Количество дубликатов в датасете data:', data.duplicated().sum())\n",
    "print(f\"Количество дубликатов в процентном соотношении {(data.duplicated().sum() / data.shape[0]) * 100} %.\")"
   ]
  },
  {
   "cell_type": "markdown",
   "metadata": {},
   "source": [
    "Удалим дубликаты и оставим только первое значение. "
   ]
  },
  {
   "cell_type": "code",
   "execution_count": 27,
   "metadata": {},
   "outputs": [
    {
     "name": "stdout",
     "output_type": "stream",
     "text": [
      "Количество дубликатов в датасете data: 0\n"
     ]
    }
   ],
   "source": [
    "data = data.drop_duplicates(keep='first')\n",
    "print('Количество дубликатов в датасете data:', data.duplicated().sum())"
   ]
  },
  {
   "cell_type": "markdown",
   "metadata": {},
   "source": [
    "Количество строк отброшенных после обработки датасета (в процентах). "
   ]
  },
  {
   "cell_type": "code",
   "execution_count": 28,
   "metadata": {},
   "outputs": [
    {
     "name": "stdout",
     "output_type": "stream",
     "text": [
      "28.66 %\n"
     ]
    }
   ],
   "source": [
    "print(round((100 - data.shape[0]/354369 * 100), 2), \"%\")"
   ]
  },
  {
   "cell_type": "markdown",
   "metadata": {},
   "source": [
    "**Вывод:**\n",
    "1. Исправили названния столбцов (привели к змеиному регистру).\n",
    "2. Удалили из датасета дубликаты.\n",
    "3. Обработали пропуски в датасете. \n",
    "4. Устранили явные выбросы."
   ]
  },
  {
   "cell_type": "markdown",
   "metadata": {},
   "source": [
    "[Оглавление](#intro).\n",
    "<a id='task4'></a>"
   ]
  },
  {
   "cell_type": "markdown",
   "metadata": {},
   "source": [
    "## Обучение моделей"
   ]
  },
  {
   "cell_type": "markdown",
   "metadata": {},
   "source": [
    "Попробуем обучить модели LinearRegression, Lasso/Ridge, CatBoost и LightGBM и подобрать к ним гиперпараметры, чтобы сравнить время обучения, предсказания и метрику RMSE.\n",
    "\n",
    "Все результаты сохраним в словаре."
   ]
  },
  {
   "cell_type": "code",
   "execution_count": 29,
   "metadata": {},
   "outputs": [],
   "source": [
    "total = {\n",
    "    'rmse':[],\n",
    "    'fit_time':[],\n",
    "    'predict_time':[]\n",
    "}"
   ]
  },
  {
   "cell_type": "markdown",
   "metadata": {},
   "source": [
    "### Модель LinearRegression"
   ]
  },
  {
   "cell_type": "markdown",
   "metadata": {},
   "source": [
    "Преобразуем категориальные признаки с помошью схемы кодирования OHE"
   ]
  },
  {
   "cell_type": "code",
   "execution_count": 30,
   "metadata": {},
   "outputs": [],
   "source": [
    "data_ohe = pd.get_dummies(data, drop_first=True)"
   ]
  },
  {
   "cell_type": "markdown",
   "metadata": {},
   "source": [
    "Разделим выборки на обучающую и валидационную. А также проведем масштабирование."
   ]
  },
  {
   "cell_type": "code",
   "execution_count": 31,
   "metadata": {},
   "outputs": [
    {
     "name": "stdout",
     "output_type": "stream",
     "text": [
      "Количество признаков в обучающей выборке 189594\n",
      "Количество признаков в тестовой выборке 63199\n"
     ]
    },
    {
     "data": {
      "text/html": [
       "<div>\n",
       "<style scoped>\n",
       "    .dataframe tbody tr th:only-of-type {\n",
       "        vertical-align: middle;\n",
       "    }\n",
       "\n",
       "    .dataframe tbody tr th {\n",
       "        vertical-align: top;\n",
       "    }\n",
       "\n",
       "    .dataframe thead th {\n",
       "        text-align: right;\n",
       "    }\n",
       "</style>\n",
       "<table border=\"1\" class=\"dataframe\">\n",
       "  <thead>\n",
       "    <tr style=\"text-align: right;\">\n",
       "      <th></th>\n",
       "      <th>registration_year</th>\n",
       "      <th>power</th>\n",
       "      <th>kilometer</th>\n",
       "      <th>vehicle_type_convertible</th>\n",
       "      <th>vehicle_type_coupe</th>\n",
       "      <th>vehicle_type_other</th>\n",
       "      <th>vehicle_type_sedan</th>\n",
       "      <th>vehicle_type_small</th>\n",
       "      <th>vehicle_type_suv</th>\n",
       "      <th>vehicle_type_unknown</th>\n",
       "      <th>...</th>\n",
       "      <th>brand_smart</th>\n",
       "      <th>brand_sonstige_autos</th>\n",
       "      <th>brand_subaru</th>\n",
       "      <th>brand_suzuki</th>\n",
       "      <th>brand_toyota</th>\n",
       "      <th>brand_trabant</th>\n",
       "      <th>brand_volkswagen</th>\n",
       "      <th>brand_volvo</th>\n",
       "      <th>repaired_no</th>\n",
       "      <th>repaired_yes</th>\n",
       "    </tr>\n",
       "  </thead>\n",
       "  <tbody>\n",
       "    <tr>\n",
       "      <th>71086</th>\n",
       "      <td>0.730193</td>\n",
       "      <td>-1.836580</td>\n",
       "      <td>0.609926</td>\n",
       "      <td>0</td>\n",
       "      <td>0</td>\n",
       "      <td>0</td>\n",
       "      <td>0</td>\n",
       "      <td>0</td>\n",
       "      <td>1</td>\n",
       "      <td>0</td>\n",
       "      <td>...</td>\n",
       "      <td>0</td>\n",
       "      <td>0</td>\n",
       "      <td>0</td>\n",
       "      <td>0</td>\n",
       "      <td>1</td>\n",
       "      <td>0</td>\n",
       "      <td>0</td>\n",
       "      <td>0</td>\n",
       "      <td>1</td>\n",
       "      <td>0</td>\n",
       "    </tr>\n",
       "    <tr>\n",
       "      <th>196876</th>\n",
       "      <td>0.539500</td>\n",
       "      <td>-0.722505</td>\n",
       "      <td>-0.991723</td>\n",
       "      <td>0</td>\n",
       "      <td>0</td>\n",
       "      <td>0</td>\n",
       "      <td>0</td>\n",
       "      <td>1</td>\n",
       "      <td>0</td>\n",
       "      <td>0</td>\n",
       "      <td>...</td>\n",
       "      <td>0</td>\n",
       "      <td>0</td>\n",
       "      <td>0</td>\n",
       "      <td>0</td>\n",
       "      <td>0</td>\n",
       "      <td>0</td>\n",
       "      <td>0</td>\n",
       "      <td>0</td>\n",
       "      <td>1</td>\n",
       "      <td>0</td>\n",
       "    </tr>\n",
       "    <tr>\n",
       "      <th>108887</th>\n",
       "      <td>0.348807</td>\n",
       "      <td>-0.625629</td>\n",
       "      <td>0.609926</td>\n",
       "      <td>0</td>\n",
       "      <td>0</td>\n",
       "      <td>0</td>\n",
       "      <td>0</td>\n",
       "      <td>1</td>\n",
       "      <td>0</td>\n",
       "      <td>0</td>\n",
       "      <td>...</td>\n",
       "      <td>0</td>\n",
       "      <td>0</td>\n",
       "      <td>0</td>\n",
       "      <td>0</td>\n",
       "      <td>0</td>\n",
       "      <td>0</td>\n",
       "      <td>0</td>\n",
       "      <td>0</td>\n",
       "      <td>1</td>\n",
       "      <td>0</td>\n",
       "    </tr>\n",
       "    <tr>\n",
       "      <th>143299</th>\n",
       "      <td>-2.320899</td>\n",
       "      <td>-0.383438</td>\n",
       "      <td>0.609926</td>\n",
       "      <td>0</td>\n",
       "      <td>1</td>\n",
       "      <td>0</td>\n",
       "      <td>0</td>\n",
       "      <td>0</td>\n",
       "      <td>0</td>\n",
       "      <td>0</td>\n",
       "      <td>...</td>\n",
       "      <td>0</td>\n",
       "      <td>0</td>\n",
       "      <td>0</td>\n",
       "      <td>0</td>\n",
       "      <td>0</td>\n",
       "      <td>0</td>\n",
       "      <td>1</td>\n",
       "      <td>0</td>\n",
       "      <td>1</td>\n",
       "      <td>0</td>\n",
       "    </tr>\n",
       "    <tr>\n",
       "      <th>48968</th>\n",
       "      <td>0.730193</td>\n",
       "      <td>-0.851673</td>\n",
       "      <td>-1.525606</td>\n",
       "      <td>0</td>\n",
       "      <td>0</td>\n",
       "      <td>0</td>\n",
       "      <td>0</td>\n",
       "      <td>1</td>\n",
       "      <td>0</td>\n",
       "      <td>0</td>\n",
       "      <td>...</td>\n",
       "      <td>1</td>\n",
       "      <td>0</td>\n",
       "      <td>0</td>\n",
       "      <td>0</td>\n",
       "      <td>0</td>\n",
       "      <td>0</td>\n",
       "      <td>0</td>\n",
       "      <td>0</td>\n",
       "      <td>1</td>\n",
       "      <td>0</td>\n",
       "    </tr>\n",
       "  </tbody>\n",
       "</table>\n",
       "<p>5 rows × 61 columns</p>\n",
       "</div>"
      ],
      "text/plain": [
       "        registration_year     power  kilometer  vehicle_type_convertible  \\\n",
       "71086            0.730193 -1.836580   0.609926                         0   \n",
       "196876           0.539500 -0.722505  -0.991723                         0   \n",
       "108887           0.348807 -0.625629   0.609926                         0   \n",
       "143299          -2.320899 -0.383438   0.609926                         0   \n",
       "48968            0.730193 -0.851673  -1.525606                         0   \n",
       "\n",
       "        vehicle_type_coupe  vehicle_type_other  vehicle_type_sedan  \\\n",
       "71086                    0                   0                   0   \n",
       "196876                   0                   0                   0   \n",
       "108887                   0                   0                   0   \n",
       "143299                   1                   0                   0   \n",
       "48968                    0                   0                   0   \n",
       "\n",
       "        vehicle_type_small  vehicle_type_suv  vehicle_type_unknown  ...  \\\n",
       "71086                    0                 1                     0  ...   \n",
       "196876                   1                 0                     0  ...   \n",
       "108887                   1                 0                     0  ...   \n",
       "143299                   0                 0                     0  ...   \n",
       "48968                    1                 0                     0  ...   \n",
       "\n",
       "        brand_smart  brand_sonstige_autos  brand_subaru  brand_suzuki  \\\n",
       "71086             0                     0             0             0   \n",
       "196876            0                     0             0             0   \n",
       "108887            0                     0             0             0   \n",
       "143299            0                     0             0             0   \n",
       "48968             1                     0             0             0   \n",
       "\n",
       "        brand_toyota  brand_trabant  brand_volkswagen  brand_volvo  \\\n",
       "71086              1              0                 0            0   \n",
       "196876             0              0                 0            0   \n",
       "108887             0              0                 0            0   \n",
       "143299             0              0                 1            0   \n",
       "48968              0              0                 0            0   \n",
       "\n",
       "        repaired_no  repaired_yes  \n",
       "71086             1             0  \n",
       "196876            1             0  \n",
       "108887            1             0  \n",
       "143299            1             0  \n",
       "48968             1             0  \n",
       "\n",
       "[5 rows x 61 columns]"
      ]
     },
     "execution_count": 31,
     "metadata": {},
     "output_type": "execute_result"
    }
   ],
   "source": [
    "features = data_ohe.drop(['price'], axis=1)\n",
    "target = data_ohe['price']\n",
    "    \n",
    "features_train, features_valid, target_train, target_valid = train_test_split(features, target, \n",
    "                                    test_size=0.25, random_state=1234)\n",
    " \n",
    "print('Количество признаков в обучающей выборке', features_train.shape[0])\n",
    "print('Количество признаков в тестовой выборке', features_valid.shape[0])\n",
    "#применили метод масштабирования - стандартизация данных, \n",
    "#чтобы выровнять диапазон значений у количественных признаков\n",
    "numeric_columns = ['registration_year', 'power', 'kilometer']\n",
    "\n",
    "scaler = StandardScaler()\n",
    "\n",
    "#масштабированные данные обучающей выборки\n",
    "features_train[numeric_columns] = scaler.fit_transform(features_train[numeric_columns])\n",
    "#масштабированные данные тестовой выборки\n",
    "features_valid[numeric_columns] = scaler.transform(features_valid[numeric_columns])\n",
    "features_train.head()"
   ]
  },
  {
   "cell_type": "markdown",
   "metadata": {},
   "source": [
    "Обучим модель с помощью кросс валидации и определим значение метрики RMSE."
   ]
  },
  {
   "cell_type": "code",
   "execution_count": 32,
   "metadata": {},
   "outputs": [
    {
     "name": "stdout",
     "output_type": "stream",
     "text": [
      "--- 0.561 seconds ---\n",
      "CPU times: total: 1.05 s\n",
      "Wall time: 561 ms\n"
     ]
    }
   ],
   "source": [
    "%%time\n",
    "start_time = time.time()\n",
    "\n",
    "# построение модели\n",
    "model_linreg = LinearRegression()\n",
    "model_linreg.fit(features_train, target_train)\n",
    "\n",
    "linreg_fit_time = time.time() - start_time\n",
    "print(\"--- %.3f seconds ---\" % (linreg_fit_time)) "
   ]
  },
  {
   "cell_type": "code",
   "execution_count": 33,
   "metadata": {},
   "outputs": [
    {
     "name": "stdout",
     "output_type": "stream",
     "text": [
      "Итоговое значение метрики RMSE для LinearRegression: 2463.56\n"
     ]
    }
   ],
   "source": [
    "rmse_linreg = abs(np.mean(cross_val_score(model_linreg, features_train, \n",
    "                                        target_train, scoring='neg_root_mean_squared_error', \n",
    "                                        cv=5, n_jobs=-1)))\n",
    "\n",
    "print('Итоговое значение метрики RMSE для LinearRegression:', round(rmse_linreg, 2))"
   ]
  },
  {
   "cell_type": "code",
   "execution_count": 34,
   "metadata": {},
   "outputs": [
    {
     "name": "stdout",
     "output_type": "stream",
     "text": [
      "--- 0.025 seconds ---\n",
      "CPU times: total: 15.6 ms\n",
      "Wall time: 24.9 ms\n"
     ]
    }
   ],
   "source": [
    "%%time\n",
    "start_time = time.time()\n",
    "\n",
    "prediction_linreg = model_linreg.predict(features_valid)\n",
    "\n",
    "linreg_pred_time = time.time() - start_time\n",
    "print(\"--- %.3f seconds ---\" % (linreg_pred_time)) "
   ]
  },
  {
   "cell_type": "markdown",
   "metadata": {},
   "source": [
    "Занесем полученные данные в словарь."
   ]
  },
  {
   "cell_type": "code",
   "execution_count": 35,
   "metadata": {},
   "outputs": [
    {
     "data": {
      "text/plain": [
       "{'rmse': [2463.56], 'fit_time': [0.561], 'predict_time': [0.025]}"
      ]
     },
     "execution_count": 35,
     "metadata": {},
     "output_type": "execute_result"
    }
   ],
   "source": [
    "total['rmse'].append(round(rmse_linreg, 2))\n",
    "total['fit_time'].append(round((linreg_fit_time),3))\n",
    "total['predict_time'].append(round((linreg_pred_time),3))\n",
    "total"
   ]
  },
  {
   "cell_type": "markdown",
   "metadata": {},
   "source": [
    "### Модель Lasso/Ridge"
   ]
  },
  {
   "cell_type": "markdown",
   "metadata": {},
   "source": [
    "Обучим модели с регулиризацией L1 и L2.\n",
    "\n",
    "**Lasso (L1 регуляризация)**"
   ]
  },
  {
   "cell_type": "code",
   "execution_count": 36,
   "metadata": {},
   "outputs": [
    {
     "name": "stderr",
     "output_type": "stream",
     "text": [
      "C:\\Users\\User\\anaconda3\\envs\\practicum\\lib\\site-packages\\sklearn\\model_selection\\_validation.py:686: UserWarning: With alpha=0, this algorithm does not converge well. You are advised to use the LinearRegression estimator\n",
      "  estimator.fit(X_train, y_train, **fit_params)\n",
      "C:\\Users\\User\\anaconda3\\envs\\practicum\\lib\\site-packages\\sklearn\\linear_model\\_coordinate_descent.py:631: UserWarning: Coordinate descent with no regularization may lead to unexpected results and is discouraged.\n",
      "  model = cd_fast.enet_coordinate_descent(\n",
      "C:\\Users\\User\\anaconda3\\envs\\practicum\\lib\\site-packages\\sklearn\\linear_model\\_coordinate_descent.py:631: ConvergenceWarning: Objective did not converge. You might want to increase the number of iterations, check the scale of the features or consider increasing regularisation. Duality gap: 3.843e+11, tolerance: 2.692e+08 Linear regression models with null weight for the l1 regularization term are more efficiently fitted using one of the solvers implemented in sklearn.linear_model.Ridge/RidgeCV instead.\n",
      "  model = cd_fast.enet_coordinate_descent(\n",
      "C:\\Users\\User\\anaconda3\\envs\\practicum\\lib\\site-packages\\sklearn\\model_selection\\_validation.py:686: UserWarning: With alpha=0, this algorithm does not converge well. You are advised to use the LinearRegression estimator\n",
      "  estimator.fit(X_train, y_train, **fit_params)\n",
      "C:\\Users\\User\\anaconda3\\envs\\practicum\\lib\\site-packages\\sklearn\\linear_model\\_coordinate_descent.py:631: UserWarning: Coordinate descent with no regularization may lead to unexpected results and is discouraged.\n",
      "  model = cd_fast.enet_coordinate_descent(\n",
      "C:\\Users\\User\\anaconda3\\envs\\practicum\\lib\\site-packages\\sklearn\\linear_model\\_coordinate_descent.py:631: ConvergenceWarning: Objective did not converge. You might want to increase the number of iterations, check the scale of the features or consider increasing regularisation. Duality gap: 3.804e+11, tolerance: 2.686e+08 Linear regression models with null weight for the l1 regularization term are more efficiently fitted using one of the solvers implemented in sklearn.linear_model.Ridge/RidgeCV instead.\n",
      "  model = cd_fast.enet_coordinate_descent(\n",
      "C:\\Users\\User\\anaconda3\\envs\\practicum\\lib\\site-packages\\sklearn\\model_selection\\_validation.py:686: UserWarning: With alpha=0, this algorithm does not converge well. You are advised to use the LinearRegression estimator\n",
      "  estimator.fit(X_train, y_train, **fit_params)\n",
      "C:\\Users\\User\\anaconda3\\envs\\practicum\\lib\\site-packages\\sklearn\\linear_model\\_coordinate_descent.py:631: UserWarning: Coordinate descent with no regularization may lead to unexpected results and is discouraged.\n",
      "  model = cd_fast.enet_coordinate_descent(\n",
      "C:\\Users\\User\\anaconda3\\envs\\practicum\\lib\\site-packages\\sklearn\\linear_model\\_coordinate_descent.py:631: ConvergenceWarning: Objective did not converge. You might want to increase the number of iterations, check the scale of the features or consider increasing regularisation. Duality gap: 3.847e+11, tolerance: 2.698e+08 Linear regression models with null weight for the l1 regularization term are more efficiently fitted using one of the solvers implemented in sklearn.linear_model.Ridge/RidgeCV instead.\n",
      "  model = cd_fast.enet_coordinate_descent(\n"
     ]
    },
    {
     "name": "stdout",
     "output_type": "stream",
     "text": [
      "Итоговое значение метрики RMSE для Lasso: 2463.8 при alpha =0.0\n",
      "Итоговое значение метрики RMSE для Lasso: 2464.79 при alpha =0.5\n",
      "Итоговое значение метрики RMSE для Lasso: 2466.85 при alpha =1.0\n",
      "--- 28.242 seconds ---\n"
     ]
    }
   ],
   "source": [
    "start_time = time.time()\n",
    "alphas = np.arange(0, 1.5, 0.5)\n",
    "for alpha in alphas :\n",
    "    lasso = Lasso(alpha = alpha)\n",
    "    rmse_lasso = abs(np.mean(cross_val_score(lasso, features_train, \n",
    "                                        target_train, cv=3, scoring='neg_root_mean_squared_error')))\n",
    "    print(f'Итоговое значение метрики RMSE для Lasso: {round(rmse_lasso, 2)} при alpha ={alpha}') \n",
    "print(\"--- %.3f seconds ---\" % (time.time() - start_time)) "
   ]
  },
  {
   "cell_type": "markdown",
   "metadata": {},
   "source": [
    "Определим время построения модели, подсчета метрики на конкретной модели и время предсказания."
   ]
  },
  {
   "cell_type": "code",
   "execution_count": 37,
   "metadata": {},
   "outputs": [
    {
     "name": "stdout",
     "output_type": "stream",
     "text": [
      "--- 5.854 seconds ---\n",
      "CPU times: total: 22.9 s\n",
      "Wall time: 5.85 s\n"
     ]
    }
   ],
   "source": [
    "%%time\n",
    "start_time = time.time()\n",
    "\n",
    "# построение модели\n",
    "model_lasso = Lasso(alpha = 0.1)\n",
    "model_lasso.fit(features_train, target_train)\n",
    "\n",
    "lasso_fit_time = time.time() - start_time\n",
    "print(\"--- %.3f seconds ---\" % (lasso_fit_time)) "
   ]
  },
  {
   "cell_type": "code",
   "execution_count": 38,
   "metadata": {},
   "outputs": [
    {
     "name": "stdout",
     "output_type": "stream",
     "text": [
      "Итоговое значение метрики RMSE для Lasso: 2463.63\n"
     ]
    }
   ],
   "source": [
    "rmse_lasso = abs(np.mean(cross_val_score(model_lasso, features_train, \n",
    "                                        target_train, cv=5, scoring='neg_root_mean_squared_error')))\n",
    "print('Итоговое значение метрики RMSE для Lasso:', round(rmse_lasso, 2)) "
   ]
  },
  {
   "cell_type": "code",
   "execution_count": 39,
   "metadata": {},
   "outputs": [
    {
     "name": "stdout",
     "output_type": "stream",
     "text": [
      "--- 0.020 seconds ---\n",
      "CPU times: total: 62.5 ms\n",
      "Wall time: 19.9 ms\n"
     ]
    }
   ],
   "source": [
    "%%time\n",
    "start_time = time.time()\n",
    "\n",
    "prediction_lasso = model_lasso.predict(features_valid)\n",
    "\n",
    "lasso_pred_time = time.time() - start_time\n",
    "print(\"--- %.3f seconds ---\" % (lasso_pred_time)) "
   ]
  },
  {
   "cell_type": "markdown",
   "metadata": {},
   "source": [
    "Занесем полученные данные в словарь."
   ]
  },
  {
   "cell_type": "code",
   "execution_count": 40,
   "metadata": {},
   "outputs": [
    {
     "data": {
      "text/plain": [
       "{'rmse': [2463.56, 2463.63],\n",
       " 'fit_time': [0.561, 5.854],\n",
       " 'predict_time': [0.025, 0.02]}"
      ]
     },
     "execution_count": 40,
     "metadata": {},
     "output_type": "execute_result"
    }
   ],
   "source": [
    "total['rmse'].append(round(rmse_lasso, 2))\n",
    "total['fit_time'].append(round((lasso_fit_time),3))\n",
    "total['predict_time'].append(round((lasso_pred_time),3))\n",
    "total"
   ]
  },
  {
   "cell_type": "markdown",
   "metadata": {},
   "source": [
    "**Ridge (L2 регуляризация)**"
   ]
  },
  {
   "cell_type": "code",
   "execution_count": 41,
   "metadata": {},
   "outputs": [
    {
     "name": "stdout",
     "output_type": "stream",
     "text": [
      "Итоговое значение метрики RMSE для Lasso: 2463.8 при alpha =0.0\n",
      "Итоговое значение метрики RMSE для Lasso: 2463.8 при alpha =0.5\n",
      "Итоговое значение метрики RMSE для Lasso: 2463.8 при alpha =1.0\n",
      "--- 1.584 seconds ---\n"
     ]
    }
   ],
   "source": [
    "start_time = time.time()\n",
    "alphas = np.arange(0, 1.5, 0.5)\n",
    "for alpha in alphas :\n",
    "    ridge = Ridge(alpha = alpha)\n",
    "    rmse_ridge = abs(np.mean(cross_val_score(ridge, features_train, \n",
    "                                        target_train, cv=3, scoring='neg_root_mean_squared_error')))\n",
    "    print(f'Итоговое значение метрики RMSE для Lasso: {round(rmse_ridge, 2)} при alpha ={alpha}') \n",
    "print(\"--- %.3f seconds ---\" % (time.time() - start_time)) "
   ]
  },
  {
   "cell_type": "markdown",
   "metadata": {},
   "source": [
    "Определим время построения модели, подсчета метрики на конкретной модели и время предсказания."
   ]
  },
  {
   "cell_type": "code",
   "execution_count": 42,
   "metadata": {},
   "outputs": [
    {
     "name": "stdout",
     "output_type": "stream",
     "text": [
      "--- 0.114 seconds ---\n",
      "CPU times: total: 438 ms\n",
      "Wall time: 114 ms\n"
     ]
    }
   ],
   "source": [
    "%%time\n",
    "start_time = time.time()\n",
    "\n",
    "# построение модели\n",
    "model_ridge = Ridge(alpha = 0.1)\n",
    "model_ridge.fit(features_train, target_train)\n",
    "\n",
    "ridge_fit_time = time.time() - start_time\n",
    "print(\"--- %.3f seconds ---\" % (ridge_fit_time)) "
   ]
  },
  {
   "cell_type": "code",
   "execution_count": 43,
   "metadata": {},
   "outputs": [
    {
     "name": "stdout",
     "output_type": "stream",
     "text": [
      "Итоговое значение метрики RMSE для Lasso: 2463.56\n"
     ]
    }
   ],
   "source": [
    "rmse_ridge = abs(np.mean(cross_val_score(ridge, features_train, \n",
    "                                        target_train, cv=5, scoring='neg_root_mean_squared_error')))\n",
    "print('Итоговое значение метрики RMSE для Lasso:', round(rmse_ridge, 2)) "
   ]
  },
  {
   "cell_type": "code",
   "execution_count": 44,
   "metadata": {},
   "outputs": [
    {
     "name": "stdout",
     "output_type": "stream",
     "text": [
      "--- 0.019 seconds ---\n",
      "CPU times: total: 62.5 ms\n",
      "Wall time: 18.9 ms\n"
     ]
    }
   ],
   "source": [
    "%%time\n",
    "start_time = time.time()\n",
    "\n",
    "prediction_ridge = model_ridge.predict(features_valid)\n",
    "\n",
    "ridge_pred_time = time.time() - start_time\n",
    "print(\"--- %.3f seconds ---\" % (ridge_pred_time)) "
   ]
  },
  {
   "cell_type": "markdown",
   "metadata": {},
   "source": [
    "Занесем полученные данные в словарь."
   ]
  },
  {
   "cell_type": "code",
   "execution_count": 45,
   "metadata": {},
   "outputs": [
    {
     "data": {
      "text/plain": [
       "{'rmse': [2463.56, 2463.63, 2463.56],\n",
       " 'fit_time': [0.561, 5.854, 0.114],\n",
       " 'predict_time': [0.025, 0.02, 0.019]}"
      ]
     },
     "execution_count": 45,
     "metadata": {},
     "output_type": "execute_result"
    }
   ],
   "source": [
    "total['rmse'].append(round(rmse_ridge, 2))\n",
    "total['fit_time'].append(round((ridge_fit_time),3))\n",
    "total['predict_time'].append(round((ridge_pred_time),3))\n",
    "total"
   ]
  },
  {
   "cell_type": "markdown",
   "metadata": {},
   "source": [
    "### Модель CatBoost"
   ]
  },
  {
   "cell_type": "markdown",
   "metadata": {},
   "source": [
    "Выделим категориальные признаки отдельно и подготовим выборки для обучения. "
   ]
  },
  {
   "cell_type": "code",
   "execution_count": 46,
   "metadata": {},
   "outputs": [],
   "source": [
    "features_train_boost, features_test_boost, target_train_boost, target_test_boost = train_test_split(\n",
    "    data.drop(['price'], axis=1), data['price'], test_size=0.25, random_state=12345)"
   ]
  },
  {
   "cell_type": "markdown",
   "metadata": {},
   "source": [
    "С помощью RandomizedSearchCV подберем гиперпараметры. "
   ]
  },
  {
   "cell_type": "code",
   "execution_count": 47,
   "metadata": {},
   "outputs": [
    {
     "name": "stderr",
     "output_type": "stream",
     "text": [
      "C:\\Users\\User\\anaconda3\\envs\\practicum\\lib\\site-packages\\sklearn\\model_selection\\_validation.py:378: FitFailedWarning: \n",
      "9 fits failed out of a total of 30.\n",
      "The score on these train-test partitions for these parameters will be set to nan.\n",
      "If these failures are not expected, you can try to debug them by setting error_score='raise'.\n",
      "\n",
      "Below are more details about the failures:\n",
      "--------------------------------------------------------------------------------\n",
      "9 fits failed with the following error:\n",
      "Traceback (most recent call last):\n",
      "  File \"C:\\Users\\User\\anaconda3\\envs\\practicum\\lib\\site-packages\\sklearn\\model_selection\\_validation.py\", line 686, in _fit_and_score\n",
      "    estimator.fit(X_train, y_train, **fit_params)\n",
      "  File \"C:\\Users\\User\\anaconda3\\envs\\practicum\\lib\\site-packages\\catboost\\core.py\", line 5299, in fit\n",
      "    return self._fit(X, y, cat_features, None, None, None, sample_weight, None, None, None, None, baseline,\n",
      "  File \"C:\\Users\\User\\anaconda3\\envs\\practicum\\lib\\site-packages\\catboost\\core.py\", line 2021, in _fit\n",
      "    train_params = self._prepare_train_params(\n",
      "  File \"C:\\Users\\User\\anaconda3\\envs\\practicum\\lib\\site-packages\\catboost\\core.py\", line 1953, in _prepare_train_params\n",
      "    _check_train_params(params)\n",
      "  File \"_catboost.pyx\", line 5839, in _catboost._check_train_params\n",
      "  File \"_catboost.pyx\", line 5858, in _catboost._check_train_params\n",
      "_catboost.CatBoostError: C:/Program Files (x86)/Go Agent/pipelines/BuildMaster/catboost.git/catboost/private/libs/options/oblivious_tree_options.cpp:122: Maximum tree depth is 16\n",
      "\n",
      "  warnings.warn(some_fits_failed_message, FitFailedWarning)\n",
      "C:\\Users\\User\\anaconda3\\envs\\practicum\\lib\\site-packages\\sklearn\\model_selection\\_search.py:952: UserWarning: One or more of the test scores are non-finite: [-1616.72580039            nan -1610.012331   -1612.29772899\n",
      " -1692.52680317 -1627.28962881            nan            nan\n",
      " -1608.80220459 -1610.8424343 ]\n",
      "  warnings.warn(\n"
     ]
    },
    {
     "name": "stdout",
     "output_type": "stream",
     "text": [
      "--- 1145.897 seconds ---\n"
     ]
    }
   ],
   "source": [
    "start_time = time.time()\n",
    "params = {\n",
    "    'learning_rate':[0.5],\n",
    "    'depth': [3, 9, 12, 18] ,\n",
    "    'l2_leaf_reg': [1, 3, 6, 9]  \n",
    "}\n",
    "\n",
    "grid_cat = RandomizedSearchCV(CatBoostRegressor(loss_function=\"RMSE\", iterations=200, silent=True),\n",
    "                    param_distributions=params,\n",
    "                    cv=3,\n",
    "                    scoring='neg_root_mean_squared_error',\n",
    "                    verbose=False)\n",
    "\n",
    "grid_cat.fit(features_train_boost, target_train_boost, cat_features=categorical_columns)\n",
    "print(\"--- %.3f seconds ---\" % (time.time() - start_time)) "
   ]
  },
  {
   "cell_type": "markdown",
   "metadata": {},
   "source": [
    "Лучшие параметры для подсчета метрики"
   ]
  },
  {
   "cell_type": "code",
   "execution_count": 48,
   "metadata": {},
   "outputs": [
    {
     "data": {
      "text/plain": [
       "{'learning_rate': 0.5, 'l2_leaf_reg': 9, 'depth': 9}"
      ]
     },
     "execution_count": 48,
     "metadata": {},
     "output_type": "execute_result"
    }
   ],
   "source": [
    "grid_cat.best_params_"
   ]
  },
  {
   "cell_type": "markdown",
   "metadata": {},
   "source": [
    "Обучим модель и посчитаем время."
   ]
  },
  {
   "cell_type": "code",
   "execution_count": 49,
   "metadata": {},
   "outputs": [
    {
     "name": "stdout",
     "output_type": "stream",
     "text": [
      "--- 101.264 seconds ---\n",
      "CPU times: total: 2min 47s\n",
      "Wall time: 1min 41s\n"
     ]
    }
   ],
   "source": [
    "%%time\n",
    "start_time = time.time()\n",
    "\n",
    "model_cat = CatBoostRegressor(loss_function=\"RMSE\", iterations=200, min_data_in_leaf=50, \n",
    "                           learning_rate=0.5, depth=9, l2_leaf_reg=9, verbose=False)\n",
    "\n",
    "model_cat.fit(features_train_boost, target_train_boost, cat_features=categorical_columns)\n",
    "\n",
    "cat_fit_time = time.time() - start_time\n",
    "print(\"--- %.3f seconds ---\" % (cat_fit_time)) "
   ]
  },
  {
   "cell_type": "markdown",
   "metadata": {},
   "source": [
    "Посчитам время предсказания и метрику rmse"
   ]
  },
  {
   "cell_type": "code",
   "execution_count": 50,
   "metadata": {},
   "outputs": [
    {
     "name": "stdout",
     "output_type": "stream",
     "text": [
      "--- 0.394 seconds ---\n",
      "Итоговое значение метрики RMSE для модели CatBoost: 1602.77\n",
      "CPU times: total: 750 ms\n",
      "Wall time: 395 ms\n"
     ]
    }
   ],
   "source": [
    "%%time\n",
    "start_time = time.time()\n",
    "prediction_cat = model_cat.predict(features_test_boost)\n",
    "\n",
    "cat_pred_time = time.time() - start_time\n",
    "print(\"--- %.3f seconds ---\" % (cat_pred_time)) \n",
    "\n",
    "rmse_cat = mean_squared_error(target_test_boost, prediction_cat) ** 0.5\n",
    "print('Итоговое значение метрики RMSE для модели CatBoost:', round(rmse_cat, 2))"
   ]
  },
  {
   "cell_type": "markdown",
   "metadata": {},
   "source": [
    "Занесем полученные данные в словарь."
   ]
  },
  {
   "cell_type": "code",
   "execution_count": 51,
   "metadata": {},
   "outputs": [
    {
     "data": {
      "text/plain": [
       "{'rmse': [2463.56, 2463.63, 2463.56, 1602.77],\n",
       " 'fit_time': [0.561, 5.854, 0.114, 101.264],\n",
       " 'predict_time': [0.025, 0.02, 0.019, 0.394]}"
      ]
     },
     "execution_count": 51,
     "metadata": {},
     "output_type": "execute_result"
    }
   ],
   "source": [
    "total['rmse'].append(round(rmse_cat, 2))\n",
    "total['fit_time'].append(round((cat_fit_time),3))\n",
    "total['predict_time'].append(round((cat_pred_time),3))\n",
    "total"
   ]
  },
  {
   "cell_type": "markdown",
   "metadata": {},
   "source": [
    "### Модель LightGBM"
   ]
  },
  {
   "cell_type": "markdown",
   "metadata": {},
   "source": [
    "Выделим категориальные признаки отдельно и подготовим выборки для обучения. "
   ]
  },
  {
   "cell_type": "code",
   "execution_count": 52,
   "metadata": {},
   "outputs": [],
   "source": [
    "features_train_boost[categorical_columns] = features_train_boost[categorical_columns].astype('category')\n",
    "features_test_boost[categorical_columns] = features_test_boost[categorical_columns].astype('category')"
   ]
  },
  {
   "cell_type": "markdown",
   "metadata": {},
   "source": [
    "С помощью RandomizedSearchCV подберем гиперпараметры. "
   ]
  },
  {
   "cell_type": "code",
   "execution_count": 53,
   "metadata": {
    "scrolled": false
   },
   "outputs": [
    {
     "name": "stderr",
     "output_type": "stream",
     "text": [
      "C:\\Users\\User\\anaconda3\\envs\\practicum\\lib\\site-packages\\sklearn\\model_selection\\_search.py:305: UserWarning: The total space of parameters 9 is smaller than n_iter=10. Running 9 iterations. For exhaustive searches, use GridSearchCV.\n",
      "  warnings.warn(\n",
      "C:\\Users\\User\\anaconda3\\envs\\practicum\\lib\\site-packages\\lightgbm\\engine.py:177: UserWarning: Found `num_iterations` in params. Will use it instead of argument\n",
      "  _log_warning(f\"Found `{alias}` in params. Will use it instead of argument\")\n",
      "C:\\Users\\User\\anaconda3\\envs\\practicum\\lib\\site-packages\\lightgbm\\basic.py:2065: UserWarning: Using categorical_feature in Dataset.\n",
      "  _log_warning('Using categorical_feature in Dataset.')\n",
      "C:\\Users\\User\\anaconda3\\envs\\practicum\\lib\\site-packages\\lightgbm\\engine.py:177: UserWarning: Found `num_iterations` in params. Will use it instead of argument\n",
      "  _log_warning(f\"Found `{alias}` in params. Will use it instead of argument\")\n",
      "C:\\Users\\User\\anaconda3\\envs\\practicum\\lib\\site-packages\\lightgbm\\basic.py:2065: UserWarning: Using categorical_feature in Dataset.\n",
      "  _log_warning('Using categorical_feature in Dataset.')\n",
      "C:\\Users\\User\\anaconda3\\envs\\practicum\\lib\\site-packages\\lightgbm\\engine.py:177: UserWarning: Found `num_iterations` in params. Will use it instead of argument\n",
      "  _log_warning(f\"Found `{alias}` in params. Will use it instead of argument\")\n",
      "C:\\Users\\User\\anaconda3\\envs\\practicum\\lib\\site-packages\\lightgbm\\basic.py:2065: UserWarning: Using categorical_feature in Dataset.\n",
      "  _log_warning('Using categorical_feature in Dataset.')\n",
      "C:\\Users\\User\\anaconda3\\envs\\practicum\\lib\\site-packages\\lightgbm\\engine.py:177: UserWarning: Found `num_iterations` in params. Will use it instead of argument\n",
      "  _log_warning(f\"Found `{alias}` in params. Will use it instead of argument\")\n",
      "C:\\Users\\User\\anaconda3\\envs\\practicum\\lib\\site-packages\\lightgbm\\basic.py:2065: UserWarning: Using categorical_feature in Dataset.\n",
      "  _log_warning('Using categorical_feature in Dataset.')\n",
      "C:\\Users\\User\\anaconda3\\envs\\practicum\\lib\\site-packages\\lightgbm\\engine.py:177: UserWarning: Found `num_iterations` in params. Will use it instead of argument\n",
      "  _log_warning(f\"Found `{alias}` in params. Will use it instead of argument\")\n",
      "C:\\Users\\User\\anaconda3\\envs\\practicum\\lib\\site-packages\\lightgbm\\basic.py:2065: UserWarning: Using categorical_feature in Dataset.\n",
      "  _log_warning('Using categorical_feature in Dataset.')\n",
      "C:\\Users\\User\\anaconda3\\envs\\practicum\\lib\\site-packages\\lightgbm\\engine.py:177: UserWarning: Found `num_iterations` in params. Will use it instead of argument\n",
      "  _log_warning(f\"Found `{alias}` in params. Will use it instead of argument\")\n",
      "C:\\Users\\User\\anaconda3\\envs\\practicum\\lib\\site-packages\\lightgbm\\basic.py:2065: UserWarning: Using categorical_feature in Dataset.\n",
      "  _log_warning('Using categorical_feature in Dataset.')\n",
      "C:\\Users\\User\\anaconda3\\envs\\practicum\\lib\\site-packages\\lightgbm\\engine.py:177: UserWarning: Found `num_iterations` in params. Will use it instead of argument\n",
      "  _log_warning(f\"Found `{alias}` in params. Will use it instead of argument\")\n",
      "C:\\Users\\User\\anaconda3\\envs\\practicum\\lib\\site-packages\\lightgbm\\basic.py:2065: UserWarning: Using categorical_feature in Dataset.\n",
      "  _log_warning('Using categorical_feature in Dataset.')\n",
      "C:\\Users\\User\\anaconda3\\envs\\practicum\\lib\\site-packages\\lightgbm\\engine.py:177: UserWarning: Found `num_iterations` in params. Will use it instead of argument\n",
      "  _log_warning(f\"Found `{alias}` in params. Will use it instead of argument\")\n",
      "C:\\Users\\User\\anaconda3\\envs\\practicum\\lib\\site-packages\\lightgbm\\basic.py:2065: UserWarning: Using categorical_feature in Dataset.\n",
      "  _log_warning('Using categorical_feature in Dataset.')\n",
      "C:\\Users\\User\\anaconda3\\envs\\practicum\\lib\\site-packages\\lightgbm\\engine.py:177: UserWarning: Found `num_iterations` in params. Will use it instead of argument\n",
      "  _log_warning(f\"Found `{alias}` in params. Will use it instead of argument\")\n",
      "C:\\Users\\User\\anaconda3\\envs\\practicum\\lib\\site-packages\\lightgbm\\basic.py:2065: UserWarning: Using categorical_feature in Dataset.\n",
      "  _log_warning('Using categorical_feature in Dataset.')\n",
      "C:\\Users\\User\\anaconda3\\envs\\practicum\\lib\\site-packages\\lightgbm\\engine.py:177: UserWarning: Found `num_iterations` in params. Will use it instead of argument\n",
      "  _log_warning(f\"Found `{alias}` in params. Will use it instead of argument\")\n",
      "C:\\Users\\User\\anaconda3\\envs\\practicum\\lib\\site-packages\\lightgbm\\basic.py:2065: UserWarning: Using categorical_feature in Dataset.\n",
      "  _log_warning('Using categorical_feature in Dataset.')\n",
      "C:\\Users\\User\\anaconda3\\envs\\practicum\\lib\\site-packages\\lightgbm\\engine.py:177: UserWarning: Found `num_iterations` in params. Will use it instead of argument\n",
      "  _log_warning(f\"Found `{alias}` in params. Will use it instead of argument\")\n",
      "C:\\Users\\User\\anaconda3\\envs\\practicum\\lib\\site-packages\\lightgbm\\basic.py:2065: UserWarning: Using categorical_feature in Dataset.\n",
      "  _log_warning('Using categorical_feature in Dataset.')\n",
      "C:\\Users\\User\\anaconda3\\envs\\practicum\\lib\\site-packages\\lightgbm\\engine.py:177: UserWarning: Found `num_iterations` in params. Will use it instead of argument\n",
      "  _log_warning(f\"Found `{alias}` in params. Will use it instead of argument\")\n",
      "C:\\Users\\User\\anaconda3\\envs\\practicum\\lib\\site-packages\\lightgbm\\basic.py:2065: UserWarning: Using categorical_feature in Dataset.\n",
      "  _log_warning('Using categorical_feature in Dataset.')\n",
      "C:\\Users\\User\\anaconda3\\envs\\practicum\\lib\\site-packages\\lightgbm\\engine.py:177: UserWarning: Found `num_iterations` in params. Will use it instead of argument\n",
      "  _log_warning(f\"Found `{alias}` in params. Will use it instead of argument\")\n",
      "C:\\Users\\User\\anaconda3\\envs\\practicum\\lib\\site-packages\\lightgbm\\basic.py:2065: UserWarning: Using categorical_feature in Dataset.\n",
      "  _log_warning('Using categorical_feature in Dataset.')\n",
      "C:\\Users\\User\\anaconda3\\envs\\practicum\\lib\\site-packages\\lightgbm\\engine.py:177: UserWarning: Found `num_iterations` in params. Will use it instead of argument\n",
      "  _log_warning(f\"Found `{alias}` in params. Will use it instead of argument\")\n",
      "C:\\Users\\User\\anaconda3\\envs\\practicum\\lib\\site-packages\\lightgbm\\basic.py:2065: UserWarning: Using categorical_feature in Dataset.\n",
      "  _log_warning('Using categorical_feature in Dataset.')\n",
      "C:\\Users\\User\\anaconda3\\envs\\practicum\\lib\\site-packages\\lightgbm\\engine.py:177: UserWarning: Found `num_iterations` in params. Will use it instead of argument\n",
      "  _log_warning(f\"Found `{alias}` in params. Will use it instead of argument\")\n",
      "C:\\Users\\User\\anaconda3\\envs\\practicum\\lib\\site-packages\\lightgbm\\basic.py:2065: UserWarning: Using categorical_feature in Dataset.\n",
      "  _log_warning('Using categorical_feature in Dataset.')\n",
      "C:\\Users\\User\\anaconda3\\envs\\practicum\\lib\\site-packages\\lightgbm\\engine.py:177: UserWarning: Found `num_iterations` in params. Will use it instead of argument\n",
      "  _log_warning(f\"Found `{alias}` in params. Will use it instead of argument\")\n",
      "C:\\Users\\User\\anaconda3\\envs\\practicum\\lib\\site-packages\\lightgbm\\basic.py:2065: UserWarning: Using categorical_feature in Dataset.\n",
      "  _log_warning('Using categorical_feature in Dataset.')\n",
      "C:\\Users\\User\\anaconda3\\envs\\practicum\\lib\\site-packages\\lightgbm\\engine.py:177: UserWarning: Found `num_iterations` in params. Will use it instead of argument\n",
      "  _log_warning(f\"Found `{alias}` in params. Will use it instead of argument\")\n",
      "C:\\Users\\User\\anaconda3\\envs\\practicum\\lib\\site-packages\\lightgbm\\basic.py:2065: UserWarning: Using categorical_feature in Dataset.\n",
      "  _log_warning('Using categorical_feature in Dataset.')\n",
      "C:\\Users\\User\\anaconda3\\envs\\practicum\\lib\\site-packages\\lightgbm\\engine.py:177: UserWarning: Found `num_iterations` in params. Will use it instead of argument\n",
      "  _log_warning(f\"Found `{alias}` in params. Will use it instead of argument\")\n",
      "C:\\Users\\User\\anaconda3\\envs\\practicum\\lib\\site-packages\\lightgbm\\basic.py:2065: UserWarning: Using categorical_feature in Dataset.\n",
      "  _log_warning('Using categorical_feature in Dataset.')\n",
      "C:\\Users\\User\\anaconda3\\envs\\practicum\\lib\\site-packages\\sklearn\\model_selection\\_validation.py:378: FitFailedWarning: \n",
      "9 fits failed out of a total of 27.\n",
      "The score on these train-test partitions for these parameters will be set to nan.\n",
      "If these failures are not expected, you can try to debug them by setting error_score='raise'.\n",
      "\n",
      "Below are more details about the failures:\n",
      "--------------------------------------------------------------------------------\n",
      "9 fits failed with the following error:\n",
      "Traceback (most recent call last):\n",
      "  File \"C:\\Users\\User\\anaconda3\\envs\\practicum\\lib\\site-packages\\sklearn\\model_selection\\_validation.py\", line 686, in _fit_and_score\n",
      "    estimator.fit(X_train, y_train, **fit_params)\n",
      "  File \"C:\\Users\\User\\anaconda3\\envs\\practicum\\lib\\site-packages\\lightgbm\\sklearn.py\", line 895, in fit\n",
      "    super().fit(X, y, sample_weight=sample_weight, init_score=init_score,\n",
      "  File \"C:\\Users\\User\\anaconda3\\envs\\practicum\\lib\\site-packages\\lightgbm\\sklearn.py\", line 748, in fit\n",
      "    self._Booster = train(\n",
      "  File \"C:\\Users\\User\\anaconda3\\envs\\practicum\\lib\\site-packages\\lightgbm\\engine.py\", line 271, in train\n",
      "    booster = Booster(params=params, train_set=train_set)\n",
      "  File \"C:\\Users\\User\\anaconda3\\envs\\practicum\\lib\\site-packages\\lightgbm\\basic.py\", line 2605, in __init__\n",
      "    train_set.construct()\n",
      "  File \"C:\\Users\\User\\anaconda3\\envs\\practicum\\lib\\site-packages\\lightgbm\\basic.py\", line 1815, in construct\n",
      "    self._lazy_init(self.data, label=self.label,\n",
      "  File \"C:\\Users\\User\\anaconda3\\envs\\practicum\\lib\\site-packages\\lightgbm\\basic.py\", line 1538, in _lazy_init\n",
      "    self.__init_from_np2d(data, params_str, ref_dataset)\n",
      "  File \"C:\\Users\\User\\anaconda3\\envs\\practicum\\lib\\site-packages\\lightgbm\\basic.py\", line 1659, in __init_from_np2d\n",
      "    _safe_call(_LIB.LGBM_DatasetCreateFromMat(\n",
      "  File \"C:\\Users\\User\\anaconda3\\envs\\practicum\\lib\\site-packages\\lightgbm\\basic.py\", line 125, in _safe_call\n",
      "    raise LightGBMError(_LIB.LGBM_GetLastError().decode('utf-8'))\n",
      "lightgbm.basic.LightGBMError: Check failed: (num_leaves) > (1) at C:\\b\\abs_636j7r6zqr\\croot\\lightgbm_1677766516694\\work\\compile\\src\\io\\config_auto.cpp, line 334 .\n",
      "\n",
      "\n",
      "  warnings.warn(some_fits_failed_message, FitFailedWarning)\n",
      "C:\\Users\\User\\anaconda3\\envs\\practicum\\lib\\site-packages\\sklearn\\model_selection\\_search.py:952: UserWarning: One or more of the test scores are non-finite: [           nan -1652.42661805 -1652.42661805            nan\n",
      " -1617.61143616 -1629.6954496             nan -1652.42661805\n",
      " -1652.42661805]\n",
      "  warnings.warn(\n",
      "C:\\Users\\User\\anaconda3\\envs\\practicum\\lib\\site-packages\\lightgbm\\engine.py:177: UserWarning: Found `num_iterations` in params. Will use it instead of argument\n",
      "  _log_warning(f\"Found `{alias}` in params. Will use it instead of argument\")\n",
      "C:\\Users\\User\\anaconda3\\envs\\practicum\\lib\\site-packages\\lightgbm\\basic.py:2065: UserWarning: Using categorical_feature in Dataset.\n",
      "  _log_warning('Using categorical_feature in Dataset.')\n"
     ]
    },
    {
     "name": "stdout",
     "output_type": "stream",
     "text": [
      "--- 119.89977049827576 seconds ---\n"
     ]
    }
   ],
   "source": [
    "start_time = time.time()\n",
    "\n",
    "params = {\n",
    "    'learning_rate': [0.5],\n",
    "    'max_depth': [3, 16, 3],\n",
    "    'num_leaves': [0, 30, 10],\n",
    "}\n",
    "\n",
    "grid_lgbm = RandomizedSearchCV(LGBMRegressor(random_state=123, num_iterations=200),\n",
    "                    param_distributions=params,\n",
    "                    cv=3,\n",
    "                    scoring='neg_root_mean_squared_error',\n",
    "                    verbose=False)\n",
    "\n",
    "grid_lgbm.fit(features_train_boost, target_train_boost, categorical_feature=categorical_columns)\n",
    "\n",
    "print(\"--- %s seconds ---\" % (time.time() - start_time)) "
   ]
  },
  {
   "cell_type": "markdown",
   "metadata": {},
   "source": [
    "Лучшие параметры для подсчета метрики"
   ]
  },
  {
   "cell_type": "code",
   "execution_count": 54,
   "metadata": {},
   "outputs": [
    {
     "data": {
      "text/plain": [
       "{'num_leaves': 30, 'max_depth': 16, 'learning_rate': 0.5}"
      ]
     },
     "execution_count": 54,
     "metadata": {},
     "output_type": "execute_result"
    }
   ],
   "source": [
    "grid_lgbm.best_params_"
   ]
  },
  {
   "cell_type": "markdown",
   "metadata": {},
   "source": [
    "Обучим модель и посчитаем время."
   ]
  },
  {
   "cell_type": "code",
   "execution_count": 55,
   "metadata": {},
   "outputs": [
    {
     "name": "stdout",
     "output_type": "stream",
     "text": [
      "--- 8.394 seconds ---\n",
      "CPU times: total: 6 s\n",
      "Wall time: 8.39 s\n"
     ]
    }
   ],
   "source": [
    "%%time\n",
    "start_time = time.time()\n",
    "\n",
    "model_lgbm = LGBMRegressor(random_state=123, num_iterations=200, min_data_in_leaf=50, \n",
    "                           learning_rate=0.5, max_depth=16, num_leaves=30, boost='gbdt')\n",
    "\n",
    "model_lgbm.fit(features_train_boost, target_train_boost, categorical_feature=categorical_columns)\n",
    "\n",
    "lgbm_fit_time = time.time() - start_time\n",
    "print(\"--- %.3f seconds ---\" % (lgbm_fit_time)) "
   ]
  },
  {
   "cell_type": "markdown",
   "metadata": {},
   "source": [
    "Посчитам время предсказания и метрику rmse"
   ]
  },
  {
   "cell_type": "code",
   "execution_count": 56,
   "metadata": {},
   "outputs": [
    {
     "name": "stdout",
     "output_type": "stream",
     "text": [
      "--- 0.368 seconds ---\n",
      "Итоговое значение метрики RMSE для модели LightGBM: 1598.0\n",
      "CPU times: total: 1.25 s\n",
      "Wall time: 368 ms\n"
     ]
    }
   ],
   "source": [
    "%%time\n",
    "start_time = time.time()\n",
    "\n",
    "prediction_lgbm = model_lgbm.predict(features_test_boost)\n",
    "\n",
    "lgbm_pred_time = time.time() - start_time\n",
    "print(\"--- %.3f seconds ---\" % (lgbm_pred_time)) \n",
    "\n",
    "rmse_lgbm = mean_squared_error(target_test_boost, prediction_lgbm) ** 0.5\n",
    "print('Итоговое значение метрики RMSE для модели LightGBM:', round(rmse_lgbm, 2))"
   ]
  },
  {
   "cell_type": "markdown",
   "metadata": {},
   "source": [
    "Занесем полученные данные в словарь."
   ]
  },
  {
   "cell_type": "code",
   "execution_count": 57,
   "metadata": {},
   "outputs": [
    {
     "data": {
      "text/plain": [
       "{'rmse': [2463.56, 2463.63, 2463.56, 1602.77, 1598.0],\n",
       " 'fit_time': [0.561, 5.854, 0.114, 101.264, 8.394],\n",
       " 'predict_time': [0.025, 0.02, 0.019, 0.394, 0.368]}"
      ]
     },
     "execution_count": 57,
     "metadata": {},
     "output_type": "execute_result"
    }
   ],
   "source": [
    "total['rmse'].append(round(rmse_lgbm, 2))\n",
    "total['fit_time'].append(round((lgbm_fit_time),3))\n",
    "total['predict_time'].append(round((lgbm_pred_time),3))\n",
    "total"
   ]
  },
  {
   "cell_type": "markdown",
   "metadata": {},
   "source": [
    "### Модель Constant"
   ]
  },
  {
   "cell_type": "code",
   "execution_count": 58,
   "metadata": {},
   "outputs": [
    {
     "name": "stdout",
     "output_type": "stream",
     "text": [
      "--- 0.000 seconds ---\n",
      "Итоговое значение метрики RMSE для модели Constant: 4640.54\n",
      "CPU times: total: 0 ns\n",
      "Wall time: 0 ns\n"
     ]
    }
   ],
   "source": [
    "%%time\n",
    "start_time = time.time()\n",
    "\n",
    "prediction_const = np.ones(len(target_valid))* target_train.mean()\n",
    "\n",
    "const_pred_time = time.time() - start_time\n",
    "print(\"--- %.3f seconds ---\" % (const_pred_time)) \n",
    "\n",
    "rmse_const = mean_squared_error(target_valid, prediction_const) ** 0.5\n",
    "print('Итоговое значение метрики RMSE для модели Constant:', round(rmse_const, 2))"
   ]
  },
  {
   "cell_type": "markdown",
   "metadata": {},
   "source": [
    "Занесем полученные данные в словарь."
   ]
  },
  {
   "cell_type": "code",
   "execution_count": 59,
   "metadata": {},
   "outputs": [
    {
     "data": {
      "text/plain": [
       "{'rmse': [2463.56, 2463.63, 2463.56, 1602.77, 1598.0, 4640.54],\n",
       " 'fit_time': [0.561, 5.854, 0.114, 101.264, 8.394, 0],\n",
       " 'predict_time': [0.025, 0.02, 0.019, 0.394, 0.368, 0.0]}"
      ]
     },
     "execution_count": 59,
     "metadata": {},
     "output_type": "execute_result"
    }
   ],
   "source": [
    "total['rmse'].append(round(rmse_const, 2))\n",
    "total['fit_time'].append(0)\n",
    "total['predict_time'].append(round((const_pred_time),3))\n",
    "total"
   ]
  },
  {
   "cell_type": "markdown",
   "metadata": {},
   "source": [
    "**Вывод:**\n",
    "1. Провели обучение моделей линейной регрессии без/с регуляризацией, а также модели градиентного бустинга LightGBM и CatBoost.\n",
    "2. Измерили время обучения/предсказания моделей, а так же качество предсказаний по метрике RMSE."
   ]
  },
  {
   "cell_type": "markdown",
   "metadata": {},
   "source": [
    "[Оглавление](#intro).\n",
    "<a id='task5'></a>"
   ]
  },
  {
   "cell_type": "markdown",
   "metadata": {},
   "source": [
    "## Анализ моделей"
   ]
  },
  {
   "cell_type": "code",
   "execution_count": 60,
   "metadata": {
    "scrolled": false
   },
   "outputs": [
    {
     "data": {
      "text/html": [
       "<div>\n",
       "<style scoped>\n",
       "    .dataframe tbody tr th:only-of-type {\n",
       "        vertical-align: middle;\n",
       "    }\n",
       "\n",
       "    .dataframe tbody tr th {\n",
       "        vertical-align: top;\n",
       "    }\n",
       "\n",
       "    .dataframe thead th {\n",
       "        text-align: right;\n",
       "    }\n",
       "</style>\n",
       "<table border=\"1\" class=\"dataframe\">\n",
       "  <thead>\n",
       "    <tr style=\"text-align: right;\">\n",
       "      <th></th>\n",
       "      <th>rmse</th>\n",
       "      <th>fit_time</th>\n",
       "      <th>predict_time</th>\n",
       "    </tr>\n",
       "  </thead>\n",
       "  <tbody>\n",
       "    <tr>\n",
       "      <th>LinearRegression</th>\n",
       "      <td>2463.56</td>\n",
       "      <td>0.561</td>\n",
       "      <td>0.025</td>\n",
       "    </tr>\n",
       "    <tr>\n",
       "      <th>Lasso</th>\n",
       "      <td>2463.63</td>\n",
       "      <td>5.854</td>\n",
       "      <td>0.020</td>\n",
       "    </tr>\n",
       "    <tr>\n",
       "      <th>Ridge</th>\n",
       "      <td>2463.56</td>\n",
       "      <td>0.114</td>\n",
       "      <td>0.019</td>\n",
       "    </tr>\n",
       "    <tr>\n",
       "      <th>CatBoost</th>\n",
       "      <td>1602.77</td>\n",
       "      <td>101.264</td>\n",
       "      <td>0.394</td>\n",
       "    </tr>\n",
       "    <tr>\n",
       "      <th>LGBM</th>\n",
       "      <td>1598.00</td>\n",
       "      <td>8.394</td>\n",
       "      <td>0.368</td>\n",
       "    </tr>\n",
       "    <tr>\n",
       "      <th>Constant</th>\n",
       "      <td>4640.54</td>\n",
       "      <td>0.000</td>\n",
       "      <td>0.000</td>\n",
       "    </tr>\n",
       "  </tbody>\n",
       "</table>\n",
       "</div>"
      ],
      "text/plain": [
       "                     rmse  fit_time  predict_time\n",
       "LinearRegression  2463.56     0.561         0.025\n",
       "Lasso             2463.63     5.854         0.020\n",
       "Ridge             2463.56     0.114         0.019\n",
       "CatBoost          1602.77   101.264         0.394\n",
       "LGBM              1598.00     8.394         0.368\n",
       "Constant          4640.54     0.000         0.000"
      ]
     },
     "execution_count": 60,
     "metadata": {},
     "output_type": "execute_result"
    }
   ],
   "source": [
    "pd.DataFrame(total, index=['LinearRegression', 'Lasso', 'Ridge', 'CatBoost', 'LGBM', 'Constant'])"
   ]
  },
  {
   "cell_type": "markdown",
   "metadata": {},
   "source": [
    "[Оглавление](#intro).\n",
    "<a id='task6'></a>"
   ]
  },
  {
   "cell_type": "markdown",
   "metadata": {},
   "source": [
    "## Общий вывод"
   ]
  },
  {
   "cell_type": "markdown",
   "metadata": {},
   "source": [
    "1. Импортировали необходимые библиотеки.\n",
    "2. Считали данные из csv-файла.\n",
    "3. Вывели общую информацию по датафрейму: \n",
    "    - в датафрейме 16 столбцов и 354.369 строк;\n",
    "    - присутствуют некорректно названные столбцы (не в змеином регистре);\n",
    "    - в датасете присутствуют пропуски;\n",
    "    - общая занимаемая память 43.3+ MB.\n",
    "4. На этапе 'Предобработка данных': \n",
    "    - Исправили названния столбцов (привели к змеиному регистру).\n",
    "    - Удалили из датасета дубликаты.\n",
    "    - Удалили признаки `DateCrawled`, `DateCreated`, `NumberOfPictures`,`PostalCode`, `LastSeen`, `model`, так как в них нет необходимости при расчете моделей.\n",
    "    - Обработали пропуски в датасете. \n",
    "    - Устранили явные выбросы в признаках 'registration_year', 'power', 'price'. \n",
    "    - Устранили дубликаты на новом датасете. \n",
    "5. Из таблицы в главе \"Анализ моделей\" видно, что модель линейной регрессии имеет такое же качество предсказаний, как и с регулеризацией. Модель с регулиризацией Ridge дает преимущество по времени в обучении. \n",
    "6. Модели градиентного бустинга 'CatBoost' и 'LGBM' дают заметное улучшение качества метрики, при этом могут обрабатывать и категориальные признаки тоже. 'CatBoost' уступает 'LGBM' по времени обучения, но имеет небольшое преимущество по времени предсказания. "
   ]
  }
 ],
 "metadata": {
  "ExecuteTimeLog": [
   {
    "duration": 1607,
    "start_time": "2023-05-15T22:14:37.290Z"
   },
   {
    "duration": 1129,
    "start_time": "2023-05-15T22:16:13.378Z"
   },
   {
    "duration": 23,
    "start_time": "2023-05-15T22:19:23.822Z"
   },
   {
    "duration": 141,
    "start_time": "2023-05-15T22:19:57.509Z"
   },
   {
    "duration": 201,
    "start_time": "2023-05-15T22:28:26.334Z"
   },
   {
    "duration": 4,
    "start_time": "2023-05-15T22:28:49.325Z"
   },
   {
    "duration": 271,
    "start_time": "2023-05-15T22:28:53.070Z"
   },
   {
    "duration": 145,
    "start_time": "2023-05-15T22:28:56.149Z"
   },
   {
    "duration": 151,
    "start_time": "2023-05-15T22:29:17.510Z"
   },
   {
    "duration": 3,
    "start_time": "2023-05-15T22:34:01.442Z"
   },
   {
    "duration": 2,
    "start_time": "2023-05-15T22:34:02.663Z"
   },
   {
    "duration": 4,
    "start_time": "2023-05-15T22:34:42.219Z"
   },
   {
    "duration": 1092,
    "start_time": "2023-05-15T22:41:35.964Z"
   },
   {
    "duration": 118,
    "start_time": "2023-05-16T21:31:36.298Z"
   },
   {
    "duration": 84,
    "start_time": "2023-05-16T21:32:19.539Z"
   },
   {
    "duration": 21,
    "start_time": "2023-05-16T21:32:28.644Z"
   },
   {
    "duration": 1931,
    "start_time": "2023-05-16T21:32:28.671Z"
   },
   {
    "duration": 1918,
    "start_time": "2023-05-16T21:32:30.604Z"
   },
   {
    "duration": 49,
    "start_time": "2023-05-16T21:32:32.525Z"
   },
   {
    "duration": 344,
    "start_time": "2023-05-16T21:32:32.576Z"
   },
   {
    "duration": 332,
    "start_time": "2023-05-16T21:32:32.922Z"
   },
   {
    "duration": 1176,
    "start_time": "2023-05-16T21:32:33.256Z"
   },
   {
    "duration": 169,
    "start_time": "2023-05-16T21:32:34.433Z"
   },
   {
    "duration": 4355,
    "start_time": "2023-05-16T21:33:44.784Z"
   },
   {
    "duration": 561667,
    "start_time": "2023-05-16T21:33:53.796Z"
   },
   {
    "duration": 0,
    "start_time": "2023-05-16T21:43:15.471Z"
   },
   {
    "duration": 0,
    "start_time": "2023-05-16T21:43:15.471Z"
   },
   {
    "duration": 736,
    "start_time": "2023-05-16T21:43:23.664Z"
   },
   {
    "duration": 14,
    "start_time": "2023-05-16T21:49:24.263Z"
   },
   {
    "duration": 4235,
    "start_time": "2023-05-16T21:49:24.279Z"
   },
   {
    "duration": 980,
    "start_time": "2023-05-16T21:49:28.516Z"
   },
   {
    "duration": 18,
    "start_time": "2023-05-16T21:49:29.498Z"
   },
   {
    "duration": 197,
    "start_time": "2023-05-16T21:49:29.519Z"
   },
   {
    "duration": 216,
    "start_time": "2023-05-16T21:49:29.720Z"
   },
   {
    "duration": 1132,
    "start_time": "2023-05-16T21:49:29.937Z"
   },
   {
    "duration": 732,
    "start_time": "2023-05-16T21:49:31.075Z"
   },
   {
    "duration": 183203,
    "start_time": "2023-05-16T21:49:31.809Z"
   },
   {
    "duration": 0,
    "start_time": "2023-05-16T21:52:35.014Z"
   },
   {
    "duration": 0,
    "start_time": "2023-05-16T21:52:35.015Z"
   },
   {
    "duration": 15,
    "start_time": "2023-05-16T22:22:23.553Z"
   },
   {
    "duration": 5066,
    "start_time": "2023-05-16T22:22:23.570Z"
   },
   {
    "duration": 1876,
    "start_time": "2023-05-16T22:22:28.639Z"
   },
   {
    "duration": 19,
    "start_time": "2023-05-16T22:22:30.517Z"
   },
   {
    "duration": 254,
    "start_time": "2023-05-16T22:22:30.538Z"
   },
   {
    "duration": 335,
    "start_time": "2023-05-16T22:22:30.800Z"
   },
   {
    "duration": 1379,
    "start_time": "2023-05-16T22:22:31.137Z"
   },
   {
    "duration": 907,
    "start_time": "2023-05-16T22:22:32.520Z"
   },
   {
    "duration": 5705,
    "start_time": "2023-05-16T23:15:52.638Z"
   },
   {
    "duration": 3436,
    "start_time": "2023-05-16T23:16:04.676Z"
   },
   {
    "duration": 4,
    "start_time": "2023-05-16T23:16:13.938Z"
   },
   {
    "duration": 3176,
    "start_time": "2023-05-16T23:16:24.073Z"
   },
   {
    "duration": 2082,
    "start_time": "2023-05-16T23:16:27.254Z"
   },
   {
    "duration": 2119,
    "start_time": "2023-05-16T23:16:29.341Z"
   },
   {
    "duration": 40,
    "start_time": "2023-05-16T23:16:31.462Z"
   },
   {
    "duration": 302,
    "start_time": "2023-05-16T23:16:31.504Z"
   },
   {
    "duration": 332,
    "start_time": "2023-05-16T23:16:31.808Z"
   },
   {
    "duration": 1582,
    "start_time": "2023-05-16T23:16:32.149Z"
   },
   {
    "duration": 749,
    "start_time": "2023-05-16T23:16:33.732Z"
   },
   {
    "duration": 323923,
    "start_time": "2023-05-16T23:16:34.485Z"
   },
   {
    "duration": 0,
    "start_time": "2023-05-16T23:21:58.410Z"
   },
   {
    "duration": 0,
    "start_time": "2023-05-16T23:21:58.412Z"
   },
   {
    "duration": 0,
    "start_time": "2023-05-16T23:21:58.413Z"
   },
   {
    "duration": 7,
    "start_time": "2023-05-16T23:22:08.136Z"
   },
   {
    "duration": 89,
    "start_time": "2023-05-16T23:22:30.512Z"
   },
   {
    "duration": 29,
    "start_time": "2023-05-16T23:22:41.087Z"
   },
   {
    "duration": 29,
    "start_time": "2023-05-16T23:24:00.236Z"
   },
   {
    "duration": 735,
    "start_time": "2023-05-16T23:24:07.383Z"
   },
   {
    "duration": 14343,
    "start_time": "2023-05-16T23:24:11.441Z"
   },
   {
    "duration": 0,
    "start_time": "2023-05-16T23:24:25.794Z"
   },
   {
    "duration": 143,
    "start_time": "2023-05-16T23:24:40.895Z"
   },
   {
    "duration": 4,
    "start_time": "2023-05-16T23:35:10.865Z"
   },
   {
    "duration": 4,
    "start_time": "2023-05-16T23:35:28.006Z"
   },
   {
    "duration": 3,
    "start_time": "2023-05-16T23:35:48.957Z"
   },
   {
    "duration": 14,
    "start_time": "2023-05-16T23:35:55.407Z"
   },
   {
    "duration": 364,
    "start_time": "2023-05-17T00:00:07.533Z"
   },
   {
    "duration": 15,
    "start_time": "2023-05-17T00:00:21.856Z"
   },
   {
    "duration": 381,
    "start_time": "2023-05-17T00:01:02.885Z"
   },
   {
    "duration": 409,
    "start_time": "2023-05-17T00:01:57.828Z"
   },
   {
    "duration": 430,
    "start_time": "2023-05-17T00:02:20.124Z"
   },
   {
    "duration": 702,
    "start_time": "2023-05-17T00:02:33.668Z"
   },
   {
    "duration": 362,
    "start_time": "2023-05-17T00:02:47.277Z"
   },
   {
    "duration": 779,
    "start_time": "2023-05-17T00:02:54.070Z"
   },
   {
    "duration": 17,
    "start_time": "2023-05-17T00:09:33.782Z"
   },
   {
    "duration": 57,
    "start_time": "2023-05-17T00:09:57.271Z"
   },
   {
    "duration": 34,
    "start_time": "2023-05-17T00:10:23.335Z"
   },
   {
    "duration": 13,
    "start_time": "2023-05-17T00:10:30.061Z"
   },
   {
    "duration": 12,
    "start_time": "2023-05-17T00:10:35.333Z"
   },
   {
    "duration": 11,
    "start_time": "2023-05-17T00:11:32.088Z"
   },
   {
    "duration": 16,
    "start_time": "2023-05-17T00:17:01.489Z"
   },
   {
    "duration": 81,
    "start_time": "2023-05-17T00:17:41.437Z"
   },
   {
    "duration": 76,
    "start_time": "2023-05-17T00:18:19.339Z"
   },
   {
    "duration": 16,
    "start_time": "2023-05-17T00:19:23.629Z"
   },
   {
    "duration": 2484,
    "start_time": "2023-05-17T00:20:16.928Z"
   },
   {
    "duration": 1451,
    "start_time": "2023-05-17T00:20:19.415Z"
   },
   {
    "duration": 961,
    "start_time": "2023-05-17T00:20:20.868Z"
   },
   {
    "duration": 33,
    "start_time": "2023-05-17T00:20:21.831Z"
   },
   {
    "duration": 153,
    "start_time": "2023-05-17T00:20:21.866Z"
   },
   {
    "duration": 197,
    "start_time": "2023-05-17T00:20:22.021Z"
   },
   {
    "duration": 1138,
    "start_time": "2023-05-17T00:20:22.220Z"
   },
   {
    "duration": 6,
    "start_time": "2023-05-17T00:20:23.364Z"
   },
   {
    "duration": 37,
    "start_time": "2023-05-17T00:20:23.372Z"
   },
   {
    "duration": 1070,
    "start_time": "2023-05-17T00:20:23.412Z"
   },
   {
    "duration": 121,
    "start_time": "2023-05-17T00:20:24.484Z"
   },
   {
    "duration": 32,
    "start_time": "2023-05-17T00:20:24.606Z"
   },
   {
    "duration": 93,
    "start_time": "2023-05-17T00:20:24.640Z"
   },
   {
    "duration": 460,
    "start_time": "2023-05-17T00:20:24.735Z"
   },
   {
    "duration": 4816,
    "start_time": "2023-05-17T00:20:25.197Z"
   },
   {
    "duration": 0,
    "start_time": "2023-05-17T00:20:30.015Z"
   },
   {
    "duration": 0,
    "start_time": "2023-05-17T00:20:30.016Z"
   },
   {
    "duration": 87,
    "start_time": "2023-05-17T00:22:10.407Z"
   },
   {
    "duration": 17,
    "start_time": "2023-05-17T00:22:15.687Z"
   },
   {
    "duration": 88,
    "start_time": "2023-05-17T00:22:32.095Z"
   },
   {
    "duration": 2464,
    "start_time": "2023-05-17T00:23:12.574Z"
   },
   {
    "duration": 1472,
    "start_time": "2023-05-17T00:23:15.040Z"
   },
   {
    "duration": 956,
    "start_time": "2023-05-17T00:23:16.514Z"
   },
   {
    "duration": 23,
    "start_time": "2023-05-17T00:23:17.473Z"
   },
   {
    "duration": 173,
    "start_time": "2023-05-17T00:23:17.498Z"
   },
   {
    "duration": 201,
    "start_time": "2023-05-17T00:23:17.673Z"
   },
   {
    "duration": 1085,
    "start_time": "2023-05-17T00:23:17.876Z"
   },
   {
    "duration": 4,
    "start_time": "2023-05-17T00:23:18.967Z"
   },
   {
    "duration": 28,
    "start_time": "2023-05-17T00:23:18.974Z"
   },
   {
    "duration": 1074,
    "start_time": "2023-05-17T00:23:19.005Z"
   },
   {
    "duration": 138,
    "start_time": "2023-05-17T00:23:20.081Z"
   },
   {
    "duration": 45,
    "start_time": "2023-05-17T00:23:20.221Z"
   },
   {
    "duration": 101,
    "start_time": "2023-05-17T00:23:20.268Z"
   },
   {
    "duration": 498,
    "start_time": "2023-05-17T00:23:20.371Z"
   },
   {
    "duration": 5236,
    "start_time": "2023-05-17T00:23:20.871Z"
   },
   {
    "duration": 1653,
    "start_time": "2023-05-17T00:23:26.109Z"
   },
   {
    "duration": 60,
    "start_time": "2023-05-17T00:23:27.764Z"
   },
   {
    "duration": 90,
    "start_time": "2023-05-17T00:28:58.605Z"
   },
   {
    "duration": 137,
    "start_time": "2023-05-17T00:29:01.213Z"
   },
   {
    "duration": 94,
    "start_time": "2023-05-17T00:29:01.720Z"
   },
   {
    "duration": 2565,
    "start_time": "2023-05-17T00:29:09.465Z"
   },
   {
    "duration": 1669,
    "start_time": "2023-05-17T00:29:12.033Z"
   },
   {
    "duration": 983,
    "start_time": "2023-05-17T00:29:13.704Z"
   },
   {
    "duration": 17,
    "start_time": "2023-05-17T00:29:14.689Z"
   },
   {
    "duration": 175,
    "start_time": "2023-05-17T00:29:14.708Z"
   },
   {
    "duration": 199,
    "start_time": "2023-05-17T00:29:14.884Z"
   },
   {
    "duration": 1015,
    "start_time": "2023-05-17T00:29:15.085Z"
   },
   {
    "duration": 5,
    "start_time": "2023-05-17T00:29:16.102Z"
   },
   {
    "duration": 57,
    "start_time": "2023-05-17T00:29:16.108Z"
   },
   {
    "duration": 1122,
    "start_time": "2023-05-17T00:29:16.168Z"
   },
   {
    "duration": 142,
    "start_time": "2023-05-17T00:29:17.292Z"
   },
   {
    "duration": 200,
    "start_time": "2023-05-17T00:29:17.436Z"
   },
   {
    "duration": 137,
    "start_time": "2023-05-17T00:29:17.638Z"
   },
   {
    "duration": 84,
    "start_time": "2023-05-17T00:29:17.777Z"
   },
   {
    "duration": 5444,
    "start_time": "2023-05-17T00:29:17.867Z"
   },
   {
    "duration": 1635,
    "start_time": "2023-05-17T00:29:23.313Z"
   },
   {
    "duration": 61,
    "start_time": "2023-05-17T00:29:24.950Z"
   },
   {
    "duration": 56,
    "start_time": "2023-05-18T20:50:49.699Z"
   },
   {
    "duration": 4261,
    "start_time": "2023-05-18T20:51:10.852Z"
   },
   {
    "duration": 2280,
    "start_time": "2023-05-18T20:51:15.116Z"
   },
   {
    "duration": 2032,
    "start_time": "2023-05-18T20:51:17.398Z"
   },
   {
    "duration": 23,
    "start_time": "2023-05-18T20:51:19.434Z"
   },
   {
    "duration": 181,
    "start_time": "2023-05-18T20:51:19.459Z"
   },
   {
    "duration": 214,
    "start_time": "2023-05-18T20:51:19.642Z"
   },
   {
    "duration": 1383,
    "start_time": "2023-05-18T20:51:19.858Z"
   },
   {
    "duration": 5,
    "start_time": "2023-05-18T20:51:21.244Z"
   },
   {
    "duration": 41,
    "start_time": "2023-05-18T20:51:21.250Z"
   },
   {
    "duration": 1392,
    "start_time": "2023-05-18T20:51:21.294Z"
   },
   {
    "duration": 140,
    "start_time": "2023-05-18T20:51:22.692Z"
   },
   {
    "duration": 179,
    "start_time": "2023-05-18T20:51:22.834Z"
   },
   {
    "duration": 111,
    "start_time": "2023-05-18T20:51:23.015Z"
   },
   {
    "duration": 127,
    "start_time": "2023-05-18T20:51:23.128Z"
   },
   {
    "duration": 6353,
    "start_time": "2023-05-18T20:51:23.258Z"
   },
   {
    "duration": 1914,
    "start_time": "2023-05-18T20:51:29.613Z"
   },
   {
    "duration": 111,
    "start_time": "2023-05-18T20:51:31.529Z"
   },
   {
    "duration": 253137,
    "start_time": "2023-05-18T20:51:31.643Z"
   },
   {
    "duration": 0,
    "start_time": "2023-05-18T20:55:44.783Z"
   },
   {
    "duration": 5,
    "start_time": "2023-05-18T20:55:46.540Z"
   },
   {
    "duration": 9167,
    "start_time": "2023-05-18T20:58:50.289Z"
   },
   {
    "duration": 2629,
    "start_time": "2023-05-18T20:59:25.411Z"
   },
   {
    "duration": 96,
    "start_time": "2023-05-18T21:07:29.642Z"
   },
   {
    "duration": 23,
    "start_time": "2023-05-18T21:07:37.701Z"
   },
   {
    "duration": 34,
    "start_time": "2023-05-18T21:07:42.892Z"
   },
   {
    "duration": 33,
    "start_time": "2023-05-18T21:07:55.393Z"
   },
   {
    "duration": 21,
    "start_time": "2023-05-18T21:08:12.044Z"
   },
   {
    "duration": 105,
    "start_time": "2023-05-18T21:08:21.010Z"
   },
   {
    "duration": 30,
    "start_time": "2023-05-18T21:08:26.407Z"
   },
   {
    "duration": 89,
    "start_time": "2023-05-18T21:09:30.301Z"
   },
   {
    "duration": 51,
    "start_time": "2023-05-18T21:09:53.966Z"
   },
   {
    "duration": 29,
    "start_time": "2023-05-18T21:10:14.640Z"
   },
   {
    "duration": 1529,
    "start_time": "2023-05-18T21:38:09.316Z"
   },
   {
    "duration": 1724,
    "start_time": "2023-05-18T21:40:00.241Z"
   },
   {
    "duration": 1572,
    "start_time": "2023-05-18T21:40:55.698Z"
   },
   {
    "duration": 204,
    "start_time": "2023-05-18T21:41:10.899Z"
   },
   {
    "duration": 12,
    "start_time": "2023-05-18T21:41:19.195Z"
   },
   {
    "duration": 13,
    "start_time": "2023-05-18T21:41:23.409Z"
   },
   {
    "duration": 12,
    "start_time": "2023-05-18T21:42:08.643Z"
   },
   {
    "duration": 1335,
    "start_time": "2023-05-18T21:43:05.400Z"
   },
   {
    "duration": 1202,
    "start_time": "2023-05-18T21:43:25.909Z"
   },
   {
    "duration": 1261,
    "start_time": "2023-05-18T21:43:32.001Z"
   },
   {
    "duration": 915,
    "start_time": "2023-05-18T21:43:41.889Z"
   },
   {
    "duration": 987,
    "start_time": "2023-05-18T21:43:48.309Z"
   },
   {
    "duration": 26,
    "start_time": "2023-05-18T21:46:05.342Z"
   },
   {
    "duration": 93,
    "start_time": "2023-05-18T21:46:18.042Z"
   },
   {
    "duration": 26,
    "start_time": "2023-05-18T21:46:24.414Z"
   },
   {
    "duration": 35,
    "start_time": "2023-05-18T21:46:32.614Z"
   },
   {
    "duration": 22,
    "start_time": "2023-05-18T21:46:48.532Z"
   },
   {
    "duration": 24,
    "start_time": "2023-05-18T21:46:54.759Z"
   },
   {
    "duration": 30,
    "start_time": "2023-05-18T21:50:07.213Z"
   },
   {
    "duration": 97,
    "start_time": "2023-05-18T21:50:25.210Z"
   },
   {
    "duration": 42,
    "start_time": "2023-05-18T21:50:33.353Z"
   },
   {
    "duration": 81,
    "start_time": "2023-05-18T21:50:36.153Z"
   },
   {
    "duration": 29,
    "start_time": "2023-05-18T21:50:39.945Z"
   },
   {
    "duration": 109,
    "start_time": "2023-05-18T21:50:40.504Z"
   },
   {
    "duration": 38,
    "start_time": "2023-05-18T21:50:47.198Z"
   },
   {
    "duration": 96,
    "start_time": "2023-05-18T21:50:47.810Z"
   },
   {
    "duration": 3,
    "start_time": "2023-05-18T21:50:55.917Z"
   },
   {
    "duration": 64,
    "start_time": "2023-05-18T21:50:58.797Z"
   },
   {
    "duration": 39,
    "start_time": "2023-05-18T21:51:25.138Z"
   },
   {
    "duration": 83,
    "start_time": "2023-05-18T21:51:26.538Z"
   },
   {
    "duration": 39,
    "start_time": "2023-05-18T21:51:32.546Z"
   },
   {
    "duration": 82,
    "start_time": "2023-05-18T21:51:33.147Z"
   },
   {
    "duration": 31,
    "start_time": "2023-05-18T21:51:37.198Z"
   },
   {
    "duration": 83,
    "start_time": "2023-05-18T21:51:37.920Z"
   },
   {
    "duration": 27,
    "start_time": "2023-05-18T21:51:42.115Z"
   },
   {
    "duration": 78,
    "start_time": "2023-05-18T21:51:42.938Z"
   },
   {
    "duration": 15,
    "start_time": "2023-05-18T22:16:21.321Z"
   },
   {
    "duration": 20,
    "start_time": "2023-05-18T22:16:22.298Z"
   },
   {
    "duration": 11,
    "start_time": "2023-05-18T22:16:32.896Z"
   },
   {
    "duration": 15,
    "start_time": "2023-05-18T22:16:33.821Z"
   },
   {
    "duration": 2975,
    "start_time": "2023-05-18T22:16:43.005Z"
   },
   {
    "duration": 1852,
    "start_time": "2023-05-18T22:16:45.985Z"
   },
   {
    "duration": 1207,
    "start_time": "2023-05-18T22:16:47.839Z"
   },
   {
    "duration": 39,
    "start_time": "2023-05-18T22:16:49.048Z"
   },
   {
    "duration": 275,
    "start_time": "2023-05-18T22:16:49.091Z"
   },
   {
    "duration": 256,
    "start_time": "2023-05-18T22:16:49.367Z"
   },
   {
    "duration": 1445,
    "start_time": "2023-05-18T22:16:49.637Z"
   },
   {
    "duration": 13,
    "start_time": "2023-05-18T22:16:51.092Z"
   },
   {
    "duration": 118,
    "start_time": "2023-05-18T22:16:51.108Z"
   },
   {
    "duration": 1481,
    "start_time": "2023-05-18T22:16:51.232Z"
   },
   {
    "duration": 171,
    "start_time": "2023-05-18T22:16:52.719Z"
   },
   {
    "duration": 235,
    "start_time": "2023-05-18T22:16:52.892Z"
   },
   {
    "duration": 179,
    "start_time": "2023-05-18T22:16:53.133Z"
   },
   {
    "duration": 107,
    "start_time": "2023-05-18T22:16:53.315Z"
   },
   {
    "duration": 6463,
    "start_time": "2023-05-18T22:16:53.425Z"
   },
   {
    "duration": 2039,
    "start_time": "2023-05-18T22:16:59.890Z"
   },
   {
    "duration": 110,
    "start_time": "2023-05-18T22:17:01.931Z"
   },
   {
    "duration": 3212,
    "start_time": "2023-05-18T22:17:02.046Z"
   },
   {
    "duration": 1072,
    "start_time": "2023-05-18T22:17:05.261Z"
   },
   {
    "duration": 47,
    "start_time": "2023-05-18T22:17:06.336Z"
   },
   {
    "duration": 99,
    "start_time": "2023-05-18T22:17:06.386Z"
   },
   {
    "duration": 220,
    "start_time": "2023-05-18T22:17:06.490Z"
   },
   {
    "duration": 39,
    "start_time": "2023-05-18T22:17:15.212Z"
   },
   {
    "duration": 106,
    "start_time": "2023-05-18T22:17:17.101Z"
   },
   {
    "duration": 3,
    "start_time": "2023-05-18T22:37:36.630Z"
   },
   {
    "duration": 2628,
    "start_time": "2023-05-19T19:57:27.186Z"
   },
   {
    "duration": 1443,
    "start_time": "2023-05-19T19:57:29.816Z"
   },
   {
    "duration": 2669,
    "start_time": "2023-05-19T19:57:31.260Z"
   },
   {
    "duration": 17,
    "start_time": "2023-05-19T19:57:33.931Z"
   },
   {
    "duration": 104,
    "start_time": "2023-05-19T19:57:33.950Z"
   },
   {
    "duration": 144,
    "start_time": "2023-05-19T19:57:34.056Z"
   },
   {
    "duration": 788,
    "start_time": "2023-05-19T19:57:34.202Z"
   },
   {
    "duration": 4,
    "start_time": "2023-05-19T19:57:34.991Z"
   },
   {
    "duration": 20,
    "start_time": "2023-05-19T19:57:34.996Z"
   },
   {
    "duration": 810,
    "start_time": "2023-05-19T19:57:35.018Z"
   },
   {
    "duration": 100,
    "start_time": "2023-05-19T19:57:35.830Z"
   },
   {
    "duration": 116,
    "start_time": "2023-05-19T19:57:35.932Z"
   },
   {
    "duration": 97,
    "start_time": "2023-05-19T19:57:36.050Z"
   },
   {
    "duration": 59,
    "start_time": "2023-05-19T19:57:36.148Z"
   },
   {
    "duration": 3805,
    "start_time": "2023-05-19T19:57:36.209Z"
   },
   {
    "duration": 1373,
    "start_time": "2023-05-19T19:57:40.016Z"
   },
   {
    "duration": 49,
    "start_time": "2023-05-19T19:57:41.390Z"
   },
   {
    "duration": 1858,
    "start_time": "2023-05-19T19:57:41.441Z"
   },
   {
    "duration": 18,
    "start_time": "2023-05-19T19:57:43.305Z"
   },
   {
    "duration": 666,
    "start_time": "2023-05-19T19:57:43.324Z"
   },
   {
    "duration": 27,
    "start_time": "2023-05-19T19:57:43.992Z"
   },
   {
    "duration": 20,
    "start_time": "2023-05-19T19:57:44.020Z"
   },
   {
    "duration": 65,
    "start_time": "2023-05-19T19:57:44.042Z"
   },
   {
    "duration": 3,
    "start_time": "2023-05-19T19:57:44.108Z"
   },
   {
    "duration": 475,
    "start_time": "2023-05-19T23:00:59.805Z"
   },
   {
    "duration": 248,
    "start_time": "2023-05-19T23:04:37.667Z"
   },
   {
    "duration": 9,
    "start_time": "2023-05-19T23:05:56.494Z"
   },
   {
    "duration": 99,
    "start_time": "2023-05-19T23:06:01.968Z"
   },
   {
    "duration": 347,
    "start_time": "2023-05-19T23:06:24.033Z"
   },
   {
    "duration": 4,
    "start_time": "2023-05-19T23:06:51.793Z"
   },
   {
    "duration": 2559,
    "start_time": "2023-05-19T23:06:59.306Z"
   },
   {
    "duration": 347,
    "start_time": "2023-05-19T23:08:58.657Z"
   },
   {
    "duration": 4,
    "start_time": "2023-05-19T23:09:17.506Z"
   },
   {
    "duration": 478,
    "start_time": "2023-05-19T23:10:08.916Z"
   },
   {
    "duration": 9,
    "start_time": "2023-05-19T23:17:17.235Z"
   },
   {
    "duration": 20,
    "start_time": "2023-05-19T23:18:02.992Z"
   },
   {
    "duration": 10,
    "start_time": "2023-05-19T23:18:10.652Z"
   },
   {
    "duration": 3,
    "start_time": "2023-05-19T23:18:57.756Z"
   },
   {
    "duration": 9,
    "start_time": "2023-05-19T23:19:04.307Z"
   },
   {
    "duration": 8,
    "start_time": "2023-05-19T23:19:13.316Z"
   },
   {
    "duration": 14,
    "start_time": "2023-05-19T23:20:57.319Z"
   },
   {
    "duration": 63288,
    "start_time": "2023-05-19T23:24:30.122Z"
   },
   {
    "duration": 57,
    "start_time": "2023-05-19T23:26:11.595Z"
   },
   {
    "duration": 67398,
    "start_time": "2023-05-19T23:26:18.010Z"
   },
   {
    "duration": 138359,
    "start_time": "2023-05-19T23:29:36.446Z"
   },
   {
    "duration": 31598,
    "start_time": "2023-05-19T23:39:26.913Z"
   },
   {
    "duration": 4,
    "start_time": "2023-05-19T23:40:17.468Z"
   },
   {
    "duration": 30773,
    "start_time": "2023-05-19T23:40:27.639Z"
   },
   {
    "duration": 86094,
    "start_time": "2023-05-19T23:41:14.112Z"
   },
   {
    "duration": 56,
    "start_time": "2023-05-19T23:42:40.208Z"
   },
   {
    "duration": 56,
    "start_time": "2023-05-19T23:43:11.463Z"
   },
   {
    "duration": 62,
    "start_time": "2023-05-19T23:43:52.130Z"
   },
   {
    "duration": 14732,
    "start_time": "2023-05-19T23:44:32.483Z"
   },
   {
    "duration": 118,
    "start_time": "2023-05-19T23:44:47.307Z"
   },
   {
    "duration": 1390,
    "start_time": "2023-05-20T10:22:17.768Z"
   },
   {
    "duration": 3112,
    "start_time": "2023-05-20T10:22:30.792Z"
   },
   {
    "duration": 1363,
    "start_time": "2023-05-20T10:22:33.906Z"
   },
   {
    "duration": 1028,
    "start_time": "2023-05-20T10:22:35.271Z"
   },
   {
    "duration": 16,
    "start_time": "2023-05-20T10:22:36.301Z"
   },
   {
    "duration": 136,
    "start_time": "2023-05-20T10:22:36.318Z"
   },
   {
    "duration": 168,
    "start_time": "2023-05-20T10:22:36.456Z"
   },
   {
    "duration": 923,
    "start_time": "2023-05-20T10:22:36.625Z"
   },
   {
    "duration": 4,
    "start_time": "2023-05-20T10:22:37.549Z"
   },
   {
    "duration": 24,
    "start_time": "2023-05-20T10:22:37.554Z"
   },
   {
    "duration": 893,
    "start_time": "2023-05-20T10:22:37.582Z"
   },
   {
    "duration": 122,
    "start_time": "2023-05-20T10:22:38.477Z"
   },
   {
    "duration": 147,
    "start_time": "2023-05-20T10:22:38.601Z"
   },
   {
    "duration": 95,
    "start_time": "2023-05-20T10:22:38.749Z"
   },
   {
    "duration": 72,
    "start_time": "2023-05-20T10:22:38.846Z"
   },
   {
    "duration": 4155,
    "start_time": "2023-05-20T10:22:38.919Z"
   },
   {
    "duration": 1362,
    "start_time": "2023-05-20T10:22:43.075Z"
   },
   {
    "duration": 56,
    "start_time": "2023-05-20T10:22:44.439Z"
   },
   {
    "duration": 1970,
    "start_time": "2023-05-20T10:22:44.497Z"
   },
   {
    "duration": 18,
    "start_time": "2023-05-20T10:22:46.468Z"
   },
   {
    "duration": 679,
    "start_time": "2023-05-20T10:22:46.488Z"
   },
   {
    "duration": 37,
    "start_time": "2023-05-20T10:22:47.168Z"
   },
   {
    "duration": 35,
    "start_time": "2023-05-20T10:22:47.208Z"
   },
   {
    "duration": 78,
    "start_time": "2023-05-20T10:22:47.245Z"
   },
   {
    "duration": 30,
    "start_time": "2023-05-20T10:22:47.325Z"
   },
   {
    "duration": 518,
    "start_time": "2023-05-20T10:22:47.357Z"
   },
   {
    "duration": 569,
    "start_time": "2023-05-20T10:22:47.877Z"
   },
   {
    "duration": 17854,
    "start_time": "2023-05-20T10:22:48.448Z"
   },
   {
    "duration": 18394,
    "start_time": "2023-05-20T10:23:06.305Z"
   },
   {
    "duration": 201,
    "start_time": "2023-05-20T10:23:24.701Z"
   },
   {
    "duration": 71,
    "start_time": "2023-05-20T10:50:15.085Z"
   },
   {
    "duration": 106,
    "start_time": "2023-05-20T10:50:43.845Z"
   },
   {
    "duration": 2254,
    "start_time": "2023-05-20T10:53:04.535Z"
   },
   {
    "duration": 1358,
    "start_time": "2023-05-20T10:53:06.791Z"
   },
   {
    "duration": 768,
    "start_time": "2023-05-20T10:53:08.151Z"
   },
   {
    "duration": 16,
    "start_time": "2023-05-20T10:53:08.921Z"
   },
   {
    "duration": 140,
    "start_time": "2023-05-20T10:53:08.938Z"
   },
   {
    "duration": 176,
    "start_time": "2023-05-20T10:53:09.080Z"
   },
   {
    "duration": 892,
    "start_time": "2023-05-20T10:53:09.257Z"
   },
   {
    "duration": 4,
    "start_time": "2023-05-20T10:53:10.151Z"
   },
   {
    "duration": 32,
    "start_time": "2023-05-20T10:53:10.156Z"
   },
   {
    "duration": 923,
    "start_time": "2023-05-20T10:53:10.191Z"
   },
   {
    "duration": 115,
    "start_time": "2023-05-20T10:53:11.116Z"
   },
   {
    "duration": 146,
    "start_time": "2023-05-20T10:53:11.233Z"
   },
   {
    "duration": 101,
    "start_time": "2023-05-20T10:53:11.380Z"
   },
   {
    "duration": 76,
    "start_time": "2023-05-20T10:53:11.482Z"
   },
   {
    "duration": 4403,
    "start_time": "2023-05-20T10:53:11.559Z"
   },
   {
    "duration": 1481,
    "start_time": "2023-05-20T10:53:15.964Z"
   },
   {
    "duration": 53,
    "start_time": "2023-05-20T10:53:17.447Z"
   },
   {
    "duration": 1987,
    "start_time": "2023-05-20T10:53:17.502Z"
   },
   {
    "duration": 19,
    "start_time": "2023-05-20T10:53:19.491Z"
   },
   {
    "duration": 697,
    "start_time": "2023-05-20T10:53:19.512Z"
   },
   {
    "duration": 23,
    "start_time": "2023-05-20T10:53:20.210Z"
   },
   {
    "duration": 18,
    "start_time": "2023-05-20T10:53:20.235Z"
   },
   {
    "duration": 83,
    "start_time": "2023-05-20T10:53:20.255Z"
   },
   {
    "duration": 16,
    "start_time": "2023-05-20T10:53:20.340Z"
   },
   {
    "duration": 499,
    "start_time": "2023-05-20T10:53:20.357Z"
   },
   {
    "duration": 584,
    "start_time": "2023-05-20T10:53:20.858Z"
   },
   {
    "duration": 17964,
    "start_time": "2023-05-20T10:53:21.444Z"
   },
   {
    "duration": 17915,
    "start_time": "2023-05-20T10:53:39.496Z"
   },
   {
    "duration": 200,
    "start_time": "2023-05-20T10:53:57.498Z"
   },
   {
    "duration": 2217,
    "start_time": "2023-05-20T11:20:18.085Z"
   },
   {
    "duration": 1415,
    "start_time": "2023-05-20T11:20:20.306Z"
   },
   {
    "duration": 792,
    "start_time": "2023-05-20T11:20:21.722Z"
   },
   {
    "duration": 17,
    "start_time": "2023-05-20T11:20:22.516Z"
   },
   {
    "duration": 139,
    "start_time": "2023-05-20T11:20:22.535Z"
   },
   {
    "duration": 184,
    "start_time": "2023-05-20T11:20:22.676Z"
   },
   {
    "duration": 902,
    "start_time": "2023-05-20T11:20:22.862Z"
   },
   {
    "duration": 4,
    "start_time": "2023-05-20T11:20:23.766Z"
   },
   {
    "duration": 19,
    "start_time": "2023-05-20T11:20:23.772Z"
   },
   {
    "duration": 916,
    "start_time": "2023-05-20T11:20:23.811Z"
   },
   {
    "duration": 115,
    "start_time": "2023-05-20T11:20:24.729Z"
   },
   {
    "duration": 162,
    "start_time": "2023-05-20T11:20:24.846Z"
   },
   {
    "duration": 98,
    "start_time": "2023-05-20T11:20:25.010Z"
   },
   {
    "duration": 68,
    "start_time": "2023-05-20T11:20:25.110Z"
   },
   {
    "duration": 4731,
    "start_time": "2023-05-20T11:20:25.179Z"
   },
   {
    "duration": 1533,
    "start_time": "2023-05-20T11:20:29.912Z"
   },
   {
    "duration": 66,
    "start_time": "2023-05-20T11:20:31.447Z"
   },
   {
    "duration": 2122,
    "start_time": "2023-05-20T11:20:31.516Z"
   },
   {
    "duration": 19,
    "start_time": "2023-05-20T11:20:33.640Z"
   },
   {
    "duration": 717,
    "start_time": "2023-05-20T11:20:33.660Z"
   },
   {
    "duration": 38,
    "start_time": "2023-05-20T11:20:34.379Z"
   },
   {
    "duration": 19,
    "start_time": "2023-05-20T11:20:34.419Z"
   },
   {
    "duration": 79,
    "start_time": "2023-05-20T11:20:34.440Z"
   },
   {
    "duration": 8,
    "start_time": "2023-05-20T11:20:34.521Z"
   },
   {
    "duration": 577,
    "start_time": "2023-05-20T11:20:34.531Z"
   },
   {
    "duration": 604,
    "start_time": "2023-05-20T11:20:35.110Z"
   },
   {
    "duration": 33791,
    "start_time": "2023-05-20T11:20:35.716Z"
   },
   {
    "duration": 37792,
    "start_time": "2023-05-20T11:21:09.512Z"
   },
   {
    "duration": 205,
    "start_time": "2023-05-20T11:21:47.307Z"
   },
   {
    "duration": 84,
    "start_time": "2023-05-20T11:21:47.514Z"
   },
   {
    "duration": 2539,
    "start_time": "2023-05-20T11:40:57.186Z"
   },
   {
    "duration": 1559,
    "start_time": "2023-05-20T11:40:59.727Z"
   },
   {
    "duration": 1028,
    "start_time": "2023-05-20T11:41:01.288Z"
   },
   {
    "duration": 19,
    "start_time": "2023-05-20T11:41:02.320Z"
   },
   {
    "duration": 162,
    "start_time": "2023-05-20T11:41:02.341Z"
   },
   {
    "duration": 203,
    "start_time": "2023-05-20T11:41:02.505Z"
   },
   {
    "duration": 1026,
    "start_time": "2023-05-20T11:41:02.710Z"
   },
   {
    "duration": 5,
    "start_time": "2023-05-20T11:41:03.737Z"
   },
   {
    "duration": 40,
    "start_time": "2023-05-20T11:41:03.743Z"
   },
   {
    "duration": 1098,
    "start_time": "2023-05-20T11:41:03.786Z"
   },
   {
    "duration": 152,
    "start_time": "2023-05-20T11:41:04.886Z"
   },
   {
    "duration": 192,
    "start_time": "2023-05-20T11:41:05.042Z"
   },
   {
    "duration": 113,
    "start_time": "2023-05-20T11:41:05.237Z"
   },
   {
    "duration": 114,
    "start_time": "2023-05-20T11:41:05.352Z"
   },
   {
    "duration": 5614,
    "start_time": "2023-05-20T11:41:05.468Z"
   },
   {
    "duration": 1693,
    "start_time": "2023-05-20T11:41:11.084Z"
   },
   {
    "duration": 67,
    "start_time": "2023-05-20T11:41:12.779Z"
   },
   {
    "duration": 2505,
    "start_time": "2023-05-20T11:41:12.849Z"
   },
   {
    "duration": 23,
    "start_time": "2023-05-20T11:41:15.356Z"
   },
   {
    "duration": 955,
    "start_time": "2023-05-20T11:41:15.381Z"
   },
   {
    "duration": 26,
    "start_time": "2023-05-20T11:41:16.338Z"
   },
   {
    "duration": 48,
    "start_time": "2023-05-20T11:41:16.366Z"
   },
   {
    "duration": 89,
    "start_time": "2023-05-20T11:41:16.421Z"
   },
   {
    "duration": 12,
    "start_time": "2023-05-20T11:41:16.520Z"
   },
   {
    "duration": 715,
    "start_time": "2023-05-20T11:41:16.534Z"
   },
   {
    "duration": 704,
    "start_time": "2023-05-20T11:41:17.251Z"
   },
   {
    "duration": 68349,
    "start_time": "2023-05-20T11:41:17.957Z"
   },
   {
    "duration": 79801,
    "start_time": "2023-05-20T11:42:26.323Z"
   },
   {
    "duration": 278,
    "start_time": "2023-05-20T11:43:46.129Z"
   },
   {
    "duration": 10,
    "start_time": "2023-05-20T11:43:46.413Z"
   },
   {
    "duration": 2336,
    "start_time": "2023-05-20T12:16:42.487Z"
   },
   {
    "duration": 1435,
    "start_time": "2023-05-20T12:16:44.825Z"
   },
   {
    "duration": 957,
    "start_time": "2023-05-20T12:16:46.261Z"
   },
   {
    "duration": 24,
    "start_time": "2023-05-20T12:16:47.223Z"
   },
   {
    "duration": 153,
    "start_time": "2023-05-20T12:16:47.248Z"
   },
   {
    "duration": 218,
    "start_time": "2023-05-20T12:16:47.402Z"
   },
   {
    "duration": 974,
    "start_time": "2023-05-20T12:16:47.621Z"
   },
   {
    "duration": 10,
    "start_time": "2023-05-20T12:16:48.597Z"
   },
   {
    "duration": 41,
    "start_time": "2023-05-20T12:16:48.614Z"
   },
   {
    "duration": 982,
    "start_time": "2023-05-20T12:16:48.658Z"
   },
   {
    "duration": 119,
    "start_time": "2023-05-20T12:16:49.642Z"
   },
   {
    "duration": 170,
    "start_time": "2023-05-20T12:16:49.763Z"
   },
   {
    "duration": 107,
    "start_time": "2023-05-20T12:16:49.938Z"
   },
   {
    "duration": 92,
    "start_time": "2023-05-20T12:16:50.047Z"
   },
   {
    "duration": 5149,
    "start_time": "2023-05-20T12:16:50.141Z"
   },
   {
    "duration": 1736,
    "start_time": "2023-05-20T12:16:55.291Z"
   },
   {
    "duration": 59,
    "start_time": "2023-05-20T12:16:57.033Z"
   },
   {
    "duration": 2349,
    "start_time": "2023-05-20T12:16:57.094Z"
   },
   {
    "duration": 19,
    "start_time": "2023-05-20T12:16:59.445Z"
   },
   {
    "duration": 783,
    "start_time": "2023-05-20T12:16:59.465Z"
   },
   {
    "duration": 25,
    "start_time": "2023-05-20T12:17:00.249Z"
   },
   {
    "duration": 69,
    "start_time": "2023-05-20T12:17:00.276Z"
   },
   {
    "duration": 196,
    "start_time": "2023-05-20T12:17:00.347Z"
   },
   {
    "duration": 19,
    "start_time": "2023-05-20T12:17:00.545Z"
   },
   {
    "duration": 608,
    "start_time": "2023-05-20T12:17:00.566Z"
   },
   {
    "duration": 700,
    "start_time": "2023-05-20T12:17:01.176Z"
   },
   {
    "duration": 81284,
    "start_time": "2023-05-20T12:17:01.877Z"
   },
   {
    "duration": 84178,
    "start_time": "2023-05-20T12:18:23.165Z"
   },
   {
    "duration": 171,
    "start_time": "2023-05-20T12:19:47.349Z"
   },
   {
    "duration": 80,
    "start_time": "2023-05-20T12:19:47.525Z"
   },
   {
    "duration": 2657296,
    "start_time": "2023-05-20T12:19:47.620Z"
   },
   {
    "duration": 2458,
    "start_time": "2023-05-20T17:52:35.413Z"
   },
   {
    "duration": 1158,
    "start_time": "2023-05-20T17:52:37.873Z"
   },
   {
    "duration": 781,
    "start_time": "2023-05-20T17:52:39.033Z"
   },
   {
    "duration": 29,
    "start_time": "2023-05-20T17:52:39.816Z"
   },
   {
    "duration": 124,
    "start_time": "2023-05-20T17:52:39.846Z"
   },
   {
    "duration": 187,
    "start_time": "2023-05-20T17:52:39.972Z"
   },
   {
    "duration": 833,
    "start_time": "2023-05-20T17:52:40.161Z"
   },
   {
    "duration": 3,
    "start_time": "2023-05-20T17:52:40.996Z"
   },
   {
    "duration": 36,
    "start_time": "2023-05-20T17:52:41.001Z"
   },
   {
    "duration": 847,
    "start_time": "2023-05-20T17:52:41.040Z"
   },
   {
    "duration": 125,
    "start_time": "2023-05-20T17:52:41.888Z"
   },
   {
    "duration": 143,
    "start_time": "2023-05-20T17:52:42.015Z"
   },
   {
    "duration": 107,
    "start_time": "2023-05-20T17:52:42.159Z"
   },
   {
    "duration": 18,
    "start_time": "2023-05-20T17:52:42.268Z"
   },
   {
    "duration": 77,
    "start_time": "2023-05-20T17:52:42.287Z"
   },
   {
    "duration": 2935,
    "start_time": "2023-05-20T17:52:42.365Z"
   },
   {
    "duration": 1230,
    "start_time": "2023-05-20T17:52:45.301Z"
   },
   {
    "duration": 58,
    "start_time": "2023-05-20T17:52:46.535Z"
   },
   {
    "duration": 2145,
    "start_time": "2023-05-20T17:52:46.594Z"
   },
   {
    "duration": 19,
    "start_time": "2023-05-20T17:52:48.741Z"
   },
   {
    "duration": 731,
    "start_time": "2023-05-20T17:52:48.762Z"
   },
   {
    "duration": 42,
    "start_time": "2023-05-20T17:52:49.495Z"
   },
   {
    "duration": 25,
    "start_time": "2023-05-20T17:52:49.538Z"
   },
   {
    "duration": 50,
    "start_time": "2023-05-20T17:52:49.564Z"
   },
   {
    "duration": 36,
    "start_time": "2023-05-20T17:52:49.615Z"
   },
   {
    "duration": 162,
    "start_time": "2023-05-20T17:52:49.652Z"
   },
   {
    "duration": 239,
    "start_time": "2023-05-20T17:52:49.816Z"
   },
   {
    "duration": 3182,
    "start_time": "2023-05-20T17:52:50.058Z"
   },
   {
    "duration": 5516,
    "start_time": "2023-05-20T17:52:53.243Z"
   },
   {
    "duration": 114,
    "start_time": "2023-05-20T17:52:58.821Z"
   },
   {
    "duration": 91,
    "start_time": "2023-05-20T17:52:58.944Z"
   },
   {
    "duration": 1065729,
    "start_time": "2023-05-20T17:52:59.044Z"
   },
   {
    "duration": 0,
    "start_time": "2023-05-20T18:10:44.776Z"
   },
   {
    "duration": 0,
    "start_time": "2023-05-20T18:10:44.777Z"
   },
   {
    "duration": 0,
    "start_time": "2023-05-20T18:10:44.779Z"
   },
   {
    "duration": 0,
    "start_time": "2023-05-20T18:10:44.781Z"
   },
   {
    "duration": 0,
    "start_time": "2023-05-20T18:10:44.782Z"
   },
   {
    "duration": 0,
    "start_time": "2023-05-20T18:10:44.784Z"
   },
   {
    "duration": 0,
    "start_time": "2023-05-20T18:10:44.786Z"
   },
   {
    "duration": 0,
    "start_time": "2023-05-20T18:10:44.788Z"
   },
   {
    "duration": 0,
    "start_time": "2023-05-20T18:10:44.789Z"
   },
   {
    "duration": 0,
    "start_time": "2023-05-20T18:10:44.790Z"
   },
   {
    "duration": 0,
    "start_time": "2023-05-20T18:10:44.792Z"
   },
   {
    "duration": 0,
    "start_time": "2023-05-20T18:10:44.794Z"
   },
   {
    "duration": 0,
    "start_time": "2023-05-20T18:10:44.795Z"
   },
   {
    "duration": 0,
    "start_time": "2023-05-20T18:10:44.796Z"
   },
   {
    "duration": 0,
    "start_time": "2023-05-20T18:10:44.797Z"
   },
   {
    "duration": 0,
    "start_time": "2023-05-20T18:10:44.799Z"
   },
   {
    "duration": 0,
    "start_time": "2023-05-20T18:10:44.800Z"
   },
   {
    "duration": 0,
    "start_time": "2023-05-20T18:10:44.802Z"
   },
   {
    "duration": 0,
    "start_time": "2023-05-20T18:10:44.804Z"
   },
   {
    "duration": 0,
    "start_time": "2023-05-20T18:10:44.805Z"
   },
   {
    "duration": 0,
    "start_time": "2023-05-20T18:10:44.807Z"
   },
   {
    "duration": 0,
    "start_time": "2023-05-20T18:10:44.807Z"
   },
   {
    "duration": 0,
    "start_time": "2023-05-20T18:10:44.808Z"
   },
   {
    "duration": 1,
    "start_time": "2023-05-20T18:10:44.809Z"
   },
   {
    "duration": 3537,
    "start_time": "2023-05-21T09:26:18.113Z"
   },
   {
    "duration": 3051,
    "start_time": "2023-05-21T09:26:21.652Z"
   },
   {
    "duration": 1199,
    "start_time": "2023-05-21T09:26:24.706Z"
   },
   {
    "duration": 20,
    "start_time": "2023-05-21T09:26:25.907Z"
   },
   {
    "duration": 132,
    "start_time": "2023-05-21T09:26:25.928Z"
   },
   {
    "duration": 169,
    "start_time": "2023-05-21T09:26:26.062Z"
   },
   {
    "duration": 842,
    "start_time": "2023-05-21T09:26:26.233Z"
   },
   {
    "duration": 3,
    "start_time": "2023-05-21T09:26:27.077Z"
   },
   {
    "duration": 21,
    "start_time": "2023-05-21T09:26:27.082Z"
   },
   {
    "duration": 881,
    "start_time": "2023-05-21T09:26:27.106Z"
   },
   {
    "duration": 117,
    "start_time": "2023-05-21T09:26:27.988Z"
   },
   {
    "duration": 150,
    "start_time": "2023-05-21T09:26:28.107Z"
   },
   {
    "duration": 107,
    "start_time": "2023-05-21T09:26:28.259Z"
   },
   {
    "duration": 20,
    "start_time": "2023-05-21T09:26:28.368Z"
   },
   {
    "duration": 73,
    "start_time": "2023-05-21T09:26:28.390Z"
   },
   {
    "duration": 2902,
    "start_time": "2023-05-21T09:26:28.464Z"
   },
   {
    "duration": 1389,
    "start_time": "2023-05-21T09:26:31.368Z"
   },
   {
    "duration": 58,
    "start_time": "2023-05-21T09:26:32.759Z"
   },
   {
    "duration": 2248,
    "start_time": "2023-05-21T09:26:32.819Z"
   },
   {
    "duration": 17,
    "start_time": "2023-05-21T09:26:35.068Z"
   },
   {
    "duration": 762,
    "start_time": "2023-05-21T09:26:35.087Z"
   },
   {
    "duration": 20,
    "start_time": "2023-05-21T09:26:35.851Z"
   },
   {
    "duration": 21,
    "start_time": "2023-05-21T09:26:35.873Z"
   },
   {
    "duration": 73,
    "start_time": "2023-05-21T09:26:35.896Z"
   },
   {
    "duration": 2,
    "start_time": "2023-05-21T09:26:35.971Z"
   },
   {
    "duration": 150,
    "start_time": "2023-05-21T09:26:35.975Z"
   },
   {
    "duration": 249,
    "start_time": "2023-05-21T09:26:36.127Z"
   },
   {
    "duration": 2339,
    "start_time": "2023-05-21T09:26:36.380Z"
   },
   {
    "duration": 2606,
    "start_time": "2023-05-21T09:26:38.722Z"
   },
   {
    "duration": 108,
    "start_time": "2023-05-21T09:26:41.335Z"
   },
   {
    "duration": 72,
    "start_time": "2023-05-21T09:26:41.447Z"
   },
   {
    "duration": 477797,
    "start_time": "2023-05-21T09:26:41.521Z"
   },
   {
    "duration": 87401,
    "start_time": "2023-05-21T09:34:39.320Z"
   },
   {
    "duration": 664800,
    "start_time": "2023-05-21T09:36:06.723Z"
   },
   {
    "duration": 98,
    "start_time": "2023-05-21T09:47:11.525Z"
   },
   {
    "duration": 5,
    "start_time": "2023-05-21T09:47:11.625Z"
   },
   {
    "duration": 8194,
    "start_time": "2023-05-21T09:47:11.634Z"
   },
   {
    "duration": 390,
    "start_time": "2023-05-21T09:47:19.830Z"
   },
   {
    "duration": 993,
    "start_time": "2023-05-21T09:47:20.223Z"
   },
   {
    "duration": 14,
    "start_time": "2023-05-21T09:47:21.218Z"
   },
   {
    "duration": 108,
    "start_time": "2023-05-21T09:47:21.318Z"
   },
   {
    "duration": 84,
    "start_time": "2023-05-21T09:47:21.428Z"
   },
   {
    "duration": 1459249,
    "start_time": "2023-05-21T09:47:21.514Z"
   },
   {
    "duration": 3,
    "start_time": "2023-05-21T10:11:40.765Z"
   },
   {
    "duration": 75324,
    "start_time": "2023-05-21T10:11:40.769Z"
   },
   {
    "duration": 302,
    "start_time": "2023-05-21T10:12:56.094Z"
   },
   {
    "duration": 5,
    "start_time": "2023-05-21T10:12:56.398Z"
   },
   {
    "duration": 128,
    "start_time": "2023-05-21T10:12:56.405Z"
   },
   {
    "duration": 321179,
    "start_time": "2023-05-21T10:12:56.534Z"
   },
   {
    "duration": 0,
    "start_time": "2023-05-21T10:18:17.715Z"
   },
   {
    "duration": 0,
    "start_time": "2023-05-21T10:18:17.716Z"
   },
   {
    "duration": 0,
    "start_time": "2023-05-21T10:18:17.717Z"
   },
   {
    "duration": 0,
    "start_time": "2023-05-21T10:18:17.717Z"
   },
   {
    "duration": 0,
    "start_time": "2023-05-21T10:18:17.718Z"
   },
   {
    "duration": 0,
    "start_time": "2023-05-21T10:18:17.719Z"
   },
   {
    "duration": 0,
    "start_time": "2023-05-21T10:18:17.719Z"
   }
  ],
  "kernelspec": {
   "display_name": "Python 3 (ipykernel)",
   "language": "python",
   "name": "python3"
  },
  "language_info": {
   "codemirror_mode": {
    "name": "ipython",
    "version": 3
   },
   "file_extension": ".py",
   "mimetype": "text/x-python",
   "name": "python",
   "nbconvert_exporter": "python",
   "pygments_lexer": "ipython3",
   "version": "3.9.15"
  },
  "toc": {
   "base_numbering": 1,
   "nav_menu": {},
   "number_sections": true,
   "sideBar": true,
   "skip_h1_title": true,
   "title_cell": "Table of Contents",
   "title_sidebar": "Contents",
   "toc_cell": false,
   "toc_position": {
    "height": "calc(100% - 180px)",
    "left": "10px",
    "top": "150px",
    "width": "281.275px"
   },
   "toc_section_display": true,
   "toc_window_display": true
  }
 },
 "nbformat": 4,
 "nbformat_minor": 2
}
