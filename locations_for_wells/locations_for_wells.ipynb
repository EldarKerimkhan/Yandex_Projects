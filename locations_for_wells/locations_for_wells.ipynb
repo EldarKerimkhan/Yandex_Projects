{
 "cells": [
  {
   "cell_type": "markdown",
   "metadata": {},
   "source": [
    "# Выбор локации для скважины"
   ]
  },
  {
   "cell_type": "markdown",
   "metadata": {},
   "source": [
    "Допустим, вы работаете в добывающей компании «ГлавРосГосНефть». Нужно решить, где бурить новую скважину.\n",
    "\n",
    "Вам предоставлены пробы нефти в трёх регионах: в каждом 10 000 месторождений, где измерили качество нефти и объём её запасов. Постройте модель машинного обучения, которая поможет определить регион, где добыча принесёт наибольшую прибыль. Проанализируйте возможную прибыль и риски техникой *Bootstrap.*\n",
    "\n",
    "Шаги для выбора локации:\n",
    "\n",
    "- В избранном регионе ищут месторождения, для каждого определяют значения признаков;\n",
    "- Строят модель и оценивают объём запасов;\n",
    "- Выбирают месторождения с самым высокими оценками значений. Количество месторождений зависит от бюджета компании и стоимости разработки одной скважины;\n",
    "- Прибыль равна суммарной прибыли отобранных месторождений."
   ]
  },
  {
   "cell_type": "markdown",
   "metadata": {},
   "source": [
    "# Оглавление\n",
    "\n",
    "<a id='intro'></a>\n",
    "[1. Загрузка и подготовка данных](#task1).\n",
    "\n",
    "[2. Обучение и проверка модели](#task2).\n",
    "\n",
    "[3. Подготовка к расчёту прибыли](#task3).\n",
    "\n",
    "[4. Расчёт прибыли и рисков ](#task4).\n",
    "\n",
    "[5. Общий вывод](#task5).\n",
    "\n",
    "[6. Чек-лист готовности проекта](#task6)."
   ]
  },
  {
   "cell_type": "markdown",
   "metadata": {},
   "source": [
    "# Цели исследования"
   ]
  },
  {
   "cell_type": "markdown",
   "metadata": {},
   "source": [
    "- Построить модель для определения региона, где добыча принесёт наибольшую прибыль;\n",
    "- Проанализировать возможную прибыль и риски техникой Bootstrap."
   ]
  },
  {
   "cell_type": "markdown",
   "metadata": {},
   "source": [
    "# Описание данных"
   ]
  },
  {
   "cell_type": "markdown",
   "metadata": {},
   "source": [
    "Данные геологоразведки трёх регионов находятся в файлах: \n",
    " - `/datasets/geo_data_0.csv`\n",
    " - `/datasets/geo_data_1.csv`\n",
    " - `datasets/geo_data_2.csv`\n",
    " \n",
    "1) *`id`* — уникальный идентификатор скважины;\n",
    "\n",
    "2) *`f0, f1, f2`* — три признака точек (неважно, что они означают, но сами признаки значимы);\n",
    "\n",
    "3) *`product`* — объём запасов в скважине (тыс. баррелей).\n",
    "\n",
    "\n",
    "**Условия задачи:**\n",
    " - Для обучения модели подходит только линейная регрессия (остальные — недостаточно предсказуемые).\n",
    " - При разведке региона исследуют 500 точек, из которых с помощью машинного обучения выбирают 200 лучших для разработки.\n",
    " - Бюджет на разработку скважин в регионе — 10 млрд рублей.\n",
    " - При нынешних ценах один баррель сырья приносит 450 рублей дохода. Доход с каждой единицы продукта составляет 450 тыс. рублей, поскольку объём указан в тысячах баррелей.\n",
    " - После оценки рисков нужно оставить лишь те регионы, в которых вероятность убытков меньше 2.5%. Среди них выбирают регион с наибольшей средней прибылью.\n",
    "\n",
    "Данные синтетические: детали контрактов и характеристики месторождений не разглашаются."
   ]
  },
  {
   "cell_type": "markdown",
   "metadata": {},
   "source": [
    "# План работы"
   ]
  },
  {
   "cell_type": "markdown",
   "metadata": {},
   "source": [
    "1. Изучить информацию о данных. Загрузить и подготовить данные.\n",
    "2. Обучить и проверить модель для каждого региона.\n",
    "3. Подготовиться к расчёту прибыли. Рассчитать достаточный объём сырья для безубыточной разработки новой скважины.\n",
    "4. Написать функцию для расчёта прибыли по выбранным скважинам и предсказаниям модели.\n",
    "5. Посчитать риски и прибыль для каждого региона."
   ]
  },
  {
   "cell_type": "markdown",
   "metadata": {},
   "source": [
    "[Оглавление](#intro).\n",
    "<a id='task1'></a>"
   ]
  },
  {
   "cell_type": "markdown",
   "metadata": {},
   "source": [
    "## Загрузка и подготовка данных"
   ]
  },
  {
   "cell_type": "markdown",
   "metadata": {},
   "source": [
    "**Импортируем библиотеку pandas.**"
   ]
  },
  {
   "cell_type": "code",
   "execution_count": 1,
   "metadata": {},
   "outputs": [
    {
     "name": "stdout",
     "output_type": "stream",
     "text": [
      "Requirement already satisfied: phik in /opt/conda/lib/python3.9/site-packages (0.12.3)\n",
      "Requirement already satisfied: matplotlib>=2.2.3 in /opt/conda/lib/python3.9/site-packages (from phik) (3.3.4)\n",
      "Requirement already satisfied: pandas>=0.25.1 in /opt/conda/lib/python3.9/site-packages (from phik) (1.2.4)\n",
      "Requirement already satisfied: numpy>=1.18.0 in /opt/conda/lib/python3.9/site-packages (from phik) (1.21.1)\n",
      "Requirement already satisfied: scipy>=1.5.2 in /opt/conda/lib/python3.9/site-packages (from phik) (1.9.1)\n",
      "Requirement already satisfied: joblib>=0.14.1 in /opt/conda/lib/python3.9/site-packages (from phik) (1.1.0)\n",
      "Requirement already satisfied: pyparsing!=2.0.4,!=2.1.2,!=2.1.6,>=2.0.3 in /opt/conda/lib/python3.9/site-packages (from matplotlib>=2.2.3->phik) (2.4.7)\n",
      "Requirement already satisfied: kiwisolver>=1.0.1 in /opt/conda/lib/python3.9/site-packages (from matplotlib>=2.2.3->phik) (1.4.4)\n",
      "Requirement already satisfied: python-dateutil>=2.1 in /opt/conda/lib/python3.9/site-packages (from matplotlib>=2.2.3->phik) (2.8.1)\n",
      "Requirement already satisfied: cycler>=0.10 in /opt/conda/lib/python3.9/site-packages (from matplotlib>=2.2.3->phik) (0.11.0)\n",
      "Requirement already satisfied: pillow>=6.2.0 in /opt/conda/lib/python3.9/site-packages (from matplotlib>=2.2.3->phik) (8.4.0)\n",
      "Requirement already satisfied: pytz>=2017.3 in /opt/conda/lib/python3.9/site-packages (from pandas>=0.25.1->phik) (2021.1)\n",
      "Requirement already satisfied: six>=1.5 in /opt/conda/lib/python3.9/site-packages (from python-dateutil>=2.1->matplotlib>=2.2.3->phik) (1.16.0)\n"
     ]
    }
   ],
   "source": [
    "import pandas as pd\n",
    "import numpy as np\n",
    "import matplotlib.pyplot as plt\n",
    "import seaborn as sns\n",
    "\n",
    "import sys\n",
    "!\"{sys.executable}\" -m pip install phik\n",
    "\n",
    "import phik\n",
    "from phik.report import plot_correlation_matrix\n",
    "from phik import report\n",
    "\n",
    "from numpy.random import RandomState\n",
    "from scipy import stats as st\n",
    "\n",
    "from sklearn.model_selection import train_test_split\n",
    "from sklearn.linear_model import LinearRegression\n",
    "from sklearn.preprocessing import StandardScaler\n",
    "from sklearn.metrics import mean_squared_error"
   ]
  },
  {
   "cell_type": "markdown",
   "metadata": {},
   "source": [
    "**Ключевые значения параметров для рассчета:**"
   ]
  },
  {
   "cell_type": "code",
   "execution_count": 2,
   "metadata": {},
   "outputs": [],
   "source": [
    "# При разведке региона исследуют 500 точек\n",
    "POINTS = 500 \n",
    "\n",
    "# При разведке региона выбирают 200 лучших точек\n",
    "BEST_POINTS = 200\n",
    "\n",
    "# Бюджет на разработку скважин в регионе в млрд руб\n",
    "BUDGET = 10_000_000_000\n",
    "\n",
    "# Доход с каждой единицы продукта в рублях, \n",
    "# поскольку объём указан в тысячах баррелей\n",
    "EARNINGS = 450_000 \n",
    "\n",
    "# Вероятность убытков меньше 2.5%\n",
    "LOSS_PROBABILITY = 0.025"
   ]
  },
  {
   "cell_type": "markdown",
   "metadata": {},
   "source": [
    "**Считайем данные из csv-файла в датафрейм и сохраним в переменную `data`. Путь к файлу:**\n",
    "\n",
    "`/datasets/geo_data_0.csv`\n",
    "\n",
    "`/datasets/geo_data_1.csv`\n",
    "\n",
    "`/datasets/geo_data_2.csv`"
   ]
  },
  {
   "cell_type": "code",
   "execution_count": 3,
   "metadata": {},
   "outputs": [],
   "source": [
    "try:\n",
    "    data_0 = pd.read_csv('/datasets/geo_data_0.csv')\n",
    "    data_1 = pd.read_csv('/datasets/geo_data_1.csv')\n",
    "    data_2 = pd.read_csv('/datasets/geo_data_2.csv')\n",
    "except: \n",
    "    data_0 = 'ошибка при выгрузке данных!'\n",
    "    data_1 = 'ошибка при выгрузке данных!'\n",
    "    data_2 = 'ошибка при выгрузке данных!'"
   ]
  },
  {
   "cell_type": "markdown",
   "metadata": {},
   "source": [
    "**Выведем первые 10 строк датафрейма `data_x` на экран.**"
   ]
  },
  {
   "cell_type": "code",
   "execution_count": 4,
   "metadata": {},
   "outputs": [
    {
     "data": {
      "text/html": [
       "<div>\n",
       "<style scoped>\n",
       "    .dataframe tbody tr th:only-of-type {\n",
       "        vertical-align: middle;\n",
       "    }\n",
       "\n",
       "    .dataframe tbody tr th {\n",
       "        vertical-align: top;\n",
       "    }\n",
       "\n",
       "    .dataframe thead th {\n",
       "        text-align: right;\n",
       "    }\n",
       "</style>\n",
       "<table border=\"1\" class=\"dataframe\">\n",
       "  <thead>\n",
       "    <tr style=\"text-align: right;\">\n",
       "      <th></th>\n",
       "      <th>id</th>\n",
       "      <th>f0</th>\n",
       "      <th>f1</th>\n",
       "      <th>f2</th>\n",
       "      <th>product</th>\n",
       "    </tr>\n",
       "  </thead>\n",
       "  <tbody>\n",
       "    <tr>\n",
       "      <th>0</th>\n",
       "      <td>txEyH</td>\n",
       "      <td>0.705745</td>\n",
       "      <td>-0.497823</td>\n",
       "      <td>1.221170</td>\n",
       "      <td>105.280062</td>\n",
       "    </tr>\n",
       "    <tr>\n",
       "      <th>1</th>\n",
       "      <td>2acmU</td>\n",
       "      <td>1.334711</td>\n",
       "      <td>-0.340164</td>\n",
       "      <td>4.365080</td>\n",
       "      <td>73.037750</td>\n",
       "    </tr>\n",
       "    <tr>\n",
       "      <th>2</th>\n",
       "      <td>409Wp</td>\n",
       "      <td>1.022732</td>\n",
       "      <td>0.151990</td>\n",
       "      <td>1.419926</td>\n",
       "      <td>85.265647</td>\n",
       "    </tr>\n",
       "    <tr>\n",
       "      <th>3</th>\n",
       "      <td>iJLyR</td>\n",
       "      <td>-0.032172</td>\n",
       "      <td>0.139033</td>\n",
       "      <td>2.978566</td>\n",
       "      <td>168.620776</td>\n",
       "    </tr>\n",
       "    <tr>\n",
       "      <th>4</th>\n",
       "      <td>Xdl7t</td>\n",
       "      <td>1.988431</td>\n",
       "      <td>0.155413</td>\n",
       "      <td>4.751769</td>\n",
       "      <td>154.036647</td>\n",
       "    </tr>\n",
       "    <tr>\n",
       "      <th>5</th>\n",
       "      <td>wX4Hy</td>\n",
       "      <td>0.969570</td>\n",
       "      <td>0.489775</td>\n",
       "      <td>-0.735383</td>\n",
       "      <td>64.741541</td>\n",
       "    </tr>\n",
       "    <tr>\n",
       "      <th>6</th>\n",
       "      <td>tL6pL</td>\n",
       "      <td>0.645075</td>\n",
       "      <td>0.530656</td>\n",
       "      <td>1.780266</td>\n",
       "      <td>49.055285</td>\n",
       "    </tr>\n",
       "    <tr>\n",
       "      <th>7</th>\n",
       "      <td>BYPU6</td>\n",
       "      <td>-0.400648</td>\n",
       "      <td>0.808337</td>\n",
       "      <td>-5.624670</td>\n",
       "      <td>72.943292</td>\n",
       "    </tr>\n",
       "    <tr>\n",
       "      <th>8</th>\n",
       "      <td>j9Oui</td>\n",
       "      <td>0.643105</td>\n",
       "      <td>-0.551583</td>\n",
       "      <td>2.372141</td>\n",
       "      <td>113.356160</td>\n",
       "    </tr>\n",
       "    <tr>\n",
       "      <th>9</th>\n",
       "      <td>OLuZU</td>\n",
       "      <td>2.173381</td>\n",
       "      <td>0.563698</td>\n",
       "      <td>9.441852</td>\n",
       "      <td>127.910945</td>\n",
       "    </tr>\n",
       "  </tbody>\n",
       "</table>\n",
       "</div>"
      ],
      "text/plain": [
       "      id        f0        f1        f2     product\n",
       "0  txEyH  0.705745 -0.497823  1.221170  105.280062\n",
       "1  2acmU  1.334711 -0.340164  4.365080   73.037750\n",
       "2  409Wp  1.022732  0.151990  1.419926   85.265647\n",
       "3  iJLyR -0.032172  0.139033  2.978566  168.620776\n",
       "4  Xdl7t  1.988431  0.155413  4.751769  154.036647\n",
       "5  wX4Hy  0.969570  0.489775 -0.735383   64.741541\n",
       "6  tL6pL  0.645075  0.530656  1.780266   49.055285\n",
       "7  BYPU6 -0.400648  0.808337 -5.624670   72.943292\n",
       "8  j9Oui  0.643105 -0.551583  2.372141  113.356160\n",
       "9  OLuZU  2.173381  0.563698  9.441852  127.910945"
      ]
     },
     "execution_count": 4,
     "metadata": {},
     "output_type": "execute_result"
    }
   ],
   "source": [
    "data_0.head(10)"
   ]
  },
  {
   "cell_type": "code",
   "execution_count": 5,
   "metadata": {},
   "outputs": [
    {
     "data": {
      "text/html": [
       "<div>\n",
       "<style scoped>\n",
       "    .dataframe tbody tr th:only-of-type {\n",
       "        vertical-align: middle;\n",
       "    }\n",
       "\n",
       "    .dataframe tbody tr th {\n",
       "        vertical-align: top;\n",
       "    }\n",
       "\n",
       "    .dataframe thead th {\n",
       "        text-align: right;\n",
       "    }\n",
       "</style>\n",
       "<table border=\"1\" class=\"dataframe\">\n",
       "  <thead>\n",
       "    <tr style=\"text-align: right;\">\n",
       "      <th></th>\n",
       "      <th>id</th>\n",
       "      <th>f0</th>\n",
       "      <th>f1</th>\n",
       "      <th>f2</th>\n",
       "      <th>product</th>\n",
       "    </tr>\n",
       "  </thead>\n",
       "  <tbody>\n",
       "    <tr>\n",
       "      <th>0</th>\n",
       "      <td>kBEdx</td>\n",
       "      <td>-15.001348</td>\n",
       "      <td>-8.276000</td>\n",
       "      <td>-0.005876</td>\n",
       "      <td>3.179103</td>\n",
       "    </tr>\n",
       "    <tr>\n",
       "      <th>1</th>\n",
       "      <td>62mP7</td>\n",
       "      <td>14.272088</td>\n",
       "      <td>-3.475083</td>\n",
       "      <td>0.999183</td>\n",
       "      <td>26.953261</td>\n",
       "    </tr>\n",
       "    <tr>\n",
       "      <th>2</th>\n",
       "      <td>vyE1P</td>\n",
       "      <td>6.263187</td>\n",
       "      <td>-5.948386</td>\n",
       "      <td>5.001160</td>\n",
       "      <td>134.766305</td>\n",
       "    </tr>\n",
       "    <tr>\n",
       "      <th>3</th>\n",
       "      <td>KcrkZ</td>\n",
       "      <td>-13.081196</td>\n",
       "      <td>-11.506057</td>\n",
       "      <td>4.999415</td>\n",
       "      <td>137.945408</td>\n",
       "    </tr>\n",
       "    <tr>\n",
       "      <th>4</th>\n",
       "      <td>AHL4O</td>\n",
       "      <td>12.702195</td>\n",
       "      <td>-8.147433</td>\n",
       "      <td>5.004363</td>\n",
       "      <td>134.766305</td>\n",
       "    </tr>\n",
       "    <tr>\n",
       "      <th>5</th>\n",
       "      <td>HHckp</td>\n",
       "      <td>-3.327590</td>\n",
       "      <td>-2.205276</td>\n",
       "      <td>3.003647</td>\n",
       "      <td>84.038886</td>\n",
       "    </tr>\n",
       "    <tr>\n",
       "      <th>6</th>\n",
       "      <td>h5Ujo</td>\n",
       "      <td>-11.142655</td>\n",
       "      <td>-10.133399</td>\n",
       "      <td>4.002382</td>\n",
       "      <td>110.992147</td>\n",
       "    </tr>\n",
       "    <tr>\n",
       "      <th>7</th>\n",
       "      <td>muH9x</td>\n",
       "      <td>4.234715</td>\n",
       "      <td>-0.001354</td>\n",
       "      <td>2.004588</td>\n",
       "      <td>53.906522</td>\n",
       "    </tr>\n",
       "    <tr>\n",
       "      <th>8</th>\n",
       "      <td>YiRkx</td>\n",
       "      <td>13.355129</td>\n",
       "      <td>-0.332068</td>\n",
       "      <td>4.998647</td>\n",
       "      <td>134.766305</td>\n",
       "    </tr>\n",
       "    <tr>\n",
       "      <th>9</th>\n",
       "      <td>jG6Gi</td>\n",
       "      <td>1.069227</td>\n",
       "      <td>-11.025667</td>\n",
       "      <td>4.997844</td>\n",
       "      <td>137.945408</td>\n",
       "    </tr>\n",
       "  </tbody>\n",
       "</table>\n",
       "</div>"
      ],
      "text/plain": [
       "      id         f0         f1        f2     product\n",
       "0  kBEdx -15.001348  -8.276000 -0.005876    3.179103\n",
       "1  62mP7  14.272088  -3.475083  0.999183   26.953261\n",
       "2  vyE1P   6.263187  -5.948386  5.001160  134.766305\n",
       "3  KcrkZ -13.081196 -11.506057  4.999415  137.945408\n",
       "4  AHL4O  12.702195  -8.147433  5.004363  134.766305\n",
       "5  HHckp  -3.327590  -2.205276  3.003647   84.038886\n",
       "6  h5Ujo -11.142655 -10.133399  4.002382  110.992147\n",
       "7  muH9x   4.234715  -0.001354  2.004588   53.906522\n",
       "8  YiRkx  13.355129  -0.332068  4.998647  134.766305\n",
       "9  jG6Gi   1.069227 -11.025667  4.997844  137.945408"
      ]
     },
     "execution_count": 5,
     "metadata": {},
     "output_type": "execute_result"
    }
   ],
   "source": [
    "data_1.head(10)"
   ]
  },
  {
   "cell_type": "code",
   "execution_count": 6,
   "metadata": {},
   "outputs": [
    {
     "data": {
      "text/html": [
       "<div>\n",
       "<style scoped>\n",
       "    .dataframe tbody tr th:only-of-type {\n",
       "        vertical-align: middle;\n",
       "    }\n",
       "\n",
       "    .dataframe tbody tr th {\n",
       "        vertical-align: top;\n",
       "    }\n",
       "\n",
       "    .dataframe thead th {\n",
       "        text-align: right;\n",
       "    }\n",
       "</style>\n",
       "<table border=\"1\" class=\"dataframe\">\n",
       "  <thead>\n",
       "    <tr style=\"text-align: right;\">\n",
       "      <th></th>\n",
       "      <th>id</th>\n",
       "      <th>f0</th>\n",
       "      <th>f1</th>\n",
       "      <th>f2</th>\n",
       "      <th>product</th>\n",
       "    </tr>\n",
       "  </thead>\n",
       "  <tbody>\n",
       "    <tr>\n",
       "      <th>0</th>\n",
       "      <td>fwXo0</td>\n",
       "      <td>-1.146987</td>\n",
       "      <td>0.963328</td>\n",
       "      <td>-0.828965</td>\n",
       "      <td>27.758673</td>\n",
       "    </tr>\n",
       "    <tr>\n",
       "      <th>1</th>\n",
       "      <td>WJtFt</td>\n",
       "      <td>0.262778</td>\n",
       "      <td>0.269839</td>\n",
       "      <td>-2.530187</td>\n",
       "      <td>56.069697</td>\n",
       "    </tr>\n",
       "    <tr>\n",
       "      <th>2</th>\n",
       "      <td>ovLUW</td>\n",
       "      <td>0.194587</td>\n",
       "      <td>0.289035</td>\n",
       "      <td>-5.586433</td>\n",
       "      <td>62.871910</td>\n",
       "    </tr>\n",
       "    <tr>\n",
       "      <th>3</th>\n",
       "      <td>q6cA6</td>\n",
       "      <td>2.236060</td>\n",
       "      <td>-0.553760</td>\n",
       "      <td>0.930038</td>\n",
       "      <td>114.572842</td>\n",
       "    </tr>\n",
       "    <tr>\n",
       "      <th>4</th>\n",
       "      <td>WPMUX</td>\n",
       "      <td>-0.515993</td>\n",
       "      <td>1.716266</td>\n",
       "      <td>5.899011</td>\n",
       "      <td>149.600746</td>\n",
       "    </tr>\n",
       "    <tr>\n",
       "      <th>5</th>\n",
       "      <td>LzZXx</td>\n",
       "      <td>-0.758092</td>\n",
       "      <td>0.710691</td>\n",
       "      <td>2.585887</td>\n",
       "      <td>90.222465</td>\n",
       "    </tr>\n",
       "    <tr>\n",
       "      <th>6</th>\n",
       "      <td>WBHRv</td>\n",
       "      <td>-0.574891</td>\n",
       "      <td>0.317727</td>\n",
       "      <td>1.773745</td>\n",
       "      <td>45.641478</td>\n",
       "    </tr>\n",
       "    <tr>\n",
       "      <th>7</th>\n",
       "      <td>XO8fn</td>\n",
       "      <td>-1.906649</td>\n",
       "      <td>-2.458350</td>\n",
       "      <td>-0.177097</td>\n",
       "      <td>72.480640</td>\n",
       "    </tr>\n",
       "    <tr>\n",
       "      <th>8</th>\n",
       "      <td>ybmQ5</td>\n",
       "      <td>1.776292</td>\n",
       "      <td>-0.279356</td>\n",
       "      <td>3.004156</td>\n",
       "      <td>106.616832</td>\n",
       "    </tr>\n",
       "    <tr>\n",
       "      <th>9</th>\n",
       "      <td>OilcN</td>\n",
       "      <td>-1.214452</td>\n",
       "      <td>-0.439314</td>\n",
       "      <td>5.922514</td>\n",
       "      <td>52.954532</td>\n",
       "    </tr>\n",
       "  </tbody>\n",
       "</table>\n",
       "</div>"
      ],
      "text/plain": [
       "      id        f0        f1        f2     product\n",
       "0  fwXo0 -1.146987  0.963328 -0.828965   27.758673\n",
       "1  WJtFt  0.262778  0.269839 -2.530187   56.069697\n",
       "2  ovLUW  0.194587  0.289035 -5.586433   62.871910\n",
       "3  q6cA6  2.236060 -0.553760  0.930038  114.572842\n",
       "4  WPMUX -0.515993  1.716266  5.899011  149.600746\n",
       "5  LzZXx -0.758092  0.710691  2.585887   90.222465\n",
       "6  WBHRv -0.574891  0.317727  1.773745   45.641478\n",
       "7  XO8fn -1.906649 -2.458350 -0.177097   72.480640\n",
       "8  ybmQ5  1.776292 -0.279356  3.004156  106.616832\n",
       "9  OilcN -1.214452 -0.439314  5.922514   52.954532"
      ]
     },
     "execution_count": 6,
     "metadata": {},
     "output_type": "execute_result"
    }
   ],
   "source": [
    "data_2.head(10)"
   ]
  },
  {
   "cell_type": "markdown",
   "metadata": {},
   "source": [
    "**Выведем основную информацию о данном датафрейме с помощью метода info().**"
   ]
  },
  {
   "cell_type": "code",
   "execution_count": 7,
   "metadata": {
    "scrolled": false
   },
   "outputs": [
    {
     "name": "stdout",
     "output_type": "stream",
     "text": [
      "<class 'pandas.core.frame.DataFrame'>\n",
      "RangeIndex: 100000 entries, 0 to 99999\n",
      "Data columns (total 5 columns):\n",
      " #   Column   Non-Null Count   Dtype  \n",
      "---  ------   --------------   -----  \n",
      " 0   id       100000 non-null  object \n",
      " 1   f0       100000 non-null  float64\n",
      " 2   f1       100000 non-null  float64\n",
      " 3   f2       100000 non-null  float64\n",
      " 4   product  100000 non-null  float64\n",
      "dtypes: float64(4), object(1)\n",
      "memory usage: 3.8+ MB\n",
      "########################################\n",
      "<class 'pandas.core.frame.DataFrame'>\n",
      "RangeIndex: 100000 entries, 0 to 99999\n",
      "Data columns (total 5 columns):\n",
      " #   Column   Non-Null Count   Dtype  \n",
      "---  ------   --------------   -----  \n",
      " 0   id       100000 non-null  object \n",
      " 1   f0       100000 non-null  float64\n",
      " 2   f1       100000 non-null  float64\n",
      " 3   f2       100000 non-null  float64\n",
      " 4   product  100000 non-null  float64\n",
      "dtypes: float64(4), object(1)\n",
      "memory usage: 3.8+ MB\n",
      "########################################\n",
      "<class 'pandas.core.frame.DataFrame'>\n",
      "RangeIndex: 100000 entries, 0 to 99999\n",
      "Data columns (total 5 columns):\n",
      " #   Column   Non-Null Count   Dtype  \n",
      "---  ------   --------------   -----  \n",
      " 0   id       100000 non-null  object \n",
      " 1   f0       100000 non-null  float64\n",
      " 2   f1       100000 non-null  float64\n",
      " 3   f2       100000 non-null  float64\n",
      " 4   product  100000 non-null  float64\n",
      "dtypes: float64(4), object(1)\n",
      "memory usage: 3.8+ MB\n"
     ]
    }
   ],
   "source": [
    "data_0.info()\n",
    "print('#'*40)\n",
    "data_1.info()\n",
    "print('#'*40)\n",
    "data_2.info()"
   ]
  },
  {
   "cell_type": "markdown",
   "metadata": {},
   "source": [
    "**Выведем информацию о количестве пропусков по столбцам в данных датафреймах с помощью метода isna().**"
   ]
  },
  {
   "cell_type": "code",
   "execution_count": 8,
   "metadata": {},
   "outputs": [
    {
     "name": "stdout",
     "output_type": "stream",
     "text": [
      "Количество пропусков в датасете data_0:\n",
      " id         0\n",
      "f0         0\n",
      "f1         0\n",
      "f2         0\n",
      "product    0\n",
      "dtype: int64\n",
      "\n",
      "Количество пропусков в датасете data_1:\n",
      " id         0\n",
      "f0         0\n",
      "f1         0\n",
      "f2         0\n",
      "product    0\n",
      "dtype: int64\n",
      "\n",
      "Количество пропусков в датасете data_2:\n",
      " id         0\n",
      "f0         0\n",
      "f1         0\n",
      "f2         0\n",
      "product    0\n",
      "dtype: int64\n"
     ]
    }
   ],
   "source": [
    "print('Количество пропусков в датасете data_0:\\n', data_0.isna().sum())\n",
    "print()\n",
    "print('Количество пропусков в датасете data_1:\\n',data_1.isna().sum())\n",
    "print()\n",
    "print('Количество пропусков в датасете data_2:\\n',data_2.isna().sum())"
   ]
  },
  {
   "cell_type": "markdown",
   "metadata": {},
   "source": [
    "Пропусков не обнаружено."
   ]
  },
  {
   "cell_type": "markdown",
   "metadata": {},
   "source": [
    "**Проверим, есть ли строки-дубликаты в датасетах `data_х`**"
   ]
  },
  {
   "cell_type": "code",
   "execution_count": 9,
   "metadata": {
    "scrolled": true
   },
   "outputs": [
    {
     "name": "stdout",
     "output_type": "stream",
     "text": [
      "Количество дубликатов в датасете data_0: 0\n",
      "Количество дубликатов в датасете data_1: 0\n",
      "Количество дубликатов в датасете data_2: 0\n"
     ]
    }
   ],
   "source": [
    "print('Количество дубликатов в датасете data_0:', data_0.duplicated().sum())\n",
    "print('Количество дубликатов в датасете data_1:', data_1.duplicated().sum())\n",
    "print('Количество дубликатов в датасете data_2:', data_2.duplicated().sum())"
   ]
  },
  {
   "cell_type": "markdown",
   "metadata": {},
   "source": [
    "Полных дубликатов не обнаружено.\n",
    "\n",
    "Но проверим, вдруг одни и те же скважины были оценены по разному, поэтому они не проявлялись в поиске дубликатов по всему датасету."
   ]
  },
  {
   "cell_type": "code",
   "execution_count": 10,
   "metadata": {},
   "outputs": [
    {
     "name": "stdout",
     "output_type": "stream",
     "text": [
      "Количество дубликатов в датасете data_0: 10\n",
      "Количество дубликатов в датасете data_1: 4\n",
      "Количество дубликатов в датасете data_2: 4\n"
     ]
    }
   ],
   "source": [
    "print('Количество дубликатов в датасете data_0:', data_0['id'].duplicated().sum())\n",
    "print('Количество дубликатов в датасете data_1:', data_1['id'].duplicated().sum())\n",
    "print('Количество дубликатов в датасете data_2:', data_2['id'].duplicated().sum())"
   ]
  },
  {
   "cell_type": "markdown",
   "metadata": {},
   "source": [
    "Можно удалить данные дубликаты, так как их количество меньше 10%."
   ]
  },
  {
   "cell_type": "code",
   "execution_count": 11,
   "metadata": {},
   "outputs": [],
   "source": [
    "data_0 = data_0.drop_duplicates(['id'], keep='last')\n",
    "data_1 = data_1.drop_duplicates(['id'], keep='last')\n",
    "data_2 = data_2.drop_duplicates(['id'], keep='last')"
   ]
  },
  {
   "cell_type": "markdown",
   "metadata": {},
   "source": [
    "**Проверим, есть ли подозрительные и выбивающиеся данные в датасетах `data_x`**"
   ]
  },
  {
   "cell_type": "code",
   "execution_count": 12,
   "metadata": {
    "scrolled": false
   },
   "outputs": [
    {
     "name": "stdout",
     "output_type": "stream",
     "text": [
      "Количество дубликатов в датасете data_0:\n",
      "                  f0            f1            f2       product\n",
      "count  99990.000000  99990.000000  99990.000000  99990.000000\n",
      "mean       0.500412      0.250149      2.502656     92.499482\n",
      "std        0.871867      0.504434      3.248155     44.289431\n",
      "min       -1.408605     -0.848218    -12.088328      0.000000\n",
      "25%       -0.072683     -0.200877      0.287887     56.496838\n",
      "50%        0.502340      0.250252      2.516005     91.849972\n",
      "75%        1.073626      0.700654      4.714970    128.564269\n",
      "max        2.362331      1.343769     16.003790    185.364347\n",
      "Количество дубликатов в датасете data_1:\n",
      "                  f0            f1            f2       product\n",
      "count  99996.000000  99996.000000  99996.000000  99996.000000\n",
      "mean       1.141450     -4.796493      2.494551     68.825232\n",
      "std        8.965922      5.119900      1.703579     45.944649\n",
      "min      -31.609576    -26.358598     -0.018144      0.000000\n",
      "25%       -6.298525     -8.267985      1.000021     26.953261\n",
      "50%        1.153190     -4.813005      2.011479     57.085625\n",
      "75%        8.621015     -1.332704      3.999904    107.813044\n",
      "max       29.421755     18.734063      5.019721    137.945408\n",
      "Количество дубликатов в датасете data_2:\n",
      "                  f0            f1            f2       product\n",
      "count  99996.000000  99996.000000  99996.000000  99996.000000\n",
      "mean       0.001995     -0.002034      2.495132     95.000425\n",
      "std        1.732054      1.730424      3.473453     44.748112\n",
      "min       -8.760004     -7.084020    -11.970335      0.000000\n",
      "25%       -1.162288     -1.174805      0.130359     59.452094\n",
      "50%        0.009411     -0.009433      2.484236     94.925613\n",
      "75%        1.158477      1.163760      4.858720    130.590822\n",
      "max        7.238262      7.844801     16.739402    190.029838\n"
     ]
    }
   ],
   "source": [
    "print('Количество дубликатов в датасете data_0:\\n', data_0.describe())\n",
    "print('Количество дубликатов в датасете data_1:\\n', data_1.describe())\n",
    "print('Количество дубликатов в датасете data_2:\\n', data_2.describe())"
   ]
  },
  {
   "cell_type": "markdown",
   "metadata": {},
   "source": [
    "По данным ничего нельзя сказать, так как не понятно, что это за признаки и какие значения для данных признаков являются нормальными. "
   ]
  },
  {
   "cell_type": "markdown",
   "metadata": {},
   "source": [
    "**Оценим распределение числовых признаков для датасета `data_0`.**"
   ]
  },
  {
   "cell_type": "code",
   "execution_count": 13,
   "metadata": {
    "scrolled": false
   },
   "outputs": [
    {
     "data": {
      "image/png": "[encoded data removed]",
      "text/plain": [
       "<Figure size 1152x504 with 2 Axes>"
      ]
     },
     "metadata": {},
     "output_type": "display_data"
    },
    {
     "data": {
      "image/png": "[encoded data removed]",
      "text/plain": [
       "<Figure size 1152x504 with 2 Axes>"
      ]
     },
     "metadata": {},
     "output_type": "display_data"
    },
    {
     "data": {
      "image/png": "[encoded data removed]",
      "text/plain": [
       "<Figure size 1152x504 with 2 Axes>"
      ]
     },
     "metadata": {},
     "output_type": "display_data"
    },
    {
     "data": {
      "image/png": "[encoded data removed]",
      "text/plain": [
       "<Figure size 1152x504 with 2 Axes>"
      ]
     },
     "metadata": {},
     "output_type": "display_data"
    }
   ],
   "source": [
    "# функция для построения диаграммы размаха и гистограммы\n",
    "def plot_hist(data, label, bins):\n",
    "    \n",
    "    sns.set()\n",
    "    f, axes = plt.subplots(1, 2, figsize=(16, 7));\n",
    "    axes[0].set_title(\"Распределение признака: \" + label, fontsize=18)\n",
    "    axes[0].set_ylabel('плотность', fontsize=15)\n",
    "    \n",
    "    sns.histplot(data, bins=bins, ax=axes[0]);\n",
    "    sns.boxplot(x=data,\n",
    "                     palette='Greens_r',\n",
    "                     ax=axes[1]\n",
    "                     );\n",
    "\n",
    "    axes[1].set_title('Диаграмма размаха для признака: ' + label, size=18)\n",
    "    plt.show();\n",
    "\n",
    "num_features = [ 'f0', 'f1', 'f2', 'product']\n",
    "for column in num_features:\n",
    "    plot_hist(data_0[column], column, 50);"
   ]
  },
  {
   "cell_type": "markdown",
   "metadata": {},
   "source": [
    "**Оценим распределение числовых признаков для датасета `data_1`.**"
   ]
  },
  {
   "cell_type": "code",
   "execution_count": 14,
   "metadata": {
    "scrolled": false
   },
   "outputs": [
    {
     "data": {
      "image/png": "[encoded data removed]",
      "text/plain": [
       "<Figure size 1152x504 with 2 Axes>"
      ]
     },
     "metadata": {},
     "output_type": "display_data"
    },
    {
     "data": {
      "image/png": "[encoded data removed]",
      "text/plain": [
       "<Figure size 1152x504 with 2 Axes>"
      ]
     },
     "metadata": {},
     "output_type": "display_data"
    },
    {
     "data": {
      "image/png": "[encoded data removed]",
      "text/plain": [
       "<Figure size 1152x504 with 2 Axes>"
      ]
     },
     "metadata": {},
     "output_type": "display_data"
    },
    {
     "data": {
      "image/png": "[encoded data removed]",
      "text/plain": [
       "<Figure size 1152x504 with 2 Axes>"
      ]
     },
     "metadata": {},
     "output_type": "display_data"
    }
   ],
   "source": [
    "for column in num_features:\n",
    "    plot_hist(data_1[column], column, 30);"
   ]
  },
  {
   "cell_type": "code",
   "execution_count": 15,
   "metadata": {},
   "outputs": [
    {
     "data": {
      "text/plain": [
       "array([-5.87601369e-03,  9.99182737e-01,  5.00116016e+00, ...,\n",
       "        4.99865060e+00,  1.00014635e+00, -3.29851829e-03])"
      ]
     },
     "execution_count": 15,
     "metadata": {},
     "output_type": "execute_result"
    }
   ],
   "source": [
    "data_1['f2'].unique()"
   ]
  },
  {
   "cell_type": "code",
   "execution_count": 16,
   "metadata": {},
   "outputs": [
    {
     "data": {
      "text/plain": [
       "array([  3.17910258,  26.95326103, 134.76630516, 137.94540774,\n",
       "        84.03888568, 110.99214671,  53.90652206,   0.        ,\n",
       "       107.81304413,  57.08562465,  30.13236361,  80.85978309])"
      ]
     },
     "execution_count": 16,
     "metadata": {},
     "output_type": "execute_result"
    }
   ],
   "source": [
    "data_1['product'].unique()"
   ]
  },
  {
   "cell_type": "markdown",
   "metadata": {},
   "source": [
    "Есть у признака и отрицательные значения. Но не понятно, куда это ведет, может быть нужно убрать отрицательные значения и ограничить датасет нулем. Но если бы мы лучше понимали что означает признак, может быть было бы проще понять. Нужно уточнить у коллег."
   ]
  },
  {
   "cell_type": "markdown",
   "metadata": {},
   "source": [
    "**Оценим распределение числовых признаков для датасета `data_2`.**"
   ]
  },
  {
   "cell_type": "code",
   "execution_count": 17,
   "metadata": {
    "scrolled": false
   },
   "outputs": [
    {
     "data": {
      "image/png": "[encoded data removed]",
      "text/plain": [
       "<Figure size 1152x504 with 2 Axes>"
      ]
     },
     "metadata": {},
     "output_type": "display_data"
    },
    {
     "data": {
      "image/png": "[encoded data removed]",
      "text/plain": [
       "<Figure size 1152x504 with 2 Axes>"
      ]
     },
     "metadata": {},
     "output_type": "display_data"
    },
    {
     "data": {
      "image/png": "[encoded data removed]",
      "text/plain": [
       "<Figure size 1152x504 with 2 Axes>"
      ]
     },
     "metadata": {},
     "output_type": "display_data"
    },
    {
     "data": {
      "image/png": "[encoded data removed]",
      "text/plain": [
       "<Figure size 1152x504 with 2 Axes>"
      ]
     },
     "metadata": {},
     "output_type": "display_data"
    }
   ],
   "source": [
    "for column in num_features:\n",
    "    plot_hist(data_1[column], column, 30);"
   ]
  },
  {
   "cell_type": "markdown",
   "metadata": {},
   "source": [
    "**Признак `id` не нужен для исследования, построения модели и ее отладки.**\n",
    "\n",
    "Удалим данный столбец из таблиц."
   ]
  },
  {
   "cell_type": "code",
   "execution_count": 18,
   "metadata": {},
   "outputs": [],
   "source": [
    "data_0 = data_0.drop('id', axis=1)\n",
    "data_1 = data_1.drop('id', axis=1)\n",
    "data_2 = data_2.drop('id', axis=1)"
   ]
  },
  {
   "cell_type": "markdown",
   "metadata": {},
   "source": [
    "**Построим и визуализируем матрицу корреляции признаков чтобы оценить степень скоррелированности признаков.**"
   ]
  },
  {
   "cell_type": "code",
   "execution_count": 19,
   "metadata": {},
   "outputs": [
    {
     "name": "stdout",
     "output_type": "stream",
     "text": [
      "interval columns not set, guessing: ['f0', 'f1', 'f2', 'product']\n"
     ]
    }
   ],
   "source": [
    "phik_overview = data_0.phik_matrix()\n",
    "phik_overview.round(2);"
   ]
  },
  {
   "cell_type": "code",
   "execution_count": 20,
   "metadata": {},
   "outputs": [
    {
     "data": {
      "image/png": "[encoded data removed]",
      "text/plain": [
       "<Figure size 1296x720 with 2 Axes>"
      ]
     },
     "metadata": {},
     "output_type": "display_data"
    }
   ],
   "source": [
    "plot_correlation_matrix(phik_overview.values, \n",
    "                        x_labels=phik_overview.columns, \n",
    "                        y_labels=phik_overview.index, \n",
    "                        vmin=0, vmax=1, color_map=\"Greens\", \n",
    "                        title=r\"correlation $\\phi_K$ for data_0\", \n",
    "                        fontsize_factor=1.5, \n",
    "                        figsize=(18, 10))\n",
    "plt.tight_layout()"
   ]
  },
  {
   "cell_type": "code",
   "execution_count": 21,
   "metadata": {},
   "outputs": [
    {
     "name": "stdout",
     "output_type": "stream",
     "text": [
      "interval columns not set, guessing: ['f0', 'f1', 'f2', 'product']\n"
     ]
    }
   ],
   "source": [
    "phik_overview = data_1.phik_matrix()\n",
    "phik_overview.round(2);"
   ]
  },
  {
   "cell_type": "code",
   "execution_count": 22,
   "metadata": {},
   "outputs": [
    {
     "data": {
      "image/png": "[encoded data removed]",
      "text/plain": [
       "<Figure size 1296x720 with 2 Axes>"
      ]
     },
     "metadata": {},
     "output_type": "display_data"
    }
   ],
   "source": [
    "plot_correlation_matrix(phik_overview.values, \n",
    "                        x_labels=phik_overview.columns, \n",
    "                        y_labels=phik_overview.index, \n",
    "                        vmin=0, vmax=1, color_map=\"Greens\", \n",
    "                        title=r\"correlation $\\phi_K$ for data_1\", \n",
    "                        fontsize_factor=1.5, \n",
    "                        figsize=(18, 10))\n",
    "plt.tight_layout()"
   ]
  },
  {
   "cell_type": "code",
   "execution_count": 23,
   "metadata": {},
   "outputs": [
    {
     "name": "stdout",
     "output_type": "stream",
     "text": [
      "interval columns not set, guessing: ['f0', 'f1', 'f2', 'product']\n"
     ]
    }
   ],
   "source": [
    "phik_overview = data_2.phik_matrix()\n",
    "phik_overview.round(2);"
   ]
  },
  {
   "cell_type": "code",
   "execution_count": 24,
   "metadata": {},
   "outputs": [
    {
     "data": {
      "image/png": "[encoded data removed]",
      "text/plain": [
       "<Figure size 1296x720 with 2 Axes>"
      ]
     },
     "metadata": {},
     "output_type": "display_data"
    }
   ],
   "source": [
    "plot_correlation_matrix(phik_overview.values, \n",
    "                        x_labels=phik_overview.columns, \n",
    "                        y_labels=phik_overview.index, \n",
    "                        vmin=0, vmax=1, color_map=\"Greens\", \n",
    "                        title=r\"correlation $\\phi_K$ for data_2\", \n",
    "                        fontsize_factor=1.5, \n",
    "                        figsize=(18, 10))\n",
    "plt.tight_layout()"
   ]
  },
  {
   "cell_type": "markdown",
   "metadata": {},
   "source": [
    "По матрице корреляции видим, что в датасете `data_1` очень высокая корреляция между целевым признаком `product` и признаком **`f2`**.\n",
    "\n",
    "Также средняя корреляция наблюдается между целевым признаком и `f0` в датасете `data_1`.\n",
    "\n",
    "В  датасете `data_0` также есть средняя корреляция между признаками `f0` и `f1`."
   ]
  },
  {
   "cell_type": "markdown",
   "metadata": {},
   "source": [
    "Проверим датасет `data_1` после удаления признака `f2`"
   ]
  },
  {
   "cell_type": "code",
   "execution_count": 25,
   "metadata": {},
   "outputs": [
    {
     "data": {
      "text/html": [
       "<div>\n",
       "<style scoped>\n",
       "    .dataframe tbody tr th:only-of-type {\n",
       "        vertical-align: middle;\n",
       "    }\n",
       "\n",
       "    .dataframe tbody tr th {\n",
       "        vertical-align: top;\n",
       "    }\n",
       "\n",
       "    .dataframe thead th {\n",
       "        text-align: right;\n",
       "    }\n",
       "</style>\n",
       "<table border=\"1\" class=\"dataframe\">\n",
       "  <thead>\n",
       "    <tr style=\"text-align: right;\">\n",
       "      <th></th>\n",
       "      <th>f0</th>\n",
       "      <th>f1</th>\n",
       "      <th>f2</th>\n",
       "      <th>product</th>\n",
       "    </tr>\n",
       "  </thead>\n",
       "  <tbody>\n",
       "    <tr>\n",
       "      <th>0</th>\n",
       "      <td>-15.001348</td>\n",
       "      <td>-8.276000</td>\n",
       "      <td>-0.005876</td>\n",
       "      <td>3.179103</td>\n",
       "    </tr>\n",
       "    <tr>\n",
       "      <th>1</th>\n",
       "      <td>14.272088</td>\n",
       "      <td>-3.475083</td>\n",
       "      <td>0.999183</td>\n",
       "      <td>26.953261</td>\n",
       "    </tr>\n",
       "    <tr>\n",
       "      <th>2</th>\n",
       "      <td>6.263187</td>\n",
       "      <td>-5.948386</td>\n",
       "      <td>5.001160</td>\n",
       "      <td>134.766305</td>\n",
       "    </tr>\n",
       "    <tr>\n",
       "      <th>3</th>\n",
       "      <td>-13.081196</td>\n",
       "      <td>-11.506057</td>\n",
       "      <td>4.999415</td>\n",
       "      <td>137.945408</td>\n",
       "    </tr>\n",
       "    <tr>\n",
       "      <th>4</th>\n",
       "      <td>12.702195</td>\n",
       "      <td>-8.147433</td>\n",
       "      <td>5.004363</td>\n",
       "      <td>134.766305</td>\n",
       "    </tr>\n",
       "  </tbody>\n",
       "</table>\n",
       "</div>"
      ],
      "text/plain": [
       "          f0         f1        f2     product\n",
       "0 -15.001348  -8.276000 -0.005876    3.179103\n",
       "1  14.272088  -3.475083  0.999183   26.953261\n",
       "2   6.263187  -5.948386  5.001160  134.766305\n",
       "3 -13.081196 -11.506057  4.999415  137.945408\n",
       "4  12.702195  -8.147433  5.004363  134.766305"
      ]
     },
     "execution_count": 25,
     "metadata": {},
     "output_type": "execute_result"
    }
   ],
   "source": [
    "data_1.head()"
   ]
  },
  {
   "cell_type": "markdown",
   "metadata": {},
   "source": [
    "**Вывод:**\n",
    "1. Импортировали необходимые библиотеки.\n",
    "2. Считали данные из csv-файла.\n",
    "3. Изучили и вывели общую информацию по исходным датафреймам `data_0`, `data_1`, `data_2`: \n",
    "    - в датафрейме 5 столбцов и 100000 строк;\n",
    "    - все столбцы названы корректно (в змеином регистре);\n",
    "    - пропуски в столбцах отсутствуют;\n",
    "    - тип объектов корректный;\n",
    "    - общая занимаемая память для каждого датасета 3.8+ MB.\n",
    "    \n",
    "    \n",
    "4. Дубликатов не обнаружено. Удалили дубликаты по столбцу `id`\n",
    "5. Проверили наличие дубликатов.\n",
    "6. Признак `id` не нужен для исследования локации и поиска прибыльных скважин добычи нефти."
   ]
  },
  {
   "cell_type": "markdown",
   "metadata": {},
   "source": [
    "[Оглавление](#intro).\n",
    "<a id='task2'></a>"
   ]
  },
  {
   "cell_type": "markdown",
   "metadata": {},
   "source": [
    "## Обучение и проверка модели"
   ]
  },
  {
   "cell_type": "markdown",
   "metadata": {},
   "source": [
    "Разделим выборку на 2: обучающую и валидационную. Затем обучим модель и сохраним предсказания и правильные ответы на валидационной выборке.\n",
    "\n",
    "Для начала напишем функцию обучения модели и подсчета метрики на валидационной выборке. "
   ]
  },
  {
   "cell_type": "code",
   "execution_count": 26,
   "metadata": {},
   "outputs": [],
   "source": [
    "def lin_reg(target_train, features_train, \n",
    "                   target_valid, features_valid, class_weight=None):\n",
    "\n",
    "    # построение модели\n",
    "    model_linreg = LinearRegression() \n",
    "\n",
    "    # обучение модели на тренировочной выборке\n",
    "    model_linreg.fit(features_train, target_train) \n",
    "\n",
    "    # получим предсказания модели \n",
    "    predictions_linreg = model_linreg.predict(features_valid) \n",
    "\n",
    "    # посчитаем метрику RMSE на валидационной выборке\n",
    "    mse = mean_squared_error(target_valid, predictions_linreg)\n",
    "    rmse = mse**0.5\n",
    "    return predictions_linreg, rmse"
   ]
  },
  {
   "cell_type": "markdown",
   "metadata": {},
   "source": [
    "Затем каждую сборку поделим на выборки, масштабируем и передадим в функцию обучения модели."
   ]
  },
  {
   "cell_type": "code",
   "execution_count": 27,
   "metadata": {
    "scrolled": true
   },
   "outputs": [
    {
     "name": "stdout",
     "output_type": "stream",
     "text": [
      "Средний запас предсказанного сырья датасета data_0: 92.6 тыч. баррелей\n",
      "RMSE модели для датасета data_0: 37.93\n",
      "\n",
      "Средний запас предсказанного сырья датасета data_1: 69.29 тыч. баррелей\n",
      "RMSE модели для датасета data_1: 0.89\n",
      "\n",
      "Средний запас предсказанного сырья датасета data_2: 95.25 тыч. баррелей\n",
      "RMSE модели для датасета data_2: 40.03\n",
      "\n"
     ]
    }
   ],
   "source": [
    "name=['data_0', 'data_1', 'data_2']\n",
    "data=[data_0, data_1, data_2]\n",
    "\n",
    "\n",
    "state= RandomState(12345)\n",
    "\n",
    "predicted_list = []\n",
    "target_list = []\n",
    "\n",
    "#разделение данных для каждого датасета на выборки\n",
    "for data, name in zip(data,name):\n",
    "    features = data.drop(['product'], axis=1)\n",
    "    target = data['product']\n",
    "    \n",
    "    features_train, features_valid, target_train, target_valid = train_test_split(features, target, \n",
    "                                    test_size=0.25, random_state=state)\n",
    "    \n",
    "    #применили метод масштабирования - стандартизация данных, \n",
    "    #чтобы выровнять диапазон значений у признаков\n",
    "    scaler = StandardScaler()\n",
    "    scaler.fit(features_train)\n",
    "\n",
    "    #масштабированные данные\n",
    "    features_train = scaler.transform(features_train)\n",
    "    features_valid = scaler.transform(features_valid)\n",
    "    \n",
    "    #передадим подготовленные выборки на обучение в функцию lin_reg\n",
    "    predicted_linreg, rmse_model = lin_reg(target_train, features_train, \n",
    "                   target_valid, features_valid, class_weight=None)\n",
    "    \n",
    "    predicted_list.append(predicted_linreg)\n",
    "    target_list.append(target_valid)\n",
    "    \n",
    "    #выведим на экран значения\n",
    "    print(f'Средний запас предсказанного сырья датасета {name}:', round(predicted_linreg.mean(),2),\n",
    "         'тыч. баррелей')\n",
    "    print(f'RMSE модели для датасета {name}:', round(rmse_model,2))\n",
    "    print()"
   ]
  },
  {
   "cell_type": "markdown",
   "metadata": {},
   "source": [
    "**Вывод:**\n",
    "1. Для первого датасета `data_0` средний запас предсказанного сырья не самый большой из 3 регионов. Но среднеквадратичная ошибка самая маленькая. \n",
    "\n",
    "2. Для второго датасета `data_1` средний запас предсказанного сырья самый маленький из 3 регионов. А также среднеквадратичная ошибка самая большая. \n",
    "\n",
    "3. Для третьего датасета `data_2` средний запас предсказанного сырья самый большой из 3 регионов. И среднеквадратичная ошибка не амая большая. \n",
    "\n",
    "Здесь стоит обратить внимание на размер ошибки. В двух регионах (geo_data_0 и geo_data_2) она катастрофически большая - почти 40% от среднего запаса. И только в одном регионе (geo_data_1) она минимальная. Если посмотреть корреляцию между признаками и целевой переменной, можно понять почему в одном из регионов ошибка значительно меньше:) Высокий коэффициент корреляции f2 и целевой переменной говорит о сильной прямой линейной зависимости.\n",
    "\n",
    "\n",
    "Т.к. при выборе скважин опираемся на предсказания, то качество предсказания имеет огромное значение - важно определить скважины с максимальным запасом."
   ]
  },
  {
   "cell_type": "markdown",
   "metadata": {},
   "source": [
    "[Оглавление](#intro).\n",
    "<a id='task3'></a>"
   ]
  },
  {
   "cell_type": "markdown",
   "metadata": {},
   "source": [
    "## Подготовка к расчёту прибыли"
   ]
  },
  {
   "cell_type": "markdown",
   "metadata": {},
   "source": [
    "Рассчитаем достаточный объём сырья для безубыточной разработки новой скважины"
   ]
  },
  {
   "cell_type": "code",
   "execution_count": 28,
   "metadata": {
    "scrolled": true
   },
   "outputs": [
    {
     "name": "stdout",
     "output_type": "stream",
     "text": [
      "Достаточный объём сырья для безубыточной разработки новой скважины равен: 111.1 тыс. баррелей\n"
     ]
    }
   ],
   "source": [
    "print(f\"Достаточный объём сырья для безубыточной разработки новой скважины равен: {round((BUDGET / BEST_POINTS) / EARNINGS, 1)} тыс. баррелей\")"
   ]
  },
  {
   "cell_type": "markdown",
   "metadata": {},
   "source": [
    "Для каждого региона определим, какой процент скважин будет безубыточен:\n",
    "\n",
    "**Регион с датасетом `data_0`**"
   ]
  },
  {
   "cell_type": "code",
   "execution_count": 29,
   "metadata": {},
   "outputs": [
    {
     "name": "stdout",
     "output_type": "stream",
     "text": [
      "Безубыточных скаважин не более, чем  36.7 %\n"
     ]
    }
   ],
   "source": [
    "x = data_0['product']\n",
    "print(\"Безубыточных скаважин не более, чем \", round(100 - st.percentileofscore(x, 111),1), '%')"
   ]
  },
  {
   "cell_type": "markdown",
   "metadata": {},
   "source": [
    "Средний запас предсказанного сырья датасета data_0: 92.59256778438035"
   ]
  },
  {
   "cell_type": "markdown",
   "metadata": {},
   "source": [
    "**Регион с датасетом `data_1`**"
   ]
  },
  {
   "cell_type": "code",
   "execution_count": 30,
   "metadata": {},
   "outputs": [
    {
     "name": "stdout",
     "output_type": "stream",
     "text": [
      "Безубыточных скаважин не более, чем  16.5 %\n"
     ]
    }
   ],
   "source": [
    "x = data_1['product']\n",
    "print(\"Безубыточных скаважин не более, чем \", round(100 - st.percentileofscore(x, 111),1), '%')"
   ]
  },
  {
   "cell_type": "markdown",
   "metadata": {},
   "source": [
    "Средний запас предсказанного сырья датасета data_1: 68.85337183075126"
   ]
  },
  {
   "cell_type": "markdown",
   "metadata": {},
   "source": [
    "**Регион с датасетом `data_2`**"
   ]
  },
  {
   "cell_type": "code",
   "execution_count": 31,
   "metadata": {
    "scrolled": true
   },
   "outputs": [
    {
     "name": "stdout",
     "output_type": "stream",
     "text": [
      "Безубыточных скаважин не более, чем  38.3 %\n"
     ]
    }
   ],
   "source": [
    "x = data_2['product']\n",
    "print(\"Безубыточных скаважин не более, чем \", round(100 - st.percentileofscore(x, 111),1), '%')"
   ]
  },
  {
   "cell_type": "markdown",
   "metadata": {},
   "source": [
    "Средний запас предсказанного сырья датасета data_2: 95.087528122523"
   ]
  },
  {
   "cell_type": "markdown",
   "metadata": {},
   "source": [
    "**Вывод:**\n",
    "\n",
    "**Достаточный объём сырья для безубыточной разработки новой скважины равен: 111.1 тыс. баррелей**\n",
    "\n",
    "1. Для первого датасета `data_0` средний запас предсказанного сырья 92,6 тыс. баррелей. Менее, чем 36,6% скважин в этом регионе имеют достаточный объём сырья для безубыточной разработки. \n",
    "\n",
    "2. Для второго датасета `data_1` средний запас предсказанного сырья 68,8 тыс. баррелей. Менее, чем 16,5% в скважин в этом регионе имеют достаточный объём сырья для безубыточной разработки. \n",
    "\n",
    "3. Для третьего датасета `data_2` средний запас предсказанного сырья 95,1 тыс. баррелей. Менее, чем 38,3% скважин в этом регионе имеют достаточный объём сырья для безубыточной разработки."
   ]
  },
  {
   "cell_type": "markdown",
   "metadata": {},
   "source": [
    "[Оглавление](#intro).\n",
    "<a id='task4'></a>"
   ]
  },
  {
   "cell_type": "markdown",
   "metadata": {},
   "source": [
    "## Расчёт прибыли и рисков "
   ]
  },
  {
   "cell_type": "markdown",
   "metadata": {},
   "source": [
    "Напишем функцию для рассчета прибыли по лучшим 200 скважинам и предсказаниям модели."
   ]
  },
  {
   "cell_type": "code",
   "execution_count": 32,
   "metadata": {},
   "outputs": [],
   "source": [
    "def profit_calc(target, predicted_value):\n",
    "    # отсортировали предсказания и оставили 200 самых лучших точек для разработки\n",
    "    sorted_predictions = pd.Series(predicted_value).sort_values(ascending=False)[:BEST_POINTS]\n",
    "    # отсортировали значения целевого признака в соответствии с предсказаниями лучших точек\n",
    "    sorted_target = (target.reset_index(drop=True)[sorted_predictions.index])\n",
    "    # подсчитали прибыль\n",
    "    profit = round((sorted_target.sum() * EARNINGS) - BUDGET,2)\n",
    "    return profit"
   ]
  },
  {
   "cell_type": "markdown",
   "metadata": {},
   "source": [
    "**Рассчитаем прибыль по лучшим 200 скважинам для каждого региона:**"
   ]
  },
  {
   "cell_type": "code",
   "execution_count": 33,
   "metadata": {},
   "outputs": [
    {
     "name": "stdout",
     "output_type": "stream",
     "text": [
      "Прибыль по лучшим 200 скважинам для региона с датасетом data_0: 2990084535.21\n",
      "Прибыль по лучшим 200 скважинам для региона с датасетом data_1: 2415086696.68\n",
      "Прибыль по лучшим 200 скважинам для региона с датасетом data_2: 2631071103.41\n"
     ]
    }
   ],
   "source": [
    "name=['data_0', 'data_1', 'data_2']\n",
    "i = [0,1,2]\n",
    "for name,i in zip(name,i):\n",
    "    print(f'Прибыль по лучшим 200 скважинам для региона с датасетом {name}:', \n",
    "                                  profit_calc(target_list[i], predicted_list[i]))"
   ]
  },
  {
   "cell_type": "markdown",
   "metadata": {},
   "source": [
    "**Посчитаем риски и прибыль для каждого региона**"
   ]
  },
  {
   "cell_type": "markdown",
   "metadata": {},
   "source": [
    "Применим технику Bootstrap с 1000 выборок, чтобы найти распределение прибыли.\n",
    "\n",
    "А также найдем среднюю прибыль, 95%-й доверительный интервал и риск убытков (Убыток — это отрицательная прибыль). "
   ]
  },
  {
   "cell_type": "code",
   "execution_count": 34,
   "metadata": {},
   "outputs": [],
   "source": [
    "def bootstrap_unit(target, predicted_value):\n",
    "    # создали список для сохранения расчетов прибыли\n",
    "    values = []\n",
    "    # создаем 1000 случайных выборок\n",
    "    for i in range(1000):\n",
    "        # выбираем случайным образом из модели \"n\" случайных точек\n",
    "        # причем точки могут повторяться\n",
    "        target_subsample = pd.Series(predicted_value).sample(n=POINTS, replace=True, \n",
    "                                                                     random_state=state)\n",
    "        # передаем реальные значения и предсказанную выборку из \"n\" случайных точек \n",
    "        # на расчет прибыли из 200 лучших точек\n",
    "        values.append(profit_calc(target, target_subsample))\n",
    "        \n",
    "    values = pd.Series(values)\n",
    "    # подсчет границ 95%-го квантиля и среднего значения\n",
    "    lower = values.quantile(0.025)\n",
    "    upper = values.quantile(0.975)\n",
    "    mean = values.mean()\n",
    "    \n",
    "    print('Риск убытков', round(st.percentileofscore(values, 0),1),\"%\")\n",
    "    print('Средняя выручка', round(mean,2))\n",
    "    print(f'95%-й доверительный интервал [{round(lower,2)}, {round(upper,2)}]')"
   ]
  },
  {
   "cell_type": "markdown",
   "metadata": {},
   "source": [
    "`replace = True`, это необходимо чтобы наблюдение в выборку попало несколько раз, что позволяет добиться независимости при каждом выборе, иначе вероятность достать элемент из выборки будет с каждым разом увеличиваться. Чем больше размер подвыборки, тем выраженнее будет зависимость, поэтому без возврата не удастся получить разнообразные варианты, а подвыборку бОльшего размера вообще не получить."
   ]
  },
  {
   "cell_type": "code",
   "execution_count": 35,
   "metadata": {
    "scrolled": false
   },
   "outputs": [
    {
     "name": "stdout",
     "output_type": "stream",
     "text": [
      "Характеристики по лучшим 200 скважинам для региона с датасетом data_0:\n",
      "Риск убытков 6.2 %\n",
      "Средняя выручка 409781974.52\n",
      "95%-й доверительный интервал [-82112635.87, 927330462.43]\n",
      "None\n",
      "\n",
      "Характеристики по лучшим 200 скважинам для региона с датасетом data_1:\n",
      "Риск убытков 1.0 %\n",
      "Средняя выручка 474107190.94\n",
      "95%-й доверительный интервал [78159660.46, 854502212.93]\n",
      "None\n",
      "\n",
      "Характеристики по лучшим 200 скважинам для региона с датасетом data_2:\n",
      "Риск убытков 10.3 %\n",
      "Средняя выручка 338547067.44\n",
      "95%-й доверительный интервал [-162337620.7, 853785471.83]\n",
      "None\n"
     ]
    }
   ],
   "source": [
    "print(f'Характеристики по лучшим 200 скважинам для региона с датасетом data_0:')\n",
    "print(bootstrap_unit(target_list[0], predicted_list[0]))\n",
    "\n",
    "print(f'\\nХарактеристики по лучшим 200 скважинам для региона с датасетом data_1:')\n",
    "print(bootstrap_unit(target_list[1], predicted_list[1]))  \n",
    "\n",
    "print(f'\\nХарактеристики по лучшим 200 скважинам для региона с датасетом data_2:')\n",
    "print(bootstrap_unit(target_list[2], predicted_list[2])) "
   ]
  },
  {
   "cell_type": "markdown",
   "metadata": {},
   "source": [
    "`quantile(0.025)` находит такое значение прибыли,  меньше которого только 2,5% элементов. И если это значение прибыли положительное, значит и риск меньше 2,5%. <br>\n",
    "Выбирая наугад 1000 раз 500 случайных скважин и отбирая из них 200 лучших, убыток получаем менее, чем в 2,5% случаев.  "
   ]
  },
  {
   "cell_type": "markdown",
   "metadata": {},
   "source": [
    "**Вывод:**\n",
    "\n",
    "1. Для первого датасета `data_0` средняя выручка 409 781 974 руб. Риск убытков в данном регионе 6.2 %. \n",
    "\n",
    "2. Для второго датасета `data_1` средняя выручка 474 107 190 руб. Риск убытков в данном регионе 1 %.  \n",
    "\n",
    "3. Для третьего датасета `data_2` средняя выручка 338 547 067 руб. Риск убытков в данном регионе 10.3 %. "
   ]
  },
  {
   "cell_type": "markdown",
   "metadata": {},
   "source": [
    "[Оглавление](#intro).\n",
    "<a id='task5'></a>"
   ]
  },
  {
   "cell_type": "markdown",
   "metadata": {},
   "source": [
    "## Общий вывод"
   ]
  },
  {
   "cell_type": "markdown",
   "metadata": {},
   "source": [
    "1. Загрузили и подготовили данные:\n",
    "\n",
    "2. Обучили и проверили модели:\n",
    "    - Для первого датасета `data_0` средний запас предсказанного сырья не самый большой из 3 регионов. Но среднеквадратичная ошибка самая маленькая. \n",
    "    - Для второго датасета `data_1` средний запас предсказанного сырья самый маленький из 3 регионов. А также среднеквадратичная ошибка самая большая. \n",
    "    - Для третьего датасета `data_2` средний запас предсказанного сырья самый большой из 3 регионов. И среднеквадратичная ошибка не самая большая. \n",
    "    \n",
    "Датасеты `data_0` и `data_2` выглядят более привлекательными по метрике \"среднеквадратичная ошибка\".\n",
    "\n",
    "3. Подготовка к расчёту прибыли.\n",
    "\n",
    "**Достаточный объём сырья для безубыточной разработки новой скважины равен: 111.1 тыс. баррелей**\n",
    "\n",
    "    - Для первого датасета `data_0` средний запас предсказанного сырья 92,6 тыс. баррелей. Менее, чем 36,6% скважин в этом регионе имеют достаточный объём сырья для безубыточной разработки. \n",
    "\n",
    "    - Для второго датасета `data_1` средний запас предсказанного сырья 68,8 тыс. баррелей. Менее, чем 16,5% в скважин в этом регионе имеют достаточный объём сырья для безубыточной разработки. \n",
    "\n",
    "    - Для третьего датасета `data_2` средний запас предсказанного сырья 95,1 тыс. баррелей. Менее, чем 38,3% скважин в этом регионе имеют достаточный объём сырья для безубыточной разработки.\n",
    "\n",
    "4. Расчёт прибыли и рисков .\n",
    "    - Для первого датасета `data_0` средняя выручка 409 781 974 руб. Риск убытков в данном регионе 6.2 %. \n",
    "\n",
    "    - Для второго датасета `data_1` средняя выручка 474 107 190 руб. Риск убытков в данном регионе 1 %.  \n",
    "\n",
    "    - Для третьего датасета `data_2` средняя выручка 338 547 067 руб. Риск убытков в данном регионе 10.3 %. \n",
    "    \n",
    "Регион с датасетом `data_2` - самый убыточный. \n",
    "\n",
    "Из оставшихся двух регионов - только один из них удовлетворил условиям задачи \"После оценки рисков нужно оставить лишь те регионы, в которых вероятность убытков меньше 2.5%.\"\n",
    "Наиболее привлекательный - регион с датасетом `data_1`, который имеет Наименьший риск убытков равный 1%,  а также наибольшую среднюю прибыль. "
   ]
  },
  {
   "cell_type": "markdown",
   "metadata": {},
   "source": [
    "[Оглавление](#intro).\n",
    "<a id='task6'></a>"
   ]
  }
 ],
 "metadata": {
  "ExecuteTimeLog": [
   {
    "duration": 417,
    "start_time": "2023-04-02T13:37:00.843Z"
   },
   {
    "duration": 1485,
    "start_time": "2023-04-02T13:38:34.703Z"
   },
   {
    "duration": 15,
    "start_time": "2023-04-02T13:39:20.933Z"
   },
   {
    "duration": 10,
    "start_time": "2023-04-02T13:39:24.831Z"
   },
   {
    "duration": 8,
    "start_time": "2023-04-02T13:39:27.438Z"
   },
   {
    "duration": 792,
    "start_time": "2023-04-02T13:40:05.025Z"
   },
   {
    "duration": 33,
    "start_time": "2023-04-02T13:40:50.113Z"
   },
   {
    "duration": 32,
    "start_time": "2023-04-02T13:41:08.657Z"
   },
   {
    "duration": 8,
    "start_time": "2023-04-02T13:42:10.634Z"
   },
   {
    "duration": 10,
    "start_time": "2023-04-02T13:42:14.225Z"
   },
   {
    "duration": 9,
    "start_time": "2023-04-02T13:42:16.761Z"
   },
   {
    "duration": 41,
    "start_time": "2023-04-02T13:42:40.834Z"
   },
   {
    "duration": 37,
    "start_time": "2023-04-02T13:42:44.210Z"
   },
   {
    "duration": 44,
    "start_time": "2023-04-02T13:42:47.497Z"
   },
   {
    "duration": 62,
    "start_time": "2023-04-02T21:34:20.319Z"
   },
   {
    "duration": 366,
    "start_time": "2023-04-02T21:34:42.894Z"
   },
   {
    "duration": 1173,
    "start_time": "2023-04-02T21:34:43.262Z"
   },
   {
    "duration": 15,
    "start_time": "2023-04-02T21:34:44.437Z"
   },
   {
    "duration": 13,
    "start_time": "2023-04-02T21:34:44.455Z"
   },
   {
    "duration": 8,
    "start_time": "2023-04-02T21:34:44.469Z"
   },
   {
    "duration": 39,
    "start_time": "2023-04-02T21:34:44.478Z"
   },
   {
    "duration": 25,
    "start_time": "2023-04-02T21:34:44.519Z"
   },
   {
    "duration": 43,
    "start_time": "2023-04-02T21:34:44.546Z"
   },
   {
    "duration": 43,
    "start_time": "2023-04-02T21:34:55.621Z"
   },
   {
    "duration": 31,
    "start_time": "2023-04-02T21:35:03.213Z"
   },
   {
    "duration": 33,
    "start_time": "2023-04-02T21:35:10.517Z"
   },
   {
    "duration": 29,
    "start_time": "2023-04-02T21:35:31.582Z"
   },
   {
    "duration": 29,
    "start_time": "2023-04-02T21:35:41.341Z"
   },
   {
    "duration": 66,
    "start_time": "2023-04-02T21:40:28.583Z"
   },
   {
    "duration": 19,
    "start_time": "2023-04-02T21:40:37.808Z"
   },
   {
    "duration": 342,
    "start_time": "2023-04-02T21:40:51.087Z"
   },
   {
    "duration": 333,
    "start_time": "2023-04-02T21:40:51.431Z"
   },
   {
    "duration": 17,
    "start_time": "2023-04-02T21:40:51.766Z"
   },
   {
    "duration": 18,
    "start_time": "2023-04-02T21:40:51.785Z"
   },
   {
    "duration": 19,
    "start_time": "2023-04-02T21:40:51.804Z"
   },
   {
    "duration": 51,
    "start_time": "2023-04-02T21:40:51.825Z"
   },
   {
    "duration": 29,
    "start_time": "2023-04-02T21:40:51.878Z"
   },
   {
    "duration": 58,
    "start_time": "2023-04-02T21:40:51.909Z"
   },
   {
    "duration": 19,
    "start_time": "2023-04-02T21:41:16.012Z"
   },
   {
    "duration": 18,
    "start_time": "2023-04-02T21:41:28.605Z"
   },
   {
    "duration": 43,
    "start_time": "2023-04-02T21:41:28.762Z"
   },
   {
    "duration": 120,
    "start_time": "2023-04-02T21:43:01.384Z"
   },
   {
    "duration": 124,
    "start_time": "2023-04-02T21:43:28.466Z"
   },
   {
    "duration": 118,
    "start_time": "2023-04-02T21:43:33.315Z"
   },
   {
    "duration": 19,
    "start_time": "2023-04-02T21:43:40.581Z"
   },
   {
    "duration": 18,
    "start_time": "2023-04-02T21:43:44.012Z"
   },
   {
    "duration": 19,
    "start_time": "2023-04-02T21:43:48.116Z"
   },
   {
    "duration": 18,
    "start_time": "2023-04-02T21:43:51.939Z"
   },
   {
    "duration": 19,
    "start_time": "2023-04-02T21:43:56.444Z"
   },
   {
    "duration": 52,
    "start_time": "2023-04-02T21:44:54.188Z"
   },
   {
    "duration": 50,
    "start_time": "2023-04-02T21:45:02.586Z"
   },
   {
    "duration": 110,
    "start_time": "2023-04-02T21:45:05.917Z"
   },
   {
    "duration": 111,
    "start_time": "2023-04-02T21:45:19.567Z"
   },
   {
    "duration": 121,
    "start_time": "2023-04-02T21:45:24.782Z"
   },
   {
    "duration": 18,
    "start_time": "2023-04-02T21:45:52.345Z"
   },
   {
    "duration": 19,
    "start_time": "2023-04-02T21:46:07.518Z"
   },
   {
    "duration": 80,
    "start_time": "2023-04-02T21:46:19.854Z"
   },
   {
    "duration": 20,
    "start_time": "2023-04-02T21:46:23.779Z"
   },
   {
    "duration": 18,
    "start_time": "2023-04-02T21:46:29.264Z"
   },
   {
    "duration": 20,
    "start_time": "2023-04-02T21:46:58.959Z"
   },
   {
    "duration": 20,
    "start_time": "2023-04-02T21:47:11.039Z"
   },
   {
    "duration": 19,
    "start_time": "2023-04-02T21:47:36.943Z"
   },
   {
    "duration": 18,
    "start_time": "2023-04-02T21:47:41.813Z"
   },
   {
    "duration": 94,
    "start_time": "2023-04-02T21:49:00.065Z"
   },
   {
    "duration": 119,
    "start_time": "2023-04-02T21:49:07.417Z"
   },
   {
    "duration": 86,
    "start_time": "2023-04-02T21:49:08.992Z"
   },
   {
    "duration": 89,
    "start_time": "2023-04-02T21:49:26.242Z"
   },
   {
    "duration": 47,
    "start_time": "2023-04-02T22:00:50.717Z"
   },
   {
    "duration": 4,
    "start_time": "2023-04-02T22:00:53.114Z"
   },
   {
    "duration": 11,
    "start_time": "2023-04-02T22:00:58.666Z"
   },
   {
    "duration": 16,
    "start_time": "2023-04-02T22:01:10.939Z"
   },
   {
    "duration": 417,
    "start_time": "2023-04-02T22:01:29.835Z"
   },
   {
    "duration": 352,
    "start_time": "2023-04-02T22:01:30.253Z"
   },
   {
    "duration": 20,
    "start_time": "2023-04-02T22:01:30.606Z"
   },
   {
    "duration": 27,
    "start_time": "2023-04-02T22:01:30.628Z"
   },
   {
    "duration": 27,
    "start_time": "2023-04-02T22:01:30.657Z"
   },
   {
    "duration": 48,
    "start_time": "2023-04-02T22:01:30.686Z"
   },
   {
    "duration": 18,
    "start_time": "2023-04-02T22:01:30.736Z"
   },
   {
    "duration": 133,
    "start_time": "2023-04-02T22:01:30.755Z"
   },
   {
    "duration": 94,
    "start_time": "2023-04-02T22:01:30.890Z"
   },
   {
    "duration": 81,
    "start_time": "2023-04-02T22:01:30.986Z"
   },
   {
    "duration": 0,
    "start_time": "2023-04-02T22:01:31.069Z"
   },
   {
    "duration": 14,
    "start_time": "2023-04-02T22:01:41.740Z"
   },
   {
    "duration": 12,
    "start_time": "2023-04-02T22:01:52.323Z"
   },
   {
    "duration": 22,
    "start_time": "2023-04-02T22:01:56.764Z"
   },
   {
    "duration": 393,
    "start_time": "2023-04-02T22:02:07.594Z"
   },
   {
    "duration": 337,
    "start_time": "2023-04-02T22:02:07.988Z"
   },
   {
    "duration": 16,
    "start_time": "2023-04-02T22:02:08.326Z"
   },
   {
    "duration": 8,
    "start_time": "2023-04-02T22:02:08.344Z"
   },
   {
    "duration": 12,
    "start_time": "2023-04-02T22:02:08.354Z"
   },
   {
    "duration": 40,
    "start_time": "2023-04-02T22:02:08.367Z"
   },
   {
    "duration": 38,
    "start_time": "2023-04-02T22:02:08.409Z"
   },
   {
    "duration": 139,
    "start_time": "2023-04-02T22:02:08.448Z"
   },
   {
    "duration": 93,
    "start_time": "2023-04-02T22:02:08.588Z"
   },
   {
    "duration": 117,
    "start_time": "2023-04-02T22:02:08.683Z"
   },
   {
    "duration": 0,
    "start_time": "2023-04-02T22:02:08.802Z"
   },
   {
    "duration": 24,
    "start_time": "2023-04-02T22:02:20.540Z"
   },
   {
    "duration": 17,
    "start_time": "2023-04-02T22:02:30.494Z"
   },
   {
    "duration": 7,
    "start_time": "2023-04-02T22:02:43.918Z"
   },
   {
    "duration": 10,
    "start_time": "2023-04-02T22:02:45.363Z"
   },
   {
    "duration": 17,
    "start_time": "2023-04-02T22:02:48.892Z"
   },
   {
    "duration": 9,
    "start_time": "2023-04-02T22:02:57.133Z"
   },
   {
    "duration": 11,
    "start_time": "2023-04-02T22:03:03.132Z"
   },
   {
    "duration": 382,
    "start_time": "2023-04-02T22:03:11.948Z"
   },
   {
    "duration": 344,
    "start_time": "2023-04-02T22:03:12.332Z"
   },
   {
    "duration": 18,
    "start_time": "2023-04-02T22:03:12.679Z"
   },
   {
    "duration": 9,
    "start_time": "2023-04-02T22:03:12.698Z"
   },
   {
    "duration": 9,
    "start_time": "2023-04-02T22:03:12.708Z"
   },
   {
    "duration": 51,
    "start_time": "2023-04-02T22:03:12.719Z"
   },
   {
    "duration": 18,
    "start_time": "2023-04-02T22:03:12.771Z"
   },
   {
    "duration": 131,
    "start_time": "2023-04-02T22:03:12.791Z"
   },
   {
    "duration": 90,
    "start_time": "2023-04-02T22:03:12.924Z"
   },
   {
    "duration": 10,
    "start_time": "2023-04-02T22:03:13.015Z"
   },
   {
    "duration": 18,
    "start_time": "2023-04-02T22:03:13.026Z"
   },
   {
    "duration": 4069,
    "start_time": "2023-04-02T22:05:44.335Z"
   },
   {
    "duration": 275,
    "start_time": "2023-04-02T22:06:25.544Z"
   },
   {
    "duration": 538,
    "start_time": "2023-04-02T22:06:41.181Z"
   },
   {
    "duration": 614,
    "start_time": "2023-04-02T22:07:33.719Z"
   },
   {
    "duration": 269,
    "start_time": "2023-04-02T22:07:54.894Z"
   },
   {
    "duration": 582,
    "start_time": "2023-04-02T22:07:55.865Z"
   },
   {
    "duration": 260,
    "start_time": "2023-04-02T22:08:20.121Z"
   },
   {
    "duration": 543,
    "start_time": "2023-04-02T22:08:30.801Z"
   },
   {
    "duration": 125,
    "start_time": "2023-04-02T23:02:18.438Z"
   },
   {
    "duration": 14,
    "start_time": "2023-04-02T23:02:32.998Z"
   },
   {
    "duration": 14,
    "start_time": "2023-04-02T23:02:36.263Z"
   },
   {
    "duration": 12,
    "start_time": "2023-04-02T23:04:44.624Z"
   },
   {
    "duration": 13,
    "start_time": "2023-04-02T23:04:48.923Z"
   },
   {
    "duration": 13,
    "start_time": "2023-04-02T23:04:52.023Z"
   },
   {
    "duration": 11,
    "start_time": "2023-04-02T23:05:09.824Z"
   },
   {
    "duration": 2168,
    "start_time": "2023-04-02T23:05:45.536Z"
   },
   {
    "duration": 34,
    "start_time": "2023-04-02T23:06:10.496Z"
   },
   {
    "duration": 1445,
    "start_time": "2023-04-02T23:20:06.446Z"
   },
   {
    "duration": 1536,
    "start_time": "2023-04-02T23:21:55.646Z"
   },
   {
    "duration": 1492,
    "start_time": "2023-04-02T23:22:16.529Z"
   },
   {
    "duration": 1369,
    "start_time": "2023-04-02T23:22:51.427Z"
   },
   {
    "duration": 49,
    "start_time": "2023-04-03T19:23:53.947Z"
   },
   {
    "duration": 12,
    "start_time": "2023-04-03T19:24:05.713Z"
   },
   {
    "duration": 9,
    "start_time": "2023-04-03T19:24:17.856Z"
   },
   {
    "duration": 5010,
    "start_time": "2023-04-03T19:24:32.794Z"
   },
   {
    "duration": 1166,
    "start_time": "2023-04-03T19:24:37.806Z"
   },
   {
    "duration": 16,
    "start_time": "2023-04-03T19:24:38.976Z"
   },
   {
    "duration": 14,
    "start_time": "2023-04-03T19:24:38.993Z"
   },
   {
    "duration": 10,
    "start_time": "2023-04-03T19:24:39.008Z"
   },
   {
    "duration": 45,
    "start_time": "2023-04-03T19:24:39.019Z"
   },
   {
    "duration": 20,
    "start_time": "2023-04-03T19:24:39.065Z"
   },
   {
    "duration": 146,
    "start_time": "2023-04-03T19:24:39.103Z"
   },
   {
    "duration": 111,
    "start_time": "2023-04-03T19:24:39.252Z"
   },
   {
    "duration": 1838,
    "start_time": "2023-04-03T19:24:39.364Z"
   },
   {
    "duration": 1599,
    "start_time": "2023-04-03T19:24:41.204Z"
   },
   {
    "duration": 1607,
    "start_time": "2023-04-03T19:24:42.804Z"
   },
   {
    "duration": 12,
    "start_time": "2023-04-03T19:24:44.413Z"
   },
   {
    "duration": 279,
    "start_time": "2023-04-03T19:24:44.427Z"
   },
   {
    "duration": 610,
    "start_time": "2023-04-03T19:24:44.708Z"
   },
   {
    "duration": 274,
    "start_time": "2023-04-03T19:24:45.321Z"
   },
   {
    "duration": 497,
    "start_time": "2023-04-03T19:24:45.596Z"
   },
   {
    "duration": 254,
    "start_time": "2023-04-03T19:24:46.102Z"
   },
   {
    "duration": 435,
    "start_time": "2023-04-03T19:24:46.357Z"
   },
   {
    "duration": 1773,
    "start_time": "2023-04-03T19:24:46.795Z"
   },
   {
    "duration": 1623,
    "start_time": "2023-04-03T19:24:48.570Z"
   },
   {
    "duration": 1772,
    "start_time": "2023-04-03T19:25:04.545Z"
   },
   {
    "duration": 4,
    "start_time": "2023-04-03T19:26:20.419Z"
   },
   {
    "duration": 14,
    "start_time": "2023-04-03T19:26:29.243Z"
   },
   {
    "duration": 2177,
    "start_time": "2023-04-03T22:12:07.621Z"
   },
   {
    "duration": 2252,
    "start_time": "2023-04-03T22:39:56.252Z"
   },
   {
    "duration": 2439,
    "start_time": "2023-04-03T22:40:12.565Z"
   },
   {
    "duration": 4,
    "start_time": "2023-04-03T22:50:51.334Z"
   },
   {
    "duration": 53,
    "start_time": "2023-04-03T22:50:52.269Z"
   },
   {
    "duration": 4,
    "start_time": "2023-04-03T22:51:16.566Z"
   },
   {
    "duration": 50,
    "start_time": "2023-04-03T22:53:28.677Z"
   },
   {
    "duration": 49,
    "start_time": "2023-04-03T22:53:50.872Z"
   },
   {
    "duration": 110,
    "start_time": "2023-04-03T22:54:05.112Z"
   },
   {
    "duration": 14,
    "start_time": "2023-04-03T22:54:16.921Z"
   },
   {
    "duration": 384,
    "start_time": "2023-04-03T22:54:26.960Z"
   },
   {
    "duration": 53,
    "start_time": "2023-04-03T22:55:41.891Z"
   },
   {
    "duration": 56,
    "start_time": "2023-04-03T22:56:10.698Z"
   },
   {
    "duration": 55,
    "start_time": "2023-04-03T22:56:20.130Z"
   },
   {
    "duration": 52,
    "start_time": "2023-04-03T22:56:35.371Z"
   },
   {
    "duration": 622,
    "start_time": "2023-04-03T22:56:39.666Z"
   },
   {
    "duration": 4,
    "start_time": "2023-04-03T22:57:05.949Z"
   },
   {
    "duration": 188,
    "start_time": "2023-04-03T22:57:09.202Z"
   },
   {
    "duration": 359,
    "start_time": "2023-04-03T22:58:00.147Z"
   },
   {
    "duration": 3,
    "start_time": "2023-04-03T22:58:04.459Z"
   },
   {
    "duration": 315,
    "start_time": "2023-04-03T22:58:34.900Z"
   },
   {
    "duration": 4,
    "start_time": "2023-04-03T23:03:16.936Z"
   },
   {
    "duration": 304,
    "start_time": "2023-04-03T23:03:17.509Z"
   },
   {
    "duration": 333,
    "start_time": "2023-04-03T23:06:18.284Z"
   },
   {
    "duration": 313,
    "start_time": "2023-04-03T23:06:40.203Z"
   },
   {
    "duration": 297,
    "start_time": "2023-04-03T23:07:23.819Z"
   },
   {
    "duration": 8,
    "start_time": "2023-04-05T19:25:25.247Z"
   },
   {
    "duration": 3,
    "start_time": "2023-04-05T19:34:37.525Z"
   },
   {
    "duration": 46,
    "start_time": "2023-04-05T19:35:29.046Z"
   },
   {
    "duration": 49,
    "start_time": "2023-04-05T19:36:15.949Z"
   },
   {
    "duration": 4,
    "start_time": "2023-04-05T19:36:28.918Z"
   },
   {
    "duration": 4,
    "start_time": "2023-04-05T19:36:39.973Z"
   },
   {
    "duration": 4,
    "start_time": "2023-04-05T19:36:44.687Z"
   },
   {
    "duration": 3,
    "start_time": "2023-04-05T19:37:26.256Z"
   },
   {
    "duration": 4,
    "start_time": "2023-04-05T19:37:30.334Z"
   },
   {
    "duration": 7,
    "start_time": "2023-04-05T19:53:46.293Z"
   },
   {
    "duration": 4696,
    "start_time": "2023-04-05T19:53:53.778Z"
   },
   {
    "duration": 1175,
    "start_time": "2023-04-05T19:53:58.477Z"
   },
   {
    "duration": 18,
    "start_time": "2023-04-05T19:53:59.654Z"
   },
   {
    "duration": 12,
    "start_time": "2023-04-05T19:53:59.675Z"
   },
   {
    "duration": 25,
    "start_time": "2023-04-05T19:53:59.689Z"
   },
   {
    "duration": 40,
    "start_time": "2023-04-05T19:53:59.715Z"
   },
   {
    "duration": 21,
    "start_time": "2023-04-05T19:53:59.757Z"
   },
   {
    "duration": 160,
    "start_time": "2023-04-05T19:53:59.780Z"
   },
   {
    "duration": 110,
    "start_time": "2023-04-05T19:53:59.942Z"
   },
   {
    "duration": 2026,
    "start_time": "2023-04-05T19:54:00.055Z"
   },
   {
    "duration": 1773,
    "start_time": "2023-04-05T19:54:02.082Z"
   },
   {
    "duration": 1636,
    "start_time": "2023-04-05T19:54:03.857Z"
   },
   {
    "duration": 12,
    "start_time": "2023-04-05T19:54:05.495Z"
   },
   {
    "duration": 325,
    "start_time": "2023-04-05T19:54:05.509Z"
   },
   {
    "duration": 619,
    "start_time": "2023-04-05T19:54:05.836Z"
   },
   {
    "duration": 298,
    "start_time": "2023-04-05T19:54:06.457Z"
   },
   {
    "duration": 629,
    "start_time": "2023-04-05T19:54:06.757Z"
   },
   {
    "duration": 283,
    "start_time": "2023-04-05T19:54:07.388Z"
   },
   {
    "duration": 447,
    "start_time": "2023-04-05T19:54:07.673Z"
   },
   {
    "duration": 5,
    "start_time": "2023-04-05T19:54:08.123Z"
   },
   {
    "duration": 40,
    "start_time": "2023-04-05T19:54:08.129Z"
   },
   {
    "duration": 71,
    "start_time": "2023-04-05T19:54:08.171Z"
   },
   {
    "duration": 397,
    "start_time": "2023-04-05T19:54:08.244Z"
   },
   {
    "duration": 3,
    "start_time": "2023-04-05T19:54:08.643Z"
   },
   {
    "duration": 175,
    "start_time": "2023-04-05T19:54:08.649Z"
   },
   {
    "duration": 136,
    "start_time": "2023-04-05T19:54:08.826Z"
   },
   {
    "duration": 13,
    "start_time": "2023-04-05T19:56:24.506Z"
   },
   {
    "duration": 14,
    "start_time": "2023-04-05T19:57:02.392Z"
   },
   {
    "duration": 13,
    "start_time": "2023-04-05T19:57:13.264Z"
   },
   {
    "duration": 6,
    "start_time": "2023-04-05T19:57:27.509Z"
   },
   {
    "duration": 9,
    "start_time": "2023-04-05T19:57:31.288Z"
   },
   {
    "duration": 8,
    "start_time": "2023-04-05T19:57:35.113Z"
   },
   {
    "duration": 7,
    "start_time": "2023-04-05T19:57:38.632Z"
   },
   {
    "duration": 7,
    "start_time": "2023-04-05T19:57:47.129Z"
   },
   {
    "duration": 12,
    "start_time": "2023-04-05T20:04:22.394Z"
   },
   {
    "duration": 11,
    "start_time": "2023-04-05T20:04:49.208Z"
   },
   {
    "duration": 12,
    "start_time": "2023-04-05T20:04:55.863Z"
   },
   {
    "duration": 12,
    "start_time": "2023-04-05T20:05:38.848Z"
   },
   {
    "duration": 11,
    "start_time": "2023-04-05T20:05:44.144Z"
   },
   {
    "duration": 18,
    "start_time": "2023-04-05T20:05:52.344Z"
   },
   {
    "duration": 10,
    "start_time": "2023-04-05T20:06:27.392Z"
   },
   {
    "duration": 2361,
    "start_time": "2023-04-05T20:07:10.641Z"
   },
   {
    "duration": 7,
    "start_time": "2023-04-05T20:07:15.162Z"
   },
   {
    "duration": 5,
    "start_time": "2023-04-05T20:07:42.998Z"
   },
   {
    "duration": 5,
    "start_time": "2023-04-05T20:08:00.258Z"
   },
   {
    "duration": 4,
    "start_time": "2023-04-05T20:08:09.710Z"
   },
   {
    "duration": 5,
    "start_time": "2023-04-05T20:13:53.893Z"
   },
   {
    "duration": 5,
    "start_time": "2023-04-05T20:14:44.737Z"
   },
   {
    "duration": 4,
    "start_time": "2023-04-05T20:15:45.499Z"
   },
   {
    "duration": 3,
    "start_time": "2023-04-05T21:34:15.581Z"
   },
   {
    "duration": 16,
    "start_time": "2023-04-05T21:34:46.976Z"
   },
   {
    "duration": 16,
    "start_time": "2023-04-05T21:35:20.534Z"
   },
   {
    "duration": 8,
    "start_time": "2023-04-05T21:35:27.358Z"
   },
   {
    "duration": 6,
    "start_time": "2023-04-05T21:35:32.086Z"
   },
   {
    "duration": 10,
    "start_time": "2023-04-05T21:35:39.247Z"
   },
   {
    "duration": 8,
    "start_time": "2023-04-05T21:36:12.103Z"
   },
   {
    "duration": 10,
    "start_time": "2023-04-05T21:39:39.547Z"
   },
   {
    "duration": 4,
    "start_time": "2023-04-05T21:42:18.500Z"
   },
   {
    "duration": 10,
    "start_time": "2023-04-05T21:42:44.283Z"
   },
   {
    "duration": 10,
    "start_time": "2023-04-05T21:43:34.821Z"
   },
   {
    "duration": 4,
    "start_time": "2023-04-05T21:47:53.642Z"
   },
   {
    "duration": 122,
    "start_time": "2023-04-05T21:54:07.711Z"
   },
   {
    "duration": 66,
    "start_time": "2023-04-05T21:54:54.527Z"
   },
   {
    "duration": 203,
    "start_time": "2023-04-05T21:55:15.751Z"
   },
   {
    "duration": 21,
    "start_time": "2023-04-05T21:55:51.736Z"
   },
   {
    "duration": 375,
    "start_time": "2023-04-05T21:59:15.354Z"
   },
   {
    "duration": 159,
    "start_time": "2023-04-05T21:59:58.668Z"
   },
   {
    "duration": 370,
    "start_time": "2023-04-05T22:00:03.164Z"
   },
   {
    "duration": 394,
    "start_time": "2023-04-05T22:00:22.934Z"
   },
   {
    "duration": 359,
    "start_time": "2023-04-05T22:01:01.269Z"
   },
   {
    "duration": 11,
    "start_time": "2023-04-05T22:01:22.885Z"
   },
   {
    "duration": 21,
    "start_time": "2023-04-05T22:01:45.813Z"
   },
   {
    "duration": 6,
    "start_time": "2023-04-05T22:02:12.861Z"
   },
   {
    "duration": 6,
    "start_time": "2023-04-05T22:02:24.526Z"
   },
   {
    "duration": 6,
    "start_time": "2023-04-05T22:02:27.773Z"
   },
   {
    "duration": 4,
    "start_time": "2023-04-05T22:02:33.429Z"
   },
   {
    "duration": 24,
    "start_time": "2023-04-05T22:02:50.504Z"
   },
   {
    "duration": 19,
    "start_time": "2023-04-05T22:03:09.247Z"
   },
   {
    "duration": 21,
    "start_time": "2023-04-05T22:03:22.711Z"
   },
   {
    "duration": 10,
    "start_time": "2023-04-05T22:03:37.567Z"
   },
   {
    "duration": 12,
    "start_time": "2023-04-05T22:03:43.431Z"
   },
   {
    "duration": 5,
    "start_time": "2023-04-05T22:05:08.296Z"
   },
   {
    "duration": 9,
    "start_time": "2023-04-05T22:05:28.001Z"
   },
   {
    "duration": 4,
    "start_time": "2023-04-05T22:05:33.048Z"
   },
   {
    "duration": 6,
    "start_time": "2023-04-05T22:05:39.864Z"
   },
   {
    "duration": 6,
    "start_time": "2023-04-05T22:05:46.104Z"
   },
   {
    "duration": 8,
    "start_time": "2023-04-05T22:06:02.729Z"
   },
   {
    "duration": 7,
    "start_time": "2023-04-05T22:06:22.682Z"
   },
   {
    "duration": 7,
    "start_time": "2023-04-05T22:06:46.362Z"
   },
   {
    "duration": 11,
    "start_time": "2023-04-05T22:07:02.931Z"
   },
   {
    "duration": 10,
    "start_time": "2023-04-05T22:07:09.074Z"
   },
   {
    "duration": 5,
    "start_time": "2023-04-05T22:07:43.674Z"
   },
   {
    "duration": 5,
    "start_time": "2023-04-05T22:07:57.627Z"
   },
   {
    "duration": 6,
    "start_time": "2023-04-05T22:08:03.219Z"
   },
   {
    "duration": 19,
    "start_time": "2023-04-05T22:08:15.099Z"
   },
   {
    "duration": 9,
    "start_time": "2023-04-05T22:09:12.132Z"
   },
   {
    "duration": 6,
    "start_time": "2023-04-05T22:09:21.868Z"
   },
   {
    "duration": 3,
    "start_time": "2023-04-05T22:09:55.861Z"
   },
   {
    "duration": 6,
    "start_time": "2023-04-05T22:10:02.700Z"
   },
   {
    "duration": 3,
    "start_time": "2023-04-05T22:10:27.254Z"
   },
   {
    "duration": 4,
    "start_time": "2023-04-05T22:10:34.285Z"
   },
   {
    "duration": 22,
    "start_time": "2023-04-05T22:11:16.590Z"
   },
   {
    "duration": 43,
    "start_time": "2023-04-05T22:11:41.694Z"
   },
   {
    "duration": 4,
    "start_time": "2023-04-05T22:11:44.909Z"
   },
   {
    "duration": 18,
    "start_time": "2023-04-05T22:11:47.006Z"
   },
   {
    "duration": 18,
    "start_time": "2023-04-05T22:12:37.046Z"
   },
   {
    "duration": 10,
    "start_time": "2023-04-05T22:15:45.337Z"
   },
   {
    "duration": 6,
    "start_time": "2023-04-05T22:16:04.834Z"
   },
   {
    "duration": 19,
    "start_time": "2023-04-05T22:16:40.226Z"
   },
   {
    "duration": 14,
    "start_time": "2023-04-05T22:17:03.456Z"
   },
   {
    "duration": 907,
    "start_time": "2023-04-05T22:17:12.027Z"
   },
   {
    "duration": 362,
    "start_time": "2023-04-05T22:18:56.974Z"
   },
   {
    "duration": 18,
    "start_time": "2023-04-05T22:19:06.893Z"
   },
   {
    "duration": 18,
    "start_time": "2023-04-05T22:19:43.658Z"
   },
   {
    "duration": 127,
    "start_time": "2023-04-05T22:20:33.695Z"
   },
   {
    "duration": 359,
    "start_time": "2023-04-05T22:20:56.375Z"
   },
   {
    "duration": 18,
    "start_time": "2023-04-05T22:21:35.863Z"
   },
   {
    "duration": 4,
    "start_time": "2023-04-05T22:21:45.854Z"
   },
   {
    "duration": 18,
    "start_time": "2023-04-05T22:21:48.231Z"
   },
   {
    "duration": 4,
    "start_time": "2023-04-05T22:22:27.068Z"
   },
   {
    "duration": 19,
    "start_time": "2023-04-05T22:22:29.558Z"
   },
   {
    "duration": 4,
    "start_time": "2023-04-05T22:23:21.399Z"
   },
   {
    "duration": 19,
    "start_time": "2023-04-05T22:23:24.136Z"
   },
   {
    "duration": 3,
    "start_time": "2023-04-05T22:23:32.896Z"
   },
   {
    "duration": 59,
    "start_time": "2023-04-05T22:23:34.504Z"
   },
   {
    "duration": 18,
    "start_time": "2023-04-05T22:23:34.960Z"
   },
   {
    "duration": 6,
    "start_time": "2023-04-05T22:23:56.936Z"
   },
   {
    "duration": 7,
    "start_time": "2023-04-05T22:24:09.136Z"
   },
   {
    "duration": 5,
    "start_time": "2023-04-05T22:24:14.672Z"
   },
   {
    "duration": 6,
    "start_time": "2023-04-05T22:24:17.144Z"
   },
   {
    "duration": 20,
    "start_time": "2023-04-05T22:24:19.776Z"
   },
   {
    "duration": 3,
    "start_time": "2023-04-05T22:24:39.305Z"
   },
   {
    "duration": 6,
    "start_time": "2023-04-05T22:24:40.215Z"
   },
   {
    "duration": 6,
    "start_time": "2023-04-05T22:24:40.624Z"
   },
   {
    "duration": 15,
    "start_time": "2023-04-05T22:24:41.249Z"
   },
   {
    "duration": 8,
    "start_time": "2023-04-05T22:25:04.521Z"
   },
   {
    "duration": 8,
    "start_time": "2023-04-05T22:25:24.465Z"
   },
   {
    "duration": 54,
    "start_time": "2023-04-05T22:27:37.820Z"
   },
   {
    "duration": 52,
    "start_time": "2023-04-05T22:27:43.035Z"
   },
   {
    "duration": 12,
    "start_time": "2023-04-05T22:28:21.149Z"
   },
   {
    "duration": 12,
    "start_time": "2023-04-05T22:28:45.316Z"
   },
   {
    "duration": 31,
    "start_time": "2023-04-05T22:29:19.101Z"
   },
   {
    "duration": 28,
    "start_time": "2023-04-05T22:30:05.398Z"
   },
   {
    "duration": 27,
    "start_time": "2023-04-05T22:30:23.190Z"
   },
   {
    "duration": 15,
    "start_time": "2023-04-05T22:30:29.006Z"
   },
   {
    "duration": 16,
    "start_time": "2023-04-05T22:30:43.654Z"
   },
   {
    "duration": 39,
    "start_time": "2023-04-05T22:30:55.380Z"
   },
   {
    "duration": 60,
    "start_time": "2023-04-05T22:31:10.636Z"
   },
   {
    "duration": 52,
    "start_time": "2023-04-05T22:31:16.502Z"
   },
   {
    "duration": 38,
    "start_time": "2023-04-05T22:31:21.031Z"
   },
   {
    "duration": 11,
    "start_time": "2023-04-05T22:32:27.936Z"
   },
   {
    "duration": 16,
    "start_time": "2023-04-05T22:32:53.112Z"
   },
   {
    "duration": 17,
    "start_time": "2023-04-05T22:33:19.818Z"
   },
   {
    "duration": 16,
    "start_time": "2023-04-05T22:33:32.953Z"
   },
   {
    "duration": 16,
    "start_time": "2023-04-05T22:33:42.304Z"
   },
   {
    "duration": 9,
    "start_time": "2023-04-05T22:33:58.537Z"
   },
   {
    "duration": 9,
    "start_time": "2023-04-05T22:34:03.128Z"
   },
   {
    "duration": 16,
    "start_time": "2023-04-05T22:34:07.473Z"
   },
   {
    "duration": 4,
    "start_time": "2023-04-05T22:45:22.947Z"
   },
   {
    "duration": 16,
    "start_time": "2023-04-05T22:45:24.146Z"
   },
   {
    "duration": 4,
    "start_time": "2023-04-05T23:04:47.348Z"
   },
   {
    "duration": 16,
    "start_time": "2023-04-05T23:06:51.933Z"
   },
   {
    "duration": 15,
    "start_time": "2023-04-05T23:07:05.878Z"
   },
   {
    "duration": 4,
    "start_time": "2023-04-05T23:11:27.377Z"
   },
   {
    "duration": 16,
    "start_time": "2023-04-05T23:11:28.625Z"
   },
   {
    "duration": 15,
    "start_time": "2023-04-05T23:11:40.562Z"
   },
   {
    "duration": 5,
    "start_time": "2023-04-05T23:12:03.761Z"
   },
   {
    "duration": 24,
    "start_time": "2023-04-05T23:12:04.913Z"
   },
   {
    "duration": 26,
    "start_time": "2023-04-05T23:12:25.140Z"
   },
   {
    "duration": 4,
    "start_time": "2023-04-05T23:12:34.843Z"
   },
   {
    "duration": 25,
    "start_time": "2023-04-05T23:12:37.115Z"
   },
   {
    "duration": 28,
    "start_time": "2023-04-05T23:13:49.691Z"
   },
   {
    "duration": 25,
    "start_time": "2023-04-05T23:14:31.981Z"
   },
   {
    "duration": 7,
    "start_time": "2023-04-05T23:18:10.743Z"
   },
   {
    "duration": 4,
    "start_time": "2023-04-05T23:18:23.856Z"
   },
   {
    "duration": 4,
    "start_time": "2023-04-05T23:21:44.275Z"
   },
   {
    "duration": 5,
    "start_time": "2023-04-05T23:21:44.866Z"
   },
   {
    "duration": 3107,
    "start_time": "2023-04-05T23:21:46.756Z"
   },
   {
    "duration": 3106,
    "start_time": "2023-04-05T23:22:00.091Z"
   },
   {
    "duration": 3120,
    "start_time": "2023-04-05T23:22:17.370Z"
   },
   {
    "duration": 3096,
    "start_time": "2023-04-05T23:22:44.459Z"
   },
   {
    "duration": 5,
    "start_time": "2023-04-05T23:24:22.460Z"
   },
   {
    "duration": 3162,
    "start_time": "2023-04-05T23:24:23.075Z"
   },
   {
    "duration": 3131,
    "start_time": "2023-04-05T23:26:19.782Z"
   },
   {
    "duration": 5,
    "start_time": "2023-04-05T23:27:35.479Z"
   },
   {
    "duration": 1009,
    "start_time": "2023-04-05T23:27:37.031Z"
   },
   {
    "duration": 5,
    "start_time": "2023-04-05T23:27:54.297Z"
   },
   {
    "duration": 2981,
    "start_time": "2023-04-05T23:27:55.911Z"
   },
   {
    "duration": 4,
    "start_time": "2023-04-05T23:31:14.876Z"
   },
   {
    "duration": 3101,
    "start_time": "2023-04-05T23:31:15.914Z"
   },
   {
    "duration": 5,
    "start_time": "2023-04-05T23:32:12.083Z"
   },
   {
    "duration": 3206,
    "start_time": "2023-04-05T23:32:13.115Z"
   },
   {
    "duration": 5,
    "start_time": "2023-04-05T23:32:42.331Z"
   },
   {
    "duration": 3065,
    "start_time": "2023-04-05T23:32:43.163Z"
   },
   {
    "duration": 4,
    "start_time": "2023-04-05T23:33:21.420Z"
   },
   {
    "duration": 2920,
    "start_time": "2023-04-05T23:33:22.540Z"
   },
   {
    "duration": 4,
    "start_time": "2023-04-05T23:47:32.969Z"
   },
   {
    "duration": 5,
    "start_time": "2023-04-05T23:47:39.776Z"
   },
   {
    "duration": 5,
    "start_time": "2023-04-05T23:47:43.648Z"
   },
   {
    "duration": 5,
    "start_time": "2023-04-05T23:48:05.521Z"
   },
   {
    "duration": 5,
    "start_time": "2023-04-05T23:48:14.840Z"
   },
   {
    "duration": 5,
    "start_time": "2023-04-05T23:48:22.534Z"
   },
   {
    "duration": 338,
    "start_time": "2023-04-05T23:52:39.588Z"
   },
   {
    "duration": 375,
    "start_time": "2023-04-05T23:52:59.756Z"
   },
   {
    "duration": 289,
    "start_time": "2023-04-05T23:53:32.146Z"
   },
   {
    "duration": 3330,
    "start_time": "2023-04-06T00:07:53.878Z"
   },
   {
    "duration": 365,
    "start_time": "2023-04-06T00:07:57.210Z"
   },
   {
    "duration": 16,
    "start_time": "2023-04-06T00:07:57.577Z"
   },
   {
    "duration": 21,
    "start_time": "2023-04-06T00:07:57.595Z"
   },
   {
    "duration": 24,
    "start_time": "2023-04-06T00:07:57.617Z"
   },
   {
    "duration": 56,
    "start_time": "2023-04-06T00:07:57.642Z"
   },
   {
    "duration": 20,
    "start_time": "2023-04-06T00:07:57.700Z"
   },
   {
    "duration": 141,
    "start_time": "2023-04-06T00:07:57.721Z"
   },
   {
    "duration": 99,
    "start_time": "2023-04-06T00:07:57.864Z"
   },
   {
    "duration": 1805,
    "start_time": "2023-04-06T00:07:57.966Z"
   },
   {
    "duration": 1731,
    "start_time": "2023-04-06T00:07:59.773Z"
   },
   {
    "duration": 1572,
    "start_time": "2023-04-06T00:08:01.505Z"
   },
   {
    "duration": 11,
    "start_time": "2023-04-06T00:08:03.079Z"
   },
   {
    "duration": 276,
    "start_time": "2023-04-06T00:08:03.092Z"
   },
   {
    "duration": 579,
    "start_time": "2023-04-06T00:08:03.369Z"
   },
   {
    "duration": 273,
    "start_time": "2023-04-06T00:08:03.950Z"
   },
   {
    "duration": 564,
    "start_time": "2023-04-06T00:08:04.225Z"
   },
   {
    "duration": 259,
    "start_time": "2023-04-06T00:08:04.790Z"
   },
   {
    "duration": 437,
    "start_time": "2023-04-06T00:08:05.051Z"
   },
   {
    "duration": 4,
    "start_time": "2023-04-06T00:08:05.490Z"
   },
   {
    "duration": 11,
    "start_time": "2023-04-06T00:08:05.496Z"
   },
   {
    "duration": 17,
    "start_time": "2023-04-06T00:08:05.509Z"
   },
   {
    "duration": 401,
    "start_time": "2023-04-06T00:08:05.528Z"
   },
   {
    "duration": 4,
    "start_time": "2023-04-06T00:08:05.931Z"
   },
   {
    "duration": 102,
    "start_time": "2023-04-06T00:08:06.023Z"
   },
   {
    "duration": 6,
    "start_time": "2023-04-06T00:08:06.127Z"
   },
   {
    "duration": 6,
    "start_time": "2023-04-06T00:08:06.134Z"
   },
   {
    "duration": 18,
    "start_time": "2023-04-06T00:08:06.143Z"
   },
   {
    "duration": 4,
    "start_time": "2023-04-06T00:08:06.163Z"
   },
   {
    "duration": 19,
    "start_time": "2023-04-06T00:08:06.169Z"
   },
   {
    "duration": 15,
    "start_time": "2023-04-06T00:08:06.190Z"
   },
   {
    "duration": 3096,
    "start_time": "2023-04-06T00:08:06.207Z"
   },
   {
    "duration": 5764,
    "start_time": "2023-04-06T15:32:13.170Z"
   },
   {
    "duration": 1445,
    "start_time": "2023-04-06T15:32:18.936Z"
   },
   {
    "duration": 13,
    "start_time": "2023-04-06T15:32:20.383Z"
   },
   {
    "duration": 13,
    "start_time": "2023-04-06T15:32:20.399Z"
   },
   {
    "duration": 38,
    "start_time": "2023-04-06T15:32:20.414Z"
   },
   {
    "duration": 50,
    "start_time": "2023-04-06T15:32:20.454Z"
   },
   {
    "duration": 21,
    "start_time": "2023-04-06T15:32:20.505Z"
   },
   {
    "duration": 140,
    "start_time": "2023-04-06T15:32:20.528Z"
   },
   {
    "duration": 100,
    "start_time": "2023-04-06T15:32:20.670Z"
   },
   {
    "duration": 1588,
    "start_time": "2023-04-06T15:32:20.785Z"
   },
   {
    "duration": 1558,
    "start_time": "2023-04-06T15:32:22.375Z"
   },
   {
    "duration": 1600,
    "start_time": "2023-04-06T15:32:23.935Z"
   },
   {
    "duration": 10,
    "start_time": "2023-04-06T15:32:25.537Z"
   },
   {
    "duration": 286,
    "start_time": "2023-04-06T15:32:25.549Z"
   },
   {
    "duration": 564,
    "start_time": "2023-04-06T15:32:25.836Z"
   },
   {
    "duration": 303,
    "start_time": "2023-04-06T15:32:26.401Z"
   },
   {
    "duration": 543,
    "start_time": "2023-04-06T15:32:26.706Z"
   },
   {
    "duration": 281,
    "start_time": "2023-04-06T15:32:27.251Z"
   },
   {
    "duration": 434,
    "start_time": "2023-04-06T15:32:27.534Z"
   },
   {
    "duration": 4,
    "start_time": "2023-04-06T15:32:27.970Z"
   },
   {
    "duration": 14,
    "start_time": "2023-04-06T15:32:27.983Z"
   },
   {
    "duration": 20,
    "start_time": "2023-04-06T15:32:27.999Z"
   },
   {
    "duration": 562,
    "start_time": "2023-04-06T15:32:28.021Z"
   },
   {
    "duration": 96,
    "start_time": "2023-04-06T15:32:28.587Z"
   },
   {
    "duration": 23,
    "start_time": "2023-04-06T15:32:28.685Z"
   },
   {
    "duration": 15,
    "start_time": "2023-04-06T15:32:28.710Z"
   },
   {
    "duration": 10,
    "start_time": "2023-04-06T15:32:28.727Z"
   },
   {
    "duration": 26,
    "start_time": "2023-04-06T15:32:28.740Z"
   },
   {
    "duration": 30,
    "start_time": "2023-04-06T15:32:28.768Z"
   },
   {
    "duration": 33,
    "start_time": "2023-04-06T15:32:28.800Z"
   },
   {
    "duration": 21,
    "start_time": "2023-04-06T15:32:28.834Z"
   },
   {
    "duration": 2974,
    "start_time": "2023-04-06T15:32:28.857Z"
   },
   {
    "duration": 53,
    "start_time": "2023-04-06T21:20:40.534Z"
   },
   {
    "duration": 5634,
    "start_time": "2023-04-06T21:20:50.012Z"
   },
   {
    "duration": 1852,
    "start_time": "2023-04-06T21:20:55.649Z"
   },
   {
    "duration": 15,
    "start_time": "2023-04-06T21:20:57.503Z"
   },
   {
    "duration": 9,
    "start_time": "2023-04-06T21:20:57.520Z"
   },
   {
    "duration": 15,
    "start_time": "2023-04-06T21:20:57.531Z"
   },
   {
    "duration": 49,
    "start_time": "2023-04-06T21:20:57.548Z"
   },
   {
    "duration": 19,
    "start_time": "2023-04-06T21:20:57.598Z"
   },
   {
    "duration": 119,
    "start_time": "2023-04-06T21:20:57.619Z"
   },
   {
    "duration": 21,
    "start_time": "2023-04-06T21:20:57.740Z"
   },
   {
    "duration": 104,
    "start_time": "2023-04-06T21:20:57.764Z"
   },
   {
    "duration": 1595,
    "start_time": "2023-04-06T21:20:57.870Z"
   },
   {
    "duration": 1556,
    "start_time": "2023-04-06T21:20:59.466Z"
   },
   {
    "duration": 1451,
    "start_time": "2023-04-06T21:21:01.024Z"
   },
   {
    "duration": 10,
    "start_time": "2023-04-06T21:21:02.477Z"
   },
   {
    "duration": 285,
    "start_time": "2023-04-06T21:21:02.489Z"
   },
   {
    "duration": 581,
    "start_time": "2023-04-06T21:21:02.776Z"
   },
   {
    "duration": 271,
    "start_time": "2023-04-06T21:21:03.359Z"
   },
   {
    "duration": 503,
    "start_time": "2023-04-06T21:21:03.632Z"
   },
   {
    "duration": 267,
    "start_time": "2023-04-06T21:21:04.136Z"
   },
   {
    "duration": 452,
    "start_time": "2023-04-06T21:21:04.405Z"
   },
   {
    "duration": 6,
    "start_time": "2023-04-06T21:21:04.858Z"
   },
   {
    "duration": 19,
    "start_time": "2023-04-06T21:21:04.865Z"
   },
   {
    "duration": 6,
    "start_time": "2023-04-06T21:21:04.886Z"
   },
   {
    "duration": 359,
    "start_time": "2023-04-06T21:21:04.893Z"
   },
   {
    "duration": 4,
    "start_time": "2023-04-06T21:21:05.254Z"
   },
   {
    "duration": 105,
    "start_time": "2023-04-06T21:21:05.350Z"
   },
   {
    "duration": 12,
    "start_time": "2023-04-06T21:21:05.457Z"
   },
   {
    "duration": 4,
    "start_time": "2023-04-06T21:21:05.472Z"
   },
   {
    "duration": 85,
    "start_time": "2023-04-06T21:21:05.477Z"
   },
   {
    "duration": 8,
    "start_time": "2023-04-06T21:21:05.564Z"
   },
   {
    "duration": 19,
    "start_time": "2023-04-06T21:21:05.574Z"
   },
   {
    "duration": 5,
    "start_time": "2023-04-06T21:21:05.595Z"
   },
   {
    "duration": 2372,
    "start_time": "2023-04-06T21:21:05.601Z"
   },
   {
    "duration": 1344,
    "start_time": "2023-04-06T21:22:15.826Z"
   },
   {
    "duration": 4363,
    "start_time": "2023-04-06T21:22:28.338Z"
   },
   {
    "duration": 368,
    "start_time": "2023-04-06T21:22:32.703Z"
   },
   {
    "duration": 18,
    "start_time": "2023-04-06T21:22:33.073Z"
   },
   {
    "duration": 29,
    "start_time": "2023-04-06T21:22:33.093Z"
   },
   {
    "duration": 22,
    "start_time": "2023-04-06T21:22:33.124Z"
   },
   {
    "duration": 42,
    "start_time": "2023-04-06T21:22:33.148Z"
   },
   {
    "duration": 22,
    "start_time": "2023-04-06T21:22:33.191Z"
   },
   {
    "duration": 127,
    "start_time": "2023-04-06T21:22:33.216Z"
   },
   {
    "duration": 41,
    "start_time": "2023-04-06T21:22:33.344Z"
   },
   {
    "duration": 102,
    "start_time": "2023-04-06T21:22:33.387Z"
   },
   {
    "duration": 1619,
    "start_time": "2023-04-06T21:22:33.491Z"
   },
   {
    "duration": 1524,
    "start_time": "2023-04-06T21:22:35.112Z"
   },
   {
    "duration": 1375,
    "start_time": "2023-04-06T21:22:36.638Z"
   },
   {
    "duration": 9,
    "start_time": "2023-04-06T21:22:38.015Z"
   },
   {
    "duration": 280,
    "start_time": "2023-04-06T21:22:38.026Z"
   },
   {
    "duration": 549,
    "start_time": "2023-04-06T21:22:38.308Z"
   },
   {
    "duration": 264,
    "start_time": "2023-04-06T21:22:38.858Z"
   },
   {
    "duration": 493,
    "start_time": "2023-04-06T21:22:39.124Z"
   },
   {
    "duration": 269,
    "start_time": "2023-04-06T21:22:39.619Z"
   },
   {
    "duration": 417,
    "start_time": "2023-04-06T21:22:39.890Z"
   },
   {
    "duration": 4,
    "start_time": "2023-04-06T21:22:40.309Z"
   },
   {
    "duration": 11,
    "start_time": "2023-04-06T21:22:40.314Z"
   },
   {
    "duration": 21,
    "start_time": "2023-04-06T21:22:40.327Z"
   },
   {
    "duration": 403,
    "start_time": "2023-04-06T21:22:40.350Z"
   },
   {
    "duration": 4,
    "start_time": "2023-04-06T21:22:40.754Z"
   },
   {
    "duration": 191,
    "start_time": "2023-04-06T21:22:40.759Z"
   },
   {
    "duration": 6,
    "start_time": "2023-04-06T21:22:40.952Z"
   },
   {
    "duration": 13,
    "start_time": "2023-04-06T21:22:40.961Z"
   },
   {
    "duration": 24,
    "start_time": "2023-04-06T21:22:40.975Z"
   },
   {
    "duration": 8,
    "start_time": "2023-04-06T21:22:41.001Z"
   },
   {
    "duration": 25,
    "start_time": "2023-04-06T21:22:41.010Z"
   },
   {
    "duration": 6,
    "start_time": "2023-04-06T21:22:41.038Z"
   },
   {
    "duration": 2302,
    "start_time": "2023-04-06T21:22:41.046Z"
   },
   {
    "duration": 1359,
    "start_time": "2023-04-06T21:29:10.365Z"
   },
   {
    "duration": 4194,
    "start_time": "2023-04-06T21:29:20.505Z"
   },
   {
    "duration": 361,
    "start_time": "2023-04-06T21:29:24.701Z"
   },
   {
    "duration": 17,
    "start_time": "2023-04-06T21:29:25.063Z"
   },
   {
    "duration": 9,
    "start_time": "2023-04-06T21:29:25.081Z"
   },
   {
    "duration": 10,
    "start_time": "2023-04-06T21:29:25.092Z"
   },
   {
    "duration": 50,
    "start_time": "2023-04-06T21:29:25.104Z"
   },
   {
    "duration": 18,
    "start_time": "2023-04-06T21:29:25.156Z"
   },
   {
    "duration": 134,
    "start_time": "2023-04-06T21:29:25.176Z"
   },
   {
    "duration": 48,
    "start_time": "2023-04-06T21:29:25.311Z"
   },
   {
    "duration": 12,
    "start_time": "2023-04-06T21:29:25.361Z"
   },
   {
    "duration": 116,
    "start_time": "2023-04-06T21:29:25.374Z"
   },
   {
    "duration": 1077,
    "start_time": "2023-04-06T21:29:25.492Z"
   },
   {
    "duration": 0,
    "start_time": "2023-04-06T21:29:26.571Z"
   },
   {
    "duration": 1,
    "start_time": "2023-04-06T21:29:26.572Z"
   },
   {
    "duration": 0,
    "start_time": "2023-04-06T21:29:26.574Z"
   },
   {
    "duration": 0,
    "start_time": "2023-04-06T21:29:26.575Z"
   },
   {
    "duration": 0,
    "start_time": "2023-04-06T21:29:26.576Z"
   },
   {
    "duration": 0,
    "start_time": "2023-04-06T21:29:26.577Z"
   },
   {
    "duration": 0,
    "start_time": "2023-04-06T21:29:26.577Z"
   },
   {
    "duration": 0,
    "start_time": "2023-04-06T21:29:26.578Z"
   },
   {
    "duration": 0,
    "start_time": "2023-04-06T21:29:26.579Z"
   },
   {
    "duration": 0,
    "start_time": "2023-04-06T21:29:26.580Z"
   },
   {
    "duration": 0,
    "start_time": "2023-04-06T21:29:26.581Z"
   },
   {
    "duration": 0,
    "start_time": "2023-04-06T21:29:26.582Z"
   },
   {
    "duration": 0,
    "start_time": "2023-04-06T21:29:26.582Z"
   },
   {
    "duration": 0,
    "start_time": "2023-04-06T21:29:26.583Z"
   },
   {
    "duration": 0,
    "start_time": "2023-04-06T21:29:26.584Z"
   },
   {
    "duration": 0,
    "start_time": "2023-04-06T21:29:26.585Z"
   },
   {
    "duration": 0,
    "start_time": "2023-04-06T21:29:26.586Z"
   },
   {
    "duration": 0,
    "start_time": "2023-04-06T21:29:26.587Z"
   },
   {
    "duration": 0,
    "start_time": "2023-04-06T21:29:26.589Z"
   },
   {
    "duration": 0,
    "start_time": "2023-04-06T21:29:26.590Z"
   },
   {
    "duration": 0,
    "start_time": "2023-04-06T21:29:26.591Z"
   },
   {
    "duration": 0,
    "start_time": "2023-04-06T21:29:26.592Z"
   },
   {
    "duration": 3,
    "start_time": "2023-04-06T21:29:45.558Z"
   },
   {
    "duration": 909,
    "start_time": "2023-04-06T21:29:51.063Z"
   },
   {
    "duration": 4419,
    "start_time": "2023-04-06T21:29:57.275Z"
   },
   {
    "duration": 365,
    "start_time": "2023-04-06T21:30:01.696Z"
   },
   {
    "duration": 14,
    "start_time": "2023-04-06T21:30:02.063Z"
   },
   {
    "duration": 43,
    "start_time": "2023-04-06T21:30:02.078Z"
   },
   {
    "duration": 42,
    "start_time": "2023-04-06T21:30:02.122Z"
   },
   {
    "duration": 60,
    "start_time": "2023-04-06T21:30:02.165Z"
   },
   {
    "duration": 25,
    "start_time": "2023-04-06T21:30:02.227Z"
   },
   {
    "duration": 163,
    "start_time": "2023-04-06T21:30:02.254Z"
   },
   {
    "duration": 50,
    "start_time": "2023-04-06T21:30:02.419Z"
   },
   {
    "duration": 54,
    "start_time": "2023-04-06T21:30:02.473Z"
   },
   {
    "duration": 2417,
    "start_time": "2023-04-06T21:30:02.529Z"
   },
   {
    "duration": 0,
    "start_time": "2023-04-06T21:30:04.949Z"
   },
   {
    "duration": 0,
    "start_time": "2023-04-06T21:30:04.951Z"
   },
   {
    "duration": 0,
    "start_time": "2023-04-06T21:30:04.952Z"
   },
   {
    "duration": 0,
    "start_time": "2023-04-06T21:30:04.952Z"
   },
   {
    "duration": 0,
    "start_time": "2023-04-06T21:30:04.953Z"
   },
   {
    "duration": 0,
    "start_time": "2023-04-06T21:30:04.955Z"
   },
   {
    "duration": 0,
    "start_time": "2023-04-06T21:30:04.956Z"
   },
   {
    "duration": 0,
    "start_time": "2023-04-06T21:30:04.957Z"
   },
   {
    "duration": 0,
    "start_time": "2023-04-06T21:30:04.958Z"
   },
   {
    "duration": 0,
    "start_time": "2023-04-06T21:30:04.959Z"
   },
   {
    "duration": 0,
    "start_time": "2023-04-06T21:30:04.960Z"
   },
   {
    "duration": 0,
    "start_time": "2023-04-06T21:30:04.962Z"
   },
   {
    "duration": 0,
    "start_time": "2023-04-06T21:30:04.963Z"
   },
   {
    "duration": 0,
    "start_time": "2023-04-06T21:30:04.964Z"
   },
   {
    "duration": 0,
    "start_time": "2023-04-06T21:30:04.965Z"
   },
   {
    "duration": 0,
    "start_time": "2023-04-06T21:30:04.966Z"
   },
   {
    "duration": 0,
    "start_time": "2023-04-06T21:30:04.967Z"
   },
   {
    "duration": 0,
    "start_time": "2023-04-06T21:30:04.968Z"
   },
   {
    "duration": 0,
    "start_time": "2023-04-06T21:30:04.969Z"
   },
   {
    "duration": 0,
    "start_time": "2023-04-06T21:30:04.970Z"
   },
   {
    "duration": 0,
    "start_time": "2023-04-06T21:30:04.971Z"
   },
   {
    "duration": 0,
    "start_time": "2023-04-06T21:30:04.973Z"
   },
   {
    "duration": 0,
    "start_time": "2023-04-06T21:30:04.973Z"
   },
   {
    "duration": 1,
    "start_time": "2023-04-06T21:30:04.974Z"
   },
   {
    "duration": 5,
    "start_time": "2023-04-06T21:30:49.263Z"
   },
   {
    "duration": 3,
    "start_time": "2023-04-06T21:31:27.209Z"
   },
   {
    "duration": 1089,
    "start_time": "2023-04-06T21:31:31.040Z"
   },
   {
    "duration": 962,
    "start_time": "2023-04-06T21:31:46.312Z"
   },
   {
    "duration": 3493,
    "start_time": "2023-04-06T21:31:57.336Z"
   },
   {
    "duration": 364,
    "start_time": "2023-04-06T21:32:00.831Z"
   },
   {
    "duration": 14,
    "start_time": "2023-04-06T21:32:01.197Z"
   },
   {
    "duration": 43,
    "start_time": "2023-04-06T21:32:01.212Z"
   },
   {
    "duration": 34,
    "start_time": "2023-04-06T21:32:01.256Z"
   },
   {
    "duration": 61,
    "start_time": "2023-04-06T21:32:01.291Z"
   },
   {
    "duration": 20,
    "start_time": "2023-04-06T21:32:01.353Z"
   },
   {
    "duration": 130,
    "start_time": "2023-04-06T21:32:01.375Z"
   },
   {
    "duration": 44,
    "start_time": "2023-04-06T21:32:01.506Z"
   },
   {
    "duration": 37,
    "start_time": "2023-04-06T21:32:01.553Z"
   },
   {
    "duration": 43,
    "start_time": "2023-04-06T21:32:01.592Z"
   },
   {
    "duration": 49,
    "start_time": "2023-04-06T21:32:01.637Z"
   },
   {
    "duration": 52,
    "start_time": "2023-04-06T21:32:01.688Z"
   },
   {
    "duration": 110,
    "start_time": "2023-04-06T21:32:01.742Z"
   },
   {
    "duration": 1641,
    "start_time": "2023-04-06T21:32:01.854Z"
   },
   {
    "duration": 2065,
    "start_time": "2023-04-06T21:32:03.496Z"
   },
   {
    "duration": 1868,
    "start_time": "2023-04-06T21:32:05.562Z"
   },
   {
    "duration": 8,
    "start_time": "2023-04-06T21:32:07.432Z"
   },
   {
    "duration": 313,
    "start_time": "2023-04-06T21:32:07.442Z"
   },
   {
    "duration": 599,
    "start_time": "2023-04-06T21:32:07.757Z"
   },
   {
    "duration": 264,
    "start_time": "2023-04-06T21:32:08.357Z"
   },
   {
    "duration": 494,
    "start_time": "2023-04-06T21:32:08.622Z"
   },
   {
    "duration": 254,
    "start_time": "2023-04-06T21:32:09.117Z"
   },
   {
    "duration": 434,
    "start_time": "2023-04-06T21:32:09.373Z"
   },
   {
    "duration": 5,
    "start_time": "2023-04-06T21:32:09.809Z"
   },
   {
    "duration": 22,
    "start_time": "2023-04-06T21:32:09.816Z"
   },
   {
    "duration": 3,
    "start_time": "2023-04-06T21:32:09.848Z"
   },
   {
    "duration": 405,
    "start_time": "2023-04-06T21:32:09.854Z"
   },
   {
    "duration": 4,
    "start_time": "2023-04-06T21:32:10.260Z"
   },
   {
    "duration": 202,
    "start_time": "2023-04-06T21:32:10.266Z"
   },
   {
    "duration": 17,
    "start_time": "2023-04-06T21:32:10.469Z"
   },
   {
    "duration": 13,
    "start_time": "2023-04-06T21:32:10.488Z"
   },
   {
    "duration": 22,
    "start_time": "2023-04-06T21:32:10.503Z"
   },
   {
    "duration": 6,
    "start_time": "2023-04-06T21:32:10.527Z"
   },
   {
    "duration": 23,
    "start_time": "2023-04-06T21:32:10.534Z"
   },
   {
    "duration": 5,
    "start_time": "2023-04-06T21:32:10.559Z"
   },
   {
    "duration": 2295,
    "start_time": "2023-04-06T21:32:10.565Z"
   },
   {
    "duration": 1296,
    "start_time": "2023-04-06T21:32:16.921Z"
   },
   {
    "duration": 2,
    "start_time": "2023-04-06T21:32:23.738Z"
   },
   {
    "duration": 1204,
    "start_time": "2023-04-06T21:32:27.153Z"
   },
   {
    "duration": 4441,
    "start_time": "2023-04-06T21:34:12.673Z"
   },
   {
    "duration": 358,
    "start_time": "2023-04-06T21:34:17.116Z"
   },
   {
    "duration": 14,
    "start_time": "2023-04-06T21:34:17.475Z"
   },
   {
    "duration": 16,
    "start_time": "2023-04-06T21:34:17.491Z"
   },
   {
    "duration": 18,
    "start_time": "2023-04-06T21:34:17.508Z"
   },
   {
    "duration": 51,
    "start_time": "2023-04-06T21:34:17.527Z"
   },
   {
    "duration": 20,
    "start_time": "2023-04-06T21:34:17.579Z"
   },
   {
    "duration": 122,
    "start_time": "2023-04-06T21:34:17.601Z"
   },
   {
    "duration": 45,
    "start_time": "2023-04-06T21:34:17.725Z"
   },
   {
    "duration": 128,
    "start_time": "2023-04-06T21:34:17.772Z"
   },
   {
    "duration": 0,
    "start_time": "2023-04-06T21:34:17.902Z"
   },
   {
    "duration": 0,
    "start_time": "2023-04-06T21:34:17.903Z"
   },
   {
    "duration": 0,
    "start_time": "2023-04-06T21:34:17.904Z"
   },
   {
    "duration": 0,
    "start_time": "2023-04-06T21:34:17.905Z"
   },
   {
    "duration": 0,
    "start_time": "2023-04-06T21:34:17.906Z"
   },
   {
    "duration": 0,
    "start_time": "2023-04-06T21:34:17.907Z"
   },
   {
    "duration": 0,
    "start_time": "2023-04-06T21:34:17.908Z"
   },
   {
    "duration": 0,
    "start_time": "2023-04-06T21:34:17.909Z"
   },
   {
    "duration": 0,
    "start_time": "2023-04-06T21:34:17.909Z"
   },
   {
    "duration": 0,
    "start_time": "2023-04-06T21:34:17.910Z"
   },
   {
    "duration": 0,
    "start_time": "2023-04-06T21:34:17.911Z"
   },
   {
    "duration": 0,
    "start_time": "2023-04-06T21:34:17.912Z"
   },
   {
    "duration": 0,
    "start_time": "2023-04-06T21:34:17.913Z"
   },
   {
    "duration": 0,
    "start_time": "2023-04-06T21:34:17.914Z"
   },
   {
    "duration": 0,
    "start_time": "2023-04-06T21:34:17.915Z"
   },
   {
    "duration": 0,
    "start_time": "2023-04-06T21:34:17.916Z"
   },
   {
    "duration": 0,
    "start_time": "2023-04-06T21:34:17.917Z"
   },
   {
    "duration": 0,
    "start_time": "2023-04-06T21:34:17.918Z"
   },
   {
    "duration": 0,
    "start_time": "2023-04-06T21:34:17.918Z"
   },
   {
    "duration": 0,
    "start_time": "2023-04-06T21:34:17.949Z"
   },
   {
    "duration": 0,
    "start_time": "2023-04-06T21:34:17.950Z"
   },
   {
    "duration": 0,
    "start_time": "2023-04-06T21:34:17.951Z"
   },
   {
    "duration": 0,
    "start_time": "2023-04-06T21:34:17.952Z"
   },
   {
    "duration": 0,
    "start_time": "2023-04-06T21:34:17.953Z"
   },
   {
    "duration": 0,
    "start_time": "2023-04-06T21:34:17.954Z"
   },
   {
    "duration": 0,
    "start_time": "2023-04-06T21:34:17.955Z"
   },
   {
    "duration": 9,
    "start_time": "2023-04-06T21:34:26.900Z"
   },
   {
    "duration": 22,
    "start_time": "2023-04-06T21:34:44.635Z"
   },
   {
    "duration": 12,
    "start_time": "2023-04-06T21:34:55.251Z"
   },
   {
    "duration": 71,
    "start_time": "2023-04-06T21:35:23.020Z"
   },
   {
    "duration": 30,
    "start_time": "2023-04-06T21:35:32.008Z"
   },
   {
    "duration": 90,
    "start_time": "2023-04-06T21:37:39.414Z"
   },
   {
    "duration": 1565,
    "start_time": "2023-04-06T21:37:42.813Z"
   },
   {
    "duration": 1533,
    "start_time": "2023-04-06T21:38:14.149Z"
   },
   {
    "duration": 1523,
    "start_time": "2023-04-06T21:38:30.269Z"
   },
   {
    "duration": 8,
    "start_time": "2023-04-06T21:39:42.210Z"
   },
   {
    "duration": 9,
    "start_time": "2023-04-06T21:39:49.263Z"
   },
   {
    "duration": 13,
    "start_time": "2023-04-06T21:39:55.462Z"
   },
   {
    "duration": 8,
    "start_time": "2023-04-06T21:40:00.176Z"
   },
   {
    "duration": 5,
    "start_time": "2023-04-06T21:40:29.344Z"
   },
   {
    "duration": 4,
    "start_time": "2023-04-06T21:41:11.805Z"
   },
   {
    "duration": 9,
    "start_time": "2023-04-06T21:41:23.560Z"
   },
   {
    "duration": 9,
    "start_time": "2023-04-06T21:41:34.937Z"
   },
   {
    "duration": 9,
    "start_time": "2023-04-06T21:41:50.120Z"
   },
   {
    "duration": 9,
    "start_time": "2023-04-06T21:41:54.361Z"
   },
   {
    "duration": 9,
    "start_time": "2023-04-06T21:41:56.912Z"
   },
   {
    "duration": 9,
    "start_time": "2023-04-06T21:42:27.609Z"
   },
   {
    "duration": 9,
    "start_time": "2023-04-06T21:43:04.209Z"
   },
   {
    "duration": 8,
    "start_time": "2023-04-06T21:43:07.953Z"
   },
   {
    "duration": 10,
    "start_time": "2023-04-06T21:43:08.808Z"
   },
   {
    "duration": 5,
    "start_time": "2023-04-06T21:43:14.811Z"
   },
   {
    "duration": 8,
    "start_time": "2023-04-06T21:46:49.381Z"
   },
   {
    "duration": 3,
    "start_time": "2023-04-06T21:51:43.361Z"
   },
   {
    "duration": 3,
    "start_time": "2023-04-06T21:55:05.419Z"
   },
   {
    "duration": 3515,
    "start_time": "2023-04-06T21:56:39.741Z"
   },
   {
    "duration": 3,
    "start_time": "2023-04-06T21:56:43.258Z"
   },
   {
    "duration": 357,
    "start_time": "2023-04-06T21:56:43.262Z"
   },
   {
    "duration": 14,
    "start_time": "2023-04-06T21:56:43.621Z"
   },
   {
    "duration": 13,
    "start_time": "2023-04-06T21:56:43.636Z"
   },
   {
    "duration": 8,
    "start_time": "2023-04-06T21:56:43.650Z"
   },
   {
    "duration": 34,
    "start_time": "2023-04-06T21:56:43.659Z"
   },
   {
    "duration": 18,
    "start_time": "2023-04-06T21:56:43.694Z"
   },
   {
    "duration": 142,
    "start_time": "2023-04-06T21:56:43.714Z"
   },
   {
    "duration": 34,
    "start_time": "2023-04-06T21:56:43.859Z"
   },
   {
    "duration": 71,
    "start_time": "2023-04-06T21:56:43.895Z"
   },
   {
    "duration": 97,
    "start_time": "2023-04-06T21:56:43.968Z"
   },
   {
    "duration": 1623,
    "start_time": "2023-04-06T21:56:44.067Z"
   },
   {
    "duration": 1483,
    "start_time": "2023-04-06T21:56:45.691Z"
   },
   {
    "duration": 8,
    "start_time": "2023-04-06T21:56:47.176Z"
   },
   {
    "duration": 6,
    "start_time": "2023-04-06T21:56:47.185Z"
   },
   {
    "duration": 1404,
    "start_time": "2023-04-06T21:56:47.193Z"
   },
   {
    "duration": 11,
    "start_time": "2023-04-06T21:56:48.599Z"
   },
   {
    "duration": 265,
    "start_time": "2023-04-06T21:56:48.612Z"
   },
   {
    "duration": 577,
    "start_time": "2023-04-06T21:56:48.879Z"
   },
   {
    "duration": 258,
    "start_time": "2023-04-06T21:56:49.457Z"
   },
   {
    "duration": 505,
    "start_time": "2023-04-06T21:56:49.718Z"
   },
   {
    "duration": 257,
    "start_time": "2023-04-06T21:56:50.225Z"
   },
   {
    "duration": 432,
    "start_time": "2023-04-06T21:56:50.483Z"
   },
   {
    "duration": 8,
    "start_time": "2023-04-06T21:56:50.917Z"
   },
   {
    "duration": 26,
    "start_time": "2023-04-06T21:56:50.926Z"
   },
   {
    "duration": 402,
    "start_time": "2023-04-06T21:56:50.954Z"
   },
   {
    "duration": 292,
    "start_time": "2023-04-06T21:56:51.361Z"
   },
   {
    "duration": 0,
    "start_time": "2023-04-06T21:56:51.655Z"
   },
   {
    "duration": 0,
    "start_time": "2023-04-06T21:56:51.656Z"
   },
   {
    "duration": 0,
    "start_time": "2023-04-06T21:56:51.656Z"
   },
   {
    "duration": 0,
    "start_time": "2023-04-06T21:56:51.657Z"
   },
   {
    "duration": 0,
    "start_time": "2023-04-06T21:56:51.658Z"
   },
   {
    "duration": 0,
    "start_time": "2023-04-06T21:56:51.659Z"
   },
   {
    "duration": 0,
    "start_time": "2023-04-06T21:56:51.660Z"
   },
   {
    "duration": 3,
    "start_time": "2023-04-06T21:59:21.183Z"
   },
   {
    "duration": 4,
    "start_time": "2023-04-06T21:59:31.377Z"
   },
   {
    "duration": 4,
    "start_time": "2023-04-06T21:59:35.464Z"
   },
   {
    "duration": 4,
    "start_time": "2023-04-06T21:59:40.057Z"
   },
   {
    "duration": 3,
    "start_time": "2023-04-06T22:01:00.212Z"
   },
   {
    "duration": 20,
    "start_time": "2023-04-06T22:01:07.032Z"
   },
   {
    "duration": 5,
    "start_time": "2023-04-06T22:01:47.112Z"
   },
   {
    "duration": 2325,
    "start_time": "2023-04-06T22:01:54.076Z"
   },
   {
    "duration": 3384,
    "start_time": "2023-04-06T22:02:26.586Z"
   },
   {
    "duration": 4,
    "start_time": "2023-04-06T22:02:29.973Z"
   },
   {
    "duration": 704,
    "start_time": "2023-04-06T22:02:29.979Z"
   },
   {
    "duration": 65,
    "start_time": "2023-04-06T22:02:30.685Z"
   },
   {
    "duration": 10,
    "start_time": "2023-04-06T22:02:30.751Z"
   },
   {
    "duration": 48,
    "start_time": "2023-04-06T22:02:30.763Z"
   },
   {
    "duration": 69,
    "start_time": "2023-04-06T22:02:30.813Z"
   },
   {
    "duration": 75,
    "start_time": "2023-04-06T22:02:30.884Z"
   },
   {
    "duration": 232,
    "start_time": "2023-04-06T22:02:30.960Z"
   },
   {
    "duration": 48,
    "start_time": "2023-04-06T22:02:31.248Z"
   },
   {
    "duration": 116,
    "start_time": "2023-04-06T22:02:31.349Z"
   },
   {
    "duration": 196,
    "start_time": "2023-04-06T22:02:31.467Z"
   },
   {
    "duration": 1668,
    "start_time": "2023-04-06T22:02:31.664Z"
   },
   {
    "duration": 1546,
    "start_time": "2023-04-06T22:02:33.334Z"
   },
   {
    "duration": 10,
    "start_time": "2023-04-06T22:02:34.882Z"
   },
   {
    "duration": 11,
    "start_time": "2023-04-06T22:02:34.893Z"
   },
   {
    "duration": 1403,
    "start_time": "2023-04-06T22:02:34.906Z"
   },
   {
    "duration": 12,
    "start_time": "2023-04-06T22:02:36.310Z"
   },
   {
    "duration": 265,
    "start_time": "2023-04-06T22:02:36.323Z"
   },
   {
    "duration": 562,
    "start_time": "2023-04-06T22:02:36.589Z"
   },
   {
    "duration": 248,
    "start_time": "2023-04-06T22:02:37.153Z"
   },
   {
    "duration": 502,
    "start_time": "2023-04-06T22:02:37.402Z"
   },
   {
    "duration": 256,
    "start_time": "2023-04-06T22:02:37.906Z"
   },
   {
    "duration": 421,
    "start_time": "2023-04-06T22:02:38.164Z"
   },
   {
    "duration": 8,
    "start_time": "2023-04-06T22:02:38.587Z"
   },
   {
    "duration": 15,
    "start_time": "2023-04-06T22:02:38.596Z"
   },
   {
    "duration": 436,
    "start_time": "2023-04-06T22:02:38.613Z"
   },
   {
    "duration": 6,
    "start_time": "2023-04-06T22:02:39.053Z"
   },
   {
    "duration": 8,
    "start_time": "2023-04-06T22:02:39.149Z"
   },
   {
    "duration": 10,
    "start_time": "2023-04-06T22:02:39.159Z"
   },
   {
    "duration": 6,
    "start_time": "2023-04-06T22:02:39.170Z"
   },
   {
    "duration": 4,
    "start_time": "2023-04-06T22:02:39.177Z"
   },
   {
    "duration": 29,
    "start_time": "2023-04-06T22:02:39.183Z"
   },
   {
    "duration": 5,
    "start_time": "2023-04-06T22:02:39.213Z"
   },
   {
    "duration": 2388,
    "start_time": "2023-04-06T22:02:39.220Z"
   }
  ],
  "kernelspec": {
   "display_name": "Python 3 (ipykernel)",
   "language": "python",
   "name": "python3"
  },
  "language_info": {
   "codemirror_mode": {
    "name": "ipython",
    "version": 3
   },
   "file_extension": ".py",
   "mimetype": "text/x-python",
   "name": "python",
   "nbconvert_exporter": "python",
   "pygments_lexer": "ipython3",
   "version": "3.9.15"
  },
  "toc": {
   "base_numbering": 1,
   "nav_menu": {},
   "number_sections": true,
   "sideBar": true,
   "skip_h1_title": true,
   "title_cell": "Table of Contents",
   "title_sidebar": "Contents",
   "toc_cell": false,
   "toc_position": {
    "height": "calc(100% - 180px)",
    "left": "10px",
    "top": "150px",
    "width": "165px"
   },
   "toc_section_display": true,
   "toc_window_display": true
  }
 },
 "nbformat": 4,
 "nbformat_minor": 2
}
